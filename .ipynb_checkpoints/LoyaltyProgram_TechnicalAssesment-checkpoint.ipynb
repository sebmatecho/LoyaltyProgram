{
 "cells": [
  {
   "cell_type": "markdown",
   "id": "310737fd",
   "metadata": {
    "ExecuteTime": {
     "end_time": "2022-04-04T00:21:31.968993Z",
     "start_time": "2022-04-04T00:21:31.724958Z"
    }
   },
   "source": [
    "# Technical Assesment\n",
    "Author: [Sébastien Lozano Forero](https://www.linkedin.com/in/sebastienlozanoforero/)\n",
    "\n",
    "April, 2022. \n",
    "\n",
    "This project is based on an technical assessment used by a Colombian bank to fill the position of Data Scientist. Data was modified shared in a modified version not containing any identification information. Currency within this project is set to Colombian pesos. "
   ]
  },
  {
   "cell_type": "markdown",
   "id": "d850e848",
   "metadata": {
    "ExecuteTime": {
     "end_time": "2022-04-03T17:47:24.040953Z",
     "start_time": "2022-04-03T17:47:24.034944Z"
    }
   },
   "source": [
    "# Loading libraries"
   ]
  },
  {
   "cell_type": "code",
   "execution_count": 233,
   "id": "2c6b5509",
   "metadata": {
    "ExecuteTime": {
     "end_time": "2022-04-06T21:26:25.810809Z",
     "start_time": "2022-04-06T21:26:25.463225Z"
    }
   },
   "outputs": [],
   "source": [
    "import pandas as pd\n",
    "import matplotlib.pyplot as plt\n",
    "import numpy as np\n",
    "%matplotlib inline\n",
    "import seaborn as sns\n",
    "import xgboost as xgb\n",
    "import pickle\n",
    "\n",
    "from matplotlib import colors\n",
    "from matplotlib.ticker import PercentFormatter\n",
    "from pandas_profiling import ProfileReport\n",
    "\n",
    "\n",
    "from bayes_opt import BayesianOptimization\n",
    "from sklearn.metrics import mean_squared_error\n",
    "from sklearn.neighbors import KNeighborsClassifier\n",
    "from sklearn.dummy import DummyClassifier\n",
    "from sklearn.naive_bayes import GaussianNB\n",
    "from sklearn.linear_model import LogisticRegression\n",
    "from sklearn import datasets, metrics, model_selection, svm\n",
    "from sklearn.metrics import plot_roc_curve\n",
    "from sklearn.model_selection import cross_val_score\n",
    "from sklearn.ensemble import RandomForestClassifier\n",
    "from sklearn.metrics import confusion_matrix\n",
    "from sklearn.model_selection import train_test_split\n",
    "from sklearn.ensemble import RandomForestRegressor\n",
    "from sklearn.preprocessing import MinMaxScaler\n",
    "# from boruta import BorutaPy"
   ]
  },
  {
   "cell_type": "markdown",
   "id": "bfd4ecd8",
   "metadata": {
    "ExecuteTime": {
     "end_time": "2022-04-03T17:47:39.585379Z",
     "start_time": "2022-04-03T17:47:39.579368Z"
    }
   },
   "source": [
    "# Data Loading"
   ]
  },
  {
   "cell_type": "code",
   "execution_count": 234,
   "id": "139958c6",
   "metadata": {
    "ExecuteTime": {
     "end_time": "2022-04-06T21:26:29.608697Z",
     "start_time": "2022-04-06T21:26:29.237709Z"
    },
    "scrolled": true
   },
   "outputs": [],
   "source": [
    "data = pd.read_csv('Base_campana_DC.csv',encoding = \"ISO-8859-1\", sep =';',parse_dates=['fecha_ult_desembolso'], \n",
    "                  dtype = {\n",
    "                      'Id_Cliente':str,\n",
    "                      'Ciudad':str,\n",
    "                      ' Patrimonio ':int,\n",
    "                      ' Ingresos_Mensuales ':int,\n",
    "                      'No_hijos':int,\n",
    "                      'oficina':str,\n",
    "                      'monto_credito':int,\n",
    "                      'tasa':float,\n",
    "                      'saldo_capital':int,\n",
    "                      'Antiguedad_en_meses':int,\n",
    "                      'Max_dias_mora':int,\n",
    "                      'plazo_dias':int,\n",
    "                      'Edad':int,\n",
    "                      'Acepta_Campaña':str,\n",
    "                  })\n"
   ]
  },
  {
   "cell_type": "markdown",
   "id": "29e7c7bf",
   "metadata": {
    "ExecuteTime": {
     "end_time": "2022-04-03T17:48:04.685498Z",
     "start_time": "2022-04-03T17:48:04.677486Z"
    }
   },
   "source": [
    "## Checking variables names"
   ]
  },
  {
   "cell_type": "code",
   "execution_count": 235,
   "id": "cacd8889",
   "metadata": {
    "ExecuteTime": {
     "end_time": "2022-04-06T21:26:29.668696Z",
     "start_time": "2022-04-06T21:26:29.623698Z"
    }
   },
   "outputs": [
    {
     "data": {
      "text/plain": [
       "Index(['Id_Cliente', 'Ciudad', ' Patrimonio ', ' Ingresos_Mensuales ',\n",
       "       'No_hijos', 'oficina', 'fecha_ult_desembolso', 'monto_credito', 'tasa',\n",
       "       'saldo_capital', 'saldo_Ahorro', 'Antiguedad_en_meses', 'Max_dias_mora',\n",
       "       'plazo_dias', 'Edad', 'Acepta_Campaña'],\n",
       "      dtype='object')"
      ]
     },
     "execution_count": 235,
     "metadata": {},
     "output_type": "execute_result"
    }
   ],
   "source": [
    "data.columns"
   ]
  },
  {
   "cell_type": "code",
   "execution_count": 236,
   "id": "e944929b",
   "metadata": {
    "ExecuteTime": {
     "end_time": "2022-04-06T21:26:29.698698Z",
     "start_time": "2022-04-06T21:26:29.675697Z"
    }
   },
   "outputs": [],
   "source": [
    "data = data.rename(columns = {' Ingresos_Mensuales ':'Ingresos_Mensuales',\n",
    "                              ' Patrimonio ':'Patrimonio'})"
   ]
  },
  {
   "cell_type": "markdown",
   "id": "f462a77e",
   "metadata": {},
   "source": [
    "## Chequing Data types"
   ]
  },
  {
   "cell_type": "code",
   "execution_count": 237,
   "id": "74dbe8fb",
   "metadata": {
    "ExecuteTime": {
     "end_time": "2022-04-06T21:26:29.758696Z",
     "start_time": "2022-04-06T21:26:29.706698Z"
    }
   },
   "outputs": [
    {
     "data": {
      "text/plain": [
       "Id_Cliente                      object\n",
       "Ciudad                          object\n",
       "Patrimonio                       int32\n",
       "Ingresos_Mensuales               int32\n",
       "No_hijos                         int32\n",
       "oficina                         object\n",
       "fecha_ult_desembolso    datetime64[ns]\n",
       "monto_credito                    int32\n",
       "tasa                           float64\n",
       "saldo_capital                    int32\n",
       "saldo_Ahorro                     int64\n",
       "Antiguedad_en_meses              int32\n",
       "Max_dias_mora                    int32\n",
       "plazo_dias                       int32\n",
       "Edad                             int32\n",
       "Acepta_Campaña                  object\n",
       "dtype: object"
      ]
     },
     "execution_count": 237,
     "metadata": {},
     "output_type": "execute_result"
    }
   ],
   "source": [
    "data.dtypes"
   ]
  },
  {
   "cell_type": "markdown",
   "id": "0ae1e06b",
   "metadata": {},
   "source": [
    "# Exploratory and Descriptiva Analysis (EDA)"
   ]
  },
  {
   "cell_type": "code",
   "execution_count": 238,
   "id": "3c0cf233",
   "metadata": {
    "ExecuteTime": {
     "end_time": "2022-04-06T21:26:29.773696Z",
     "start_time": "2022-04-06T21:26:29.761696Z"
    }
   },
   "outputs": [],
   "source": [
    "# prof = ProfileReport(data)\n",
    "# prof.to_file(output_file='output.html')"
   ]
  },
  {
   "cell_type": "code",
   "execution_count": 239,
   "id": "9b8e77b6",
   "metadata": {
    "ExecuteTime": {
     "end_time": "2022-04-06T21:26:29.864696Z",
     "start_time": "2022-04-06T21:26:29.777697Z"
    }
   },
   "outputs": [],
   "source": [
    "num_attributes = data.select_dtypes( include=['int32', 'float64'] )\n",
    "cat_attributes = data.select_dtypes( exclude=['int32', 'float64', 'datetime64[ns]'] )"
   ]
  },
  {
   "cell_type": "code",
   "execution_count": 240,
   "id": "fc3eaf44",
   "metadata": {
    "ExecuteTime": {
     "end_time": "2022-04-06T21:26:29.879707Z",
     "start_time": "2022-04-06T21:26:29.868696Z"
    }
   },
   "outputs": [],
   "source": [
    "# sns.pairplot(num_attributes)"
   ]
  },
  {
   "cell_type": "code",
   "execution_count": 241,
   "id": "c6c471d0",
   "metadata": {
    "ExecuteTime": {
     "end_time": "2022-04-06T21:26:30.002697Z",
     "start_time": "2022-04-06T21:26:29.888699Z"
    }
   },
   "outputs": [
    {
     "name": "stderr",
     "output_type": "stream",
     "text": [
      "C:\\Users\\Windows\\AppData\\Local\\Temp/ipykernel_9512/1843789318.py:2: FutureWarning: Series.dt.weekofyear and Series.dt.week have been deprecated.  Please use Series.dt.isocalendar().week instead.\n",
      "  data['semana_ult_desembolso'] = data['fecha_ult_desembolso'].dt.weekofyear\n"
     ]
    }
   ],
   "source": [
    "data['mes_ult_desembolso'] = data['fecha_ult_desembolso'].dt.month\n",
    "data['semana_ult_desembolso'] = data['fecha_ult_desembolso'].dt.weekofyear"
   ]
  },
  {
   "cell_type": "markdown",
   "id": "d62bab77",
   "metadata": {},
   "source": [
    "## Data Filtering"
   ]
  },
  {
   "cell_type": "code",
   "execution_count": 242,
   "id": "e0b95c5b",
   "metadata": {
    "ExecuteTime": {
     "end_time": "2022-04-06T21:26:30.032697Z",
     "start_time": "2022-04-06T21:26:30.008700Z"
    },
    "scrolled": true
   },
   "outputs": [
    {
     "data": {
      "text/plain": [
       "0    932\n",
       "2    872\n",
       "1    816\n",
       "3      7\n",
       "4      1\n",
       "Name: No_hijos, dtype: int64"
      ]
     },
     "execution_count": 242,
     "metadata": {},
     "output_type": "execute_result"
    }
   ],
   "source": [
    "data['No_hijos'].value_counts()"
   ]
  },
  {
   "cell_type": "markdown",
   "id": "01ff8f4b",
   "metadata": {
    "ExecuteTime": {
     "end_time": "2022-04-03T18:36:41.546449Z",
     "start_time": "2022-04-03T18:36:41.537448Z"
    }
   },
   "source": [
    "Queremos filtrar valores muy altos en ingresos o números de hijos (hay un cliente con ingresos de 26 millones al mes y cuatro hijos)."
   ]
  },
  {
   "cell_type": "code",
   "execution_count": 243,
   "id": "a9fbe7da",
   "metadata": {
    "ExecuteTime": {
     "end_time": "2022-04-06T21:26:30.139697Z",
     "start_time": "2022-04-06T21:26:30.038696Z"
    }
   },
   "outputs": [],
   "source": [
    "data = data[(data['Ingresos_Mensuales'] != data['Ingresos_Mensuales'].max())&\n",
    "            (data['No_hijos'] <3)]"
   ]
  },
  {
   "cell_type": "markdown",
   "id": "f0b8492a",
   "metadata": {},
   "source": [
    "## Data preparation"
   ]
  },
  {
   "cell_type": "code",
   "execution_count": 244,
   "id": "3358df40",
   "metadata": {
    "ExecuteTime": {
     "end_time": "2022-04-06T21:26:30.154698Z",
     "start_time": "2022-04-06T21:26:30.143697Z"
    }
   },
   "outputs": [
    {
     "data": {
      "text/plain": [
       "Index(['Id_Cliente', 'Ciudad', 'Patrimonio', 'Ingresos_Mensuales', 'No_hijos',\n",
       "       'oficina', 'fecha_ult_desembolso', 'monto_credito', 'tasa',\n",
       "       'saldo_capital', 'saldo_Ahorro', 'Antiguedad_en_meses', 'Max_dias_mora',\n",
       "       'plazo_dias', 'Edad', 'Acepta_Campaña', 'mes_ult_desembolso',\n",
       "       'semana_ult_desembolso'],\n",
       "      dtype='object')"
      ]
     },
     "execution_count": 244,
     "metadata": {},
     "output_type": "execute_result"
    }
   ],
   "source": [
    "data.columns"
   ]
  },
  {
   "cell_type": "code",
   "execution_count": 245,
   "id": "cdf8e167",
   "metadata": {
    "ExecuteTime": {
     "end_time": "2022-04-06T21:26:30.184698Z",
     "start_time": "2022-04-06T21:26:30.161697Z"
    }
   },
   "outputs": [],
   "source": [
    "X = data[[ 'Patrimonio', 'Ingresos_Mensuales', 'No_hijos',\n",
    "       'monto_credito', 'tasa',\n",
    "       'saldo_capital', 'saldo_Ahorro', 'Antiguedad_en_meses', 'Max_dias_mora',\n",
    "       'plazo_dias', 'Edad', 'mes_ult_desembolso']]\n",
    "y  = data['Acepta_Campaña']"
   ]
  },
  {
   "cell_type": "code",
   "execution_count": 246,
   "id": "b46c989e",
   "metadata": {
    "ExecuteTime": {
     "end_time": "2022-04-06T21:26:30.244697Z",
     "start_time": "2022-04-06T21:26:30.189701Z"
    }
   },
   "outputs": [],
   "source": [
    "ciudad = pd.get_dummies(data['Ciudad'], prefix='C')"
   ]
  },
  {
   "cell_type": "code",
   "execution_count": 247,
   "id": "f5d05f7f",
   "metadata": {
    "ExecuteTime": {
     "end_time": "2022-04-06T21:26:30.289697Z",
     "start_time": "2022-04-06T21:26:30.248698Z"
    }
   },
   "outputs": [],
   "source": [
    "X= X.join(ciudad)"
   ]
  },
  {
   "cell_type": "code",
   "execution_count": 248,
   "id": "5eb207af",
   "metadata": {
    "ExecuteTime": {
     "end_time": "2022-04-06T21:26:30.440696Z",
     "start_time": "2022-04-06T21:26:30.293710Z"
    }
   },
   "outputs": [],
   "source": [
    "mms = MinMaxScaler()\n",
    "\n",
    "X['Patrimonio'] = mms.fit_transform( X[['Patrimonio']].values )\n",
    "X['Ingresos_Mensuales'] = mms.fit_transform( X[['Ingresos_Mensuales']].values )\n",
    "X['No_hijos'] = mms.fit_transform( X[['No_hijos']].values )\n",
    "X['monto_credito'] = mms.fit_transform( X[['monto_credito']].values )\n",
    "X['tasa'] = mms.fit_transform( X[['tasa']].values )\n",
    "X['saldo_capital'] = mms.fit_transform( X[['saldo_capital']].values )\n",
    "X['saldo_Ahorro'] = mms.fit_transform( X[['saldo_Ahorro']].values )\n",
    "X['Antiguedad_en_meses'] = mms.fit_transform( X[['Antiguedad_en_meses']].values )\n",
    "X['Max_dias_mora'] = mms.fit_transform( X[['Max_dias_mora']].values )\n",
    "X['Edad'] = mms.fit_transform( X[['Edad']].values )\n",
    "X['plazo_dias'] = mms.fit_transform( X[['plazo_dias']].values )\n",
    "X['mes_ult_desembolso'] = mms.fit_transform( X[['mes_ult_desembolso']].values )\n",
    "# X['semana_ult_desembolso'] = mms.fit_transform( X[['semana_ult_desembolso']].values )"
   ]
  },
  {
   "cell_type": "markdown",
   "id": "a078168f",
   "metadata": {
    "ExecuteTime": {
     "end_time": "2022-04-03T19:03:58.775214Z",
     "start_time": "2022-04-03T19:03:58.760213Z"
    }
   },
   "source": [
    "# Machine Learning model "
   ]
  },
  {
   "cell_type": "markdown",
   "id": "78e92699",
   "metadata": {},
   "source": [
    "## Data Splitting"
   ]
  },
  {
   "cell_type": "code",
   "execution_count": 249,
   "id": "30890afb",
   "metadata": {
    "ExecuteTime": {
     "end_time": "2022-04-06T21:26:30.686698Z",
     "start_time": "2022-04-06T21:26:30.614702Z"
    }
   },
   "outputs": [],
   "source": [
    " X_train, X_test, y_train, y_test = train_test_split(X, y, test_size=0.25, random_state=42)"
   ]
  },
  {
   "cell_type": "markdown",
   "id": "6662f364",
   "metadata": {},
   "source": [
    "## Baseline Clasiffier"
   ]
  },
  {
   "cell_type": "code",
   "execution_count": 250,
   "id": "9dca5a16",
   "metadata": {
    "ExecuteTime": {
     "end_time": "2022-04-06T21:26:31.066697Z",
     "start_time": "2022-04-06T21:26:31.013696Z"
    }
   },
   "outputs": [],
   "source": [
    "dummy_clf = DummyClassifier(random_state=42).fit(X_train, y_train)\n",
    "y_pred_clf = dummy_clf.predict(X_test)"
   ]
  },
  {
   "cell_type": "code",
   "execution_count": 251,
   "id": "9be2f0da",
   "metadata": {
    "ExecuteTime": {
     "end_time": "2022-04-06T21:26:31.263696Z",
     "start_time": "2022-04-06T21:26:31.183697Z"
    }
   },
   "outputs": [
    {
     "name": "stdout",
     "output_type": "stream",
     "text": [
      "[[324   0]\n",
      " [331   0]]\n"
     ]
    }
   ],
   "source": [
    "cf_matrix = confusion_matrix(y_test, y_pred_clf)\n",
    "\n",
    "print(cf_matrix)"
   ]
  },
  {
   "cell_type": "code",
   "execution_count": 252,
   "id": "99f1e222",
   "metadata": {
    "ExecuteTime": {
     "end_time": "2022-04-06T21:26:33.099874Z",
     "start_time": "2022-04-06T21:26:31.525697Z"
    }
   },
   "outputs": [
    {
     "data": {
      "image/png": "[encoded data removed]",
      "text/plain": [
       "<Figure size 432x288 with 2 Axes>"
      ]
     },
     "metadata": {
      "needs_background": "light"
     },
     "output_type": "display_data"
    }
   ],
   "source": [
    "ax = sns.heatmap(cf_matrix/np.sum(cf_matrix), annot=True, \n",
    "            fmt='.2%', cmap='Blues')\n",
    "\n",
    "ax.set_title('Matriz de confusión Clasificador Aleatorio\\n\\n');\n",
    "ax.set_xlabel('\\n Valores predichos ')\n",
    "ax.set_ylabel('Valores observados ');\n",
    "\n",
    "## Ticket labels - List must be in alphabetical order\n",
    "ax.xaxis.set_ticklabels(['False','True'])\n",
    "ax.yaxis.set_ticklabels(['False','True'])\n",
    "\n",
    "## Display the visualization of the Confusion Matrix.\n",
    "plt.show()"
   ]
  },
  {
   "cell_type": "code",
   "execution_count": 253,
   "id": "258340c6",
   "metadata": {
    "ExecuteTime": {
     "end_time": "2022-04-06T21:26:33.815863Z",
     "start_time": "2022-04-06T21:26:33.105863Z"
    }
   },
   "outputs": [
    {
     "data": {
      "text/plain": [
       "<sklearn.metrics._plot.roc_curve.RocCurveDisplay at 0x254c66a65e0>"
      ]
     },
     "execution_count": 253,
     "metadata": {},
     "output_type": "execute_result"
    },
    {
     "data": {
      "image/png": "[encoded data removed]",
      "text/plain": [
       "<Figure size 432x288 with 1 Axes>"
      ]
     },
     "metadata": {
      "needs_background": "light"
     },
     "output_type": "display_data"
    }
   ],
   "source": [
    "metrics.plot_roc_curve(dummy_clf, X_test, y_test) "
   ]
  },
  {
   "cell_type": "code",
   "execution_count": 254,
   "id": "06a17df1",
   "metadata": {
    "ExecuteTime": {
     "end_time": "2022-04-06T21:26:33.982866Z",
     "start_time": "2022-04-06T21:26:33.821862Z"
    }
   },
   "outputs": [
    {
     "name": "stdout",
     "output_type": "stream",
     "text": [
      "Puntajes obtenidos: [0.50761421 0.50761421 0.50761421 0.50761421 0.51020408 0.51020408\n",
      " 0.51020408 0.51020408 0.50510204 0.50510204]\n",
      "Precisión de validación cruzada: 0.508 +/- 0.002\n"
     ]
    }
   ],
   "source": [
    "scores = cross_val_score(dummy_clf, X=X_train, y=y_train, cv=10, n_jobs=1)\n",
    " \n",
    "print('Puntajes obtenidos: %s' % scores)\n",
    "print('Precisión de validación cruzada: %.3f +/- %.3f' % (np.mean(scores),np.std(scores)))"
   ]
  },
  {
   "cell_type": "markdown",
   "id": "b672003d",
   "metadata": {},
   "source": [
    "## k-nearest neighbors \n"
   ]
  },
  {
   "cell_type": "code",
   "execution_count": 255,
   "id": "8b5da429",
   "metadata": {
    "ExecuteTime": {
     "end_time": "2022-04-06T21:27:23.697079Z",
     "start_time": "2022-04-06T21:27:23.515995Z"
    }
   },
   "outputs": [],
   "source": [
    "dummy_KNN = KNeighborsClassifier(n_neighbors=3).fit(X_train, y_train)\n",
    "y_pred_knn = dummy_KNN.predict(X_test)"
   ]
  },
  {
   "cell_type": "code",
   "execution_count": 256,
   "id": "1cc1ebfe",
   "metadata": {
    "ExecuteTime": {
     "end_time": "2022-04-06T21:27:23.727067Z",
     "start_time": "2022-04-06T21:27:23.701060Z"
    }
   },
   "outputs": [
    {
     "name": "stdout",
     "output_type": "stream",
     "text": [
      "[[256  68]\n",
      " [ 72 259]]\n"
     ]
    }
   ],
   "source": [
    "cf_matrix = confusion_matrix(y_test, y_pred_knn)\n",
    "\n",
    "print(cf_matrix)"
   ]
  },
  {
   "cell_type": "code",
   "execution_count": 257,
   "id": "6f0e020a",
   "metadata": {
    "ExecuteTime": {
     "end_time": "2022-04-06T21:27:24.151060Z",
     "start_time": "2022-04-06T21:27:23.731061Z"
    }
   },
   "outputs": [
    {
     "data": {
      "image/png": "[encoded data removed]",
      "text/plain": [
       "<Figure size 432x288 with 2 Axes>"
      ]
     },
     "metadata": {
      "needs_background": "light"
     },
     "output_type": "display_data"
    }
   ],
   "source": [
    "ax = sns.heatmap(cf_matrix/np.sum(cf_matrix), annot=True, \n",
    "            fmt='.2%', cmap='Blues')\n",
    "\n",
    "ax.set_title('Matriz de confusión Regresión Logística\\n\\n');\n",
    "ax.set_xlabel('\\n Valores predichos ')\n",
    "ax.set_ylabel('Valores observados ');\n",
    "\n",
    "## Ticket labels - List must be in alphabetical order\n",
    "ax.xaxis.set_ticklabels(['False','True'])\n",
    "ax.yaxis.set_ticklabels(['False','True'])\n",
    "\n",
    "## Display the visualization of the Confusion Matrix.\n",
    "plt.show()"
   ]
  },
  {
   "cell_type": "code",
   "execution_count": 258,
   "id": "b3435456",
   "metadata": {
    "ExecuteTime": {
     "end_time": "2022-04-06T21:27:24.571061Z",
     "start_time": "2022-04-06T21:27:24.155073Z"
    }
   },
   "outputs": [
    {
     "data": {
      "text/plain": [
       "<sklearn.metrics._plot.roc_curve.RocCurveDisplay at 0x254c676c2e0>"
      ]
     },
     "execution_count": 258,
     "metadata": {},
     "output_type": "execute_result"
    },
    {
     "data": {
      "image/png": "[encoded data removed]",
      "text/plain": [
       "<Figure size 432x288 with 1 Axes>"
      ]
     },
     "metadata": {
      "needs_background": "light"
     },
     "output_type": "display_data"
    }
   ],
   "source": [
    "metrics.plot_roc_curve(dummy_KNN, X_test, y_test) "
   ]
  },
  {
   "cell_type": "code",
   "execution_count": 259,
   "id": "96007eed",
   "metadata": {
    "ExecuteTime": {
     "end_time": "2022-04-06T21:27:24.976061Z",
     "start_time": "2022-04-06T21:27:24.578081Z"
    }
   },
   "outputs": [
    {
     "name": "stdout",
     "output_type": "stream",
     "text": [
      "Puntajes obtenidos: [0.80203046 0.77664975 0.7715736  0.80203046 0.77040816 0.77040816\n",
      " 0.80102041 0.75510204 0.76530612 0.77040816]\n",
      "Precisión de validación cruzada: 0.778 +/- 0.016\n"
     ]
    }
   ],
   "source": [
    "scores = cross_val_score(dummy_KNN, X=X_train, y=y_train, cv=10, n_jobs=1)\n",
    " \n",
    "print('Puntajes obtenidos: %s' % scores)\n",
    "print('Precisión de validación cruzada: %.3f +/- %.3f' % (np.mean(scores),np.std(scores)))"
   ]
  },
  {
   "cell_type": "markdown",
   "id": "8965eb13",
   "metadata": {},
   "source": [
    "## Logistic Regression"
   ]
  },
  {
   "cell_type": "code",
   "execution_count": 260,
   "id": "83dfd304",
   "metadata": {
    "ExecuteTime": {
     "end_time": "2022-04-06T21:27:25.132057Z",
     "start_time": "2022-04-06T21:27:24.980060Z"
    }
   },
   "outputs": [],
   "source": [
    "reg_log = LogisticRegression(random_state=0).fit(X_train, y_train)\n",
    "y_pred_reg_log = reg_log.predict(X_test)"
   ]
  },
  {
   "cell_type": "code",
   "execution_count": 261,
   "id": "17251bed",
   "metadata": {
    "ExecuteTime": {
     "end_time": "2022-04-06T21:27:25.147073Z",
     "start_time": "2022-04-06T21:27:25.136061Z"
    }
   },
   "outputs": [
    {
     "name": "stdout",
     "output_type": "stream",
     "text": [
      "[[208 116]\n",
      " [129 202]]\n"
     ]
    }
   ],
   "source": [
    "cf_matrix = confusion_matrix(y_test, y_pred_reg_log)\n",
    "\n",
    "print(cf_matrix)"
   ]
  },
  {
   "cell_type": "code",
   "execution_count": 262,
   "id": "bb2f842c",
   "metadata": {
    "ExecuteTime": {
     "end_time": "2022-04-06T21:27:25.589058Z",
     "start_time": "2022-04-06T21:27:25.154061Z"
    },
    "scrolled": false
   },
   "outputs": [
    {
     "data": {
      "image/png": "[encoded data removed]",
      "text/plain": [
       "<Figure size 432x288 with 2 Axes>"
      ]
     },
     "metadata": {
      "needs_background": "light"
     },
     "output_type": "display_data"
    }
   ],
   "source": [
    "ax = sns.heatmap(cf_matrix/np.sum(cf_matrix), annot=True, \n",
    "            fmt='.2%', cmap='Blues')\n",
    "\n",
    "ax.set_title('Matriz de confusión Regresión Logística\\n\\n');\n",
    "ax.set_xlabel('\\n Valores predichos ')\n",
    "ax.set_ylabel('Valores observados ');\n",
    "\n",
    "## Ticket labels - List must be in alphabetical order\n",
    "ax.xaxis.set_ticklabels(['False','True'])\n",
    "ax.yaxis.set_ticklabels(['False','True'])\n",
    "\n",
    "## Display the visualization of the Confusion Matrix.\n",
    "plt.show()"
   ]
  },
  {
   "cell_type": "code",
   "execution_count": 263,
   "id": "26a83425",
   "metadata": {
    "ExecuteTime": {
     "end_time": "2022-04-06T21:27:25.866402Z",
     "start_time": "2022-04-06T21:27:25.592061Z"
    }
   },
   "outputs": [
    {
     "data": {
      "text/plain": [
       "<sklearn.metrics._plot.roc_curve.RocCurveDisplay at 0x254ca4aec70>"
      ]
     },
     "execution_count": 263,
     "metadata": {},
     "output_type": "execute_result"
    },
    {
     "data": {
      "image/png": "[encoded data removed]",
      "text/plain": [
       "<Figure size 432x288 with 1 Axes>"
      ]
     },
     "metadata": {
      "needs_background": "light"
     },
     "output_type": "display_data"
    }
   ],
   "source": [
    "metrics.plot_roc_curve(reg_log, X_test, y_test) "
   ]
  },
  {
   "cell_type": "code",
   "execution_count": 264,
   "id": "df54c79a",
   "metadata": {
    "ExecuteTime": {
     "end_time": "2022-04-06T21:27:26.488623Z",
     "start_time": "2022-04-06T21:27:25.870404Z"
    }
   },
   "outputs": [
    {
     "name": "stdout",
     "output_type": "stream",
     "text": [
      "Puntajes obtenidos: [0.69035533 0.65482234 0.62944162 0.65989848 0.62244898 0.69387755\n",
      " 0.69387755 0.64285714 0.64285714 0.6122449 ]\n",
      "Precisión de validación cruzada: 0.654 +/- 0.029\n"
     ]
    }
   ],
   "source": [
    "scores = cross_val_score(reg_log, X=X_train, y=y_train, cv=10, n_jobs=1)\n",
    " \n",
    "print('Puntajes obtenidos: %s' % scores)\n",
    "print('Precisión de validación cruzada: %.3f +/- %.3f' % (np.mean(scores),np.std(scores)))"
   ]
  },
  {
   "cell_type": "markdown",
   "id": "63d3e9f6",
   "metadata": {},
   "source": [
    "## Random Forest"
   ]
  },
  {
   "cell_type": "code",
   "execution_count": 265,
   "id": "fe4b661c",
   "metadata": {
    "ExecuteTime": {
     "end_time": "2022-04-06T21:27:26.923605Z",
     "start_time": "2022-04-06T21:27:26.492591Z"
    }
   },
   "outputs": [],
   "source": [
    "rf =RandomForestClassifier(max_depth=2, random_state=0).fit( X_train, y_train )\n",
    "\n",
    "# prediction\n",
    "y_pred_rf = rf.predict( X_test)"
   ]
  },
  {
   "cell_type": "code",
   "execution_count": 266,
   "id": "16506449",
   "metadata": {
    "ExecuteTime": {
     "end_time": "2022-04-06T21:27:26.955589Z",
     "start_time": "2022-04-06T21:27:26.928591Z"
    }
   },
   "outputs": [
    {
     "name": "stdout",
     "output_type": "stream",
     "text": [
      "[[228  96]\n",
      " [ 95 236]]\n"
     ]
    }
   ],
   "source": [
    "cf_matrix = confusion_matrix(y_test, y_pred_rf)\n",
    "\n",
    "print(cf_matrix)"
   ]
  },
  {
   "cell_type": "code",
   "execution_count": 267,
   "id": "b3fc6895",
   "metadata": {
    "ExecuteTime": {
     "end_time": "2022-04-06T21:27:27.377590Z",
     "start_time": "2022-04-06T21:27:26.959591Z"
    }
   },
   "outputs": [
    {
     "data": {
      "image/png": "[encoded data removed]",
      "text/plain": [
       "<Figure size 432x288 with 2 Axes>"
      ]
     },
     "metadata": {
      "needs_background": "light"
     },
     "output_type": "display_data"
    }
   ],
   "source": [
    "ax = sns.heatmap(cf_matrix/np.sum(cf_matrix), annot=True, \n",
    "            fmt='.2%', cmap='Blues')\n",
    "\n",
    "ax.set_title('Matriz de confusión Bosque Aleatorio\\n\\n');\n",
    "ax.set_xlabel('\\n Valores predichos ')\n",
    "ax.set_ylabel('Valores observados ');\n",
    "\n",
    "## Ticket labels - List must be in alphabetical order\n",
    "ax.xaxis.set_ticklabels(['False','True'])\n",
    "ax.yaxis.set_ticklabels(['False','True'])\n",
    "\n",
    "## Display the visualization of the Confusion Matrix.\n",
    "plt.show()"
   ]
  },
  {
   "cell_type": "code",
   "execution_count": 268,
   "id": "aea7d329",
   "metadata": {
    "ExecuteTime": {
     "end_time": "2022-04-06T21:27:27.732590Z",
     "start_time": "2022-04-06T21:27:27.381594Z"
    }
   },
   "outputs": [
    {
     "data": {
      "text/plain": [
       "<sklearn.metrics._plot.roc_curve.RocCurveDisplay at 0x254ca6e0fd0>"
      ]
     },
     "execution_count": 268,
     "metadata": {},
     "output_type": "execute_result"
    },
    {
     "data": {
      "image/png": "[encoded data removed]",
      "text/plain": [
       "<Figure size 432x288 with 1 Axes>"
      ]
     },
     "metadata": {
      "needs_background": "light"
     },
     "output_type": "display_data"
    }
   ],
   "source": [
    "metrics.plot_roc_curve(rf, X_test, y_test) "
   ]
  },
  {
   "cell_type": "code",
   "execution_count": 269,
   "id": "9d71478b",
   "metadata": {
    "ExecuteTime": {
     "end_time": "2022-04-06T21:27:54.734583Z",
     "start_time": "2022-04-06T21:27:51.056110Z"
    }
   },
   "outputs": [
    {
     "name": "stdout",
     "output_type": "stream",
     "text": [
      "Puntajes obtenidos: [0.74111675 0.72081218 0.69035533 0.73604061 0.71938776 0.71938776\n",
      " 0.75       0.68877551 0.69897959 0.66836735]\n",
      "Precisión de validación cruzada: 0.713 +/- 0.025\n"
     ]
    }
   ],
   "source": [
    "scores = cross_val_score(rf, X=X_train, y=y_train, cv=10, n_jobs=1)\n",
    " \n",
    "print('Puntajes obtenidos: %s' % scores)\n",
    "print('Precisión de validación cruzada: %.3f +/- %.3f' % (np.mean(scores),np.std(scores)))"
   ]
  },
  {
   "cell_type": "markdown",
   "id": "b56ac340",
   "metadata": {
    "ExecuteTime": {
     "end_time": "2022-04-03T20:38:27.619348Z",
     "start_time": "2022-04-03T20:38:27.612639Z"
    }
   },
   "source": [
    "## Naive Bayes"
   ]
  },
  {
   "cell_type": "code",
   "execution_count": 270,
   "id": "179298e1",
   "metadata": {
    "ExecuteTime": {
     "end_time": "2022-04-06T21:27:56.289133Z",
     "start_time": "2022-04-06T21:27:56.261336Z"
    }
   },
   "outputs": [],
   "source": [
    "nb =GaussianNB().fit( X_train, y_train )\n",
    "\n",
    "# prediction\n",
    "y_pred_NB = nb.predict( X_test)"
   ]
  },
  {
   "cell_type": "code",
   "execution_count": 271,
   "id": "64b2cd7e",
   "metadata": {
    "ExecuteTime": {
     "end_time": "2022-04-06T21:27:56.319133Z",
     "start_time": "2022-04-06T21:27:56.293134Z"
    }
   },
   "outputs": [
    {
     "name": "stdout",
     "output_type": "stream",
     "text": [
      "[[201 123]\n",
      " [122 209]]\n"
     ]
    }
   ],
   "source": [
    "cf_matrix = confusion_matrix(y_test, y_pred_NB)\n",
    "\n",
    "print(cf_matrix)"
   ]
  },
  {
   "cell_type": "code",
   "execution_count": 272,
   "id": "a4d8985e",
   "metadata": {
    "ExecuteTime": {
     "end_time": "2022-04-06T21:27:56.699132Z",
     "start_time": "2022-04-06T21:27:56.324135Z"
    },
    "scrolled": true
   },
   "outputs": [
    {
     "data": {
      "image/png": "[encoded data removed]",
      "text/plain": [
       "<Figure size 432x288 with 2 Axes>"
      ]
     },
     "metadata": {
      "needs_background": "light"
     },
     "output_type": "display_data"
    }
   ],
   "source": [
    "ax = sns.heatmap(cf_matrix/np.sum(cf_matrix), annot=True, \n",
    "            fmt='.2%', cmap='Blues')\n",
    "\n",
    "ax.set_title('Matriz de confusión Naive Bayes\\n\\n');\n",
    "ax.set_xlabel('\\n Valores predichos ')\n",
    "ax.set_ylabel('Valores observados ');\n",
    "\n",
    "## Ticket labels - List must be in alphabetical order\n",
    "ax.xaxis.set_ticklabels(['False','True'])\n",
    "ax.yaxis.set_ticklabels(['False','True'])\n",
    "\n",
    "## Display the visualization of the Confusion Matrix.\n",
    "plt.show()"
   ]
  },
  {
   "cell_type": "code",
   "execution_count": 273,
   "id": "e3b98835",
   "metadata": {
    "ExecuteTime": {
     "end_time": "2022-04-06T21:28:01.695010Z",
     "start_time": "2022-04-06T21:28:01.413153Z"
    }
   },
   "outputs": [
    {
     "data": {
      "text/plain": [
       "<sklearn.metrics._plot.roc_curve.RocCurveDisplay at 0x254ca546dc0>"
      ]
     },
     "execution_count": 273,
     "metadata": {},
     "output_type": "execute_result"
    },
    {
     "data": {
      "image/png": "[encoded data removed]",
      "text/plain": [
       "<Figure size 432x288 with 1 Axes>"
      ]
     },
     "metadata": {
      "needs_background": "light"
     },
     "output_type": "display_data"
    }
   ],
   "source": [
    "metrics.plot_roc_curve(nb, X_test, y_test) "
   ]
  },
  {
   "cell_type": "code",
   "execution_count": 274,
   "id": "bc440004",
   "metadata": {
    "ExecuteTime": {
     "end_time": "2022-04-06T21:28:03.672189Z",
     "start_time": "2022-04-06T21:28:03.524360Z"
    }
   },
   "outputs": [
    {
     "name": "stdout",
     "output_type": "stream",
     "text": [
      "Puntajes obtenidos: [0.67005076 0.58375635 0.62944162 0.66497462 0.63265306 0.67857143\n",
      " 0.66836735 0.61734694 0.69897959 0.62244898]\n",
      "Precisión de validación cruzada: 0.647 +/- 0.033\n"
     ]
    }
   ],
   "source": [
    "scores = cross_val_score(nb, X=X_train, y=y_train, cv=10, n_jobs=1)\n",
    " \n",
    "print('Puntajes obtenidos: %s' % scores)\n",
    "print('Precisión de validación cruzada: %.3f +/- %.3f' % (np.mean(scores),np.std(scores)))"
   ]
  },
  {
   "cell_type": "markdown",
   "id": "e21a932e",
   "metadata": {},
   "source": [
    "## XGBoost "
   ]
  },
  {
   "cell_type": "code",
   "execution_count": 275,
   "id": "7c0b73ba",
   "metadata": {
    "ExecuteTime": {
     "end_time": "2022-04-06T21:28:07.457648Z",
     "start_time": "2022-04-06T21:28:05.743339Z"
    }
   },
   "outputs": [
    {
     "name": "stdout",
     "output_type": "stream",
     "text": [
      "[16:28:05] WARNING: C:/Users/Administrator/workspace/xgboost-win64_release_1.4.0/src/learner.cc:1095: Starting in XGBoost 1.3.0, the default evaluation metric used with the objective 'binary:logistic' was changed from 'error' to 'logloss'. Explicitly set eval_metric if you'd like to restore the old behavior.\n"
     ]
    },
    {
     "name": "stderr",
     "output_type": "stream",
     "text": [
      "C:\\Users\\Windows\\anaconda3\\lib\\site-packages\\xgboost\\sklearn.py:1146: UserWarning: The use of label encoder in XGBClassifier is deprecated and will be removed in a future release. To remove this warning, do the following: 1) Pass option use_label_encoder=False when constructing XGBClassifier object; and 2) Encode your labels (y) as integers starting with 0, i.e. 0, 1, 2, ..., [num_class - 1].\n",
      "  warnings.warn(label_encoder_deprecation_msg, UserWarning)\n"
     ]
    }
   ],
   "source": [
    "xgb_cl = xgb.XGBClassifier().fit( X_train, y_train )\n",
    "\n",
    "y_pred_xgb = xgb_cl.predict(X_test)"
   ]
  },
  {
   "cell_type": "code",
   "execution_count": 276,
   "id": "33d79907",
   "metadata": {
    "ExecuteTime": {
     "end_time": "2022-04-06T21:28:09.593131Z",
     "start_time": "2022-04-06T21:28:09.568133Z"
    }
   },
   "outputs": [
    {
     "name": "stdout",
     "output_type": "stream",
     "text": [
      "[[277  47]\n",
      " [ 39 292]]\n"
     ]
    }
   ],
   "source": [
    "cf_matrix = confusion_matrix(y_test, y_pred_xgb)\n",
    "\n",
    "print(cf_matrix)"
   ]
  },
  {
   "cell_type": "code",
   "execution_count": 277,
   "id": "3a6995f0",
   "metadata": {
    "ExecuteTime": {
     "end_time": "2022-04-06T21:28:10.162522Z",
     "start_time": "2022-04-06T21:28:09.599132Z"
    },
    "scrolled": true
   },
   "outputs": [
    {
     "data": {
      "image/png": "[encoded data removed]",
      "text/plain": [
       "<Figure size 432x288 with 2 Axes>"
      ]
     },
     "metadata": {
      "needs_background": "light"
     },
     "output_type": "display_data"
    }
   ],
   "source": [
    "ax = sns.heatmap(cf_matrix/np.sum(cf_matrix), annot=True, \n",
    "            fmt='.2%', cmap='Blues')\n",
    "\n",
    "ax.set_title('Matriz de confusión XGboost\\n\\n');\n",
    "ax.set_xlabel('\\n Valores predichos ')\n",
    "ax.set_ylabel('Valores observados ');\n",
    "\n",
    "## Ticket labels - List must be in alphabetical order\n",
    "ax.xaxis.set_ticklabels(['False','True'])\n",
    "ax.yaxis.set_ticklabels(['False','True'])\n",
    "\n",
    "## Display the visualization of the Confusion Matrix.\n",
    "plt.show()"
   ]
  },
  {
   "cell_type": "code",
   "execution_count": 278,
   "id": "a1fc2b43",
   "metadata": {
    "ExecuteTime": {
     "end_time": "2022-04-06T21:28:14.621286Z",
     "start_time": "2022-04-06T21:28:14.262238Z"
    }
   },
   "outputs": [
    {
     "data": {
      "text/plain": [
       "<sklearn.metrics._plot.roc_curve.RocCurveDisplay at 0x254c67e12b0>"
      ]
     },
     "execution_count": 278,
     "metadata": {},
     "output_type": "execute_result"
    },
    {
     "data": {
      "image/png": "[encoded data removed]",
      "text/plain": [
       "<Figure size 432x288 with 1 Axes>"
      ]
     },
     "metadata": {
      "needs_background": "light"
     },
     "output_type": "display_data"
    }
   ],
   "source": [
    "metrics.plot_roc_curve(xgb_cl, X_test, y_test) "
   ]
  },
  {
   "cell_type": "code",
   "execution_count": 279,
   "id": "d993a371",
   "metadata": {
    "ExecuteTime": {
     "end_time": "2022-04-06T21:28:20.842561Z",
     "start_time": "2022-04-06T21:28:16.461986Z"
    },
    "scrolled": true
   },
   "outputs": [
    {
     "name": "stdout",
     "output_type": "stream",
     "text": [
      "[16:28:16] WARNING: C:/Users/Administrator/workspace/xgboost-win64_release_1.4.0/src/learner.cc:1095: Starting in XGBoost 1.3.0, the default evaluation metric used with the objective 'binary:logistic' was changed from 'error' to 'logloss'. Explicitly set eval_metric if you'd like to restore the old behavior.\n"
     ]
    },
    {
     "name": "stderr",
     "output_type": "stream",
     "text": [
      "C:\\Users\\Windows\\anaconda3\\lib\\site-packages\\xgboost\\sklearn.py:1146: UserWarning: The use of label encoder in XGBClassifier is deprecated and will be removed in a future release. To remove this warning, do the following: 1) Pass option use_label_encoder=False when constructing XGBClassifier object; and 2) Encode your labels (y) as integers starting with 0, i.e. 0, 1, 2, ..., [num_class - 1].\n",
      "  warnings.warn(label_encoder_deprecation_msg, UserWarning)\n",
      "C:\\Users\\Windows\\anaconda3\\lib\\site-packages\\xgboost\\sklearn.py:1146: UserWarning: The use of label encoder in XGBClassifier is deprecated and will be removed in a future release. To remove this warning, do the following: 1) Pass option use_label_encoder=False when constructing XGBClassifier object; and 2) Encode your labels (y) as integers starting with 0, i.e. 0, 1, 2, ..., [num_class - 1].\n",
      "  warnings.warn(label_encoder_deprecation_msg, UserWarning)\n"
     ]
    },
    {
     "name": "stdout",
     "output_type": "stream",
     "text": [
      "[16:28:17] WARNING: C:/Users/Administrator/workspace/xgboost-win64_release_1.4.0/src/learner.cc:1095: Starting in XGBoost 1.3.0, the default evaluation metric used with the objective 'binary:logistic' was changed from 'error' to 'logloss'. Explicitly set eval_metric if you'd like to restore the old behavior.\n"
     ]
    },
    {
     "name": "stderr",
     "output_type": "stream",
     "text": [
      "C:\\Users\\Windows\\anaconda3\\lib\\site-packages\\xgboost\\sklearn.py:1146: UserWarning: The use of label encoder in XGBClassifier is deprecated and will be removed in a future release. To remove this warning, do the following: 1) Pass option use_label_encoder=False when constructing XGBClassifier object; and 2) Encode your labels (y) as integers starting with 0, i.e. 0, 1, 2, ..., [num_class - 1].\n",
      "  warnings.warn(label_encoder_deprecation_msg, UserWarning)\n"
     ]
    },
    {
     "name": "stdout",
     "output_type": "stream",
     "text": [
      "[16:28:17] WARNING: C:/Users/Administrator/workspace/xgboost-win64_release_1.4.0/src/learner.cc:1095: Starting in XGBoost 1.3.0, the default evaluation metric used with the objective 'binary:logistic' was changed from 'error' to 'logloss'. Explicitly set eval_metric if you'd like to restore the old behavior.\n"
     ]
    },
    {
     "name": "stderr",
     "output_type": "stream",
     "text": [
      "C:\\Users\\Windows\\anaconda3\\lib\\site-packages\\xgboost\\sklearn.py:1146: UserWarning: The use of label encoder in XGBClassifier is deprecated and will be removed in a future release. To remove this warning, do the following: 1) Pass option use_label_encoder=False when constructing XGBClassifier object; and 2) Encode your labels (y) as integers starting with 0, i.e. 0, 1, 2, ..., [num_class - 1].\n",
      "  warnings.warn(label_encoder_deprecation_msg, UserWarning)\n"
     ]
    },
    {
     "name": "stdout",
     "output_type": "stream",
     "text": [
      "[16:28:17] WARNING: C:/Users/Administrator/workspace/xgboost-win64_release_1.4.0/src/learner.cc:1095: Starting in XGBoost 1.3.0, the default evaluation metric used with the objective 'binary:logistic' was changed from 'error' to 'logloss'. Explicitly set eval_metric if you'd like to restore the old behavior.\n"
     ]
    },
    {
     "name": "stderr",
     "output_type": "stream",
     "text": [
      "C:\\Users\\Windows\\anaconda3\\lib\\site-packages\\xgboost\\sklearn.py:1146: UserWarning: The use of label encoder in XGBClassifier is deprecated and will be removed in a future release. To remove this warning, do the following: 1) Pass option use_label_encoder=False when constructing XGBClassifier object; and 2) Encode your labels (y) as integers starting with 0, i.e. 0, 1, 2, ..., [num_class - 1].\n",
      "  warnings.warn(label_encoder_deprecation_msg, UserWarning)\n"
     ]
    },
    {
     "name": "stdout",
     "output_type": "stream",
     "text": [
      "[16:28:18] WARNING: C:/Users/Administrator/workspace/xgboost-win64_release_1.4.0/src/learner.cc:1095: Starting in XGBoost 1.3.0, the default evaluation metric used with the objective 'binary:logistic' was changed from 'error' to 'logloss'. Explicitly set eval_metric if you'd like to restore the old behavior.\n"
     ]
    },
    {
     "name": "stderr",
     "output_type": "stream",
     "text": [
      "C:\\Users\\Windows\\anaconda3\\lib\\site-packages\\xgboost\\sklearn.py:1146: UserWarning: The use of label encoder in XGBClassifier is deprecated and will be removed in a future release. To remove this warning, do the following: 1) Pass option use_label_encoder=False when constructing XGBClassifier object; and 2) Encode your labels (y) as integers starting with 0, i.e. 0, 1, 2, ..., [num_class - 1].\n",
      "  warnings.warn(label_encoder_deprecation_msg, UserWarning)\n"
     ]
    },
    {
     "name": "stdout",
     "output_type": "stream",
     "text": [
      "[16:28:18] WARNING: C:/Users/Administrator/workspace/xgboost-win64_release_1.4.0/src/learner.cc:1095: Starting in XGBoost 1.3.0, the default evaluation metric used with the objective 'binary:logistic' was changed from 'error' to 'logloss'. Explicitly set eval_metric if you'd like to restore the old behavior.\n"
     ]
    },
    {
     "name": "stderr",
     "output_type": "stream",
     "text": [
      "C:\\Users\\Windows\\anaconda3\\lib\\site-packages\\xgboost\\sklearn.py:1146: UserWarning: The use of label encoder in XGBClassifier is deprecated and will be removed in a future release. To remove this warning, do the following: 1) Pass option use_label_encoder=False when constructing XGBClassifier object; and 2) Encode your labels (y) as integers starting with 0, i.e. 0, 1, 2, ..., [num_class - 1].\n",
      "  warnings.warn(label_encoder_deprecation_msg, UserWarning)\n"
     ]
    },
    {
     "name": "stdout",
     "output_type": "stream",
     "text": [
      "[16:28:19] WARNING: C:/Users/Administrator/workspace/xgboost-win64_release_1.4.0/src/learner.cc:1095: Starting in XGBoost 1.3.0, the default evaluation metric used with the objective 'binary:logistic' was changed from 'error' to 'logloss'. Explicitly set eval_metric if you'd like to restore the old behavior.\n"
     ]
    },
    {
     "name": "stderr",
     "output_type": "stream",
     "text": [
      "C:\\Users\\Windows\\anaconda3\\lib\\site-packages\\xgboost\\sklearn.py:1146: UserWarning: The use of label encoder in XGBClassifier is deprecated and will be removed in a future release. To remove this warning, do the following: 1) Pass option use_label_encoder=False when constructing XGBClassifier object; and 2) Encode your labels (y) as integers starting with 0, i.e. 0, 1, 2, ..., [num_class - 1].\n",
      "  warnings.warn(label_encoder_deprecation_msg, UserWarning)\n"
     ]
    },
    {
     "name": "stdout",
     "output_type": "stream",
     "text": [
      "[16:28:19] WARNING: C:/Users/Administrator/workspace/xgboost-win64_release_1.4.0/src/learner.cc:1095: Starting in XGBoost 1.3.0, the default evaluation metric used with the objective 'binary:logistic' was changed from 'error' to 'logloss'. Explicitly set eval_metric if you'd like to restore the old behavior.\n"
     ]
    },
    {
     "name": "stderr",
     "output_type": "stream",
     "text": [
      "C:\\Users\\Windows\\anaconda3\\lib\\site-packages\\xgboost\\sklearn.py:1146: UserWarning: The use of label encoder in XGBClassifier is deprecated and will be removed in a future release. To remove this warning, do the following: 1) Pass option use_label_encoder=False when constructing XGBClassifier object; and 2) Encode your labels (y) as integers starting with 0, i.e. 0, 1, 2, ..., [num_class - 1].\n",
      "  warnings.warn(label_encoder_deprecation_msg, UserWarning)\n"
     ]
    },
    {
     "name": "stdout",
     "output_type": "stream",
     "text": [
      "[16:28:19] WARNING: C:/Users/Administrator/workspace/xgboost-win64_release_1.4.0/src/learner.cc:1095: Starting in XGBoost 1.3.0, the default evaluation metric used with the objective 'binary:logistic' was changed from 'error' to 'logloss'. Explicitly set eval_metric if you'd like to restore the old behavior.\n"
     ]
    },
    {
     "name": "stderr",
     "output_type": "stream",
     "text": [
      "C:\\Users\\Windows\\anaconda3\\lib\\site-packages\\xgboost\\sklearn.py:1146: UserWarning: The use of label encoder in XGBClassifier is deprecated and will be removed in a future release. To remove this warning, do the following: 1) Pass option use_label_encoder=False when constructing XGBClassifier object; and 2) Encode your labels (y) as integers starting with 0, i.e. 0, 1, 2, ..., [num_class - 1].\n",
      "  warnings.warn(label_encoder_deprecation_msg, UserWarning)\n"
     ]
    },
    {
     "name": "stdout",
     "output_type": "stream",
     "text": [
      "[16:28:20] WARNING: C:/Users/Administrator/workspace/xgboost-win64_release_1.4.0/src/learner.cc:1095: Starting in XGBoost 1.3.0, the default evaluation metric used with the objective 'binary:logistic' was changed from 'error' to 'logloss'. Explicitly set eval_metric if you'd like to restore the old behavior.\n",
      "Puntajes obtenidos: [0.89340102 0.80203046 0.80203046 0.87817259 0.87244898 0.87244898\n",
      " 0.85714286 0.83163265 0.83163265 0.84183673]\n",
      "Precisión de validación cruzada: 0.848 +/- 0.030\n"
     ]
    }
   ],
   "source": [
    "scores = cross_val_score(xgb_cl, X=X_train, y=y_train, cv=10, n_jobs=1)\n",
    " \n",
    "print('Puntajes obtenidos: %s' % scores)\n",
    "print('Precisión de validación cruzada: %.3f +/- %.3f' % (np.mean(scores),np.std(scores)))"
   ]
  },
  {
   "cell_type": "markdown",
   "id": "f3db1556",
   "metadata": {},
   "source": [
    "## Summary of results"
   ]
  },
  {
   "cell_type": "code",
   "execution_count": 280,
   "id": "fa2161b2",
   "metadata": {
    "ExecuteTime": {
     "end_time": "2022-04-06T21:28:33.563564Z",
     "start_time": "2022-04-06T21:28:23.583603Z"
    }
   },
   "outputs": [
    {
     "name": "stderr",
     "output_type": "stream",
     "text": [
      "C:\\Users\\Windows\\anaconda3\\lib\\site-packages\\xgboost\\sklearn.py:1146: UserWarning: The use of label encoder in XGBClassifier is deprecated and will be removed in a future release. To remove this warning, do the following: 1) Pass option use_label_encoder=False when constructing XGBClassifier object; and 2) Encode your labels (y) as integers starting with 0, i.e. 0, 1, 2, ..., [num_class - 1].\n",
      "  warnings.warn(label_encoder_deprecation_msg, UserWarning)\n"
     ]
    },
    {
     "name": "stdout",
     "output_type": "stream",
     "text": [
      "[16:28:28] WARNING: C:/Users/Administrator/workspace/xgboost-win64_release_1.4.0/src/learner.cc:1095: Starting in XGBoost 1.3.0, the default evaluation metric used with the objective 'binary:logistic' was changed from 'error' to 'logloss'. Explicitly set eval_metric if you'd like to restore the old behavior.\n"
     ]
    },
    {
     "name": "stderr",
     "output_type": "stream",
     "text": [
      "C:\\Users\\Windows\\anaconda3\\lib\\site-packages\\xgboost\\sklearn.py:1146: UserWarning: The use of label encoder in XGBClassifier is deprecated and will be removed in a future release. To remove this warning, do the following: 1) Pass option use_label_encoder=False when constructing XGBClassifier object; and 2) Encode your labels (y) as integers starting with 0, i.e. 0, 1, 2, ..., [num_class - 1].\n",
      "  warnings.warn(label_encoder_deprecation_msg, UserWarning)\n"
     ]
    },
    {
     "name": "stdout",
     "output_type": "stream",
     "text": [
      "[16:28:29] WARNING: C:/Users/Administrator/workspace/xgboost-win64_release_1.4.0/src/learner.cc:1095: Starting in XGBoost 1.3.0, the default evaluation metric used with the objective 'binary:logistic' was changed from 'error' to 'logloss'. Explicitly set eval_metric if you'd like to restore the old behavior.\n"
     ]
    },
    {
     "name": "stderr",
     "output_type": "stream",
     "text": [
      "C:\\Users\\Windows\\anaconda3\\lib\\site-packages\\xgboost\\sklearn.py:1146: UserWarning: The use of label encoder in XGBClassifier is deprecated and will be removed in a future release. To remove this warning, do the following: 1) Pass option use_label_encoder=False when constructing XGBClassifier object; and 2) Encode your labels (y) as integers starting with 0, i.e. 0, 1, 2, ..., [num_class - 1].\n",
      "  warnings.warn(label_encoder_deprecation_msg, UserWarning)\n"
     ]
    },
    {
     "name": "stdout",
     "output_type": "stream",
     "text": [
      "[16:28:29] WARNING: C:/Users/Administrator/workspace/xgboost-win64_release_1.4.0/src/learner.cc:1095: Starting in XGBoost 1.3.0, the default evaluation metric used with the objective 'binary:logistic' was changed from 'error' to 'logloss'. Explicitly set eval_metric if you'd like to restore the old behavior.\n"
     ]
    },
    {
     "name": "stderr",
     "output_type": "stream",
     "text": [
      "C:\\Users\\Windows\\anaconda3\\lib\\site-packages\\xgboost\\sklearn.py:1146: UserWarning: The use of label encoder in XGBClassifier is deprecated and will be removed in a future release. To remove this warning, do the following: 1) Pass option use_label_encoder=False when constructing XGBClassifier object; and 2) Encode your labels (y) as integers starting with 0, i.e. 0, 1, 2, ..., [num_class - 1].\n",
      "  warnings.warn(label_encoder_deprecation_msg, UserWarning)\n"
     ]
    },
    {
     "name": "stdout",
     "output_type": "stream",
     "text": [
      "[16:28:30] WARNING: C:/Users/Administrator/workspace/xgboost-win64_release_1.4.0/src/learner.cc:1095: Starting in XGBoost 1.3.0, the default evaluation metric used with the objective 'binary:logistic' was changed from 'error' to 'logloss'. Explicitly set eval_metric if you'd like to restore the old behavior.\n"
     ]
    },
    {
     "name": "stderr",
     "output_type": "stream",
     "text": [
      "C:\\Users\\Windows\\anaconda3\\lib\\site-packages\\xgboost\\sklearn.py:1146: UserWarning: The use of label encoder in XGBClassifier is deprecated and will be removed in a future release. To remove this warning, do the following: 1) Pass option use_label_encoder=False when constructing XGBClassifier object; and 2) Encode your labels (y) as integers starting with 0, i.e. 0, 1, 2, ..., [num_class - 1].\n",
      "  warnings.warn(label_encoder_deprecation_msg, UserWarning)\n"
     ]
    },
    {
     "name": "stdout",
     "output_type": "stream",
     "text": [
      "[16:28:30] WARNING: C:/Users/Administrator/workspace/xgboost-win64_release_1.4.0/src/learner.cc:1095: Starting in XGBoost 1.3.0, the default evaluation metric used with the objective 'binary:logistic' was changed from 'error' to 'logloss'. Explicitly set eval_metric if you'd like to restore the old behavior.\n"
     ]
    },
    {
     "name": "stderr",
     "output_type": "stream",
     "text": [
      "C:\\Users\\Windows\\anaconda3\\lib\\site-packages\\xgboost\\sklearn.py:1146: UserWarning: The use of label encoder in XGBClassifier is deprecated and will be removed in a future release. To remove this warning, do the following: 1) Pass option use_label_encoder=False when constructing XGBClassifier object; and 2) Encode your labels (y) as integers starting with 0, i.e. 0, 1, 2, ..., [num_class - 1].\n",
      "  warnings.warn(label_encoder_deprecation_msg, UserWarning)\n"
     ]
    },
    {
     "name": "stdout",
     "output_type": "stream",
     "text": [
      "[16:28:31] WARNING: C:/Users/Administrator/workspace/xgboost-win64_release_1.4.0/src/learner.cc:1095: Starting in XGBoost 1.3.0, the default evaluation metric used with the objective 'binary:logistic' was changed from 'error' to 'logloss'. Explicitly set eval_metric if you'd like to restore the old behavior.\n"
     ]
    },
    {
     "name": "stderr",
     "output_type": "stream",
     "text": [
      "C:\\Users\\Windows\\anaconda3\\lib\\site-packages\\xgboost\\sklearn.py:1146: UserWarning: The use of label encoder in XGBClassifier is deprecated and will be removed in a future release. To remove this warning, do the following: 1) Pass option use_label_encoder=False when constructing XGBClassifier object; and 2) Encode your labels (y) as integers starting with 0, i.e. 0, 1, 2, ..., [num_class - 1].\n",
      "  warnings.warn(label_encoder_deprecation_msg, UserWarning)\n"
     ]
    },
    {
     "name": "stdout",
     "output_type": "stream",
     "text": [
      "[16:28:32] WARNING: C:/Users/Administrator/workspace/xgboost-win64_release_1.4.0/src/learner.cc:1095: Starting in XGBoost 1.3.0, the default evaluation metric used with the objective 'binary:logistic' was changed from 'error' to 'logloss'. Explicitly set eval_metric if you'd like to restore the old behavior.\n"
     ]
    },
    {
     "name": "stderr",
     "output_type": "stream",
     "text": [
      "C:\\Users\\Windows\\anaconda3\\lib\\site-packages\\xgboost\\sklearn.py:1146: UserWarning: The use of label encoder in XGBClassifier is deprecated and will be removed in a future release. To remove this warning, do the following: 1) Pass option use_label_encoder=False when constructing XGBClassifier object; and 2) Encode your labels (y) as integers starting with 0, i.e. 0, 1, 2, ..., [num_class - 1].\n",
      "  warnings.warn(label_encoder_deprecation_msg, UserWarning)\n"
     ]
    },
    {
     "name": "stdout",
     "output_type": "stream",
     "text": [
      "[16:28:32] WARNING: C:/Users/Administrator/workspace/xgboost-win64_release_1.4.0/src/learner.cc:1095: Starting in XGBoost 1.3.0, the default evaluation metric used with the objective 'binary:logistic' was changed from 'error' to 'logloss'. Explicitly set eval_metric if you'd like to restore the old behavior.\n"
     ]
    },
    {
     "name": "stderr",
     "output_type": "stream",
     "text": [
      "C:\\Users\\Windows\\anaconda3\\lib\\site-packages\\xgboost\\sklearn.py:1146: UserWarning: The use of label encoder in XGBClassifier is deprecated and will be removed in a future release. To remove this warning, do the following: 1) Pass option use_label_encoder=False when constructing XGBClassifier object; and 2) Encode your labels (y) as integers starting with 0, i.e. 0, 1, 2, ..., [num_class - 1].\n",
      "  warnings.warn(label_encoder_deprecation_msg, UserWarning)\n"
     ]
    },
    {
     "name": "stdout",
     "output_type": "stream",
     "text": [
      "[16:28:32] WARNING: C:/Users/Administrator/workspace/xgboost-win64_release_1.4.0/src/learner.cc:1095: Starting in XGBoost 1.3.0, the default evaluation metric used with the objective 'binary:logistic' was changed from 'error' to 'logloss'. Explicitly set eval_metric if you'd like to restore the old behavior.\n"
     ]
    },
    {
     "name": "stderr",
     "output_type": "stream",
     "text": [
      "C:\\Users\\Windows\\anaconda3\\lib\\site-packages\\xgboost\\sklearn.py:1146: UserWarning: The use of label encoder in XGBClassifier is deprecated and will be removed in a future release. To remove this warning, do the following: 1) Pass option use_label_encoder=False when constructing XGBClassifier object; and 2) Encode your labels (y) as integers starting with 0, i.e. 0, 1, 2, ..., [num_class - 1].\n",
      "  warnings.warn(label_encoder_deprecation_msg, UserWarning)\n"
     ]
    },
    {
     "name": "stdout",
     "output_type": "stream",
     "text": [
      "[16:28:33] WARNING: C:/Users/Administrator/workspace/xgboost-win64_release_1.4.0/src/learner.cc:1095: Starting in XGBoost 1.3.0, the default evaluation metric used with the objective 'binary:logistic' was changed from 'error' to 'logloss'. Explicitly set eval_metric if you'd like to restore the old behavior.\n"
     ]
    }
   ],
   "source": [
    "scores_bln = cross_val_score(dummy_clf, X=X_train, y=y_train, cv=10, n_jobs=1)\n",
    "scores_knn = cross_val_score(dummy_KNN, X=X_train, y=y_train, cv=10, n_jobs=1)\n",
    "scores_log = cross_val_score(reg_log, X=X_train, y=y_train, cv=10, n_jobs=1)\n",
    "scores_rf = cross_val_score(rf, X=X_train, y=y_train, cv=10, n_jobs=1)\n",
    "scores_nb = cross_val_score(nb, X=X_train, y=y_train, cv=10, n_jobs=1)\n",
    "scores_xgb = cross_val_score(xgb_cl, X=X_train, y=y_train, cv=10, n_jobs=1)\n"
   ]
  },
  {
   "cell_type": "code",
   "execution_count": 281,
   "id": "e04b2204",
   "metadata": {
    "ExecuteTime": {
     "end_time": "2022-04-06T21:28:34.937718Z",
     "start_time": "2022-04-06T21:28:34.910717Z"
    }
   },
   "outputs": [],
   "source": [
    "res_baseline = pd.DataFrame( {'Model Name': 'Baseline', \n",
    "                'Accuracy':  '%.3f +/- %.3f' % (np.mean(scores_bln),np.std(scores_bln))},index=[0] ) \n",
    "res_KNN = pd.DataFrame( {'Model Name': 'KNN', \n",
    "                'Accuracy':  '%.3f +/- %.3f' % (np.mean(scores_knn),np.std(scores_knn))},index=[0] ) \n",
    "res_lr = pd.DataFrame( {'Model Name': 'Logistic Regression',\n",
    "                'Accuracy':  '%.3f +/- %.3f' % (np.mean(scores_log),np.std(scores_log))},index=[0] ) \n",
    "res_rf = pd.DataFrame( {'Model Name': 'Random Forest',\n",
    "                'Accuracy':  '%.3f +/- %.3f' % (np.mean(scores_rf),np.std(scores_rf))},index=[0] ) \n",
    "res_nb = pd.DataFrame( {'Model Name': 'Naive Bayes', \n",
    "                'Accuracy':  '%.3f +/- %.3f' % (np.mean(scores_nb),np.std(scores_nb))},index=[0] ) \n",
    "res_xgb = pd.DataFrame( {'Model Name': 'XGBoost', \n",
    "                'Accuracy':  '%.3f +/- %.3f' % (np.mean(scores_xgb),np.std(scores_xgb))},index=[0] )\n",
    "Accuracy = pd.concat([res_baseline,res_KNN,res_lr,res_rf,res_nb,res_xgb])"
   ]
  },
  {
   "cell_type": "code",
   "execution_count": 282,
   "id": "cc8770cf",
   "metadata": {
    "ExecuteTime": {
     "end_time": "2022-04-06T21:28:36.249497Z",
     "start_time": "2022-04-06T21:28:36.221342Z"
    }
   },
   "outputs": [
    {
     "data": {
      "text/html": [
       "<div>\n",
       "<style scoped>\n",
       "    .dataframe tbody tr th:only-of-type {\n",
       "        vertical-align: middle;\n",
       "    }\n",
       "\n",
       "    .dataframe tbody tr th {\n",
       "        vertical-align: top;\n",
       "    }\n",
       "\n",
       "    .dataframe thead th {\n",
       "        text-align: right;\n",
       "    }\n",
       "</style>\n",
       "<table border=\"1\" class=\"dataframe\">\n",
       "  <thead>\n",
       "    <tr style=\"text-align: right;\">\n",
       "      <th></th>\n",
       "      <th>Model Name</th>\n",
       "      <th>Accuracy</th>\n",
       "    </tr>\n",
       "  </thead>\n",
       "  <tbody>\n",
       "    <tr>\n",
       "      <th>0</th>\n",
       "      <td>XGBoost</td>\n",
       "      <td>0.848 +/- 0.030</td>\n",
       "    </tr>\n",
       "    <tr>\n",
       "      <th>0</th>\n",
       "      <td>KNN</td>\n",
       "      <td>0.778 +/- 0.016</td>\n",
       "    </tr>\n",
       "    <tr>\n",
       "      <th>0</th>\n",
       "      <td>Random Forest</td>\n",
       "      <td>0.713 +/- 0.025</td>\n",
       "    </tr>\n",
       "    <tr>\n",
       "      <th>0</th>\n",
       "      <td>Logistic Regression</td>\n",
       "      <td>0.654 +/- 0.029</td>\n",
       "    </tr>\n",
       "    <tr>\n",
       "      <th>0</th>\n",
       "      <td>Naive Bayes</td>\n",
       "      <td>0.647 +/- 0.033</td>\n",
       "    </tr>\n",
       "    <tr>\n",
       "      <th>0</th>\n",
       "      <td>Baseline</td>\n",
       "      <td>0.508 +/- 0.002</td>\n",
       "    </tr>\n",
       "  </tbody>\n",
       "</table>\n",
       "</div>"
      ],
      "text/plain": [
       "            Model Name         Accuracy\n",
       "0              XGBoost  0.848 +/- 0.030\n",
       "0                  KNN  0.778 +/- 0.016\n",
       "0        Random Forest  0.713 +/- 0.025\n",
       "0  Logistic Regression  0.654 +/- 0.029\n",
       "0          Naive Bayes  0.647 +/- 0.033\n",
       "0             Baseline  0.508 +/- 0.002"
      ]
     },
     "execution_count": 282,
     "metadata": {},
     "output_type": "execute_result"
    }
   ],
   "source": [
    "Accuracy.sort_values('Accuracy', ascending = False)"
   ]
  },
  {
   "cell_type": "markdown",
   "id": "6fbeaa6b",
   "metadata": {},
   "source": [
    "Thus, the model XGboost is going to be selected for forecasting. But first, let see if a better version if achivable by means of an hyperparameter tuning process"
   ]
  },
  {
   "cell_type": "markdown",
   "id": "c16b3b3e",
   "metadata": {
    "ExecuteTime": {
     "end_time": "2022-04-04T02:00:44.194912Z",
     "start_time": "2022-04-04T02:00:44.189914Z"
    }
   },
   "source": [
    "## Model Hyperparameter Tuning"
   ]
  },
  {
   "cell_type": "code",
   "execution_count": 283,
   "id": "de382318",
   "metadata": {
    "ExecuteTime": {
     "end_time": "2022-04-06T21:28:38.058507Z",
     "start_time": "2022-04-06T21:28:38.029457Z"
    }
   },
   "outputs": [],
   "source": [
    "dtrain = xgb.DMatrix(X_test, label=y_test)\n",
    "\n",
    "def bo_tune_xgb(max_depth, gamma, n_estimators ,learning_rate):\n",
    "    params = {'max_depth': int(max_depth),\n",
    "                'gamma': gamma,\n",
    "              'n_estimators': int(n_estimators),\n",
    "              'learning_rate':learning_rate,\n",
    "              'subsample': 0.8,\n",
    "              'eta': 0.1,\n",
    "              'eval_metric': 'rmse'}\n",
    "    #Cross validating with the specified parameters in 5 folds and 70 iterations\n",
    "    cv_result = xgb.cv(params, dtrain, num_boost_round=70, nfold=5)\n",
    "    #Return the negative RMSE\n",
    "    return -1.0 * cv_result['test-rmse-mean'].iloc[-1]\n"
   ]
  },
  {
   "cell_type": "code",
   "execution_count": 284,
   "id": "f16ed5cb",
   "metadata": {
    "ExecuteTime": {
     "end_time": "2022-04-06T21:28:39.498867Z",
     "start_time": "2022-04-06T21:28:39.484173Z"
    }
   },
   "outputs": [],
   "source": [
    "#Invoking the Bayesian Optimizer with the specified parameters to tune\n",
    "xgb_bo = BayesianOptimization(bo_tune_xgb, {'max_depth': (3, 10),\n",
    "                                            'gamma': (0, 1),\n",
    "                                            'learning_rate':(0,1),\n",
    "                                             'n_estimators':(100,120)})"
   ]
  },
  {
   "cell_type": "code",
   "execution_count": 285,
   "id": "7b737ec8",
   "metadata": {
    "ExecuteTime": {
     "end_time": "2022-04-06T21:29:01.832853Z",
     "start_time": "2022-04-06T21:28:40.791265Z"
    },
    "scrolled": true
   },
   "outputs": [
    {
     "name": "stdout",
     "output_type": "stream",
     "text": [
      "|   iter    |  target   |   gamma   | learni... | max_depth | n_esti... |\n",
      "-------------------------------------------------------------------------\n",
      "[16:28:40] WARNING: C:/Users/Administrator/workspace/xgboost-win64_release_1.4.0/src/learner.cc:573: \n",
      "Parameters: { \"n_estimators\" } might not be used.\n",
      "\n",
      "  This may not be accurate due to some parameters are only used in language bindings but\n",
      "  passed down to XGBoost core.  Or some parameters are not used but slip through this\n",
      "  verification. Please open an issue if you find above cases.\n",
      "\n",
      "\n",
      "[16:28:40] WARNING: C:/Users/Administrator/workspace/xgboost-win64_release_1.4.0/src/learner.cc:573: \n",
      "Parameters: { \"n_estimators\" } might not be used.\n",
      "\n",
      "  This may not be accurate due to some parameters are only used in language bindings but\n",
      "  passed down to XGBoost core.  Or some parameters are not used but slip through this\n",
      "  verification. Please open an issue if you find above cases.\n",
      "\n",
      "\n",
      "[16:28:40] WARNING: C:/Users/Administrator/workspace/xgboost-win64_release_1.4.0/src/learner.cc:573: \n",
      "Parameters: { \"n_estimators\" } might not be used.\n",
      "\n",
      "  This may not be accurate due to some parameters are only used in language bindings but\n",
      "  passed down to XGBoost core.  Or some parameters are not used but slip through this\n",
      "  verification. Please open an issue if you find above cases.\n",
      "\n",
      "\n",
      "[16:28:40] WARNING: C:/Users/Administrator/workspace/xgboost-win64_release_1.4.0/src/learner.cc:573: \n",
      "Parameters: { \"n_estimators\" } might not be used.\n",
      "\n",
      "  This may not be accurate due to some parameters are only used in language bindings but\n",
      "  passed down to XGBoost core.  Or some parameters are not used but slip through this\n",
      "  verification. Please open an issue if you find above cases.\n",
      "\n",
      "\n",
      "[16:28:40] WARNING: C:/Users/Administrator/workspace/xgboost-win64_release_1.4.0/src/learner.cc:573: \n",
      "Parameters: { \"n_estimators\" } might not be used.\n",
      "\n",
      "  This may not be accurate due to some parameters are only used in language bindings but\n",
      "  passed down to XGBoost core.  Or some parameters are not used but slip through this\n",
      "  verification. Please open an issue if you find above cases.\n",
      "\n",
      "\n",
      "| \u001b[0m 1       \u001b[0m | \u001b[0m-0.351   \u001b[0m | \u001b[0m 0.7927  \u001b[0m | \u001b[0m 0.2416  \u001b[0m | \u001b[0m 9.259   \u001b[0m | \u001b[0m 113.0   \u001b[0m |\n",
      "[16:28:41] WARNING: C:/Users/Administrator/workspace/xgboost-win64_release_1.4.0/src/learner.cc:573: \n",
      "Parameters: { \"n_estimators\" } might not be used.\n",
      "\n",
      "  This may not be accurate due to some parameters are only used in language bindings but\n",
      "  passed down to XGBoost core.  Or some parameters are not used but slip through this\n",
      "  verification. Please open an issue if you find above cases.\n",
      "\n",
      "\n",
      "[16:28:41] WARNING: C:/Users/Administrator/workspace/xgboost-win64_release_1.4.0/src/learner.cc:573: \n",
      "Parameters: { \"n_estimators\" } might not be used.\n",
      "\n",
      "  This may not be accurate due to some parameters are only used in language bindings but\n",
      "  passed down to XGBoost core.  Or some parameters are not used but slip through this\n",
      "  verification. Please open an issue if you find above cases.\n",
      "\n",
      "\n",
      "[16:28:41] WARNING: C:/Users/Administrator/workspace/xgboost-win64_release_1.4.0/src/learner.cc:573: \n",
      "Parameters: { \"n_estimators\" } might not be used.\n",
      "\n",
      "  This may not be accurate due to some parameters are only used in language bindings but\n",
      "  passed down to XGBoost core.  Or some parameters are not used but slip through this\n",
      "  verification. Please open an issue if you find above cases.\n",
      "\n",
      "\n",
      "[16:28:41] WARNING: C:/Users/Administrator/workspace/xgboost-win64_release_1.4.0/src/learner.cc:573: \n",
      "Parameters: { \"n_estimators\" } might not be used.\n",
      "\n",
      "  This may not be accurate due to some parameters are only used in language bindings but\n",
      "  passed down to XGBoost core.  Or some parameters are not used but slip through this\n",
      "  verification. Please open an issue if you find above cases.\n",
      "\n",
      "\n",
      "[16:28:41] WARNING: C:/Users/Administrator/workspace/xgboost-win64_release_1.4.0/src/learner.cc:573: \n",
      "Parameters: { \"n_estimators\" } might not be used.\n",
      "\n",
      "  This may not be accurate due to some parameters are only used in language bindings but\n",
      "  passed down to XGBoost core.  Or some parameters are not used but slip through this\n",
      "  verification. Please open an issue if you find above cases.\n",
      "\n",
      "\n",
      "| \u001b[0m 2       \u001b[0m | \u001b[0m-0.3743  \u001b[0m | \u001b[0m 0.3369  \u001b[0m | \u001b[0m 0.7017  \u001b[0m | \u001b[0m 7.014   \u001b[0m | \u001b[0m 109.6   \u001b[0m |\n",
      "[16:28:42] WARNING: C:/Users/Administrator/workspace/xgboost-win64_release_1.4.0/src/learner.cc:573: \n",
      "Parameters: { \"n_estimators\" } might not be used.\n",
      "\n",
      "  This may not be accurate due to some parameters are only used in language bindings but\n",
      "  passed down to XGBoost core.  Or some parameters are not used but slip through this\n",
      "  verification. Please open an issue if you find above cases.\n",
      "\n",
      "\n",
      "[16:28:42] WARNING: C:/Users/Administrator/workspace/xgboost-win64_release_1.4.0/src/learner.cc:573: \n",
      "Parameters: { \"n_estimators\" } might not be used.\n",
      "\n",
      "  This may not be accurate due to some parameters are only used in language bindings but\n",
      "  passed down to XGBoost core.  Or some parameters are not used but slip through this\n",
      "  verification. Please open an issue if you find above cases.\n",
      "\n",
      "\n",
      "[16:28:42] WARNING: C:/Users/Administrator/workspace/xgboost-win64_release_1.4.0/src/learner.cc:573: \n",
      "Parameters: { \"n_estimators\" } might not be used.\n",
      "\n",
      "  This may not be accurate due to some parameters are only used in language bindings but\n",
      "  passed down to XGBoost core.  Or some parameters are not used but slip through this\n",
      "  verification. Please open an issue if you find above cases.\n",
      "\n",
      "\n",
      "[16:28:42] WARNING: C:/Users/Administrator/workspace/xgboost-win64_release_1.4.0/src/learner.cc:573: \n",
      "Parameters: { \"n_estimators\" } might not be used.\n",
      "\n",
      "  This may not be accurate due to some parameters are only used in language bindings but\n",
      "  passed down to XGBoost core.  Or some parameters are not used but slip through this\n",
      "  verification. Please open an issue if you find above cases.\n",
      "\n",
      "\n",
      "[16:28:42] WARNING: C:/Users/Administrator/workspace/xgboost-win64_release_1.4.0/src/learner.cc:573: \n",
      "Parameters: { \"n_estimators\" } might not be used.\n",
      "\n",
      "  This may not be accurate due to some parameters are only used in language bindings but\n",
      "  passed down to XGBoost core.  Or some parameters are not used but slip through this\n",
      "  verification. Please open an issue if you find above cases.\n",
      "\n",
      "\n",
      "| \u001b[0m 3       \u001b[0m | \u001b[0m-0.3765  \u001b[0m | \u001b[0m 0.4319  \u001b[0m | \u001b[0m 0.6645  \u001b[0m | \u001b[0m 5.974   \u001b[0m | \u001b[0m 106.6   \u001b[0m |\n",
      "[16:28:43] WARNING: C:/Users/Administrator/workspace/xgboost-win64_release_1.4.0/src/learner.cc:573: \n",
      "Parameters: { \"n_estimators\" } might not be used.\n",
      "\n",
      "  This may not be accurate due to some parameters are only used in language bindings but\n",
      "  passed down to XGBoost core.  Or some parameters are not used but slip through this\n",
      "  verification. Please open an issue if you find above cases.\n",
      "\n",
      "\n",
      "[16:28:43] WARNING: C:/Users/Administrator/workspace/xgboost-win64_release_1.4.0/src/learner.cc:573: \n",
      "Parameters: { \"n_estimators\" } might not be used.\n",
      "\n",
      "  This may not be accurate due to some parameters are only used in language bindings but\n",
      "  passed down to XGBoost core.  Or some parameters are not used but slip through this\n",
      "  verification. Please open an issue if you find above cases.\n",
      "\n",
      "\n",
      "[16:28:43] WARNING: C:/Users/Administrator/workspace/xgboost-win64_release_1.4.0/src/learner.cc:573: \n",
      "Parameters: { \"n_estimators\" } might not be used.\n",
      "\n",
      "  This may not be accurate due to some parameters are only used in language bindings but\n",
      "  passed down to XGBoost core.  Or some parameters are not used but slip through this\n",
      "  verification. Please open an issue if you find above cases.\n",
      "\n",
      "\n",
      "[16:28:43] WARNING: C:/Users/Administrator/workspace/xgboost-win64_release_1.4.0/src/learner.cc:573: \n",
      "Parameters: { \"n_estimators\" } might not be used.\n",
      "\n",
      "  This may not be accurate due to some parameters are only used in language bindings but\n",
      "  passed down to XGBoost core.  Or some parameters are not used but slip through this\n",
      "  verification. Please open an issue if you find above cases.\n",
      "\n",
      "\n",
      "[16:28:43] WARNING: C:/Users/Administrator/workspace/xgboost-win64_release_1.4.0/src/learner.cc:573: \n",
      "Parameters: { \"n_estimators\" } might not be used.\n",
      "\n",
      "  This may not be accurate due to some parameters are only used in language bindings but\n",
      "  passed down to XGBoost core.  Or some parameters are not used but slip through this\n",
      "  verification. Please open an issue if you find above cases.\n",
      "\n",
      "\n"
     ]
    },
    {
     "name": "stdout",
     "output_type": "stream",
     "text": [
      "| \u001b[0m 4       \u001b[0m | \u001b[0m-0.3571  \u001b[0m | \u001b[0m 0.9938  \u001b[0m | \u001b[0m 0.2926  \u001b[0m | \u001b[0m 8.781   \u001b[0m | \u001b[0m 115.7   \u001b[0m |\n",
      "[16:28:44] WARNING: C:/Users/Administrator/workspace/xgboost-win64_release_1.4.0/src/learner.cc:573: \n",
      "Parameters: { \"n_estimators\" } might not be used.\n",
      "\n",
      "  This may not be accurate due to some parameters are only used in language bindings but\n",
      "  passed down to XGBoost core.  Or some parameters are not used but slip through this\n",
      "  verification. Please open an issue if you find above cases.\n",
      "\n",
      "\n",
      "[16:28:44] WARNING: C:/Users/Administrator/workspace/xgboost-win64_release_1.4.0/src/learner.cc:573: \n",
      "Parameters: { \"n_estimators\" } might not be used.\n",
      "\n",
      "  This may not be accurate due to some parameters are only used in language bindings but\n",
      "  passed down to XGBoost core.  Or some parameters are not used but slip through this\n",
      "  verification. Please open an issue if you find above cases.\n",
      "\n",
      "\n",
      "[16:28:44] WARNING: C:/Users/Administrator/workspace/xgboost-win64_release_1.4.0/src/learner.cc:573: \n",
      "Parameters: { \"n_estimators\" } might not be used.\n",
      "\n",
      "  This may not be accurate due to some parameters are only used in language bindings but\n",
      "  passed down to XGBoost core.  Or some parameters are not used but slip through this\n",
      "  verification. Please open an issue if you find above cases.\n",
      "\n",
      "\n",
      "[16:28:44] WARNING: C:/Users/Administrator/workspace/xgboost-win64_release_1.4.0/src/learner.cc:573: \n",
      "Parameters: { \"n_estimators\" } might not be used.\n",
      "\n",
      "  This may not be accurate due to some parameters are only used in language bindings but\n",
      "  passed down to XGBoost core.  Or some parameters are not used but slip through this\n",
      "  verification. Please open an issue if you find above cases.\n",
      "\n",
      "\n",
      "[16:28:44] WARNING: C:/Users/Administrator/workspace/xgboost-win64_release_1.4.0/src/learner.cc:573: \n",
      "Parameters: { \"n_estimators\" } might not be used.\n",
      "\n",
      "  This may not be accurate due to some parameters are only used in language bindings but\n",
      "  passed down to XGBoost core.  Or some parameters are not used but slip through this\n",
      "  verification. Please open an issue if you find above cases.\n",
      "\n",
      "\n",
      "| \u001b[95m 5       \u001b[0m | \u001b[95m-0.3478  \u001b[0m | \u001b[95m 0.5641  \u001b[0m | \u001b[95m 0.1853  \u001b[0m | \u001b[95m 9.074   \u001b[0m | \u001b[95m 116.6   \u001b[0m |\n",
      "[16:28:46] WARNING: C:/Users/Administrator/workspace/xgboost-win64_release_1.4.0/src/learner.cc:573: \n",
      "Parameters: { \"n_estimators\" } might not be used.\n",
      "\n",
      "  This may not be accurate due to some parameters are only used in language bindings but\n",
      "  passed down to XGBoost core.  Or some parameters are not used but slip through this\n",
      "  verification. Please open an issue if you find above cases.\n",
      "\n",
      "\n",
      "[16:28:46] WARNING: C:/Users/Administrator/workspace/xgboost-win64_release_1.4.0/src/learner.cc:573: \n",
      "Parameters: { \"n_estimators\" } might not be used.\n",
      "\n",
      "  This may not be accurate due to some parameters are only used in language bindings but\n",
      "  passed down to XGBoost core.  Or some parameters are not used but slip through this\n",
      "  verification. Please open an issue if you find above cases.\n",
      "\n",
      "\n",
      "[16:28:46] WARNING: C:/Users/Administrator/workspace/xgboost-win64_release_1.4.0/src/learner.cc:573: \n",
      "Parameters: { \"n_estimators\" } might not be used.\n",
      "\n",
      "  This may not be accurate due to some parameters are only used in language bindings but\n",
      "  passed down to XGBoost core.  Or some parameters are not used but slip through this\n",
      "  verification. Please open an issue if you find above cases.\n",
      "\n",
      "\n",
      "[16:28:46] WARNING: C:/Users/Administrator/workspace/xgboost-win64_release_1.4.0/src/learner.cc:573: \n",
      "Parameters: { \"n_estimators\" } might not be used.\n",
      "\n",
      "  This may not be accurate due to some parameters are only used in language bindings but\n",
      "  passed down to XGBoost core.  Or some parameters are not used but slip through this\n",
      "  verification. Please open an issue if you find above cases.\n",
      "\n",
      "\n",
      "[16:28:46] WARNING: C:/Users/Administrator/workspace/xgboost-win64_release_1.4.0/src/learner.cc:573: \n",
      "Parameters: { \"n_estimators\" } might not be used.\n",
      "\n",
      "  This may not be accurate due to some parameters are only used in language bindings but\n",
      "  passed down to XGBoost core.  Or some parameters are not used but slip through this\n",
      "  verification. Please open an issue if you find above cases.\n",
      "\n",
      "\n",
      "| \u001b[0m 6       \u001b[0m | \u001b[0m-0.4133  \u001b[0m | \u001b[0m 0.3797  \u001b[0m | \u001b[0m 0.00652 \u001b[0m | \u001b[0m 8.674   \u001b[0m | \u001b[0m 101.8   \u001b[0m |\n",
      "[16:28:47] WARNING: C:/Users/Administrator/workspace/xgboost-win64_release_1.4.0/src/learner.cc:573: \n",
      "Parameters: { \"n_estimators\" } might not be used.\n",
      "\n",
      "  This may not be accurate due to some parameters are only used in language bindings but\n",
      "  passed down to XGBoost core.  Or some parameters are not used but slip through this\n",
      "  verification. Please open an issue if you find above cases.\n",
      "\n",
      "\n",
      "[16:28:47] WARNING: C:/Users/Administrator/workspace/xgboost-win64_release_1.4.0/src/learner.cc:573: \n",
      "Parameters: { \"n_estimators\" } might not be used.\n",
      "\n",
      "  This may not be accurate due to some parameters are only used in language bindings but\n",
      "  passed down to XGBoost core.  Or some parameters are not used but slip through this\n",
      "  verification. Please open an issue if you find above cases.\n",
      "\n",
      "\n",
      "[16:28:47] WARNING: C:/Users/Administrator/workspace/xgboost-win64_release_1.4.0/src/learner.cc:573: \n",
      "Parameters: { \"n_estimators\" } might not be used.\n",
      "\n",
      "  This may not be accurate due to some parameters are only used in language bindings but\n",
      "  passed down to XGBoost core.  Or some parameters are not used but slip through this\n",
      "  verification. Please open an issue if you find above cases.\n",
      "\n",
      "\n",
      "[16:28:47] WARNING: C:/Users/Administrator/workspace/xgboost-win64_release_1.4.0/src/learner.cc:573: \n",
      "Parameters: { \"n_estimators\" } might not be used.\n",
      "\n",
      "  This may not be accurate due to some parameters are only used in language bindings but\n",
      "  passed down to XGBoost core.  Or some parameters are not used but slip through this\n",
      "  verification. Please open an issue if you find above cases.\n",
      "\n",
      "\n",
      "[16:28:47] WARNING: C:/Users/Administrator/workspace/xgboost-win64_release_1.4.0/src/learner.cc:573: \n",
      "Parameters: { \"n_estimators\" } might not be used.\n",
      "\n",
      "  This may not be accurate due to some parameters are only used in language bindings but\n",
      "  passed down to XGBoost core.  Or some parameters are not used but slip through this\n",
      "  verification. Please open an issue if you find above cases.\n",
      "\n",
      "\n",
      "| \u001b[0m 7       \u001b[0m | \u001b[0m-0.3841  \u001b[0m | \u001b[0m 0.554   \u001b[0m | \u001b[0m 0.7421  \u001b[0m | \u001b[0m 8.148   \u001b[0m | \u001b[0m 107.6   \u001b[0m |\n",
      "[16:28:48] WARNING: C:/Users/Administrator/workspace/xgboost-win64_release_1.4.0/src/learner.cc:573: \n",
      "Parameters: { \"n_estimators\" } might not be used.\n",
      "\n",
      "  This may not be accurate due to some parameters are only used in language bindings but\n",
      "  passed down to XGBoost core.  Or some parameters are not used but slip through this\n",
      "  verification. Please open an issue if you find above cases.\n",
      "\n",
      "\n",
      "[16:28:48] WARNING: C:/Users/Administrator/workspace/xgboost-win64_release_1.4.0/src/learner.cc:573: \n",
      "Parameters: { \"n_estimators\" } might not be used.\n",
      "\n",
      "  This may not be accurate due to some parameters are only used in language bindings but\n",
      "  passed down to XGBoost core.  Or some parameters are not used but slip through this\n",
      "  verification. Please open an issue if you find above cases.\n",
      "\n",
      "\n",
      "[16:28:48] WARNING: C:/Users/Administrator/workspace/xgboost-win64_release_1.4.0/src/learner.cc:573: \n",
      "Parameters: { \"n_estimators\" } might not be used.\n",
      "\n",
      "  This may not be accurate due to some parameters are only used in language bindings but\n",
      "  passed down to XGBoost core.  Or some parameters are not used but slip through this\n",
      "  verification. Please open an issue if you find above cases.\n",
      "\n",
      "\n",
      "[16:28:48] WARNING: C:/Users/Administrator/workspace/xgboost-win64_release_1.4.0/src/learner.cc:573: \n",
      "Parameters: { \"n_estimators\" } might not be used.\n",
      "\n",
      "  This may not be accurate due to some parameters are only used in language bindings but\n",
      "  passed down to XGBoost core.  Or some parameters are not used but slip through this\n",
      "  verification. Please open an issue if you find above cases.\n",
      "\n",
      "\n",
      "[16:28:48] WARNING: C:/Users/Administrator/workspace/xgboost-win64_release_1.4.0/src/learner.cc:573: \n",
      "Parameters: { \"n_estimators\" } might not be used.\n",
      "\n",
      "  This may not be accurate due to some parameters are only used in language bindings but\n",
      "  passed down to XGBoost core.  Or some parameters are not used but slip through this\n",
      "  verification. Please open an issue if you find above cases.\n",
      "\n",
      "\n"
     ]
    },
    {
     "name": "stdout",
     "output_type": "stream",
     "text": [
      "| \u001b[0m 8       \u001b[0m | \u001b[0m-0.3697  \u001b[0m | \u001b[0m 0.1455  \u001b[0m | \u001b[0m 0.02451 \u001b[0m | \u001b[0m 4.455   \u001b[0m | \u001b[0m 115.4   \u001b[0m |\n",
      "[16:28:50] WARNING: C:/Users/Administrator/workspace/xgboost-win64_release_1.4.0/src/learner.cc:573: \n",
      "Parameters: { \"n_estimators\" } might not be used.\n",
      "\n",
      "  This may not be accurate due to some parameters are only used in language bindings but\n",
      "  passed down to XGBoost core.  Or some parameters are not used but slip through this\n",
      "  verification. Please open an issue if you find above cases.\n",
      "\n",
      "\n",
      "[16:28:50] WARNING: C:/Users/Administrator/workspace/xgboost-win64_release_1.4.0/src/learner.cc:573: \n",
      "Parameters: { \"n_estimators\" } might not be used.\n",
      "\n",
      "  This may not be accurate due to some parameters are only used in language bindings but\n",
      "  passed down to XGBoost core.  Or some parameters are not used but slip through this\n",
      "  verification. Please open an issue if you find above cases.\n",
      "\n",
      "\n",
      "[16:28:50] WARNING: C:/Users/Administrator/workspace/xgboost-win64_release_1.4.0/src/learner.cc:573: \n",
      "Parameters: { \"n_estimators\" } might not be used.\n",
      "\n",
      "  This may not be accurate due to some parameters are only used in language bindings but\n",
      "  passed down to XGBoost core.  Or some parameters are not used but slip through this\n",
      "  verification. Please open an issue if you find above cases.\n",
      "\n",
      "\n",
      "[16:28:50] WARNING: C:/Users/Administrator/workspace/xgboost-win64_release_1.4.0/src/learner.cc:573: \n",
      "Parameters: { \"n_estimators\" } might not be used.\n",
      "\n",
      "  This may not be accurate due to some parameters are only used in language bindings but\n",
      "  passed down to XGBoost core.  Or some parameters are not used but slip through this\n",
      "  verification. Please open an issue if you find above cases.\n",
      "\n",
      "\n",
      "[16:28:50] WARNING: C:/Users/Administrator/workspace/xgboost-win64_release_1.4.0/src/learner.cc:573: \n",
      "Parameters: { \"n_estimators\" } might not be used.\n",
      "\n",
      "  This may not be accurate due to some parameters are only used in language bindings but\n",
      "  passed down to XGBoost core.  Or some parameters are not used but slip through this\n",
      "  verification. Please open an issue if you find above cases.\n",
      "\n",
      "\n",
      "| \u001b[0m 9       \u001b[0m | \u001b[0m-0.5     \u001b[0m | \u001b[0m 0.0     \u001b[0m | \u001b[0m 0.0     \u001b[0m | \u001b[0m 10.0    \u001b[0m | \u001b[0m 117.6   \u001b[0m |\n",
      "[16:28:51] WARNING: C:/Users/Administrator/workspace/xgboost-win64_release_1.4.0/src/learner.cc:573: \n",
      "Parameters: { \"n_estimators\" } might not be used.\n",
      "\n",
      "  This may not be accurate due to some parameters are only used in language bindings but\n",
      "  passed down to XGBoost core.  Or some parameters are not used but slip through this\n",
      "  verification. Please open an issue if you find above cases.\n",
      "\n",
      "\n",
      "[16:28:51] WARNING: C:/Users/Administrator/workspace/xgboost-win64_release_1.4.0/src/learner.cc:573: \n",
      "Parameters: { \"n_estimators\" } might not be used.\n",
      "\n",
      "  This may not be accurate due to some parameters are only used in language bindings but\n",
      "  passed down to XGBoost core.  Or some parameters are not used but slip through this\n",
      "  verification. Please open an issue if you find above cases.\n",
      "\n",
      "\n",
      "[16:28:51] WARNING: C:/Users/Administrator/workspace/xgboost-win64_release_1.4.0/src/learner.cc:573: \n",
      "Parameters: { \"n_estimators\" } might not be used.\n",
      "\n",
      "  This may not be accurate due to some parameters are only used in language bindings but\n",
      "  passed down to XGBoost core.  Or some parameters are not used but slip through this\n",
      "  verification. Please open an issue if you find above cases.\n",
      "\n",
      "\n",
      "[16:28:51] WARNING: C:/Users/Administrator/workspace/xgboost-win64_release_1.4.0/src/learner.cc:573: \n",
      "Parameters: { \"n_estimators\" } might not be used.\n",
      "\n",
      "  This may not be accurate due to some parameters are only used in language bindings but\n",
      "  passed down to XGBoost core.  Or some parameters are not used but slip through this\n",
      "  verification. Please open an issue if you find above cases.\n",
      "\n",
      "\n",
      "[16:28:51] WARNING: C:/Users/Administrator/workspace/xgboost-win64_release_1.4.0/src/learner.cc:573: \n",
      "Parameters: { \"n_estimators\" } might not be used.\n",
      "\n",
      "  This may not be accurate due to some parameters are only used in language bindings but\n",
      "  passed down to XGBoost core.  Or some parameters are not used but slip through this\n",
      "  verification. Please open an issue if you find above cases.\n",
      "\n",
      "\n",
      "| \u001b[0m 10      \u001b[0m | \u001b[0m-0.3558  \u001b[0m | \u001b[0m 0.7613  \u001b[0m | \u001b[0m 0.3699  \u001b[0m | \u001b[0m 9.332   \u001b[0m | \u001b[0m 113.1   \u001b[0m |\n",
      "[16:28:52] WARNING: C:/Users/Administrator/workspace/xgboost-win64_release_1.4.0/src/learner.cc:573: \n",
      "Parameters: { \"n_estimators\" } might not be used.\n",
      "\n",
      "  This may not be accurate due to some parameters are only used in language bindings but\n",
      "  passed down to XGBoost core.  Or some parameters are not used but slip through this\n",
      "  verification. Please open an issue if you find above cases.\n",
      "\n",
      "\n",
      "[16:28:52] WARNING: C:/Users/Administrator/workspace/xgboost-win64_release_1.4.0/src/learner.cc:573: \n",
      "Parameters: { \"n_estimators\" } might not be used.\n",
      "\n",
      "  This may not be accurate due to some parameters are only used in language bindings but\n",
      "  passed down to XGBoost core.  Or some parameters are not used but slip through this\n",
      "  verification. Please open an issue if you find above cases.\n",
      "\n",
      "\n",
      "[16:28:52] WARNING: C:/Users/Administrator/workspace/xgboost-win64_release_1.4.0/src/learner.cc:573: \n",
      "Parameters: { \"n_estimators\" } might not be used.\n",
      "\n",
      "  This may not be accurate due to some parameters are only used in language bindings but\n",
      "  passed down to XGBoost core.  Or some parameters are not used but slip through this\n",
      "  verification. Please open an issue if you find above cases.\n",
      "\n",
      "\n",
      "[16:28:52] WARNING: C:/Users/Administrator/workspace/xgboost-win64_release_1.4.0/src/learner.cc:573: \n",
      "Parameters: { \"n_estimators\" } might not be used.\n",
      "\n",
      "  This may not be accurate due to some parameters are only used in language bindings but\n",
      "  passed down to XGBoost core.  Or some parameters are not used but slip through this\n",
      "  verification. Please open an issue if you find above cases.\n",
      "\n",
      "\n",
      "[16:28:52] WARNING: C:/Users/Administrator/workspace/xgboost-win64_release_1.4.0/src/learner.cc:573: \n",
      "Parameters: { \"n_estimators\" } might not be used.\n",
      "\n",
      "  This may not be accurate due to some parameters are only used in language bindings but\n",
      "  passed down to XGBoost core.  Or some parameters are not used but slip through this\n",
      "  verification. Please open an issue if you find above cases.\n",
      "\n",
      "\n",
      "| \u001b[0m 11      \u001b[0m | \u001b[0m-0.3658  \u001b[0m | \u001b[0m 0.6231  \u001b[0m | \u001b[0m 0.4906  \u001b[0m | \u001b[0m 8.517   \u001b[0m | \u001b[0m 116.5   \u001b[0m |\n",
      "[16:28:56] WARNING: C:/Users/Administrator/workspace/xgboost-win64_release_1.4.0/src/learner.cc:573: \n",
      "Parameters: { \"n_estimators\" } might not be used.\n",
      "\n",
      "  This may not be accurate due to some parameters are only used in language bindings but\n",
      "  passed down to XGBoost core.  Or some parameters are not used but slip through this\n",
      "  verification. Please open an issue if you find above cases.\n",
      "\n",
      "\n",
      "[16:28:56] WARNING: C:/Users/Administrator/workspace/xgboost-win64_release_1.4.0/src/learner.cc:573: \n",
      "Parameters: { \"n_estimators\" } might not be used.\n",
      "\n",
      "  This may not be accurate due to some parameters are only used in language bindings but\n",
      "  passed down to XGBoost core.  Or some parameters are not used but slip through this\n",
      "  verification. Please open an issue if you find above cases.\n",
      "\n",
      "\n",
      "[16:28:56] WARNING: C:/Users/Administrator/workspace/xgboost-win64_release_1.4.0/src/learner.cc:573: \n",
      "Parameters: { \"n_estimators\" } might not be used.\n",
      "\n",
      "  This may not be accurate due to some parameters are only used in language bindings but\n",
      "  passed down to XGBoost core.  Or some parameters are not used but slip through this\n",
      "  verification. Please open an issue if you find above cases.\n",
      "\n",
      "\n",
      "[16:28:56] WARNING: C:/Users/Administrator/workspace/xgboost-win64_release_1.4.0/src/learner.cc:573: \n",
      "Parameters: { \"n_estimators\" } might not be used.\n",
      "\n",
      "  This may not be accurate due to some parameters are only used in language bindings but\n",
      "  passed down to XGBoost core.  Or some parameters are not used but slip through this\n",
      "  verification. Please open an issue if you find above cases.\n",
      "\n",
      "\n",
      "[16:28:56] WARNING: C:/Users/Administrator/workspace/xgboost-win64_release_1.4.0/src/learner.cc:573: \n",
      "Parameters: { \"n_estimators\" } might not be used.\n",
      "\n",
      "  This may not be accurate due to some parameters are only used in language bindings but\n",
      "  passed down to XGBoost core.  Or some parameters are not used but slip through this\n",
      "  verification. Please open an issue if you find above cases.\n",
      "\n",
      "\n"
     ]
    },
    {
     "name": "stdout",
     "output_type": "stream",
     "text": [
      "| \u001b[0m 12      \u001b[0m | \u001b[0m-0.5     \u001b[0m | \u001b[0m 0.8576  \u001b[0m | \u001b[0m 0.0     \u001b[0m | \u001b[0m 9.099   \u001b[0m | \u001b[0m 116.2   \u001b[0m |\n",
      "[16:28:59] WARNING: C:/Users/Administrator/workspace/xgboost-win64_release_1.4.0/src/learner.cc:573: \n",
      "Parameters: { \"n_estimators\" } might not be used.\n",
      "\n",
      "  This may not be accurate due to some parameters are only used in language bindings but\n",
      "  passed down to XGBoost core.  Or some parameters are not used but slip through this\n",
      "  verification. Please open an issue if you find above cases.\n",
      "\n",
      "\n",
      "[16:28:59] WARNING: C:/Users/Administrator/workspace/xgboost-win64_release_1.4.0/src/learner.cc:573: \n",
      "Parameters: { \"n_estimators\" } might not be used.\n",
      "\n",
      "  This may not be accurate due to some parameters are only used in language bindings but\n",
      "  passed down to XGBoost core.  Or some parameters are not used but slip through this\n",
      "  verification. Please open an issue if you find above cases.\n",
      "\n",
      "\n",
      "[16:28:59] WARNING: C:/Users/Administrator/workspace/xgboost-win64_release_1.4.0/src/learner.cc:573: \n",
      "Parameters: { \"n_estimators\" } might not be used.\n",
      "\n",
      "  This may not be accurate due to some parameters are only used in language bindings but\n",
      "  passed down to XGBoost core.  Or some parameters are not used but slip through this\n",
      "  verification. Please open an issue if you find above cases.\n",
      "\n",
      "\n",
      "[16:28:59] WARNING: C:/Users/Administrator/workspace/xgboost-win64_release_1.4.0/src/learner.cc:573: \n",
      "Parameters: { \"n_estimators\" } might not be used.\n",
      "\n",
      "  This may not be accurate due to some parameters are only used in language bindings but\n",
      "  passed down to XGBoost core.  Or some parameters are not used but slip through this\n",
      "  verification. Please open an issue if you find above cases.\n",
      "\n",
      "\n",
      "[16:28:59] WARNING: C:/Users/Administrator/workspace/xgboost-win64_release_1.4.0/src/learner.cc:573: \n",
      "Parameters: { \"n_estimators\" } might not be used.\n",
      "\n",
      "  This may not be accurate due to some parameters are only used in language bindings but\n",
      "  passed down to XGBoost core.  Or some parameters are not used but slip through this\n",
      "  verification. Please open an issue if you find above cases.\n",
      "\n",
      "\n",
      "| \u001b[0m 13      \u001b[0m | \u001b[0m-0.3616  \u001b[0m | \u001b[0m 0.7919  \u001b[0m | \u001b[0m 0.4867  \u001b[0m | \u001b[0m 9.287   \u001b[0m | \u001b[0m 113.1   \u001b[0m |\n",
      "=========================================================================\n"
     ]
    }
   ],
   "source": [
    "xgb_bo.maximize(n_iter=5, init_points=8, acq='ei')"
   ]
  },
  {
   "cell_type": "code",
   "execution_count": 286,
   "id": "3ead0e9f",
   "metadata": {
    "ExecuteTime": {
     "end_time": "2022-04-06T21:29:04.466806Z",
     "start_time": "2022-04-06T21:29:04.455809Z"
    }
   },
   "outputs": [
    {
     "name": "stdout",
     "output_type": "stream",
     "text": [
      "{'gamma': 0.5641167030269385, 'learning_rate': 0.18534944662372832, 'max_depth': 9.07407992346619, 'n_estimators': 116.56565129158474}\n"
     ]
    }
   ],
   "source": [
    "#Extracting the best parameters\n",
    "params = xgb_bo.max['params']\n",
    "print(params)"
   ]
  },
  {
   "cell_type": "code",
   "execution_count": 287,
   "id": "a5e69d1a",
   "metadata": {
    "ExecuteTime": {
     "end_time": "2022-04-06T21:29:06.235408Z",
     "start_time": "2022-04-06T21:29:05.905293Z"
    }
   },
   "outputs": [
    {
     "name": "stdout",
     "output_type": "stream",
     "text": [
      "[16:29:05] WARNING: C:/Users/Administrator/workspace/xgboost-win64_release_1.4.0/src/learner.cc:1095: Starting in XGBoost 1.3.0, the default evaluation metric used with the objective 'binary:logistic' was changed from 'error' to 'logloss'. Explicitly set eval_metric if you'd like to restore the old behavior.\n"
     ]
    },
    {
     "name": "stderr",
     "output_type": "stream",
     "text": [
      "C:\\Users\\Windows\\anaconda3\\lib\\site-packages\\xgboost\\sklearn.py:1146: UserWarning: The use of label encoder in XGBClassifier is deprecated and will be removed in a future release. To remove this warning, do the following: 1) Pass option use_label_encoder=False when constructing XGBClassifier object; and 2) Encode your labels (y) as integers starting with 0, i.e. 0, 1, 2, ..., [num_class - 1].\n",
      "  warnings.warn(label_encoder_deprecation_msg, UserWarning)\n"
     ]
    }
   ],
   "source": [
    "#Converting the max_depth and n_estimator values from float to int\n",
    "params['max_depth']= int(params['max_depth'])\n",
    "params['n_estimators']= int(params['n_estimators'])\n",
    "\n",
    "#Initialize an XGBClassifier with the tuned parameters and fit the training data\n",
    "\n",
    "classifier2 = xgb.XGBClassifier(**params).fit(X_test, y_test)"
   ]
  },
  {
   "cell_type": "code",
   "execution_count": 288,
   "id": "cc1cdc7f",
   "metadata": {
    "ExecuteTime": {
     "end_time": "2022-04-06T21:29:07.485666Z",
     "start_time": "2022-04-06T21:29:07.425342Z"
    }
   },
   "outputs": [],
   "source": [
    "pickle.dump( classifier2, open( 'model/final_model.pkl', 'wb' ) )"
   ]
  },
  {
   "cell_type": "code",
   "execution_count": 289,
   "id": "e73f33ce",
   "metadata": {
    "ExecuteTime": {
     "end_time": "2022-04-06T21:29:10.057401Z",
     "start_time": "2022-04-06T21:29:10.014418Z"
    }
   },
   "outputs": [],
   "source": [
    "y_pred_xgb_param = classifier2.predict(X_test)"
   ]
  },
  {
   "cell_type": "code",
   "execution_count": 290,
   "id": "b44b348f",
   "metadata": {
    "ExecuteTime": {
     "end_time": "2022-04-06T21:29:12.004020Z",
     "start_time": "2022-04-06T21:29:11.993997Z"
    }
   },
   "outputs": [
    {
     "name": "stdout",
     "output_type": "stream",
     "text": [
      "[[323   1]\n",
      " [  9 322]]\n"
     ]
    }
   ],
   "source": [
    "cf_matrix = confusion_matrix(y_test, y_pred_xgb_param)\n",
    "\n",
    "print(cf_matrix)"
   ]
  },
  {
   "cell_type": "code",
   "execution_count": 291,
   "id": "363dc13e",
   "metadata": {
    "ExecuteTime": {
     "end_time": "2022-04-06T21:29:14.062223Z",
     "start_time": "2022-04-06T21:29:13.728223Z"
    }
   },
   "outputs": [
    {
     "data": {
      "image/png": "[encoded data removed]",
      "text/plain": [
       "<Figure size 432x288 with 2 Axes>"
      ]
     },
     "metadata": {
      "needs_background": "light"
     },
     "output_type": "display_data"
    }
   ],
   "source": [
    "ax = sns.heatmap(cf_matrix/np.sum(cf_matrix), annot=True, \n",
    "            fmt='.2%', cmap='Blues')\n",
    "\n",
    "ax.set_title('Matriz de confusión XGboost\\n\\n');\n",
    "ax.set_xlabel('\\n Valores predichos ')\n",
    "ax.set_ylabel('Valores observados ');\n",
    "\n",
    "## Ticket labels - List must be in alphabetical order\n",
    "ax.xaxis.set_ticklabels(['False','True'])\n",
    "ax.yaxis.set_ticklabels(['False','True'])\n",
    "\n",
    "## Display the visualization of the Confusion Matrix.\n",
    "plt.show()"
   ]
  },
  {
   "cell_type": "code",
   "execution_count": 292,
   "id": "c48af9bb",
   "metadata": {
    "ExecuteTime": {
     "end_time": "2022-04-06T21:29:16.095231Z",
     "start_time": "2022-04-06T21:29:15.800225Z"
    }
   },
   "outputs": [
    {
     "data": {
      "text/plain": [
       "<sklearn.metrics._plot.roc_curve.RocCurveDisplay at 0x254ca5bfa90>"
      ]
     },
     "execution_count": 292,
     "metadata": {},
     "output_type": "execute_result"
    },
    {
     "data": {
      "image/png": "[encoded data removed]",
      "text/plain": [
       "<Figure size 432x288 with 1 Axes>"
      ]
     },
     "metadata": {
      "needs_background": "light"
     },
     "output_type": "display_data"
    }
   ],
   "source": [
    "metrics.plot_roc_curve(classifier2, X_test, y_test) "
   ]
  },
  {
   "cell_type": "code",
   "execution_count": 293,
   "id": "5c09b771",
   "metadata": {
    "ExecuteTime": {
     "end_time": "2022-04-06T21:29:32.192062Z",
     "start_time": "2022-04-06T21:29:18.073937Z"
    },
    "scrolled": true
   },
   "outputs": [
    {
     "name": "stderr",
     "output_type": "stream",
     "text": [
      "C:\\Users\\Windows\\anaconda3\\lib\\site-packages\\xgboost\\sklearn.py:1146: UserWarning: The use of label encoder in XGBClassifier is deprecated and will be removed in a future release. To remove this warning, do the following: 1) Pass option use_label_encoder=False when constructing XGBClassifier object; and 2) Encode your labels (y) as integers starting with 0, i.e. 0, 1, 2, ..., [num_class - 1].\n",
      "  warnings.warn(label_encoder_deprecation_msg, UserWarning)\n"
     ]
    },
    {
     "name": "stdout",
     "output_type": "stream",
     "text": [
      "[16:29:19] WARNING: C:/Users/Administrator/workspace/xgboost-win64_release_1.4.0/src/learner.cc:1095: Starting in XGBoost 1.3.0, the default evaluation metric used with the objective 'binary:logistic' was changed from 'error' to 'logloss'. Explicitly set eval_metric if you'd like to restore the old behavior.\n"
     ]
    },
    {
     "name": "stderr",
     "output_type": "stream",
     "text": [
      "C:\\Users\\Windows\\anaconda3\\lib\\site-packages\\xgboost\\sklearn.py:1146: UserWarning: The use of label encoder in XGBClassifier is deprecated and will be removed in a future release. To remove this warning, do the following: 1) Pass option use_label_encoder=False when constructing XGBClassifier object; and 2) Encode your labels (y) as integers starting with 0, i.e. 0, 1, 2, ..., [num_class - 1].\n",
      "  warnings.warn(label_encoder_deprecation_msg, UserWarning)\n"
     ]
    },
    {
     "name": "stdout",
     "output_type": "stream",
     "text": [
      "[16:29:21] WARNING: C:/Users/Administrator/workspace/xgboost-win64_release_1.4.0/src/learner.cc:1095: Starting in XGBoost 1.3.0, the default evaluation metric used with the objective 'binary:logistic' was changed from 'error' to 'logloss'. Explicitly set eval_metric if you'd like to restore the old behavior.\n"
     ]
    },
    {
     "name": "stderr",
     "output_type": "stream",
     "text": [
      "C:\\Users\\Windows\\anaconda3\\lib\\site-packages\\xgboost\\sklearn.py:1146: UserWarning: The use of label encoder in XGBClassifier is deprecated and will be removed in a future release. To remove this warning, do the following: 1) Pass option use_label_encoder=False when constructing XGBClassifier object; and 2) Encode your labels (y) as integers starting with 0, i.e. 0, 1, 2, ..., [num_class - 1].\n",
      "  warnings.warn(label_encoder_deprecation_msg, UserWarning)\n"
     ]
    },
    {
     "name": "stdout",
     "output_type": "stream",
     "text": [
      "[16:29:22] WARNING: C:/Users/Administrator/workspace/xgboost-win64_release_1.4.0/src/learner.cc:1095: Starting in XGBoost 1.3.0, the default evaluation metric used with the objective 'binary:logistic' was changed from 'error' to 'logloss'. Explicitly set eval_metric if you'd like to restore the old behavior.\n"
     ]
    },
    {
     "name": "stderr",
     "output_type": "stream",
     "text": [
      "C:\\Users\\Windows\\anaconda3\\lib\\site-packages\\xgboost\\sklearn.py:1146: UserWarning: The use of label encoder in XGBClassifier is deprecated and will be removed in a future release. To remove this warning, do the following: 1) Pass option use_label_encoder=False when constructing XGBClassifier object; and 2) Encode your labels (y) as integers starting with 0, i.e. 0, 1, 2, ..., [num_class - 1].\n",
      "  warnings.warn(label_encoder_deprecation_msg, UserWarning)\n"
     ]
    },
    {
     "name": "stdout",
     "output_type": "stream",
     "text": [
      "[16:29:24] WARNING: C:/Users/Administrator/workspace/xgboost-win64_release_1.4.0/src/learner.cc:1095: Starting in XGBoost 1.3.0, the default evaluation metric used with the objective 'binary:logistic' was changed from 'error' to 'logloss'. Explicitly set eval_metric if you'd like to restore the old behavior.\n"
     ]
    },
    {
     "name": "stderr",
     "output_type": "stream",
     "text": [
      "C:\\Users\\Windows\\anaconda3\\lib\\site-packages\\xgboost\\sklearn.py:1146: UserWarning: The use of label encoder in XGBClassifier is deprecated and will be removed in a future release. To remove this warning, do the following: 1) Pass option use_label_encoder=False when constructing XGBClassifier object; and 2) Encode your labels (y) as integers starting with 0, i.e. 0, 1, 2, ..., [num_class - 1].\n",
      "  warnings.warn(label_encoder_deprecation_msg, UserWarning)\n"
     ]
    },
    {
     "name": "stdout",
     "output_type": "stream",
     "text": [
      "[16:29:26] WARNING: C:/Users/Administrator/workspace/xgboost-win64_release_1.4.0/src/learner.cc:1095: Starting in XGBoost 1.3.0, the default evaluation metric used with the objective 'binary:logistic' was changed from 'error' to 'logloss'. Explicitly set eval_metric if you'd like to restore the old behavior.\n"
     ]
    },
    {
     "name": "stderr",
     "output_type": "stream",
     "text": [
      "C:\\Users\\Windows\\anaconda3\\lib\\site-packages\\xgboost\\sklearn.py:1146: UserWarning: The use of label encoder in XGBClassifier is deprecated and will be removed in a future release. To remove this warning, do the following: 1) Pass option use_label_encoder=False when constructing XGBClassifier object; and 2) Encode your labels (y) as integers starting with 0, i.e. 0, 1, 2, ..., [num_class - 1].\n",
      "  warnings.warn(label_encoder_deprecation_msg, UserWarning)\n"
     ]
    },
    {
     "name": "stdout",
     "output_type": "stream",
     "text": [
      "[16:29:27] WARNING: C:/Users/Administrator/workspace/xgboost-win64_release_1.4.0/src/learner.cc:1095: Starting in XGBoost 1.3.0, the default evaluation metric used with the objective 'binary:logistic' was changed from 'error' to 'logloss'. Explicitly set eval_metric if you'd like to restore the old behavior.\n"
     ]
    },
    {
     "name": "stderr",
     "output_type": "stream",
     "text": [
      "C:\\Users\\Windows\\anaconda3\\lib\\site-packages\\xgboost\\sklearn.py:1146: UserWarning: The use of label encoder in XGBClassifier is deprecated and will be removed in a future release. To remove this warning, do the following: 1) Pass option use_label_encoder=False when constructing XGBClassifier object; and 2) Encode your labels (y) as integers starting with 0, i.e. 0, 1, 2, ..., [num_class - 1].\n",
      "  warnings.warn(label_encoder_deprecation_msg, UserWarning)\n"
     ]
    },
    {
     "name": "stdout",
     "output_type": "stream",
     "text": [
      "[16:29:29] WARNING: C:/Users/Administrator/workspace/xgboost-win64_release_1.4.0/src/learner.cc:1095: Starting in XGBoost 1.3.0, the default evaluation metric used with the objective 'binary:logistic' was changed from 'error' to 'logloss'. Explicitly set eval_metric if you'd like to restore the old behavior.\n"
     ]
    },
    {
     "name": "stderr",
     "output_type": "stream",
     "text": [
      "C:\\Users\\Windows\\anaconda3\\lib\\site-packages\\xgboost\\sklearn.py:1146: UserWarning: The use of label encoder in XGBClassifier is deprecated and will be removed in a future release. To remove this warning, do the following: 1) Pass option use_label_encoder=False when constructing XGBClassifier object; and 2) Encode your labels (y) as integers starting with 0, i.e. 0, 1, 2, ..., [num_class - 1].\n",
      "  warnings.warn(label_encoder_deprecation_msg, UserWarning)\n"
     ]
    },
    {
     "name": "stdout",
     "output_type": "stream",
     "text": [
      "[16:29:30] WARNING: C:/Users/Administrator/workspace/xgboost-win64_release_1.4.0/src/learner.cc:1095: Starting in XGBoost 1.3.0, the default evaluation metric used with the objective 'binary:logistic' was changed from 'error' to 'logloss'. Explicitly set eval_metric if you'd like to restore the old behavior.\n"
     ]
    },
    {
     "name": "stderr",
     "output_type": "stream",
     "text": [
      "C:\\Users\\Windows\\anaconda3\\lib\\site-packages\\xgboost\\sklearn.py:1146: UserWarning: The use of label encoder in XGBClassifier is deprecated and will be removed in a future release. To remove this warning, do the following: 1) Pass option use_label_encoder=False when constructing XGBClassifier object; and 2) Encode your labels (y) as integers starting with 0, i.e. 0, 1, 2, ..., [num_class - 1].\n",
      "  warnings.warn(label_encoder_deprecation_msg, UserWarning)\n"
     ]
    },
    {
     "name": "stdout",
     "output_type": "stream",
     "text": [
      "[16:29:30] WARNING: C:/Users/Administrator/workspace/xgboost-win64_release_1.4.0/src/learner.cc:1095: Starting in XGBoost 1.3.0, the default evaluation metric used with the objective 'binary:logistic' was changed from 'error' to 'logloss'. Explicitly set eval_metric if you'd like to restore the old behavior.\n"
     ]
    },
    {
     "name": "stderr",
     "output_type": "stream",
     "text": [
      "C:\\Users\\Windows\\anaconda3\\lib\\site-packages\\xgboost\\sklearn.py:1146: UserWarning: The use of label encoder in XGBClassifier is deprecated and will be removed in a future release. To remove this warning, do the following: 1) Pass option use_label_encoder=False when constructing XGBClassifier object; and 2) Encode your labels (y) as integers starting with 0, i.e. 0, 1, 2, ..., [num_class - 1].\n",
      "  warnings.warn(label_encoder_deprecation_msg, UserWarning)\n"
     ]
    },
    {
     "name": "stdout",
     "output_type": "stream",
     "text": [
      "[16:29:31] WARNING: C:/Users/Administrator/workspace/xgboost-win64_release_1.4.0/src/learner.cc:1095: Starting in XGBoost 1.3.0, the default evaluation metric used with the objective 'binary:logistic' was changed from 'error' to 'logloss'. Explicitly set eval_metric if you'd like to restore the old behavior.\n",
      "Puntajes obtenidos: [0.89340102 0.79695431 0.81218274 0.88324873 0.87755102 0.87244898\n",
      " 0.85714286 0.83163265 0.85714286 0.85204082]\n",
      "Precisión de validación cruzada: 0.853 +/- 0.030\n"
     ]
    }
   ],
   "source": [
    "scores = cross_val_score(classifier2, X=X_train, y=y_train, cv=10, n_jobs=1)\n",
    " \n",
    "print('Puntajes obtenidos: %s' % scores)\n",
    "print('Precisión de validación cruzada: %.3f +/- %.3f' % (np.mean(scores),np.std(scores)))"
   ]
  },
  {
   "cell_type": "markdown",
   "id": "3150f202",
   "metadata": {},
   "source": [
    "## Using the model to predict new data"
   ]
  },
  {
   "cell_type": "code",
   "execution_count": 331,
   "id": "513b88b1",
   "metadata": {
    "ExecuteTime": {
     "end_time": "2022-04-06T22:19:36.682735Z",
     "start_time": "2022-04-06T22:19:36.638676Z"
    }
   },
   "outputs": [],
   "source": [
    "nueva = pd.read_csv('Base_nueva_DC.csv',encoding = \"ISO-8859-1\", sep =';',parse_dates=['fecha_ult_desembolso'], \n",
    "                  dtype = {\n",
    "                      'Id_Cliente':str,\n",
    "                      'Ciudad':str,\n",
    "                      ' Patrimonio ':int,\n",
    "                      ' Ingresos_Mensuales ':int,\n",
    "                      'No_hijos':int,\n",
    "                      'oficina':str,\n",
    "                      'monto_credito':int,\n",
    "                      'tasa':float,\n",
    "                      'saldo_capital':int,\n",
    "                      'Antiguedad_en_meses':int,\n",
    "                      'Max_dias_mora':int,\n",
    "                      'plazo_dias':int,\n",
    "                      'Edad':int\n",
    "                  })\n"
   ]
  },
  {
   "cell_type": "code",
   "execution_count": 332,
   "id": "21a2fcce",
   "metadata": {
    "ExecuteTime": {
     "end_time": "2022-04-06T22:19:37.921669Z",
     "start_time": "2022-04-06T22:19:37.910672Z"
    }
   },
   "outputs": [],
   "source": [
    "nueva['mes_ult_desembolso'] = nueva['fecha_ult_desembolso'].dt.month\n",
    "nueva = nueva.rename(columns = {' Ingresos_Mensuales ':'Ingresos_Mensuales',\n",
    "                              ' Patrimonio ':'Patrimonio'})"
   ]
  },
  {
   "cell_type": "code",
   "execution_count": 333,
   "id": "d0d53aac",
   "metadata": {
    "ExecuteTime": {
     "end_time": "2022-04-06T22:19:39.047364Z",
     "start_time": "2022-04-06T22:19:39.005530Z"
    }
   },
   "outputs": [
    {
     "data": {
      "text/html": [
       "<div>\n",
       "<style scoped>\n",
       "    .dataframe tbody tr th:only-of-type {\n",
       "        vertical-align: middle;\n",
       "    }\n",
       "\n",
       "    .dataframe tbody tr th {\n",
       "        vertical-align: top;\n",
       "    }\n",
       "\n",
       "    .dataframe thead th {\n",
       "        text-align: right;\n",
       "    }\n",
       "</style>\n",
       "<table border=\"1\" class=\"dataframe\">\n",
       "  <thead>\n",
       "    <tr style=\"text-align: right;\">\n",
       "      <th></th>\n",
       "      <th>Id_Cliente</th>\n",
       "      <th>Ciudad</th>\n",
       "      <th>Patrimonio</th>\n",
       "      <th>Ingresos_Mensuales</th>\n",
       "      <th>No_hijos</th>\n",
       "      <th>oficina</th>\n",
       "      <th>fecha_ult_desembolso</th>\n",
       "      <th>monto_credito</th>\n",
       "      <th>tasa</th>\n",
       "      <th>saldo_capital</th>\n",
       "      <th>saldo_Ahorro</th>\n",
       "      <th>Antiguedad_en_meses</th>\n",
       "      <th>Max_dias_mora</th>\n",
       "      <th>plazo_dias</th>\n",
       "      <th>Edad</th>\n",
       "      <th>mes_ult_desembolso</th>\n",
       "    </tr>\n",
       "  </thead>\n",
       "  <tbody>\n",
       "    <tr>\n",
       "      <th>0</th>\n",
       "      <td>427658</td>\n",
       "      <td>Cartagena</td>\n",
       "      <td>745968</td>\n",
       "      <td>1614094</td>\n",
       "      <td>0</td>\n",
       "      <td>4024</td>\n",
       "      <td>2017-12-30</td>\n",
       "      <td>1500000</td>\n",
       "      <td>33.93</td>\n",
       "      <td>1357387</td>\n",
       "      <td>33438</td>\n",
       "      <td>12</td>\n",
       "      <td>0</td>\n",
       "      <td>900</td>\n",
       "      <td>65</td>\n",
       "      <td>12</td>\n",
       "    </tr>\n",
       "    <tr>\n",
       "      <th>1</th>\n",
       "      <td>427659</td>\n",
       "      <td>Barranquilla</td>\n",
       "      <td>834415</td>\n",
       "      <td>920234</td>\n",
       "      <td>1</td>\n",
       "      <td>4011</td>\n",
       "      <td>2017-12-18</td>\n",
       "      <td>1500000</td>\n",
       "      <td>33.93</td>\n",
       "      <td>392262</td>\n",
       "      <td>0</td>\n",
       "      <td>12</td>\n",
       "      <td>0</td>\n",
       "      <td>540</td>\n",
       "      <td>40</td>\n",
       "      <td>12</td>\n",
       "    </tr>\n",
       "    <tr>\n",
       "      <th>2</th>\n",
       "      <td>427670</td>\n",
       "      <td>Barranquilla</td>\n",
       "      <td>1164858</td>\n",
       "      <td>1568317</td>\n",
       "      <td>1</td>\n",
       "      <td>7032</td>\n",
       "      <td>2018-02-17</td>\n",
       "      <td>1064170</td>\n",
       "      <td>0.30</td>\n",
       "      <td>211724</td>\n",
       "      <td>0</td>\n",
       "      <td>12</td>\n",
       "      <td>0</td>\n",
       "      <td>540</td>\n",
       "      <td>36</td>\n",
       "      <td>2</td>\n",
       "    </tr>\n",
       "    <tr>\n",
       "      <th>3</th>\n",
       "      <td>427671</td>\n",
       "      <td>Cali</td>\n",
       "      <td>1187587</td>\n",
       "      <td>796660</td>\n",
       "      <td>1</td>\n",
       "      <td>7032</td>\n",
       "      <td>2017-12-25</td>\n",
       "      <td>2338552</td>\n",
       "      <td>0.30</td>\n",
       "      <td>828993</td>\n",
       "      <td>0</td>\n",
       "      <td>12</td>\n",
       "      <td>0</td>\n",
       "      <td>720</td>\n",
       "      <td>47</td>\n",
       "      <td>12</td>\n",
       "    </tr>\n",
       "    <tr>\n",
       "      <th>4</th>\n",
       "      <td>427720</td>\n",
       "      <td>Cartagena</td>\n",
       "      <td>2840488</td>\n",
       "      <td>1474771</td>\n",
       "      <td>0</td>\n",
       "      <td>7025</td>\n",
       "      <td>2018-01-23</td>\n",
       "      <td>2385560</td>\n",
       "      <td>33.93</td>\n",
       "      <td>1997956</td>\n",
       "      <td>0</td>\n",
       "      <td>12</td>\n",
       "      <td>0</td>\n",
       "      <td>720</td>\n",
       "      <td>56</td>\n",
       "      <td>1</td>\n",
       "    </tr>\n",
       "    <tr>\n",
       "      <th>...</th>\n",
       "      <td>...</td>\n",
       "      <td>...</td>\n",
       "      <td>...</td>\n",
       "      <td>...</td>\n",
       "      <td>...</td>\n",
       "      <td>...</td>\n",
       "      <td>...</td>\n",
       "      <td>...</td>\n",
       "      <td>...</td>\n",
       "      <td>...</td>\n",
       "      <td>...</td>\n",
       "      <td>...</td>\n",
       "      <td>...</td>\n",
       "      <td>...</td>\n",
       "      <td>...</td>\n",
       "      <td>...</td>\n",
       "    </tr>\n",
       "    <tr>\n",
       "      <th>1495</th>\n",
       "      <td>428626</td>\n",
       "      <td>Cartagena</td>\n",
       "      <td>37964203</td>\n",
       "      <td>477534</td>\n",
       "      <td>1</td>\n",
       "      <td>4003</td>\n",
       "      <td>2017-11-29</td>\n",
       "      <td>9000000</td>\n",
       "      <td>33.93</td>\n",
       "      <td>7810084</td>\n",
       "      <td>18603</td>\n",
       "      <td>120</td>\n",
       "      <td>0</td>\n",
       "      <td>1080</td>\n",
       "      <td>30</td>\n",
       "      <td>11</td>\n",
       "    </tr>\n",
       "    <tr>\n",
       "      <th>1496</th>\n",
       "      <td>428844</td>\n",
       "      <td>Barranquilla</td>\n",
       "      <td>46168677</td>\n",
       "      <td>1516403</td>\n",
       "      <td>0</td>\n",
       "      <td>4003</td>\n",
       "      <td>2017-11-29</td>\n",
       "      <td>8900000</td>\n",
       "      <td>33.93</td>\n",
       "      <td>7810084</td>\n",
       "      <td>18603</td>\n",
       "      <td>120</td>\n",
       "      <td>0</td>\n",
       "      <td>1080</td>\n",
       "      <td>44</td>\n",
       "      <td>11</td>\n",
       "    </tr>\n",
       "    <tr>\n",
       "      <th>1497</th>\n",
       "      <td>428405</td>\n",
       "      <td>Bogotá</td>\n",
       "      <td>28739705</td>\n",
       "      <td>848160</td>\n",
       "      <td>1</td>\n",
       "      <td>4030</td>\n",
       "      <td>2017-12-15</td>\n",
       "      <td>9000000</td>\n",
       "      <td>33.93</td>\n",
       "      <td>9000000</td>\n",
       "      <td>19713</td>\n",
       "      <td>120</td>\n",
       "      <td>0</td>\n",
       "      <td>720</td>\n",
       "      <td>41</td>\n",
       "      <td>12</td>\n",
       "    </tr>\n",
       "    <tr>\n",
       "      <th>1498</th>\n",
       "      <td>428623</td>\n",
       "      <td>Cali</td>\n",
       "      <td>37858892</td>\n",
       "      <td>1041188</td>\n",
       "      <td>2</td>\n",
       "      <td>4030</td>\n",
       "      <td>2017-12-15</td>\n",
       "      <td>9000000</td>\n",
       "      <td>33.93</td>\n",
       "      <td>9000000</td>\n",
       "      <td>19713</td>\n",
       "      <td>120</td>\n",
       "      <td>0</td>\n",
       "      <td>720</td>\n",
       "      <td>48</td>\n",
       "      <td>12</td>\n",
       "    </tr>\n",
       "    <tr>\n",
       "      <th>1499</th>\n",
       "      <td>428841</td>\n",
       "      <td>Barranquilla</td>\n",
       "      <td>46090593</td>\n",
       "      <td>604703</td>\n",
       "      <td>0</td>\n",
       "      <td>4030</td>\n",
       "      <td>2017-12-15</td>\n",
       "      <td>8900000</td>\n",
       "      <td>33.93</td>\n",
       "      <td>7800000</td>\n",
       "      <td>19713</td>\n",
       "      <td>120</td>\n",
       "      <td>0</td>\n",
       "      <td>720</td>\n",
       "      <td>32</td>\n",
       "      <td>12</td>\n",
       "    </tr>\n",
       "  </tbody>\n",
       "</table>\n",
       "<p>1500 rows × 16 columns</p>\n",
       "</div>"
      ],
      "text/plain": [
       "     Id_Cliente        Ciudad  Patrimonio  Ingresos_Mensuales  No_hijos  \\\n",
       "0        427658     Cartagena      745968             1614094         0   \n",
       "1        427659  Barranquilla      834415              920234         1   \n",
       "2        427670  Barranquilla     1164858             1568317         1   \n",
       "3        427671          Cali     1187587              796660         1   \n",
       "4        427720     Cartagena     2840488             1474771         0   \n",
       "...         ...           ...         ...                 ...       ...   \n",
       "1495     428626     Cartagena    37964203              477534         1   \n",
       "1496     428844  Barranquilla    46168677             1516403         0   \n",
       "1497     428405        Bogotá    28739705              848160         1   \n",
       "1498     428623          Cali    37858892             1041188         2   \n",
       "1499     428841  Barranquilla    46090593              604703         0   \n",
       "\n",
       "     oficina fecha_ult_desembolso  monto_credito   tasa  saldo_capital  \\\n",
       "0       4024           2017-12-30        1500000  33.93        1357387   \n",
       "1       4011           2017-12-18        1500000  33.93         392262   \n",
       "2       7032           2018-02-17        1064170   0.30         211724   \n",
       "3       7032           2017-12-25        2338552   0.30         828993   \n",
       "4       7025           2018-01-23        2385560  33.93        1997956   \n",
       "...      ...                  ...            ...    ...            ...   \n",
       "1495    4003           2017-11-29        9000000  33.93        7810084   \n",
       "1496    4003           2017-11-29        8900000  33.93        7810084   \n",
       "1497    4030           2017-12-15        9000000  33.93        9000000   \n",
       "1498    4030           2017-12-15        9000000  33.93        9000000   \n",
       "1499    4030           2017-12-15        8900000  33.93        7800000   \n",
       "\n",
       "      saldo_Ahorro  Antiguedad_en_meses  Max_dias_mora  plazo_dias  Edad  \\\n",
       "0            33438                   12              0         900    65   \n",
       "1                0                   12              0         540    40   \n",
       "2                0                   12              0         540    36   \n",
       "3                0                   12              0         720    47   \n",
       "4                0                   12              0         720    56   \n",
       "...            ...                  ...            ...         ...   ...   \n",
       "1495         18603                  120              0        1080    30   \n",
       "1496         18603                  120              0        1080    44   \n",
       "1497         19713                  120              0         720    41   \n",
       "1498         19713                  120              0         720    48   \n",
       "1499         19713                  120              0         720    32   \n",
       "\n",
       "      mes_ult_desembolso  \n",
       "0                     12  \n",
       "1                     12  \n",
       "2                      2  \n",
       "3                     12  \n",
       "4                      1  \n",
       "...                  ...  \n",
       "1495                  11  \n",
       "1496                  11  \n",
       "1497                  12  \n",
       "1498                  12  \n",
       "1499                  12  \n",
       "\n",
       "[1500 rows x 16 columns]"
      ]
     },
     "execution_count": 333,
     "metadata": {},
     "output_type": "execute_result"
    }
   ],
   "source": [
    "nueva"
   ]
  },
  {
   "cell_type": "code",
   "execution_count": 334,
   "id": "8f5262f9",
   "metadata": {
    "ExecuteTime": {
     "end_time": "2022-04-06T22:19:40.123881Z",
     "start_time": "2022-04-06T22:19:40.112883Z"
    }
   },
   "outputs": [],
   "source": [
    "X = nueva[[ 'Patrimonio', 'Ingresos_Mensuales', 'No_hijos',\n",
    "       'monto_credito', 'tasa',\n",
    "       'saldo_capital', 'saldo_Ahorro', 'Antiguedad_en_meses', 'Max_dias_mora',\n",
    "       'plazo_dias', 'Edad', 'mes_ult_desembolso']]"
   ]
  },
  {
   "cell_type": "code",
   "execution_count": 335,
   "id": "1ec93e72",
   "metadata": {
    "ExecuteTime": {
     "end_time": "2022-04-06T22:19:41.158827Z",
     "start_time": "2022-04-06T22:19:41.147826Z"
    }
   },
   "outputs": [],
   "source": [
    "ciudad = pd.get_dummies(nueva['Ciudad'], prefix='C')"
   ]
  },
  {
   "cell_type": "code",
   "execution_count": 336,
   "id": "5e13c0c5",
   "metadata": {
    "ExecuteTime": {
     "end_time": "2022-04-06T22:19:42.184469Z",
     "start_time": "2022-04-06T22:19:42.171481Z"
    }
   },
   "outputs": [],
   "source": [
    "X= X.join(ciudad)"
   ]
  },
  {
   "cell_type": "code",
   "execution_count": 337,
   "id": "4d07d32f",
   "metadata": {
    "ExecuteTime": {
     "end_time": "2022-04-06T22:19:43.250661Z",
     "start_time": "2022-04-06T22:19:43.221662Z"
    },
    "scrolled": true
   },
   "outputs": [
    {
     "data": {
      "text/html": [
       "<div>\n",
       "<style scoped>\n",
       "    .dataframe tbody tr th:only-of-type {\n",
       "        vertical-align: middle;\n",
       "    }\n",
       "\n",
       "    .dataframe tbody tr th {\n",
       "        vertical-align: top;\n",
       "    }\n",
       "\n",
       "    .dataframe thead th {\n",
       "        text-align: right;\n",
       "    }\n",
       "</style>\n",
       "<table border=\"1\" class=\"dataframe\">\n",
       "  <thead>\n",
       "    <tr style=\"text-align: right;\">\n",
       "      <th></th>\n",
       "      <th>0</th>\n",
       "      <th>1</th>\n",
       "      <th>2</th>\n",
       "      <th>3</th>\n",
       "      <th>4</th>\n",
       "    </tr>\n",
       "  </thead>\n",
       "  <tbody>\n",
       "    <tr>\n",
       "      <th>Patrimonio</th>\n",
       "      <td>745968.00</td>\n",
       "      <td>834415.00</td>\n",
       "      <td>1164858.0</td>\n",
       "      <td>1187587.0</td>\n",
       "      <td>2840488.00</td>\n",
       "    </tr>\n",
       "    <tr>\n",
       "      <th>Ingresos_Mensuales</th>\n",
       "      <td>1614094.00</td>\n",
       "      <td>920234.00</td>\n",
       "      <td>1568317.0</td>\n",
       "      <td>796660.0</td>\n",
       "      <td>1474771.00</td>\n",
       "    </tr>\n",
       "    <tr>\n",
       "      <th>No_hijos</th>\n",
       "      <td>0.00</td>\n",
       "      <td>1.00</td>\n",
       "      <td>1.0</td>\n",
       "      <td>1.0</td>\n",
       "      <td>0.00</td>\n",
       "    </tr>\n",
       "    <tr>\n",
       "      <th>monto_credito</th>\n",
       "      <td>1500000.00</td>\n",
       "      <td>1500000.00</td>\n",
       "      <td>1064170.0</td>\n",
       "      <td>2338552.0</td>\n",
       "      <td>2385560.00</td>\n",
       "    </tr>\n",
       "    <tr>\n",
       "      <th>tasa</th>\n",
       "      <td>33.93</td>\n",
       "      <td>33.93</td>\n",
       "      <td>0.3</td>\n",
       "      <td>0.3</td>\n",
       "      <td>33.93</td>\n",
       "    </tr>\n",
       "    <tr>\n",
       "      <th>saldo_capital</th>\n",
       "      <td>1357387.00</td>\n",
       "      <td>392262.00</td>\n",
       "      <td>211724.0</td>\n",
       "      <td>828993.0</td>\n",
       "      <td>1997956.00</td>\n",
       "    </tr>\n",
       "    <tr>\n",
       "      <th>saldo_Ahorro</th>\n",
       "      <td>33438.00</td>\n",
       "      <td>0.00</td>\n",
       "      <td>0.0</td>\n",
       "      <td>0.0</td>\n",
       "      <td>0.00</td>\n",
       "    </tr>\n",
       "    <tr>\n",
       "      <th>Antiguedad_en_meses</th>\n",
       "      <td>12.00</td>\n",
       "      <td>12.00</td>\n",
       "      <td>12.0</td>\n",
       "      <td>12.0</td>\n",
       "      <td>12.00</td>\n",
       "    </tr>\n",
       "    <tr>\n",
       "      <th>Max_dias_mora</th>\n",
       "      <td>0.00</td>\n",
       "      <td>0.00</td>\n",
       "      <td>0.0</td>\n",
       "      <td>0.0</td>\n",
       "      <td>0.00</td>\n",
       "    </tr>\n",
       "    <tr>\n",
       "      <th>plazo_dias</th>\n",
       "      <td>900.00</td>\n",
       "      <td>540.00</td>\n",
       "      <td>540.0</td>\n",
       "      <td>720.0</td>\n",
       "      <td>720.00</td>\n",
       "    </tr>\n",
       "    <tr>\n",
       "      <th>Edad</th>\n",
       "      <td>65.00</td>\n",
       "      <td>40.00</td>\n",
       "      <td>36.0</td>\n",
       "      <td>47.0</td>\n",
       "      <td>56.00</td>\n",
       "    </tr>\n",
       "    <tr>\n",
       "      <th>mes_ult_desembolso</th>\n",
       "      <td>12.00</td>\n",
       "      <td>12.00</td>\n",
       "      <td>2.0</td>\n",
       "      <td>12.0</td>\n",
       "      <td>1.00</td>\n",
       "    </tr>\n",
       "    <tr>\n",
       "      <th>C_Barranquilla</th>\n",
       "      <td>0.00</td>\n",
       "      <td>1.00</td>\n",
       "      <td>1.0</td>\n",
       "      <td>0.0</td>\n",
       "      <td>0.00</td>\n",
       "    </tr>\n",
       "    <tr>\n",
       "      <th>C_Bogotá</th>\n",
       "      <td>0.00</td>\n",
       "      <td>0.00</td>\n",
       "      <td>0.0</td>\n",
       "      <td>0.0</td>\n",
       "      <td>0.00</td>\n",
       "    </tr>\n",
       "    <tr>\n",
       "      <th>C_Cali</th>\n",
       "      <td>0.00</td>\n",
       "      <td>0.00</td>\n",
       "      <td>0.0</td>\n",
       "      <td>1.0</td>\n",
       "      <td>0.00</td>\n",
       "    </tr>\n",
       "    <tr>\n",
       "      <th>C_Cartagena</th>\n",
       "      <td>1.00</td>\n",
       "      <td>0.00</td>\n",
       "      <td>0.0</td>\n",
       "      <td>0.0</td>\n",
       "      <td>1.00</td>\n",
       "    </tr>\n",
       "  </tbody>\n",
       "</table>\n",
       "</div>"
      ],
      "text/plain": [
       "                              0           1          2          3           4\n",
       "Patrimonio            745968.00   834415.00  1164858.0  1187587.0  2840488.00\n",
       "Ingresos_Mensuales   1614094.00   920234.00  1568317.0   796660.0  1474771.00\n",
       "No_hijos                   0.00        1.00        1.0        1.0        0.00\n",
       "monto_credito        1500000.00  1500000.00  1064170.0  2338552.0  2385560.00\n",
       "tasa                      33.93       33.93        0.3        0.3       33.93\n",
       "saldo_capital        1357387.00   392262.00   211724.0   828993.0  1997956.00\n",
       "saldo_Ahorro           33438.00        0.00        0.0        0.0        0.00\n",
       "Antiguedad_en_meses       12.00       12.00       12.0       12.0       12.00\n",
       "Max_dias_mora              0.00        0.00        0.0        0.0        0.00\n",
       "plazo_dias               900.00      540.00      540.0      720.0      720.00\n",
       "Edad                      65.00       40.00       36.0       47.0       56.00\n",
       "mes_ult_desembolso        12.00       12.00        2.0       12.0        1.00\n",
       "C_Barranquilla             0.00        1.00        1.0        0.0        0.00\n",
       "C_Bogotá                   0.00        0.00        0.0        0.0        0.00\n",
       "C_Cali                     0.00        0.00        0.0        1.0        0.00\n",
       "C_Cartagena                1.00        0.00        0.0        0.0        1.00"
      ]
     },
     "execution_count": 337,
     "metadata": {},
     "output_type": "execute_result"
    }
   ],
   "source": [
    "X.head().T"
   ]
  },
  {
   "cell_type": "code",
   "execution_count": 338,
   "id": "dc315b06",
   "metadata": {
    "ExecuteTime": {
     "end_time": "2022-04-06T22:19:44.422170Z",
     "start_time": "2022-04-06T22:19:44.380776Z"
    }
   },
   "outputs": [],
   "source": [
    "import joblib\n",
    "mms = MinMaxScaler()\n",
    "mms.fit_transform( X[['Patrimonio']].values )\n",
    "joblib.dump(mms, 'parameter/scaler.gz')\n",
    "\n",
    "# pickle.dump( mms, open( 'parameter/Patrimonio.pkl', 'wb') )\n",
    "mms = joblib.load('parameter/scaler.gz')\n"
   ]
  },
  {
   "cell_type": "code",
   "execution_count": 341,
   "id": "72f9430a",
   "metadata": {
    "ExecuteTime": {
     "end_time": "2022-04-06T22:21:58.564801Z",
     "start_time": "2022-04-06T22:21:58.463817Z"
    }
   },
   "outputs": [
    {
     "data": {
      "text/plain": [
       "['parameter/mes_ult_desembolso.gz']"
      ]
     },
     "execution_count": 341,
     "metadata": {},
     "output_type": "execute_result"
    }
   ],
   "source": [
    "mms = MinMaxScaler()\n",
    "\n",
    "X['Patrimonio'] = my_scaler.fit_transform( X[['Patrimonio']].values )\n",
    "joblib.dump(mms, 'parameter/Patrimonio.gz')\n",
    "X['Ingresos_Mensuales'] = mms.fit_transform( X[['Ingresos_Mensuales']].values )\n",
    "joblib.dump(mms, 'parameter/Ingresos_Mensuales.gz')\n",
    "X['No_hijos'] = mms.fit_transform( X[['No_hijos']].values )\n",
    "joblib.dump(mms, 'parameter/No_hijos.gz')\n",
    "X['monto_credito'] = mms.fit_transform( X[['monto_credito']].values )\n",
    "joblib.dump(mms, 'parameter/monto_credito.gz')\n",
    "X['tasa'] = mms.fit_transform( X[['tasa']].values )\n",
    "joblib.dump(mms, 'parameter/tasa.gz')\n",
    "X['saldo_capital'] = mms.fit_transform( X[['saldo_capital']].values )\n",
    "joblib.dump(mms, 'parameter/saldo_capital.gz')\n",
    "X['saldo_Ahorro'] = mms.fit_transform( X[['saldo_Ahorro']].values )\n",
    "joblib.dump(mms, 'parameter/saldo_Ahorro.gz')\n",
    "X['Antiguedad_en_meses'] = mms.fit_transform( X[['Antiguedad_en_meses']].values )\n",
    "joblib.dump(mms, 'parameter/Antiguedad_en_meses.gz')\n",
    "X['Max_dias_mora'] = mms.fit_transform( X[['Max_dias_mora']].values )\n",
    "joblib.dump(mms, 'parameter/Max_dias_mora.gz')\n",
    "X['Edad'] = mms.fit_transform( X[['Edad']].values )\n",
    "joblib.dump(mms, 'parameter/Edad.gz')\n",
    "X['plazo_dias'] = mms.fit_transform( X[['plazo_dias']].values )\n",
    "joblib.dump(mms, 'parameter/plazo_dias.gz')\n",
    "X['mes_ult_desembolso'] = mms.fit_transform( X[['mes_ult_desembolso']].values )\n",
    "joblib.dump(mms, 'parameter/mes_ult_desembolso.gz')\n",
    "# X['semana_ult_desembolso'] = mms.fit_transform( X[['semana_ult_desembolso']].values )"
   ]
  },
  {
   "cell_type": "code",
   "execution_count": 344,
   "id": "b3dddaf9",
   "metadata": {
    "ExecuteTime": {
     "end_time": "2022-04-06T22:29:07.948283Z",
     "start_time": "2022-04-06T22:29:07.930270Z"
    }
   },
   "outputs": [],
   "source": [
    "prueba = joblib.load('parameter/Patrimonio.gz')"
   ]
  },
  {
   "cell_type": "code",
   "execution_count": 343,
   "id": "aa3a66c6",
   "metadata": {
    "ExecuteTime": {
     "end_time": "2022-04-06T22:28:33.910571Z",
     "start_time": "2022-04-06T22:28:33.896509Z"
    }
   },
   "outputs": [
    {
     "data": {
      "text/plain": [
       "array([[0.00527939],\n",
       "       [0.00683639],\n",
       "       [0.01265344],\n",
       "       ...,\n",
       "       [0.49807511],\n",
       "       [0.65860731],\n",
       "       [0.8035164 ]])"
      ]
     },
     "execution_count": 343,
     "metadata": {},
     "output_type": "execute_result"
    }
   ],
   "source": [
    "prueba.fit_transform(X[['Patrimonio']].values)"
   ]
  },
  {
   "cell_type": "code",
   "execution_count": null,
   "id": "aff92d76",
   "metadata": {},
   "outputs": [],
   "source": [
    " joblib.load('parameter/Patrimonio.gz').fit_transform( X[['Patrimonio']].values )\n",
    "test"
   ]
  },
  {
   "cell_type": "code",
   "execution_count": 340,
   "id": "26c48686",
   "metadata": {
    "ExecuteTime": {
     "end_time": "2022-04-06T22:19:52.301963Z",
     "start_time": "2022-04-06T22:19:52.277005Z"
    }
   },
   "outputs": [
    {
     "data": {
      "text/html": [
       "<div>\n",
       "<style scoped>\n",
       "    .dataframe tbody tr th:only-of-type {\n",
       "        vertical-align: middle;\n",
       "    }\n",
       "\n",
       "    .dataframe tbody tr th {\n",
       "        vertical-align: top;\n",
       "    }\n",
       "\n",
       "    .dataframe thead th {\n",
       "        text-align: right;\n",
       "    }\n",
       "</style>\n",
       "<table border=\"1\" class=\"dataframe\">\n",
       "  <thead>\n",
       "    <tr style=\"text-align: right;\">\n",
       "      <th></th>\n",
       "      <th>0</th>\n",
       "      <th>1</th>\n",
       "      <th>2</th>\n",
       "      <th>3</th>\n",
       "      <th>4</th>\n",
       "    </tr>\n",
       "  </thead>\n",
       "  <tbody>\n",
       "    <tr>\n",
       "      <th>Patrimonio</th>\n",
       "      <td>0.005279</td>\n",
       "      <td>0.006836</td>\n",
       "      <td>0.012653</td>\n",
       "      <td>0.013054</td>\n",
       "      <td>0.042151</td>\n",
       "    </tr>\n",
       "    <tr>\n",
       "      <th>Ingresos_Mensuales</th>\n",
       "      <td>0.623255</td>\n",
       "      <td>0.260425</td>\n",
       "      <td>0.599317</td>\n",
       "      <td>0.195807</td>\n",
       "      <td>0.550401</td>\n",
       "    </tr>\n",
       "    <tr>\n",
       "      <th>No_hijos</th>\n",
       "      <td>0.000000</td>\n",
       "      <td>0.333333</td>\n",
       "      <td>0.333333</td>\n",
       "      <td>0.333333</td>\n",
       "      <td>0.000000</td>\n",
       "    </tr>\n",
       "    <tr>\n",
       "      <th>monto_credito</th>\n",
       "      <td>0.126316</td>\n",
       "      <td>0.126316</td>\n",
       "      <td>0.080439</td>\n",
       "      <td>0.214584</td>\n",
       "      <td>0.219533</td>\n",
       "    </tr>\n",
       "    <tr>\n",
       "      <th>tasa</th>\n",
       "      <td>1.000000</td>\n",
       "      <td>1.000000</td>\n",
       "      <td>0.002965</td>\n",
       "      <td>0.002965</td>\n",
       "      <td>1.000000</td>\n",
       "    </tr>\n",
       "    <tr>\n",
       "      <th>saldo_capital</th>\n",
       "      <td>0.135127</td>\n",
       "      <td>0.037706</td>\n",
       "      <td>0.019483</td>\n",
       "      <td>0.081790</td>\n",
       "      <td>0.199786</td>\n",
       "    </tr>\n",
       "    <tr>\n",
       "      <th>saldo_Ahorro</th>\n",
       "      <td>0.209193</td>\n",
       "      <td>0.000000</td>\n",
       "      <td>0.000000</td>\n",
       "      <td>0.000000</td>\n",
       "      <td>0.000000</td>\n",
       "    </tr>\n",
       "    <tr>\n",
       "      <th>Antiguedad_en_meses</th>\n",
       "      <td>0.000000</td>\n",
       "      <td>0.000000</td>\n",
       "      <td>0.000000</td>\n",
       "      <td>0.000000</td>\n",
       "      <td>0.000000</td>\n",
       "    </tr>\n",
       "    <tr>\n",
       "      <th>Max_dias_mora</th>\n",
       "      <td>0.000000</td>\n",
       "      <td>0.000000</td>\n",
       "      <td>0.000000</td>\n",
       "      <td>0.000000</td>\n",
       "      <td>0.000000</td>\n",
       "    </tr>\n",
       "    <tr>\n",
       "      <th>plazo_dias</th>\n",
       "      <td>0.807692</td>\n",
       "      <td>0.423077</td>\n",
       "      <td>0.423077</td>\n",
       "      <td>0.615385</td>\n",
       "      <td>0.615385</td>\n",
       "    </tr>\n",
       "    <tr>\n",
       "      <th>Edad</th>\n",
       "      <td>0.937500</td>\n",
       "      <td>0.416667</td>\n",
       "      <td>0.333333</td>\n",
       "      <td>0.562500</td>\n",
       "      <td>0.750000</td>\n",
       "    </tr>\n",
       "    <tr>\n",
       "      <th>mes_ult_desembolso</th>\n",
       "      <td>1.000000</td>\n",
       "      <td>1.000000</td>\n",
       "      <td>0.090909</td>\n",
       "      <td>1.000000</td>\n",
       "      <td>0.000000</td>\n",
       "    </tr>\n",
       "    <tr>\n",
       "      <th>C_Barranquilla</th>\n",
       "      <td>0.000000</td>\n",
       "      <td>1.000000</td>\n",
       "      <td>1.000000</td>\n",
       "      <td>0.000000</td>\n",
       "      <td>0.000000</td>\n",
       "    </tr>\n",
       "    <tr>\n",
       "      <th>C_Bogotá</th>\n",
       "      <td>0.000000</td>\n",
       "      <td>0.000000</td>\n",
       "      <td>0.000000</td>\n",
       "      <td>0.000000</td>\n",
       "      <td>0.000000</td>\n",
       "    </tr>\n",
       "    <tr>\n",
       "      <th>C_Cali</th>\n",
       "      <td>0.000000</td>\n",
       "      <td>0.000000</td>\n",
       "      <td>0.000000</td>\n",
       "      <td>1.000000</td>\n",
       "      <td>0.000000</td>\n",
       "    </tr>\n",
       "    <tr>\n",
       "      <th>C_Cartagena</th>\n",
       "      <td>1.000000</td>\n",
       "      <td>0.000000</td>\n",
       "      <td>0.000000</td>\n",
       "      <td>0.000000</td>\n",
       "      <td>1.000000</td>\n",
       "    </tr>\n",
       "  </tbody>\n",
       "</table>\n",
       "</div>"
      ],
      "text/plain": [
       "                            0         1         2         3         4\n",
       "Patrimonio           0.005279  0.006836  0.012653  0.013054  0.042151\n",
       "Ingresos_Mensuales   0.623255  0.260425  0.599317  0.195807  0.550401\n",
       "No_hijos             0.000000  0.333333  0.333333  0.333333  0.000000\n",
       "monto_credito        0.126316  0.126316  0.080439  0.214584  0.219533\n",
       "tasa                 1.000000  1.000000  0.002965  0.002965  1.000000\n",
       "saldo_capital        0.135127  0.037706  0.019483  0.081790  0.199786\n",
       "saldo_Ahorro         0.209193  0.000000  0.000000  0.000000  0.000000\n",
       "Antiguedad_en_meses  0.000000  0.000000  0.000000  0.000000  0.000000\n",
       "Max_dias_mora        0.000000  0.000000  0.000000  0.000000  0.000000\n",
       "plazo_dias           0.807692  0.423077  0.423077  0.615385  0.615385\n",
       "Edad                 0.937500  0.416667  0.333333  0.562500  0.750000\n",
       "mes_ult_desembolso   1.000000  1.000000  0.090909  1.000000  0.000000\n",
       "C_Barranquilla       0.000000  1.000000  1.000000  0.000000  0.000000\n",
       "C_Bogotá             0.000000  0.000000  0.000000  0.000000  0.000000\n",
       "C_Cali               0.000000  0.000000  0.000000  1.000000  0.000000\n",
       "C_Cartagena          1.000000  0.000000  0.000000  0.000000  1.000000"
      ]
     },
     "execution_count": 340,
     "metadata": {},
     "output_type": "execute_result"
    }
   ],
   "source": [
    "X.head().T"
   ]
  },
  {
   "cell_type": "code",
   "execution_count": 303,
   "id": "a021503d",
   "metadata": {
    "ExecuteTime": {
     "end_time": "2022-04-06T21:29:49.453285Z",
     "start_time": "2022-04-06T21:29:49.414459Z"
    }
   },
   "outputs": [],
   "source": [
    "y_xgb = classifier2.predict(X)\n",
    "y_xgb_proba = classifier2.predict_proba(X)\n",
    "nueva = nueva.join(pd.DataFrame(y_xgb_proba))\n",
    "# nueva = nueva.join(pd.DataFrame(y_xgb))"
   ]
  },
  {
   "cell_type": "code",
   "execution_count": null,
   "id": "adc8d4f0",
   "metadata": {},
   "outputs": [],
   "source": []
  },
  {
   "cell_type": "code",
   "execution_count": 304,
   "id": "6c0fac44",
   "metadata": {
    "ExecuteTime": {
     "end_time": "2022-04-06T21:29:50.814711Z",
     "start_time": "2022-04-06T21:29:50.799084Z"
    }
   },
   "outputs": [
    {
     "data": {
      "text/plain": [
       "Aceptará Campaña\n",
       "0    943\n",
       "1    557\n",
       "dtype: int64"
      ]
     },
     "execution_count": 304,
     "metadata": {},
     "output_type": "execute_result"
    }
   ],
   "source": [
    "pd.DataFrame(y_xgb).rename(columns = {0:'Aceptará Campaña'}).value_counts('Aceptará Campaña')"
   ]
  },
  {
   "cell_type": "code",
   "execution_count": 305,
   "id": "fa7cdd6d",
   "metadata": {
    "ExecuteTime": {
     "end_time": "2022-04-06T21:29:54.085580Z",
     "start_time": "2022-04-06T21:29:54.074579Z"
    }
   },
   "outputs": [],
   "source": [
    "nueva = nueva.rename(columns={0:'Prob_no_aceptar',1:'Prob_aceptar'})"
   ]
  },
  {
   "cell_type": "code",
   "execution_count": 306,
   "id": "b6ac4f96",
   "metadata": {
    "ExecuteTime": {
     "end_time": "2022-04-06T21:29:55.420506Z",
     "start_time": "2022-04-06T21:29:55.367101Z"
    },
    "scrolled": true
   },
   "outputs": [
    {
     "data": {
      "text/html": [
       "<div>\n",
       "<style scoped>\n",
       "    .dataframe tbody tr th:only-of-type {\n",
       "        vertical-align: middle;\n",
       "    }\n",
       "\n",
       "    .dataframe tbody tr th {\n",
       "        vertical-align: top;\n",
       "    }\n",
       "\n",
       "    .dataframe thead th {\n",
       "        text-align: right;\n",
       "    }\n",
       "</style>\n",
       "<table border=\"1\" class=\"dataframe\">\n",
       "  <thead>\n",
       "    <tr style=\"text-align: right;\">\n",
       "      <th></th>\n",
       "      <th>Id_Cliente</th>\n",
       "      <th>Ciudad</th>\n",
       "      <th>Patrimonio</th>\n",
       "      <th>Ingresos_Mensuales</th>\n",
       "      <th>No_hijos</th>\n",
       "      <th>oficina</th>\n",
       "      <th>fecha_ult_desembolso</th>\n",
       "      <th>monto_credito</th>\n",
       "      <th>tasa</th>\n",
       "      <th>saldo_capital</th>\n",
       "      <th>saldo_Ahorro</th>\n",
       "      <th>Antiguedad_en_meses</th>\n",
       "      <th>Max_dias_mora</th>\n",
       "      <th>plazo_dias</th>\n",
       "      <th>Edad</th>\n",
       "      <th>mes_ult_desembolso</th>\n",
       "      <th>Prob_no_aceptar</th>\n",
       "      <th>Prob_aceptar</th>\n",
       "    </tr>\n",
       "  </thead>\n",
       "  <tbody>\n",
       "    <tr>\n",
       "      <th>223</th>\n",
       "      <td>428429</td>\n",
       "      <td>Barranquilla</td>\n",
       "      <td>29491633</td>\n",
       "      <td>942384</td>\n",
       "      <td>0</td>\n",
       "      <td>7032</td>\n",
       "      <td>2017-12-11</td>\n",
       "      <td>2000000</td>\n",
       "      <td>0.30</td>\n",
       "      <td>800822</td>\n",
       "      <td>7894</td>\n",
       "      <td>28</td>\n",
       "      <td>0</td>\n",
       "      <td>720</td>\n",
       "      <td>50</td>\n",
       "      <td>12</td>\n",
       "      <td>0.008211</td>\n",
       "      <td>0.991789</td>\n",
       "    </tr>\n",
       "    <tr>\n",
       "      <th>299</th>\n",
       "      <td>428996</td>\n",
       "      <td>Cali</td>\n",
       "      <td>51968117</td>\n",
       "      <td>890154</td>\n",
       "      <td>0</td>\n",
       "      <td>7064</td>\n",
       "      <td>2018-02-19</td>\n",
       "      <td>761000</td>\n",
       "      <td>33.93</td>\n",
       "      <td>734084</td>\n",
       "      <td>14473</td>\n",
       "      <td>35</td>\n",
       "      <td>0</td>\n",
       "      <td>1080</td>\n",
       "      <td>36</td>\n",
       "      <td>2</td>\n",
       "      <td>0.008292</td>\n",
       "      <td>0.991708</td>\n",
       "    </tr>\n",
       "    <tr>\n",
       "      <th>578</th>\n",
       "      <td>428788</td>\n",
       "      <td>Bogotá</td>\n",
       "      <td>44102289</td>\n",
       "      <td>857273</td>\n",
       "      <td>1</td>\n",
       "      <td>7030</td>\n",
       "      <td>2018-08-01</td>\n",
       "      <td>998337</td>\n",
       "      <td>33.93</td>\n",
       "      <td>935853</td>\n",
       "      <td>35364</td>\n",
       "      <td>62</td>\n",
       "      <td>15</td>\n",
       "      <td>720</td>\n",
       "      <td>57</td>\n",
       "      <td>8</td>\n",
       "      <td>0.009482</td>\n",
       "      <td>0.990518</td>\n",
       "    </tr>\n",
       "    <tr>\n",
       "      <th>250</th>\n",
       "      <td>428357</td>\n",
       "      <td>Barranquilla</td>\n",
       "      <td>26817176</td>\n",
       "      <td>1171595</td>\n",
       "      <td>0</td>\n",
       "      <td>4030</td>\n",
       "      <td>2017-12-31</td>\n",
       "      <td>1200000</td>\n",
       "      <td>33.93</td>\n",
       "      <td>387611</td>\n",
       "      <td>4776</td>\n",
       "      <td>33</td>\n",
       "      <td>0</td>\n",
       "      <td>540</td>\n",
       "      <td>59</td>\n",
       "      <td>12</td>\n",
       "      <td>0.009703</td>\n",
       "      <td>0.990297</td>\n",
       "    </tr>\n",
       "    <tr>\n",
       "      <th>1080</th>\n",
       "      <td>428410</td>\n",
       "      <td>Barranquilla</td>\n",
       "      <td>28860888</td>\n",
       "      <td>1238345</td>\n",
       "      <td>1</td>\n",
       "      <td>4031</td>\n",
       "      <td>2017-12-24</td>\n",
       "      <td>2569840</td>\n",
       "      <td>33.93</td>\n",
       "      <td>1834870</td>\n",
       "      <td>36171</td>\n",
       "      <td>116</td>\n",
       "      <td>0</td>\n",
       "      <td>540</td>\n",
       "      <td>56</td>\n",
       "      <td>12</td>\n",
       "      <td>0.010613</td>\n",
       "      <td>0.989387</td>\n",
       "    </tr>\n",
       "    <tr>\n",
       "      <th>...</th>\n",
       "      <td>...</td>\n",
       "      <td>...</td>\n",
       "      <td>...</td>\n",
       "      <td>...</td>\n",
       "      <td>...</td>\n",
       "      <td>...</td>\n",
       "      <td>...</td>\n",
       "      <td>...</td>\n",
       "      <td>...</td>\n",
       "      <td>...</td>\n",
       "      <td>...</td>\n",
       "      <td>...</td>\n",
       "      <td>...</td>\n",
       "      <td>...</td>\n",
       "      <td>...</td>\n",
       "      <td>...</td>\n",
       "      <td>...</td>\n",
       "      <td>...</td>\n",
       "    </tr>\n",
       "    <tr>\n",
       "      <th>1465</th>\n",
       "      <td>428203</td>\n",
       "      <td>Cali</td>\n",
       "      <td>21732350</td>\n",
       "      <td>2060181</td>\n",
       "      <td>1</td>\n",
       "      <td>4011</td>\n",
       "      <td>2017-12-26</td>\n",
       "      <td>5000000</td>\n",
       "      <td>33.93</td>\n",
       "      <td>3672502</td>\n",
       "      <td>159843</td>\n",
       "      <td>120</td>\n",
       "      <td>22</td>\n",
       "      <td>1080</td>\n",
       "      <td>40</td>\n",
       "      <td>12</td>\n",
       "      <td>0.993682</td>\n",
       "      <td>0.006318</td>\n",
       "    </tr>\n",
       "    <tr>\n",
       "      <th>941</th>\n",
       "      <td>427787</td>\n",
       "      <td>Cali</td>\n",
       "      <td>5296084</td>\n",
       "      <td>1631837</td>\n",
       "      <td>1</td>\n",
       "      <td>7064</td>\n",
       "      <td>2017-12-19</td>\n",
       "      <td>2300000</td>\n",
       "      <td>33.93</td>\n",
       "      <td>2155778</td>\n",
       "      <td>37189</td>\n",
       "      <td>95</td>\n",
       "      <td>0</td>\n",
       "      <td>720</td>\n",
       "      <td>59</td>\n",
       "      <td>12</td>\n",
       "      <td>0.993727</td>\n",
       "      <td>0.006273</td>\n",
       "    </tr>\n",
       "    <tr>\n",
       "      <th>817</th>\n",
       "      <td>428051</td>\n",
       "      <td>Cali</td>\n",
       "      <td>15650601</td>\n",
       "      <td>1386004</td>\n",
       "      <td>1</td>\n",
       "      <td>7032</td>\n",
       "      <td>2017-11-21</td>\n",
       "      <td>3700000</td>\n",
       "      <td>0.30</td>\n",
       "      <td>2446942</td>\n",
       "      <td>52263</td>\n",
       "      <td>88</td>\n",
       "      <td>0</td>\n",
       "      <td>1080</td>\n",
       "      <td>67</td>\n",
       "      <td>11</td>\n",
       "      <td>0.993738</td>\n",
       "      <td>0.006262</td>\n",
       "    </tr>\n",
       "    <tr>\n",
       "      <th>275</th>\n",
       "      <td>428025</td>\n",
       "      <td>Cali</td>\n",
       "      <td>14663476</td>\n",
       "      <td>2030216</td>\n",
       "      <td>1</td>\n",
       "      <td>7032</td>\n",
       "      <td>2017-11-25</td>\n",
       "      <td>1564170</td>\n",
       "      <td>0.30</td>\n",
       "      <td>310799</td>\n",
       "      <td>9108</td>\n",
       "      <td>34</td>\n",
       "      <td>6</td>\n",
       "      <td>540</td>\n",
       "      <td>24</td>\n",
       "      <td>11</td>\n",
       "      <td>0.993827</td>\n",
       "      <td>0.006173</td>\n",
       "    </tr>\n",
       "    <tr>\n",
       "      <th>875</th>\n",
       "      <td>428266</td>\n",
       "      <td>Cali</td>\n",
       "      <td>23450057</td>\n",
       "      <td>1702631</td>\n",
       "      <td>2</td>\n",
       "      <td>7030</td>\n",
       "      <td>2018-05-01</td>\n",
       "      <td>2300000</td>\n",
       "      <td>33.93</td>\n",
       "      <td>1766850</td>\n",
       "      <td>21771</td>\n",
       "      <td>93</td>\n",
       "      <td>0</td>\n",
       "      <td>450</td>\n",
       "      <td>59</td>\n",
       "      <td>5</td>\n",
       "      <td>0.994302</td>\n",
       "      <td>0.005698</td>\n",
       "    </tr>\n",
       "  </tbody>\n",
       "</table>\n",
       "<p>1500 rows × 18 columns</p>\n",
       "</div>"
      ],
      "text/plain": [
       "     Id_Cliente        Ciudad  Patrimonio  Ingresos_Mensuales  No_hijos  \\\n",
       "223      428429  Barranquilla    29491633              942384         0   \n",
       "299      428996          Cali    51968117              890154         0   \n",
       "578      428788        Bogotá    44102289              857273         1   \n",
       "250      428357  Barranquilla    26817176             1171595         0   \n",
       "1080     428410  Barranquilla    28860888             1238345         1   \n",
       "...         ...           ...         ...                 ...       ...   \n",
       "1465     428203          Cali    21732350             2060181         1   \n",
       "941      427787          Cali     5296084             1631837         1   \n",
       "817      428051          Cali    15650601             1386004         1   \n",
       "275      428025          Cali    14663476             2030216         1   \n",
       "875      428266          Cali    23450057             1702631         2   \n",
       "\n",
       "     oficina fecha_ult_desembolso  monto_credito   tasa  saldo_capital  \\\n",
       "223     7032           2017-12-11        2000000   0.30         800822   \n",
       "299     7064           2018-02-19         761000  33.93         734084   \n",
       "578     7030           2018-08-01         998337  33.93         935853   \n",
       "250     4030           2017-12-31        1200000  33.93         387611   \n",
       "1080    4031           2017-12-24        2569840  33.93        1834870   \n",
       "...      ...                  ...            ...    ...            ...   \n",
       "1465    4011           2017-12-26        5000000  33.93        3672502   \n",
       "941     7064           2017-12-19        2300000  33.93        2155778   \n",
       "817     7032           2017-11-21        3700000   0.30        2446942   \n",
       "275     7032           2017-11-25        1564170   0.30         310799   \n",
       "875     7030           2018-05-01        2300000  33.93        1766850   \n",
       "\n",
       "      saldo_Ahorro  Antiguedad_en_meses  Max_dias_mora  plazo_dias  Edad  \\\n",
       "223           7894                   28              0         720    50   \n",
       "299          14473                   35              0        1080    36   \n",
       "578          35364                   62             15         720    57   \n",
       "250           4776                   33              0         540    59   \n",
       "1080         36171                  116              0         540    56   \n",
       "...            ...                  ...            ...         ...   ...   \n",
       "1465        159843                  120             22        1080    40   \n",
       "941          37189                   95              0         720    59   \n",
       "817          52263                   88              0        1080    67   \n",
       "275           9108                   34              6         540    24   \n",
       "875          21771                   93              0         450    59   \n",
       "\n",
       "      mes_ult_desembolso  Prob_no_aceptar  Prob_aceptar  \n",
       "223                   12         0.008211      0.991789  \n",
       "299                    2         0.008292      0.991708  \n",
       "578                    8         0.009482      0.990518  \n",
       "250                   12         0.009703      0.990297  \n",
       "1080                  12         0.010613      0.989387  \n",
       "...                  ...              ...           ...  \n",
       "1465                  12         0.993682      0.006318  \n",
       "941                   12         0.993727      0.006273  \n",
       "817                   11         0.993738      0.006262  \n",
       "275                   11         0.993827      0.006173  \n",
       "875                    5         0.994302      0.005698  \n",
       "\n",
       "[1500 rows x 18 columns]"
      ]
     },
     "execution_count": 306,
     "metadata": {},
     "output_type": "execute_result"
    }
   ],
   "source": [
    "nueva.sort_values('Prob_aceptar', ascending = False)"
   ]
  },
  {
   "cell_type": "code",
   "execution_count": null,
   "id": "ea989cf3",
   "metadata": {},
   "outputs": [],
   "source": []
  }
 ],
 "metadata": {
  "kernelspec": {
   "display_name": "Python 3 (ipykernel)",
   "language": "python",
   "name": "python3"
  },
  "language_info": {
   "codemirror_mode": {
    "name": "ipython",
    "version": 3
   },
   "file_extension": ".py",
   "mimetype": "text/x-python",
   "name": "python",
   "nbconvert_exporter": "python",
   "pygments_lexer": "ipython3",
   "version": "3.9.7"
  },
  "toc": {
   "base_numbering": 1,
   "nav_menu": {},
   "number_sections": true,
   "sideBar": true,
   "skip_h1_title": false,
   "title_cell": "Table of Contents",
   "title_sidebar": "Contents",
   "toc_cell": false,
   "toc_position": {},
   "toc_section_display": true,
   "toc_window_display": false
  },
  "varInspector": {
   "cols": {
    "lenName": 16,
    "lenType": 16,
    "lenVar": 40
   },
   "kernels_config": {
    "python": {
     "delete_cmd_postfix": "",
     "delete_cmd_prefix": "del ",
     "library": "var_list.py",
     "varRefreshCmd": "print(var_dic_list())"
    },
    "r": {
     "delete_cmd_postfix": ") ",
     "delete_cmd_prefix": "rm(",
     "library": "var_list.r",
     "varRefreshCmd": "cat(var_dic_list()) "
    }
   },
   "types_to_exclude": [
    "module",
    "function",
    "builtin_function_or_method",
    "instance",
    "_Feature"
   ],
   "window_display": false
  }
 },
 "nbformat": 4,
 "nbformat_minor": 5
}
