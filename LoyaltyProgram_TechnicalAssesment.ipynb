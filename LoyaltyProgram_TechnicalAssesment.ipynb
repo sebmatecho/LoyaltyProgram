{
 "cells": [
  {
   "cell_type": "markdown",
   "id": "1ec5d62a",
   "metadata": {
    "ExecuteTime": {
     "end_time": "2022-04-04T00:21:31.968993Z",
     "start_time": "2022-04-04T00:21:31.724958Z"
    }
   },
   "source": [
    "# Technical Assesment\n",
    "Author: [Sébastien Lozano Forero](https://www.linkedin.com/in/sebastienlozanoforero/)\n",
    "\n",
    "April, 2022. \n",
    "\n",
    "This project is based on an technical assessment used by a Colombian bank to fill the position of Data Scientist. Data was modified shared in a modified version not containing any identification information. Currency within this project is set to Colombian pesos. "
   ]
  },
  {
   "cell_type": "markdown",
   "id": "d850e848",
   "metadata": {
    "ExecuteTime": {
     "end_time": "2022-04-03T17:47:24.040953Z",
     "start_time": "2022-04-03T17:47:24.034944Z"
    }
   },
   "source": [
    "# Loading libraries"
   ]
  },
  {
   "cell_type": "code",
   "execution_count": 284,
   "id": "2c6b5509",
   "metadata": {
    "ExecuteTime": {
     "end_time": "2022-04-15T20:55:03.287913Z",
     "start_time": "2022-04-15T20:55:03.050834Z"
    }
   },
   "outputs": [],
   "source": [
    "import pandas as pd\n",
    "import matplotlib.pyplot as plt\n",
    "import numpy as np\n",
    "%matplotlib inline\n",
    "import seaborn as sns\n",
    "import xgboost as xgb\n",
    "import joblib \n",
    "\n",
    "from matplotlib import colors\n",
    "from matplotlib.ticker import PercentFormatter\n",
    "from pandas_profiling import ProfileReport\n",
    "\n",
    "\n",
    "from bayes_opt import BayesianOptimization\n",
    "from sklearn.metrics import mean_squared_error\n",
    "from sklearn.neighbors import KNeighborsClassifier\n",
    "from sklearn.dummy import DummyClassifier\n",
    "from sklearn.naive_bayes import GaussianNB\n",
    "from sklearn.linear_model import LogisticRegression\n",
    "from sklearn import datasets, metrics, model_selection, svm\n",
    "from sklearn.metrics import plot_roc_curve\n",
    "from sklearn.model_selection import cross_val_score\n",
    "from sklearn.ensemble import RandomForestClassifier\n",
    "from sklearn.metrics import confusion_matrix\n",
    "from sklearn.model_selection import train_test_split\n",
    "from sklearn.ensemble import RandomForestRegressor\n",
    "from sklearn.preprocessing import MinMaxScaler\n",
    "# from boruta import BorutaPy\n",
    "import natsort\n",
    "import session_info"
   ]
  },
  {
   "cell_type": "code",
   "execution_count": 286,
   "id": "dce974e5",
   "metadata": {
    "ExecuteTime": {
     "end_time": "2022-04-15T21:42:41.504431Z",
     "start_time": "2022-04-15T21:42:41.370839Z"
    }
   },
   "outputs": [
    {
     "name": "stdout",
     "output_type": "stream",
     "text": [
      "-----\n",
      "autopep8            1.6.0\n",
      "bayes_opt           NA\n",
      "ipykernel           6.4.1\n",
      "joblib              1.0.1\n",
      "matplotlib          3.4.3\n",
      "natsort             8.1.0\n",
      "numpy               1.22.0\n",
      "pandas              1.3.5\n",
      "pandas_profiling    3.1.0\n",
      "seaborn             0.11.2\n",
      "session_info        1.0.0\n",
      "sklearn             1.0.2\n",
      "xgboost             1.4.2\n",
      "-----\n",
      "IPython             7.31.1\n",
      "jupyter_client      6.1.12\n",
      "jupyter_core        4.9.1\n",
      "jupyterlab          3.2.9\n",
      "notebook            6.4.8\n",
      "-----\n",
      "Python 3.9.7 (default, Sep 16 2021, 16:59:28) [MSC v.1916 64 bit (AMD64)]\n",
      "Windows-10-10.0.19043-SP0\n",
      "-----\n",
      "Session information updated at 2022-04-15 16:42\n"
     ]
    }
   ],
   "source": [
    "session_info.show(html=False)"
   ]
  },
  {
   "cell_type": "markdown",
   "id": "bfd4ecd8",
   "metadata": {
    "ExecuteTime": {
     "end_time": "2022-04-03T17:47:39.585379Z",
     "start_time": "2022-04-03T17:47:39.579368Z"
    }
   },
   "source": [
    "# Data Loading"
   ]
  },
  {
   "cell_type": "code",
   "execution_count": 181,
   "id": "139958c6",
   "metadata": {
    "ExecuteTime": {
     "end_time": "2022-04-15T13:59:16.069771Z",
     "start_time": "2022-04-15T13:59:15.910324Z"
    },
    "scrolled": true
   },
   "outputs": [],
   "source": [
    "data = pd.read_csv('Base_campana_DC.csv',encoding = \"ISO-8859-1\", sep =';',parse_dates=['fecha_ult_desembolso'], \n",
    "                  dtype = {\n",
    "                      'Id_Cliente':str,\n",
    "                      'Ciudad':str,\n",
    "                      ' Patrimonio ':int,\n",
    "                      ' Ingresos_Mensuales ':int,\n",
    "                      'No_hijos':int,\n",
    "                      'oficina':str,\n",
    "                      'monto_credito':int,\n",
    "                      'tasa':float,\n",
    "                      'saldo_capital':int,\n",
    "                      'Antiguedad_en_meses':int,\n",
    "                      'Max_dias_mora':int,\n",
    "                      'plazo_dias':int,\n",
    "                      'Edad':int,\n",
    "                      'Acepta_Campaña':str,\n",
    "                  })\n"
   ]
  },
  {
   "cell_type": "markdown",
   "id": "29e7c7bf",
   "metadata": {
    "ExecuteTime": {
     "end_time": "2022-04-03T17:48:04.685498Z",
     "start_time": "2022-04-03T17:48:04.677486Z"
    }
   },
   "source": [
    "## Checking variables names"
   ]
  },
  {
   "cell_type": "code",
   "execution_count": 182,
   "id": "cacd8889",
   "metadata": {
    "ExecuteTime": {
     "end_time": "2022-04-15T13:59:16.681772Z",
     "start_time": "2022-04-15T13:59:16.652771Z"
    }
   },
   "outputs": [
    {
     "data": {
      "text/plain": [
       "Index(['Id_Cliente', 'Ciudad', ' Patrimonio ', ' Ingresos_Mensuales ',\n",
       "       'No_hijos', 'oficina', 'fecha_ult_desembolso', 'monto_credito', 'tasa',\n",
       "       'saldo_capital', 'saldo_Ahorro', 'Antiguedad_en_meses', 'Max_dias_mora',\n",
       "       'plazo_dias', 'Edad', 'Acepta_Campaña'],\n",
       "      dtype='object')"
      ]
     },
     "execution_count": 182,
     "metadata": {},
     "output_type": "execute_result"
    }
   ],
   "source": [
    "data.columns"
   ]
  },
  {
   "cell_type": "code",
   "execution_count": 183,
   "id": "e944929b",
   "metadata": {
    "ExecuteTime": {
     "end_time": "2022-04-15T13:59:17.297792Z",
     "start_time": "2022-04-15T13:59:17.253770Z"
    }
   },
   "outputs": [],
   "source": [
    "data = data.rename(columns = {' Ingresos_Mensuales ':'Ingresos_Mensuales',\n",
    "                              ' Patrimonio ':'Patrimonio'})"
   ]
  },
  {
   "cell_type": "markdown",
   "id": "f462a77e",
   "metadata": {},
   "source": [
    "## Chequing Data types"
   ]
  },
  {
   "cell_type": "code",
   "execution_count": 184,
   "id": "74dbe8fb",
   "metadata": {
    "ExecuteTime": {
     "end_time": "2022-04-15T13:59:17.884515Z",
     "start_time": "2022-04-15T13:59:17.871506Z"
    }
   },
   "outputs": [
    {
     "data": {
      "text/plain": [
       "Id_Cliente                      object\n",
       "Ciudad                          object\n",
       "Patrimonio                       int32\n",
       "Ingresos_Mensuales               int32\n",
       "No_hijos                         int32\n",
       "oficina                         object\n",
       "fecha_ult_desembolso    datetime64[ns]\n",
       "monto_credito                    int32\n",
       "tasa                           float64\n",
       "saldo_capital                    int32\n",
       "saldo_Ahorro                     int64\n",
       "Antiguedad_en_meses              int32\n",
       "Max_dias_mora                    int32\n",
       "plazo_dias                       int32\n",
       "Edad                             int32\n",
       "Acepta_Campaña                  object\n",
       "dtype: object"
      ]
     },
     "execution_count": 184,
     "metadata": {},
     "output_type": "execute_result"
    }
   ],
   "source": [
    "data.dtypes"
   ]
  },
  {
   "cell_type": "markdown",
   "id": "0ae1e06b",
   "metadata": {},
   "source": [
    "# Exploratory and Descriptiva Analysis (EDA)"
   ]
  },
  {
   "cell_type": "code",
   "execution_count": 185,
   "id": "3c0cf233",
   "metadata": {
    "ExecuteTime": {
     "end_time": "2022-04-15T13:59:18.498126Z",
     "start_time": "2022-04-15T13:59:18.480123Z"
    }
   },
   "outputs": [],
   "source": [
    "# prof = ProfileReport(data)\n",
    "# prof.to_file(output_file='output.html')"
   ]
  },
  {
   "cell_type": "code",
   "execution_count": 186,
   "id": "4c8327fd",
   "metadata": {
    "ExecuteTime": {
     "end_time": "2022-04-15T13:59:19.098123Z",
     "start_time": "2022-04-15T13:59:19.039125Z"
    }
   },
   "outputs": [],
   "source": [
    "num_attributes = data.select_dtypes( include=['int32', 'float64'] )\n",
    "cat_attributes = data.select_dtypes( exclude=['int32', 'float64', 'datetime64[ns]'] )"
   ]
  },
  {
   "cell_type": "code",
   "execution_count": 187,
   "id": "a8bed8e1",
   "metadata": {
    "ExecuteTime": {
     "end_time": "2022-04-15T13:59:19.713125Z",
     "start_time": "2022-04-15T13:59:19.700122Z"
    }
   },
   "outputs": [],
   "source": [
    "# sns.pairplot(num_attributes)"
   ]
  },
  {
   "cell_type": "code",
   "execution_count": 188,
   "id": "00df3740",
   "metadata": {
    "ExecuteTime": {
     "end_time": "2022-04-15T13:59:20.362702Z",
     "start_time": "2022-04-15T13:59:20.302595Z"
    }
   },
   "outputs": [
    {
     "name": "stderr",
     "output_type": "stream",
     "text": [
      "C:\\Users\\Windows\\AppData\\Local\\Temp/ipykernel_13772/1843789318.py:2: FutureWarning: Series.dt.weekofyear and Series.dt.week have been deprecated.  Please use Series.dt.isocalendar().week instead.\n",
      "  data['semana_ult_desembolso'] = data['fecha_ult_desembolso'].dt.weekofyear\n"
     ]
    }
   ],
   "source": [
    "data['mes_ult_desembolso'] = data['fecha_ult_desembolso'].dt.month\n",
    "data['semana_ult_desembolso'] = data['fecha_ult_desembolso'].dt.weekofyear"
   ]
  },
  {
   "cell_type": "markdown",
   "id": "d62bab77",
   "metadata": {},
   "source": [
    "## Data Filtering"
   ]
  },
  {
   "cell_type": "code",
   "execution_count": 189,
   "id": "e0b95c5b",
   "metadata": {
    "ExecuteTime": {
     "end_time": "2022-04-15T13:59:21.005404Z",
     "start_time": "2022-04-15T13:59:20.977410Z"
    },
    "scrolled": false
   },
   "outputs": [
    {
     "data": {
      "text/plain": [
       "0    932\n",
       "2    872\n",
       "1    816\n",
       "3      7\n",
       "4      1\n",
       "Name: No_hijos, dtype: int64"
      ]
     },
     "execution_count": 189,
     "metadata": {},
     "output_type": "execute_result"
    }
   ],
   "source": [
    "data['No_hijos'].value_counts()"
   ]
  },
  {
   "cell_type": "markdown",
   "id": "0de2f8bb",
   "metadata": {
    "ExecuteTime": {
     "end_time": "2022-04-03T18:36:41.546449Z",
     "start_time": "2022-04-03T18:36:41.537448Z"
    }
   },
   "source": [
    "Queremos filtrar valores muy altos en ingresos o números de hijos (hay un cliente con ingresos de 26 millones al mes y cuatro hijos)."
   ]
  },
  {
   "cell_type": "code",
   "execution_count": 190,
   "id": "913839e5",
   "metadata": {
    "ExecuteTime": {
     "end_time": "2022-04-15T13:59:21.592404Z",
     "start_time": "2022-04-15T13:59:21.546407Z"
    }
   },
   "outputs": [],
   "source": [
    "data = data[(data['Ingresos_Mensuales'] != data['Ingresos_Mensuales'].max())&\n",
    "            (data['No_hijos'] <3)]"
   ]
  },
  {
   "cell_type": "markdown",
   "id": "92ee92d3",
   "metadata": {},
   "source": [
    "## Data preparation"
   ]
  },
  {
   "cell_type": "code",
   "execution_count": 191,
   "id": "9428414d",
   "metadata": {
    "ExecuteTime": {
     "end_time": "2022-04-15T13:59:22.288407Z",
     "start_time": "2022-04-15T13:59:22.278409Z"
    }
   },
   "outputs": [
    {
     "data": {
      "text/plain": [
       "Index(['Id_Cliente', 'Ciudad', 'Patrimonio', 'Ingresos_Mensuales', 'No_hijos',\n",
       "       'oficina', 'fecha_ult_desembolso', 'monto_credito', 'tasa',\n",
       "       'saldo_capital', 'saldo_Ahorro', 'Antiguedad_en_meses', 'Max_dias_mora',\n",
       "       'plazo_dias', 'Edad', 'Acepta_Campaña', 'mes_ult_desembolso',\n",
       "       'semana_ult_desembolso'],\n",
       "      dtype='object')"
      ]
     },
     "execution_count": 191,
     "metadata": {},
     "output_type": "execute_result"
    }
   ],
   "source": [
    "data.columns"
   ]
  },
  {
   "cell_type": "code",
   "execution_count": 192,
   "id": "e2580cb6",
   "metadata": {
    "ExecuteTime": {
     "end_time": "2022-04-15T13:59:23.064408Z",
     "start_time": "2022-04-15T13:59:23.051409Z"
    }
   },
   "outputs": [],
   "source": [
    "X = data[[ 'Patrimonio', 'Ingresos_Mensuales', 'No_hijos',\n",
    "       'monto_credito', 'tasa',\n",
    "       'saldo_capital', 'saldo_Ahorro', 'Antiguedad_en_meses', 'Max_dias_mora',\n",
    "       'plazo_dias', 'Edad', 'mes_ult_desembolso']]\n",
    "y  = data['Acepta_Campaña']"
   ]
  },
  {
   "cell_type": "code",
   "execution_count": 193,
   "id": "be672d47",
   "metadata": {
    "ExecuteTime": {
     "end_time": "2022-04-15T13:59:23.788401Z",
     "start_time": "2022-04-15T13:59:23.762406Z"
    }
   },
   "outputs": [],
   "source": [
    "ciudad = pd.get_dummies(data['Ciudad'], prefix='C')"
   ]
  },
  {
   "cell_type": "code",
   "execution_count": 194,
   "id": "622ebeaf",
   "metadata": {
    "ExecuteTime": {
     "end_time": "2022-04-15T13:59:24.373406Z",
     "start_time": "2022-04-15T13:59:24.363405Z"
    }
   },
   "outputs": [],
   "source": [
    "X= X.join(ciudad)"
   ]
  },
  {
   "cell_type": "code",
   "execution_count": null,
   "id": "f030f56b",
   "metadata": {
    "ExecuteTime": {
     "end_time": "2022-04-14T20:06:06.573292Z",
     "start_time": "2022-04-14T20:06:06.562292Z"
    }
   },
   "outputs": [],
   "source": []
  },
  {
   "cell_type": "code",
   "execution_count": 195,
   "id": "17910940",
   "metadata": {
    "ExecuteTime": {
     "end_time": "2022-04-15T13:59:25.259409Z",
     "start_time": "2022-04-15T13:59:25.198406Z"
    }
   },
   "outputs": [
    {
     "data": {
      "text/plain": [
       "['parameter/Patrimonio.sav']"
      ]
     },
     "execution_count": 195,
     "metadata": {},
     "output_type": "execute_result"
    }
   ],
   "source": [
    "mms = MinMaxScaler()\n",
    "mms.fit_transform( X[['Patrimonio']].values )\n",
    "joblib.dump(mms,'parameter/Patrimonio.sav')"
   ]
  },
  {
   "cell_type": "code",
   "execution_count": 196,
   "id": "43745ce5",
   "metadata": {
    "ExecuteTime": {
     "end_time": "2022-04-15T13:59:25.861410Z",
     "start_time": "2022-04-15T13:59:25.816406Z"
    }
   },
   "outputs": [
    {
     "data": {
      "text/plain": [
       "['parameter/Ingresos_Mensuales.sav']"
      ]
     },
     "execution_count": 196,
     "metadata": {},
     "output_type": "execute_result"
    }
   ],
   "source": [
    "mms = MinMaxScaler()\n",
    "X['Ingresos_Mensuales'] = mms.fit_transform( X[['Ingresos_Mensuales']].values )\n",
    "joblib.dump(mms,'parameter/Ingresos_Mensuales.sav')"
   ]
  },
  {
   "cell_type": "code",
   "execution_count": 197,
   "id": "31e9db4e",
   "metadata": {
    "ExecuteTime": {
     "end_time": "2022-04-15T13:59:26.478557Z",
     "start_time": "2022-04-15T13:59:26.465558Z"
    }
   },
   "outputs": [
    {
     "data": {
      "text/plain": [
       "['parameter/No_hijos.sav']"
      ]
     },
     "execution_count": 197,
     "metadata": {},
     "output_type": "execute_result"
    }
   ],
   "source": [
    "mms = MinMaxScaler()\n",
    "X['No_hijos'] = mms.fit_transform( X[['No_hijos']].values )\n",
    "joblib.dump(mms,'parameter/No_hijos.sav')"
   ]
  },
  {
   "cell_type": "code",
   "execution_count": 198,
   "id": "232e3220",
   "metadata": {
    "ExecuteTime": {
     "end_time": "2022-04-15T13:59:27.090548Z",
     "start_time": "2022-04-15T13:59:27.074920Z"
    }
   },
   "outputs": [
    {
     "data": {
      "text/plain": [
       "['parameter/monto_credito.sav']"
      ]
     },
     "execution_count": 198,
     "metadata": {},
     "output_type": "execute_result"
    }
   ],
   "source": [
    "mms = MinMaxScaler()\n",
    "X['monto_credito'] = mms.fit_transform( X[['monto_credito']].values )\n",
    "joblib.dump(mms,'parameter/monto_credito.sav')"
   ]
  },
  {
   "cell_type": "code",
   "execution_count": 199,
   "id": "aff7b617",
   "metadata": {
    "ExecuteTime": {
     "end_time": "2022-04-15T13:59:27.658842Z",
     "start_time": "2022-04-15T13:59:27.645844Z"
    }
   },
   "outputs": [
    {
     "data": {
      "text/plain": [
       "['parameter/tasa.sav']"
      ]
     },
     "execution_count": 199,
     "metadata": {},
     "output_type": "execute_result"
    }
   ],
   "source": [
    "mms = MinMaxScaler()\n",
    "X['tasa'] = mms.fit_transform( X[['tasa']].values )\n",
    "joblib.dump(mms,'parameter/tasa.sav')"
   ]
  },
  {
   "cell_type": "code",
   "execution_count": 200,
   "id": "baafc476",
   "metadata": {
    "ExecuteTime": {
     "end_time": "2022-04-15T13:59:28.242857Z",
     "start_time": "2022-04-15T13:59:28.228842Z"
    }
   },
   "outputs": [
    {
     "data": {
      "text/plain": [
       "['parameter/saldo_capital.sav']"
      ]
     },
     "execution_count": 200,
     "metadata": {},
     "output_type": "execute_result"
    }
   ],
   "source": [
    "mms = MinMaxScaler()\n",
    "X['saldo_capital'] = mms.fit_transform( X[['saldo_capital']].values )\n",
    "joblib.dump(mms,'parameter/saldo_capital.sav')"
   ]
  },
  {
   "cell_type": "code",
   "execution_count": 201,
   "id": "ffabd322",
   "metadata": {
    "ExecuteTime": {
     "end_time": "2022-04-15T13:59:28.834841Z",
     "start_time": "2022-04-15T13:59:28.807841Z"
    }
   },
   "outputs": [
    {
     "data": {
      "text/plain": [
       "['parameter/saldo_Ahorro.sav']"
      ]
     },
     "execution_count": 201,
     "metadata": {},
     "output_type": "execute_result"
    }
   ],
   "source": [
    "mms = MinMaxScaler()\n",
    "X['saldo_Ahorro'] = mms.fit_transform( X[['saldo_Ahorro']].values )\n",
    "joblib.dump(mms,'parameter/saldo_Ahorro.sav')"
   ]
  },
  {
   "cell_type": "code",
   "execution_count": 202,
   "id": "2a4e9017",
   "metadata": {
    "ExecuteTime": {
     "end_time": "2022-04-15T13:59:29.443806Z",
     "start_time": "2022-04-15T13:59:29.430796Z"
    }
   },
   "outputs": [
    {
     "data": {
      "text/plain": [
       "['parameter/Antiguedad_en_meses.sav']"
      ]
     },
     "execution_count": 202,
     "metadata": {},
     "output_type": "execute_result"
    }
   ],
   "source": [
    "mms = MinMaxScaler()\n",
    "X['Antiguedad_en_meses'] = mms.fit_transform( X[['Antiguedad_en_meses']].values )\n",
    "joblib.dump(mms,'parameter/Antiguedad_en_meses.sav')"
   ]
  },
  {
   "cell_type": "code",
   "execution_count": 203,
   "id": "b183b134",
   "metadata": {
    "ExecuteTime": {
     "end_time": "2022-04-15T13:59:29.474794Z",
     "start_time": "2022-04-15T13:59:29.447798Z"
    }
   },
   "outputs": [
    {
     "data": {
      "text/plain": [
       "['parameter/Max_dias_mora.sav']"
      ]
     },
     "execution_count": 203,
     "metadata": {},
     "output_type": "execute_result"
    }
   ],
   "source": [
    "mms = MinMaxScaler()\n",
    "X['Max_dias_mora'] = mms.fit_transform( X[['Max_dias_mora']].values )\n",
    "joblib.dump(mms,'parameter/Max_dias_mora.sav')"
   ]
  },
  {
   "cell_type": "code",
   "execution_count": 204,
   "id": "4c44e5c1",
   "metadata": {
    "ExecuteTime": {
     "end_time": "2022-04-15T13:59:30.367803Z",
     "start_time": "2022-04-15T13:59:30.338794Z"
    }
   },
   "outputs": [
    {
     "data": {
      "text/plain": [
       "['parameter/Edad.sav']"
      ]
     },
     "execution_count": 204,
     "metadata": {},
     "output_type": "execute_result"
    }
   ],
   "source": [
    "mms = MinMaxScaler()\n",
    "X['Edad'] = mms.fit_transform( X[['Edad']].values )\n",
    "joblib.dump(mms,'parameter/Edad.sav')"
   ]
  },
  {
   "cell_type": "code",
   "execution_count": 205,
   "id": "d707cfcd",
   "metadata": {
    "ExecuteTime": {
     "end_time": "2022-04-15T13:59:31.506817Z",
     "start_time": "2022-04-15T13:59:31.477794Z"
    }
   },
   "outputs": [
    {
     "data": {
      "text/plain": [
       "['parameter/plazo_dias.sav']"
      ]
     },
     "execution_count": 205,
     "metadata": {},
     "output_type": "execute_result"
    }
   ],
   "source": [
    "mms = MinMaxScaler()\n",
    "X['plazo_dias'] = mms.fit_transform( X[['plazo_dias']].values )\n",
    "joblib.dump(mms,'parameter/plazo_dias.sav')"
   ]
  },
  {
   "cell_type": "code",
   "execution_count": 206,
   "id": "6fea8560",
   "metadata": {
    "ExecuteTime": {
     "end_time": "2022-04-15T13:59:32.136793Z",
     "start_time": "2022-04-15T13:59:32.091796Z"
    }
   },
   "outputs": [
    {
     "data": {
      "text/plain": [
       "['parameter/mes_ult_desembolso.sav']"
      ]
     },
     "execution_count": 206,
     "metadata": {},
     "output_type": "execute_result"
    }
   ],
   "source": [
    "mms = MinMaxScaler()\n",
    "X['mes_ult_desembolso'] = mms.fit_transform( X[['mes_ult_desembolso']].values )\n",
    "joblib.dump(mms,'parameter/mes_ult_desembolso.sav')"
   ]
  },
  {
   "cell_type": "code",
   "execution_count": 207,
   "id": "45e3fbf8",
   "metadata": {
    "ExecuteTime": {
     "end_time": "2022-04-15T13:59:32.763795Z",
     "start_time": "2022-04-15T13:59:32.750796Z"
    }
   },
   "outputs": [],
   "source": [
    "# X['semana_ult_desembolso'] = mms.fit_transform( X[['semana_ult_desembolso']].values )"
   ]
  },
  {
   "cell_type": "code",
   "execution_count": null,
   "id": "aa3a3de1",
   "metadata": {},
   "outputs": [],
   "source": []
  },
  {
   "cell_type": "code",
   "execution_count": null,
   "id": "17d8e34f",
   "metadata": {},
   "outputs": [],
   "source": []
  },
  {
   "cell_type": "code",
   "execution_count": null,
   "id": "40d5cd7d",
   "metadata": {},
   "outputs": [],
   "source": []
  },
  {
   "cell_type": "markdown",
   "id": "f9e9de27",
   "metadata": {
    "ExecuteTime": {
     "end_time": "2022-04-03T19:03:58.775214Z",
     "start_time": "2022-04-03T19:03:58.760213Z"
    }
   },
   "source": [
    "# Machine Learning model "
   ]
  },
  {
   "cell_type": "markdown",
   "id": "95a6d86a",
   "metadata": {},
   "source": [
    "## Data Splitting"
   ]
  },
  {
   "cell_type": "code",
   "execution_count": 208,
   "id": "7b43d385",
   "metadata": {
    "ExecuteTime": {
     "end_time": "2022-04-15T13:59:33.405184Z",
     "start_time": "2022-04-15T13:59:33.345186Z"
    }
   },
   "outputs": [],
   "source": [
    " X_train, X_test, y_train, y_test = train_test_split(X, y, test_size=0.25, random_state=42)"
   ]
  },
  {
   "cell_type": "markdown",
   "id": "9294fefe",
   "metadata": {},
   "source": [
    "## Baseline Clasiffier"
   ]
  },
  {
   "cell_type": "code",
   "execution_count": 209,
   "id": "71c2050b",
   "metadata": {
    "ExecuteTime": {
     "end_time": "2022-04-15T13:59:34.079185Z",
     "start_time": "2022-04-15T13:59:34.051185Z"
    }
   },
   "outputs": [],
   "source": [
    "dummy_clf = DummyClassifier(random_state=42).fit(X_train, y_train)\n",
    "y_pred_clf = dummy_clf.predict(X_test)"
   ]
  },
  {
   "cell_type": "code",
   "execution_count": 210,
   "id": "18329b70",
   "metadata": {
    "ExecuteTime": {
     "end_time": "2022-04-15T13:59:34.760184Z",
     "start_time": "2022-04-15T13:59:34.700187Z"
    }
   },
   "outputs": [
    {
     "name": "stdout",
     "output_type": "stream",
     "text": [
      "[[324   0]\n",
      " [331   0]]\n"
     ]
    }
   ],
   "source": [
    "cf_matrix = confusion_matrix(y_test, y_pred_clf)\n",
    "\n",
    "print(cf_matrix)"
   ]
  },
  {
   "cell_type": "code",
   "execution_count": 211,
   "id": "8bd18f18",
   "metadata": {
    "ExecuteTime": {
     "end_time": "2022-04-15T13:59:35.373183Z",
     "start_time": "2022-04-15T13:59:34.763188Z"
    }
   },
   "outputs": [
    {
     "data": {
      "image/png": "[encoded data removed]",
      "text/plain": [
       "<Figure size 432x288 with 2 Axes>"
      ]
     },
     "metadata": {
      "needs_background": "light"
     },
     "output_type": "display_data"
    }
   ],
   "source": [
    "ax = sns.heatmap(cf_matrix/np.sum(cf_matrix), annot=True, \n",
    "            fmt='.2%', cmap='Blues')\n",
    "\n",
    "ax.set_title('Matriz de confusión Clasificador Aleatorio\\n\\n');\n",
    "ax.set_xlabel('\\n Valores predichos ')\n",
    "ax.set_ylabel('Valores observados ');\n",
    "\n",
    "## Ticket labels - List must be in alphabetical order\n",
    "ax.xaxis.set_ticklabels(['False','True'])\n",
    "ax.yaxis.set_ticklabels(['False','True'])\n",
    "\n",
    "## Display the visualization of the Confusion Matrix.\n",
    "plt.show()"
   ]
  },
  {
   "cell_type": "code",
   "execution_count": 212,
   "id": "a8c329c8",
   "metadata": {
    "ExecuteTime": {
     "end_time": "2022-04-15T13:59:35.639184Z",
     "start_time": "2022-04-15T13:59:35.378188Z"
    }
   },
   "outputs": [
    {
     "name": "stderr",
     "output_type": "stream",
     "text": [
      "C:\\Users\\Windows\\AppData\\Roaming\\Python\\Python39\\site-packages\\sklearn\\utils\\deprecation.py:87: FutureWarning: Function plot_roc_curve is deprecated; Function :func:`plot_roc_curve` is deprecated in 1.0 and will be removed in 1.2. Use one of the class methods: :meth:`sklearn.metric.RocCurveDisplay.from_predictions` or :meth:`sklearn.metric.RocCurveDisplay.from_estimator`.\n",
      "  warnings.warn(msg, category=FutureWarning)\n"
     ]
    },
    {
     "data": {
      "text/plain": [
       "<sklearn.metrics._plot.roc_curve.RocCurveDisplay at 0x18ff9cba430>"
      ]
     },
     "execution_count": 212,
     "metadata": {},
     "output_type": "execute_result"
    },
    {
     "data": {
      "image/png": "[encoded data removed]",
      "text/plain": [
       "<Figure size 432x288 with 1 Axes>"
      ]
     },
     "metadata": {
      "needs_background": "light"
     },
     "output_type": "display_data"
    }
   ],
   "source": [
    "metrics.plot_roc_curve(dummy_clf, X_test, y_test) "
   ]
  },
  {
   "cell_type": "code",
   "execution_count": 213,
   "id": "81bcf05b",
   "metadata": {
    "ExecuteTime": {
     "end_time": "2022-04-15T13:59:36.378189Z",
     "start_time": "2022-04-15T13:59:36.270185Z"
    }
   },
   "outputs": [
    {
     "name": "stdout",
     "output_type": "stream",
     "text": [
      "Puntajes obtenidos: [0.50761421 0.50761421 0.50761421 0.50761421 0.51020408 0.51020408\n",
      " 0.51020408 0.51020408 0.50510204 0.50510204]\n",
      "Precisión de validación cruzada: 0.508 +/- 0.002\n"
     ]
    }
   ],
   "source": [
    "scores = cross_val_score(dummy_clf, X=X_train, y=y_train, cv=10, n_jobs=1)\n",
    " \n",
    "print('Puntajes obtenidos: %s' % scores)\n",
    "print('Precisión de validación cruzada: %.3f +/- %.3f' % (np.mean(scores),np.std(scores)))"
   ]
  },
  {
   "cell_type": "markdown",
   "id": "2261670b",
   "metadata": {},
   "source": [
    "## k-nearest neighbors \n"
   ]
  },
  {
   "cell_type": "code",
   "execution_count": 214,
   "id": "061c04e7",
   "metadata": {
    "ExecuteTime": {
     "end_time": "2022-04-15T13:59:38.314192Z",
     "start_time": "2022-04-15T13:59:38.189188Z"
    }
   },
   "outputs": [],
   "source": [
    "dummy_KNN = KNeighborsClassifier(n_neighbors=3).fit(X_train, y_train)\n",
    "y_pred_knn = dummy_KNN.predict(X_test)"
   ]
  },
  {
   "cell_type": "code",
   "execution_count": 215,
   "id": "f9487f45",
   "metadata": {
    "ExecuteTime": {
     "end_time": "2022-04-15T13:59:38.330189Z",
     "start_time": "2022-04-15T13:59:38.317188Z"
    }
   },
   "outputs": [
    {
     "name": "stdout",
     "output_type": "stream",
     "text": [
      "[[218 106]\n",
      " [104 227]]\n"
     ]
    }
   ],
   "source": [
    "cf_matrix = confusion_matrix(y_test, y_pred_knn)\n",
    "\n",
    "print(cf_matrix)"
   ]
  },
  {
   "cell_type": "code",
   "execution_count": 216,
   "id": "15384aee",
   "metadata": {
    "ExecuteTime": {
     "end_time": "2022-04-15T13:59:39.437190Z",
     "start_time": "2022-04-15T13:59:39.092188Z"
    }
   },
   "outputs": [
    {
     "data": {
      "image/png": "[encoded data removed]",
      "text/plain": [
       "<Figure size 432x288 with 2 Axes>"
      ]
     },
     "metadata": {
      "needs_background": "light"
     },
     "output_type": "display_data"
    }
   ],
   "source": [
    "ax = sns.heatmap(cf_matrix/np.sum(cf_matrix), annot=True, \n",
    "            fmt='.2%', cmap='Blues')\n",
    "\n",
    "ax.set_title('Matriz de confusión Regresión Logística\\n\\n');\n",
    "ax.set_xlabel('\\n Valores predichos ')\n",
    "ax.set_ylabel('Valores observados ');\n",
    "\n",
    "## Ticket labels - List must be in alphabetical order\n",
    "ax.xaxis.set_ticklabels(['False','True'])\n",
    "ax.yaxis.set_ticklabels(['False','True'])\n",
    "\n",
    "## Display the visualization of the Confusion Matrix.\n",
    "plt.show()"
   ]
  },
  {
   "cell_type": "code",
   "execution_count": 217,
   "id": "2044685f",
   "metadata": {
    "ExecuteTime": {
     "end_time": "2022-04-15T13:59:39.750185Z",
     "start_time": "2022-04-15T13:59:39.440192Z"
    }
   },
   "outputs": [
    {
     "name": "stderr",
     "output_type": "stream",
     "text": [
      "C:\\Users\\Windows\\AppData\\Roaming\\Python\\Python39\\site-packages\\sklearn\\utils\\deprecation.py:87: FutureWarning: Function plot_roc_curve is deprecated; Function :func:`plot_roc_curve` is deprecated in 1.0 and will be removed in 1.2. Use one of the class methods: :meth:`sklearn.metric.RocCurveDisplay.from_predictions` or :meth:`sklearn.metric.RocCurveDisplay.from_estimator`.\n",
      "  warnings.warn(msg, category=FutureWarning)\n"
     ]
    },
    {
     "data": {
      "text/plain": [
       "<sklearn.metrics._plot.roc_curve.RocCurveDisplay at 0x18ff79a5c10>"
      ]
     },
     "execution_count": 217,
     "metadata": {},
     "output_type": "execute_result"
    },
    {
     "data": {
      "image/png": "[encoded data removed]",
      "text/plain": [
       "<Figure size 432x288 with 1 Axes>"
      ]
     },
     "metadata": {
      "needs_background": "light"
     },
     "output_type": "display_data"
    }
   ],
   "source": [
    "metrics.plot_roc_curve(dummy_KNN, X_test, y_test) "
   ]
  },
  {
   "cell_type": "code",
   "execution_count": 218,
   "id": "e43053f7",
   "metadata": {
    "ExecuteTime": {
     "end_time": "2022-04-15T13:59:41.721188Z",
     "start_time": "2022-04-15T13:59:41.426186Z"
    }
   },
   "outputs": [
    {
     "name": "stdout",
     "output_type": "stream",
     "text": [
      "Puntajes obtenidos: [0.68020305 0.62944162 0.70050761 0.69543147 0.67346939 0.69387755\n",
      " 0.68877551 0.68877551 0.63265306 0.69387755]\n",
      "Precisión de validación cruzada: 0.678 +/- 0.024\n"
     ]
    }
   ],
   "source": [
    "scores = cross_val_score(dummy_KNN, X=X_train, y=y_train, cv=10, n_jobs=1)\n",
    " \n",
    "print('Puntajes obtenidos: %s' % scores)\n",
    "print('Precisión de validación cruzada: %.3f +/- %.3f' % (np.mean(scores),np.std(scores)))"
   ]
  },
  {
   "cell_type": "markdown",
   "id": "41fcc201",
   "metadata": {},
   "source": [
    "## Logistic Regression"
   ]
  },
  {
   "cell_type": "code",
   "execution_count": 219,
   "id": "7b2ea366",
   "metadata": {
    "ExecuteTime": {
     "end_time": "2022-04-15T13:59:42.349185Z",
     "start_time": "2022-04-15T13:59:42.257186Z"
    }
   },
   "outputs": [],
   "source": [
    "reg_log = LogisticRegression(random_state=0).fit(X_train, y_train)\n",
    "y_pred_reg_log = reg_log.predict(X_test)"
   ]
  },
  {
   "cell_type": "code",
   "execution_count": 220,
   "id": "66a8e4cb",
   "metadata": {
    "ExecuteTime": {
     "end_time": "2022-04-15T13:59:42.958185Z",
     "start_time": "2022-04-15T13:59:42.945187Z"
    }
   },
   "outputs": [
    {
     "name": "stdout",
     "output_type": "stream",
     "text": [
      "[[324   0]\n",
      " [331   0]]\n"
     ]
    }
   ],
   "source": [
    "cf_matrix = confusion_matrix(y_test, y_pred_reg_log)\n",
    "\n",
    "print(cf_matrix)"
   ]
  },
  {
   "cell_type": "code",
   "execution_count": 221,
   "id": "83a48663",
   "metadata": {
    "ExecuteTime": {
     "end_time": "2022-04-15T13:59:43.863190Z",
     "start_time": "2022-04-15T13:59:43.549185Z"
    },
    "scrolled": false
   },
   "outputs": [
    {
     "data": {
      "image/png": "[encoded data removed]",
      "text/plain": [
       "<Figure size 432x288 with 2 Axes>"
      ]
     },
     "metadata": {
      "needs_background": "light"
     },
     "output_type": "display_data"
    }
   ],
   "source": [
    "ax = sns.heatmap(cf_matrix/np.sum(cf_matrix), annot=True, \n",
    "            fmt='.2%', cmap='Blues')\n",
    "\n",
    "ax.set_title('Matriz de confusión Regresión Logística\\n\\n');\n",
    "ax.set_xlabel('\\n Valores predichos ')\n",
    "ax.set_ylabel('Valores observados ');\n",
    "\n",
    "## Ticket labels - List must be in alphabetical order\n",
    "ax.xaxis.set_ticklabels(['False','True'])\n",
    "ax.yaxis.set_ticklabels(['False','True'])\n",
    "\n",
    "## Display the visualization of the Confusion Matrix.\n",
    "plt.show()"
   ]
  },
  {
   "cell_type": "code",
   "execution_count": 222,
   "id": "f269b7b5",
   "metadata": {
    "ExecuteTime": {
     "end_time": "2022-04-15T13:59:44.132186Z",
     "start_time": "2022-04-15T13:59:43.865186Z"
    }
   },
   "outputs": [
    {
     "name": "stderr",
     "output_type": "stream",
     "text": [
      "C:\\Users\\Windows\\AppData\\Roaming\\Python\\Python39\\site-packages\\sklearn\\utils\\deprecation.py:87: FutureWarning: Function plot_roc_curve is deprecated; Function :func:`plot_roc_curve` is deprecated in 1.0 and will be removed in 1.2. Use one of the class methods: :meth:`sklearn.metric.RocCurveDisplay.from_predictions` or :meth:`sklearn.metric.RocCurveDisplay.from_estimator`.\n",
      "  warnings.warn(msg, category=FutureWarning)\n"
     ]
    },
    {
     "data": {
      "text/plain": [
       "<sklearn.metrics._plot.roc_curve.RocCurveDisplay at 0x18ff74a01c0>"
      ]
     },
     "execution_count": 222,
     "metadata": {},
     "output_type": "execute_result"
    },
    {
     "data": {
      "image/png": "[encoded data removed]",
      "text/plain": [
       "<Figure size 432x288 with 1 Axes>"
      ]
     },
     "metadata": {
      "needs_background": "light"
     },
     "output_type": "display_data"
    }
   ],
   "source": [
    "metrics.plot_roc_curve(reg_log, X_test, y_test) "
   ]
  },
  {
   "cell_type": "code",
   "execution_count": 223,
   "id": "b42d4ab3",
   "metadata": {
    "ExecuteTime": {
     "end_time": "2022-04-15T13:59:44.324184Z",
     "start_time": "2022-04-15T13:59:44.134187Z"
    }
   },
   "outputs": [
    {
     "name": "stdout",
     "output_type": "stream",
     "text": [
      "Puntajes obtenidos: [0.50761421 0.50761421 0.50761421 0.50761421 0.51020408 0.51020408\n",
      " 0.51020408 0.51020408 0.50510204 0.50510204]\n",
      "Precisión de validación cruzada: 0.508 +/- 0.002\n"
     ]
    }
   ],
   "source": [
    "scores = cross_val_score(reg_log, X=X_train, y=y_train, cv=10, n_jobs=1)\n",
    " \n",
    "print('Puntajes obtenidos: %s' % scores)\n",
    "print('Precisión de validación cruzada: %.3f +/- %.3f' % (np.mean(scores),np.std(scores)))"
   ]
  },
  {
   "cell_type": "markdown",
   "id": "bff76816",
   "metadata": {},
   "source": [
    "## Random Forest"
   ]
  },
  {
   "cell_type": "code",
   "execution_count": 224,
   "id": "22358607",
   "metadata": {
    "ExecuteTime": {
     "end_time": "2022-04-15T13:59:46.389189Z",
     "start_time": "2022-04-15T13:59:46.072186Z"
    }
   },
   "outputs": [],
   "source": [
    "rf =RandomForestClassifier(max_depth=2, random_state=0).fit( X_train, y_train )\n",
    "\n",
    "# prediction\n",
    "y_pred_rf = rf.predict( X_test)"
   ]
  },
  {
   "cell_type": "code",
   "execution_count": 225,
   "id": "0b93a068",
   "metadata": {
    "ExecuteTime": {
     "end_time": "2022-04-15T13:59:46.983186Z",
     "start_time": "2022-04-15T13:59:46.970189Z"
    }
   },
   "outputs": [
    {
     "name": "stdout",
     "output_type": "stream",
     "text": [
      "[[228  96]\n",
      " [ 95 236]]\n"
     ]
    }
   ],
   "source": [
    "cf_matrix = confusion_matrix(y_test, y_pred_rf)\n",
    "\n",
    "print(cf_matrix)"
   ]
  },
  {
   "cell_type": "code",
   "execution_count": 226,
   "id": "fc2568c1",
   "metadata": {
    "ExecuteTime": {
     "end_time": "2022-04-15T13:59:47.892208Z",
     "start_time": "2022-04-15T13:59:47.596210Z"
    }
   },
   "outputs": [
    {
     "data": {
      "image/png": "[encoded data removed]",
      "text/plain": [
       "<Figure size 432x288 with 2 Axes>"
      ]
     },
     "metadata": {
      "needs_background": "light"
     },
     "output_type": "display_data"
    }
   ],
   "source": [
    "ax = sns.heatmap(cf_matrix/np.sum(cf_matrix), annot=True, \n",
    "            fmt='.2%', cmap='Blues')\n",
    "\n",
    "ax.set_title('Matriz de confusión Bosque Aleatorio\\n\\n');\n",
    "ax.set_xlabel('\\n Valores predichos ')\n",
    "ax.set_ylabel('Valores observados ');\n",
    "\n",
    "## Ticket labels - List must be in alphabetical order\n",
    "ax.xaxis.set_ticklabels(['False','True'])\n",
    "ax.yaxis.set_ticklabels(['False','True'])\n",
    "\n",
    "## Display the visualization of the Confusion Matrix.\n",
    "plt.show()"
   ]
  },
  {
   "cell_type": "code",
   "execution_count": 227,
   "id": "9324b6e7",
   "metadata": {
    "ExecuteTime": {
     "end_time": "2022-04-15T13:59:48.799202Z",
     "start_time": "2022-04-15T13:59:48.508207Z"
    }
   },
   "outputs": [
    {
     "name": "stderr",
     "output_type": "stream",
     "text": [
      "C:\\Users\\Windows\\AppData\\Roaming\\Python\\Python39\\site-packages\\sklearn\\utils\\deprecation.py:87: FutureWarning: Function plot_roc_curve is deprecated; Function :func:`plot_roc_curve` is deprecated in 1.0 and will be removed in 1.2. Use one of the class methods: :meth:`sklearn.metric.RocCurveDisplay.from_predictions` or :meth:`sklearn.metric.RocCurveDisplay.from_estimator`.\n",
      "  warnings.warn(msg, category=FutureWarning)\n"
     ]
    },
    {
     "data": {
      "text/plain": [
       "<sklearn.metrics._plot.roc_curve.RocCurveDisplay at 0x18ffb0eafd0>"
      ]
     },
     "execution_count": 227,
     "metadata": {},
     "output_type": "execute_result"
    },
    {
     "data": {
      "image/png": "[encoded data removed]",
      "text/plain": [
       "<Figure size 432x288 with 1 Axes>"
      ]
     },
     "metadata": {
      "needs_background": "light"
     },
     "output_type": "display_data"
    }
   ],
   "source": [
    "metrics.plot_roc_curve(rf, X_test, y_test) "
   ]
  },
  {
   "cell_type": "code",
   "execution_count": 228,
   "id": "edca5572",
   "metadata": {
    "ExecuteTime": {
     "end_time": "2022-04-15T13:59:51.248280Z",
     "start_time": "2022-04-15T13:59:49.326253Z"
    }
   },
   "outputs": [
    {
     "name": "stdout",
     "output_type": "stream",
     "text": [
      "Puntajes obtenidos: [0.74111675 0.72081218 0.69035533 0.73604061 0.71938776 0.71938776\n",
      " 0.75       0.68877551 0.69897959 0.66836735]\n",
      "Precisión de validación cruzada: 0.713 +/- 0.025\n"
     ]
    }
   ],
   "source": [
    "scores = cross_val_score(rf, X=X_train, y=y_train, cv=10, n_jobs=1)\n",
    " \n",
    "print('Puntajes obtenidos: %s' % scores)\n",
    "print('Precisión de validación cruzada: %.3f +/- %.3f' % (np.mean(scores),np.std(scores)))"
   ]
  },
  {
   "cell_type": "markdown",
   "id": "2d7c65e5",
   "metadata": {
    "ExecuteTime": {
     "end_time": "2022-04-03T20:38:27.619348Z",
     "start_time": "2022-04-03T20:38:27.612639Z"
    }
   },
   "source": [
    "## Naive Bayes"
   ]
  },
  {
   "cell_type": "code",
   "execution_count": 229,
   "id": "952055ee",
   "metadata": {
    "ExecuteTime": {
     "end_time": "2022-04-15T13:59:51.835959Z",
     "start_time": "2022-04-15T13:59:51.792941Z"
    }
   },
   "outputs": [],
   "source": [
    "nb =GaussianNB().fit( X_train, y_train )\n",
    "\n",
    "# prediction\n",
    "y_pred_NB = nb.predict( X_test)"
   ]
  },
  {
   "cell_type": "code",
   "execution_count": 230,
   "id": "1d3a51a7",
   "metadata": {
    "ExecuteTime": {
     "end_time": "2022-04-15T13:59:52.383575Z",
     "start_time": "2022-04-15T13:59:52.372536Z"
    }
   },
   "outputs": [
    {
     "name": "stdout",
     "output_type": "stream",
     "text": [
      "[[192 132]\n",
      " [183 148]]\n"
     ]
    }
   ],
   "source": [
    "cf_matrix = confusion_matrix(y_test, y_pred_NB)\n",
    "\n",
    "print(cf_matrix)"
   ]
  },
  {
   "cell_type": "code",
   "execution_count": 231,
   "id": "b494b63e",
   "metadata": {
    "ExecuteTime": {
     "end_time": "2022-04-15T13:59:53.100294Z",
     "start_time": "2022-04-15T13:59:52.908998Z"
    },
    "scrolled": true
   },
   "outputs": [
    {
     "data": {
      "image/png": "[encoded data removed]",
      "text/plain": [
       "<Figure size 432x288 with 2 Axes>"
      ]
     },
     "metadata": {
      "needs_background": "light"
     },
     "output_type": "display_data"
    }
   ],
   "source": [
    "ax = sns.heatmap(cf_matrix/np.sum(cf_matrix), annot=True, \n",
    "            fmt='.2%', cmap='Blues')\n",
    "\n",
    "ax.set_title('Matriz de confusión Naive Bayes\\n\\n');\n",
    "ax.set_xlabel('\\n Valores predichos ')\n",
    "ax.set_ylabel('Valores observados ');\n",
    "\n",
    "## Ticket labels - List must be in alphabetical order\n",
    "ax.xaxis.set_ticklabels(['False','True'])\n",
    "ax.yaxis.set_ticklabels(['False','True'])\n",
    "\n",
    "## Display the visualization of the Confusion Matrix.\n",
    "plt.show()"
   ]
  },
  {
   "cell_type": "code",
   "execution_count": 232,
   "id": "2a04b74b",
   "metadata": {
    "ExecuteTime": {
     "end_time": "2022-04-15T13:59:53.971744Z",
     "start_time": "2022-04-15T13:59:53.677352Z"
    }
   },
   "outputs": [
    {
     "name": "stderr",
     "output_type": "stream",
     "text": [
      "C:\\Users\\Windows\\AppData\\Roaming\\Python\\Python39\\site-packages\\sklearn\\utils\\deprecation.py:87: FutureWarning: Function plot_roc_curve is deprecated; Function :func:`plot_roc_curve` is deprecated in 1.0 and will be removed in 1.2. Use one of the class methods: :meth:`sklearn.metric.RocCurveDisplay.from_predictions` or :meth:`sklearn.metric.RocCurveDisplay.from_estimator`.\n",
      "  warnings.warn(msg, category=FutureWarning)\n"
     ]
    },
    {
     "data": {
      "text/plain": [
       "<sklearn.metrics._plot.roc_curve.RocCurveDisplay at 0x18ffb1f0790>"
      ]
     },
     "execution_count": 232,
     "metadata": {},
     "output_type": "execute_result"
    },
    {
     "data": {
      "image/png": "[encoded data removed]",
      "text/plain": [
       "<Figure size 432x288 with 1 Axes>"
      ]
     },
     "metadata": {
      "needs_background": "light"
     },
     "output_type": "display_data"
    }
   ],
   "source": [
    "metrics.plot_roc_curve(nb, X_test, y_test) "
   ]
  },
  {
   "cell_type": "code",
   "execution_count": 233,
   "id": "53c18af9",
   "metadata": {
    "ExecuteTime": {
     "end_time": "2022-04-15T13:59:54.113745Z",
     "start_time": "2022-04-15T13:59:53.975745Z"
    }
   },
   "outputs": [
    {
     "name": "stdout",
     "output_type": "stream",
     "text": [
      "Puntajes obtenidos: [0.54822335 0.47715736 0.50253807 0.54314721 0.47959184 0.4744898\n",
      " 0.56122449 0.55102041 0.53571429 0.46938776]\n",
      "Precisión de validación cruzada: 0.514 +/- 0.035\n"
     ]
    }
   ],
   "source": [
    "scores = cross_val_score(nb, X=X_train, y=y_train, cv=10, n_jobs=1)\n",
    " \n",
    "print('Puntajes obtenidos: %s' % scores)\n",
    "print('Precisión de validación cruzada: %.3f +/- %.3f' % (np.mean(scores),np.std(scores)))"
   ]
  },
  {
   "cell_type": "markdown",
   "id": "98be3f70",
   "metadata": {},
   "source": [
    "## XGBoost "
   ]
  },
  {
   "cell_type": "code",
   "execution_count": 234,
   "id": "38f3bc4f",
   "metadata": {
    "ExecuteTime": {
     "end_time": "2022-04-15T13:59:54.762586Z",
     "start_time": "2022-04-15T13:59:54.116744Z"
    }
   },
   "outputs": [
    {
     "name": "stdout",
     "output_type": "stream",
     "text": [
      "[08:59:54] WARNING: C:/Users/Administrator/workspace/xgboost-win64_release_1.4.0/src/learner.cc:1095: Starting in XGBoost 1.3.0, the default evaluation metric used with the objective 'binary:logistic' was changed from 'error' to 'logloss'. Explicitly set eval_metric if you'd like to restore the old behavior.\n"
     ]
    },
    {
     "name": "stderr",
     "output_type": "stream",
     "text": [
      "C:\\Users\\Windows\\anaconda3\\lib\\site-packages\\xgboost\\sklearn.py:1146: UserWarning: The use of label encoder in XGBClassifier is deprecated and will be removed in a future release. To remove this warning, do the following: 1) Pass option use_label_encoder=False when constructing XGBClassifier object; and 2) Encode your labels (y) as integers starting with 0, i.e. 0, 1, 2, ..., [num_class - 1].\n",
      "  warnings.warn(label_encoder_deprecation_msg, UserWarning)\n"
     ]
    }
   ],
   "source": [
    "xgb_cl = xgb.XGBClassifier().fit( X_train, y_train )\n",
    "\n",
    "y_pred_xgb = xgb_cl.predict(X_test)"
   ]
  },
  {
   "cell_type": "code",
   "execution_count": 235,
   "id": "c089ae1c",
   "metadata": {
    "ExecuteTime": {
     "end_time": "2022-04-15T13:59:54.778628Z",
     "start_time": "2022-04-15T13:59:54.766627Z"
    }
   },
   "outputs": [
    {
     "name": "stdout",
     "output_type": "stream",
     "text": [
      "[[277  47]\n",
      " [ 39 292]]\n"
     ]
    }
   ],
   "source": [
    "cf_matrix = confusion_matrix(y_test, y_pred_xgb)\n",
    "\n",
    "print(cf_matrix)"
   ]
  },
  {
   "cell_type": "code",
   "execution_count": 236,
   "id": "52f5a557",
   "metadata": {
    "ExecuteTime": {
     "end_time": "2022-04-15T13:59:55.159626Z",
     "start_time": "2022-04-15T13:59:54.782642Z"
    },
    "scrolled": true
   },
   "outputs": [
    {
     "data": {
      "image/png": "[encoded data removed]",
      "text/plain": [
       "<Figure size 432x288 with 2 Axes>"
      ]
     },
     "metadata": {
      "needs_background": "light"
     },
     "output_type": "display_data"
    }
   ],
   "source": [
    "ax = sns.heatmap(cf_matrix/np.sum(cf_matrix), annot=True, \n",
    "            fmt='.2%', cmap='Blues')\n",
    "\n",
    "ax.set_title('Matriz de confusión XGboost\\n\\n');\n",
    "ax.set_xlabel('\\n Valores predichos ')\n",
    "ax.set_ylabel('Valores observados ');\n",
    "\n",
    "## Ticket labels - List must be in alphabetical order\n",
    "ax.xaxis.set_ticklabels(['False','True'])\n",
    "ax.yaxis.set_ticklabels(['False','True'])\n",
    "\n",
    "## Display the visualization of the Confusion Matrix.\n",
    "plt.show()"
   ]
  },
  {
   "cell_type": "code",
   "execution_count": 237,
   "id": "cab452da",
   "metadata": {
    "ExecuteTime": {
     "end_time": "2022-04-15T13:59:56.119616Z",
     "start_time": "2022-04-15T13:59:55.162630Z"
    }
   },
   "outputs": [
    {
     "name": "stderr",
     "output_type": "stream",
     "text": [
      "C:\\Users\\Windows\\AppData\\Roaming\\Python\\Python39\\site-packages\\sklearn\\utils\\deprecation.py:87: FutureWarning: Function plot_roc_curve is deprecated; Function :func:`plot_roc_curve` is deprecated in 1.0 and will be removed in 1.2. Use one of the class methods: :meth:`sklearn.metric.RocCurveDisplay.from_predictions` or :meth:`sklearn.metric.RocCurveDisplay.from_estimator`.\n",
      "  warnings.warn(msg, category=FutureWarning)\n"
     ]
    },
    {
     "data": {
      "text/plain": [
       "<sklearn.metrics._plot.roc_curve.RocCurveDisplay at 0x18ffb2647f0>"
      ]
     },
     "execution_count": 237,
     "metadata": {},
     "output_type": "execute_result"
    },
    {
     "data": {
      "image/png": "[encoded data removed]",
      "text/plain": [
       "<Figure size 432x288 with 1 Axes>"
      ]
     },
     "metadata": {
      "needs_background": "light"
     },
     "output_type": "display_data"
    }
   ],
   "source": [
    "metrics.plot_roc_curve(xgb_cl, X_test, y_test) "
   ]
  },
  {
   "cell_type": "code",
   "execution_count": 238,
   "id": "e8127862",
   "metadata": {
    "ExecuteTime": {
     "end_time": "2022-04-15T13:59:58.885974Z",
     "start_time": "2022-04-15T13:59:56.119616Z"
    },
    "scrolled": true
   },
   "outputs": [
    {
     "name": "stderr",
     "output_type": "stream",
     "text": [
      "C:\\Users\\Windows\\anaconda3\\lib\\site-packages\\xgboost\\sklearn.py:1146: UserWarning: The use of label encoder in XGBClassifier is deprecated and will be removed in a future release. To remove this warning, do the following: 1) Pass option use_label_encoder=False when constructing XGBClassifier object; and 2) Encode your labels (y) as integers starting with 0, i.e. 0, 1, 2, ..., [num_class - 1].\n",
      "  warnings.warn(label_encoder_deprecation_msg, UserWarning)\n"
     ]
    },
    {
     "name": "stdout",
     "output_type": "stream",
     "text": [
      "[08:59:56] WARNING: C:/Users/Administrator/workspace/xgboost-win64_release_1.4.0/src/learner.cc:1095: Starting in XGBoost 1.3.0, the default evaluation metric used with the objective 'binary:logistic' was changed from 'error' to 'logloss'. Explicitly set eval_metric if you'd like to restore the old behavior.\n"
     ]
    },
    {
     "name": "stderr",
     "output_type": "stream",
     "text": [
      "C:\\Users\\Windows\\anaconda3\\lib\\site-packages\\xgboost\\sklearn.py:1146: UserWarning: The use of label encoder in XGBClassifier is deprecated and will be removed in a future release. To remove this warning, do the following: 1) Pass option use_label_encoder=False when constructing XGBClassifier object; and 2) Encode your labels (y) as integers starting with 0, i.e. 0, 1, 2, ..., [num_class - 1].\n",
      "  warnings.warn(label_encoder_deprecation_msg, UserWarning)\n"
     ]
    },
    {
     "name": "stdout",
     "output_type": "stream",
     "text": [
      "[08:59:56] WARNING: C:/Users/Administrator/workspace/xgboost-win64_release_1.4.0/src/learner.cc:1095: Starting in XGBoost 1.3.0, the default evaluation metric used with the objective 'binary:logistic' was changed from 'error' to 'logloss'. Explicitly set eval_metric if you'd like to restore the old behavior.\n"
     ]
    },
    {
     "name": "stderr",
     "output_type": "stream",
     "text": [
      "C:\\Users\\Windows\\anaconda3\\lib\\site-packages\\xgboost\\sklearn.py:1146: UserWarning: The use of label encoder in XGBClassifier is deprecated and will be removed in a future release. To remove this warning, do the following: 1) Pass option use_label_encoder=False when constructing XGBClassifier object; and 2) Encode your labels (y) as integers starting with 0, i.e. 0, 1, 2, ..., [num_class - 1].\n",
      "  warnings.warn(label_encoder_deprecation_msg, UserWarning)\n"
     ]
    },
    {
     "name": "stdout",
     "output_type": "stream",
     "text": [
      "[08:59:56] WARNING: C:/Users/Administrator/workspace/xgboost-win64_release_1.4.0/src/learner.cc:1095: Starting in XGBoost 1.3.0, the default evaluation metric used with the objective 'binary:logistic' was changed from 'error' to 'logloss'. Explicitly set eval_metric if you'd like to restore the old behavior.\n"
     ]
    },
    {
     "name": "stderr",
     "output_type": "stream",
     "text": [
      "C:\\Users\\Windows\\anaconda3\\lib\\site-packages\\xgboost\\sklearn.py:1146: UserWarning: The use of label encoder in XGBClassifier is deprecated and will be removed in a future release. To remove this warning, do the following: 1) Pass option use_label_encoder=False when constructing XGBClassifier object; and 2) Encode your labels (y) as integers starting with 0, i.e. 0, 1, 2, ..., [num_class - 1].\n",
      "  warnings.warn(label_encoder_deprecation_msg, UserWarning)\n"
     ]
    },
    {
     "name": "stdout",
     "output_type": "stream",
     "text": [
      "[08:59:57] WARNING: C:/Users/Administrator/workspace/xgboost-win64_release_1.4.0/src/learner.cc:1095: Starting in XGBoost 1.3.0, the default evaluation metric used with the objective 'binary:logistic' was changed from 'error' to 'logloss'. Explicitly set eval_metric if you'd like to restore the old behavior.\n"
     ]
    },
    {
     "name": "stderr",
     "output_type": "stream",
     "text": [
      "C:\\Users\\Windows\\anaconda3\\lib\\site-packages\\xgboost\\sklearn.py:1146: UserWarning: The use of label encoder in XGBClassifier is deprecated and will be removed in a future release. To remove this warning, do the following: 1) Pass option use_label_encoder=False when constructing XGBClassifier object; and 2) Encode your labels (y) as integers starting with 0, i.e. 0, 1, 2, ..., [num_class - 1].\n",
      "  warnings.warn(label_encoder_deprecation_msg, UserWarning)\n"
     ]
    },
    {
     "name": "stdout",
     "output_type": "stream",
     "text": [
      "[08:59:57] WARNING: C:/Users/Administrator/workspace/xgboost-win64_release_1.4.0/src/learner.cc:1095: Starting in XGBoost 1.3.0, the default evaluation metric used with the objective 'binary:logistic' was changed from 'error' to 'logloss'. Explicitly set eval_metric if you'd like to restore the old behavior.\n"
     ]
    },
    {
     "name": "stderr",
     "output_type": "stream",
     "text": [
      "C:\\Users\\Windows\\anaconda3\\lib\\site-packages\\xgboost\\sklearn.py:1146: UserWarning: The use of label encoder in XGBClassifier is deprecated and will be removed in a future release. To remove this warning, do the following: 1) Pass option use_label_encoder=False when constructing XGBClassifier object; and 2) Encode your labels (y) as integers starting with 0, i.e. 0, 1, 2, ..., [num_class - 1].\n",
      "  warnings.warn(label_encoder_deprecation_msg, UserWarning)\n"
     ]
    },
    {
     "name": "stdout",
     "output_type": "stream",
     "text": [
      "[08:59:57] WARNING: C:/Users/Administrator/workspace/xgboost-win64_release_1.4.0/src/learner.cc:1095: Starting in XGBoost 1.3.0, the default evaluation metric used with the objective 'binary:logistic' was changed from 'error' to 'logloss'. Explicitly set eval_metric if you'd like to restore the old behavior.\n"
     ]
    },
    {
     "name": "stderr",
     "output_type": "stream",
     "text": [
      "C:\\Users\\Windows\\anaconda3\\lib\\site-packages\\xgboost\\sklearn.py:1146: UserWarning: The use of label encoder in XGBClassifier is deprecated and will be removed in a future release. To remove this warning, do the following: 1) Pass option use_label_encoder=False when constructing XGBClassifier object; and 2) Encode your labels (y) as integers starting with 0, i.e. 0, 1, 2, ..., [num_class - 1].\n",
      "  warnings.warn(label_encoder_deprecation_msg, UserWarning)\n"
     ]
    },
    {
     "name": "stdout",
     "output_type": "stream",
     "text": [
      "[08:59:57] WARNING: C:/Users/Administrator/workspace/xgboost-win64_release_1.4.0/src/learner.cc:1095: Starting in XGBoost 1.3.0, the default evaluation metric used with the objective 'binary:logistic' was changed from 'error' to 'logloss'. Explicitly set eval_metric if you'd like to restore the old behavior.\n"
     ]
    },
    {
     "name": "stderr",
     "output_type": "stream",
     "text": [
      "C:\\Users\\Windows\\anaconda3\\lib\\site-packages\\xgboost\\sklearn.py:1146: UserWarning: The use of label encoder in XGBClassifier is deprecated and will be removed in a future release. To remove this warning, do the following: 1) Pass option use_label_encoder=False when constructing XGBClassifier object; and 2) Encode your labels (y) as integers starting with 0, i.e. 0, 1, 2, ..., [num_class - 1].\n",
      "  warnings.warn(label_encoder_deprecation_msg, UserWarning)\n"
     ]
    },
    {
     "name": "stdout",
     "output_type": "stream",
     "text": [
      "[08:59:58] WARNING: C:/Users/Administrator/workspace/xgboost-win64_release_1.4.0/src/learner.cc:1095: Starting in XGBoost 1.3.0, the default evaluation metric used with the objective 'binary:logistic' was changed from 'error' to 'logloss'. Explicitly set eval_metric if you'd like to restore the old behavior.\n"
     ]
    },
    {
     "name": "stderr",
     "output_type": "stream",
     "text": [
      "C:\\Users\\Windows\\anaconda3\\lib\\site-packages\\xgboost\\sklearn.py:1146: UserWarning: The use of label encoder in XGBClassifier is deprecated and will be removed in a future release. To remove this warning, do the following: 1) Pass option use_label_encoder=False when constructing XGBClassifier object; and 2) Encode your labels (y) as integers starting with 0, i.e. 0, 1, 2, ..., [num_class - 1].\n",
      "  warnings.warn(label_encoder_deprecation_msg, UserWarning)\n"
     ]
    },
    {
     "name": "stdout",
     "output_type": "stream",
     "text": [
      "[08:59:58] WARNING: C:/Users/Administrator/workspace/xgboost-win64_release_1.4.0/src/learner.cc:1095: Starting in XGBoost 1.3.0, the default evaluation metric used with the objective 'binary:logistic' was changed from 'error' to 'logloss'. Explicitly set eval_metric if you'd like to restore the old behavior.\n"
     ]
    },
    {
     "name": "stderr",
     "output_type": "stream",
     "text": [
      "C:\\Users\\Windows\\anaconda3\\lib\\site-packages\\xgboost\\sklearn.py:1146: UserWarning: The use of label encoder in XGBClassifier is deprecated and will be removed in a future release. To remove this warning, do the following: 1) Pass option use_label_encoder=False when constructing XGBClassifier object; and 2) Encode your labels (y) as integers starting with 0, i.e. 0, 1, 2, ..., [num_class - 1].\n",
      "  warnings.warn(label_encoder_deprecation_msg, UserWarning)\n"
     ]
    },
    {
     "name": "stdout",
     "output_type": "stream",
     "text": [
      "[08:59:58] WARNING: C:/Users/Administrator/workspace/xgboost-win64_release_1.4.0/src/learner.cc:1095: Starting in XGBoost 1.3.0, the default evaluation metric used with the objective 'binary:logistic' was changed from 'error' to 'logloss'. Explicitly set eval_metric if you'd like to restore the old behavior.\n",
      "Puntajes obtenidos: [0.89340102 0.80203046 0.80203046 0.87817259 0.87244898 0.87244898\n",
      " 0.85714286 0.83163265 0.83163265 0.84183673]\n",
      "Precisión de validación cruzada: 0.848 +/- 0.030\n"
     ]
    }
   ],
   "source": [
    "scores = cross_val_score(xgb_cl, X=X_train, y=y_train, cv=10, n_jobs=1)\n",
    " \n",
    "print('Puntajes obtenidos: %s' % scores)\n",
    "print('Precisión de validación cruzada: %.3f +/- %.3f' % (np.mean(scores),np.std(scores)))"
   ]
  },
  {
   "cell_type": "markdown",
   "id": "443d7528",
   "metadata": {},
   "source": [
    "## Summary of results"
   ]
  },
  {
   "cell_type": "code",
   "execution_count": 239,
   "id": "cecb7482",
   "metadata": {
    "ExecuteTime": {
     "end_time": "2022-04-15T14:00:04.448404Z",
     "start_time": "2022-04-15T13:59:58.889980Z"
    }
   },
   "outputs": [
    {
     "name": "stderr",
     "output_type": "stream",
     "text": [
      "C:\\Users\\Windows\\anaconda3\\lib\\site-packages\\xgboost\\sklearn.py:1146: UserWarning: The use of label encoder in XGBClassifier is deprecated and will be removed in a future release. To remove this warning, do the following: 1) Pass option use_label_encoder=False when constructing XGBClassifier object; and 2) Encode your labels (y) as integers starting with 0, i.e. 0, 1, 2, ..., [num_class - 1].\n",
      "  warnings.warn(label_encoder_deprecation_msg, UserWarning)\n"
     ]
    },
    {
     "name": "stdout",
     "output_type": "stream",
     "text": [
      "[09:00:01] WARNING: C:/Users/Administrator/workspace/xgboost-win64_release_1.4.0/src/learner.cc:1095: Starting in XGBoost 1.3.0, the default evaluation metric used with the objective 'binary:logistic' was changed from 'error' to 'logloss'. Explicitly set eval_metric if you'd like to restore the old behavior.\n"
     ]
    },
    {
     "name": "stderr",
     "output_type": "stream",
     "text": [
      "C:\\Users\\Windows\\anaconda3\\lib\\site-packages\\xgboost\\sklearn.py:1146: UserWarning: The use of label encoder in XGBClassifier is deprecated and will be removed in a future release. To remove this warning, do the following: 1) Pass option use_label_encoder=False when constructing XGBClassifier object; and 2) Encode your labels (y) as integers starting with 0, i.e. 0, 1, 2, ..., [num_class - 1].\n",
      "  warnings.warn(label_encoder_deprecation_msg, UserWarning)\n"
     ]
    },
    {
     "name": "stdout",
     "output_type": "stream",
     "text": [
      "[09:00:01] WARNING: C:/Users/Administrator/workspace/xgboost-win64_release_1.4.0/src/learner.cc:1095: Starting in XGBoost 1.3.0, the default evaluation metric used with the objective 'binary:logistic' was changed from 'error' to 'logloss'. Explicitly set eval_metric if you'd like to restore the old behavior.\n"
     ]
    },
    {
     "name": "stderr",
     "output_type": "stream",
     "text": [
      "C:\\Users\\Windows\\anaconda3\\lib\\site-packages\\xgboost\\sklearn.py:1146: UserWarning: The use of label encoder in XGBClassifier is deprecated and will be removed in a future release. To remove this warning, do the following: 1) Pass option use_label_encoder=False when constructing XGBClassifier object; and 2) Encode your labels (y) as integers starting with 0, i.e. 0, 1, 2, ..., [num_class - 1].\n",
      "  warnings.warn(label_encoder_deprecation_msg, UserWarning)\n"
     ]
    },
    {
     "name": "stdout",
     "output_type": "stream",
     "text": [
      "[09:00:01] WARNING: C:/Users/Administrator/workspace/xgboost-win64_release_1.4.0/src/learner.cc:1095: Starting in XGBoost 1.3.0, the default evaluation metric used with the objective 'binary:logistic' was changed from 'error' to 'logloss'. Explicitly set eval_metric if you'd like to restore the old behavior.\n"
     ]
    },
    {
     "name": "stderr",
     "output_type": "stream",
     "text": [
      "C:\\Users\\Windows\\anaconda3\\lib\\site-packages\\xgboost\\sklearn.py:1146: UserWarning: The use of label encoder in XGBClassifier is deprecated and will be removed in a future release. To remove this warning, do the following: 1) Pass option use_label_encoder=False when constructing XGBClassifier object; and 2) Encode your labels (y) as integers starting with 0, i.e. 0, 1, 2, ..., [num_class - 1].\n",
      "  warnings.warn(label_encoder_deprecation_msg, UserWarning)\n"
     ]
    },
    {
     "name": "stdout",
     "output_type": "stream",
     "text": [
      "[09:00:02] WARNING: C:/Users/Administrator/workspace/xgboost-win64_release_1.4.0/src/learner.cc:1095: Starting in XGBoost 1.3.0, the default evaluation metric used with the objective 'binary:logistic' was changed from 'error' to 'logloss'. Explicitly set eval_metric if you'd like to restore the old behavior.\n"
     ]
    },
    {
     "name": "stderr",
     "output_type": "stream",
     "text": [
      "C:\\Users\\Windows\\anaconda3\\lib\\site-packages\\xgboost\\sklearn.py:1146: UserWarning: The use of label encoder in XGBClassifier is deprecated and will be removed in a future release. To remove this warning, do the following: 1) Pass option use_label_encoder=False when constructing XGBClassifier object; and 2) Encode your labels (y) as integers starting with 0, i.e. 0, 1, 2, ..., [num_class - 1].\n",
      "  warnings.warn(label_encoder_deprecation_msg, UserWarning)\n"
     ]
    },
    {
     "name": "stdout",
     "output_type": "stream",
     "text": [
      "[09:00:02] WARNING: C:/Users/Administrator/workspace/xgboost-win64_release_1.4.0/src/learner.cc:1095: Starting in XGBoost 1.3.0, the default evaluation metric used with the objective 'binary:logistic' was changed from 'error' to 'logloss'. Explicitly set eval_metric if you'd like to restore the old behavior.\n"
     ]
    },
    {
     "name": "stderr",
     "output_type": "stream",
     "text": [
      "C:\\Users\\Windows\\anaconda3\\lib\\site-packages\\xgboost\\sklearn.py:1146: UserWarning: The use of label encoder in XGBClassifier is deprecated and will be removed in a future release. To remove this warning, do the following: 1) Pass option use_label_encoder=False when constructing XGBClassifier object; and 2) Encode your labels (y) as integers starting with 0, i.e. 0, 1, 2, ..., [num_class - 1].\n",
      "  warnings.warn(label_encoder_deprecation_msg, UserWarning)\n"
     ]
    },
    {
     "name": "stdout",
     "output_type": "stream",
     "text": [
      "[09:00:02] WARNING: C:/Users/Administrator/workspace/xgboost-win64_release_1.4.0/src/learner.cc:1095: Starting in XGBoost 1.3.0, the default evaluation metric used with the objective 'binary:logistic' was changed from 'error' to 'logloss'. Explicitly set eval_metric if you'd like to restore the old behavior.\n"
     ]
    },
    {
     "name": "stderr",
     "output_type": "stream",
     "text": [
      "C:\\Users\\Windows\\anaconda3\\lib\\site-packages\\xgboost\\sklearn.py:1146: UserWarning: The use of label encoder in XGBClassifier is deprecated and will be removed in a future release. To remove this warning, do the following: 1) Pass option use_label_encoder=False when constructing XGBClassifier object; and 2) Encode your labels (y) as integers starting with 0, i.e. 0, 1, 2, ..., [num_class - 1].\n",
      "  warnings.warn(label_encoder_deprecation_msg, UserWarning)\n"
     ]
    },
    {
     "name": "stdout",
     "output_type": "stream",
     "text": [
      "[09:00:03] WARNING: C:/Users/Administrator/workspace/xgboost-win64_release_1.4.0/src/learner.cc:1095: Starting in XGBoost 1.3.0, the default evaluation metric used with the objective 'binary:logistic' was changed from 'error' to 'logloss'. Explicitly set eval_metric if you'd like to restore the old behavior.\n"
     ]
    },
    {
     "name": "stderr",
     "output_type": "stream",
     "text": [
      "C:\\Users\\Windows\\anaconda3\\lib\\site-packages\\xgboost\\sklearn.py:1146: UserWarning: The use of label encoder in XGBClassifier is deprecated and will be removed in a future release. To remove this warning, do the following: 1) Pass option use_label_encoder=False when constructing XGBClassifier object; and 2) Encode your labels (y) as integers starting with 0, i.e. 0, 1, 2, ..., [num_class - 1].\n",
      "  warnings.warn(label_encoder_deprecation_msg, UserWarning)\n"
     ]
    },
    {
     "name": "stdout",
     "output_type": "stream",
     "text": [
      "[09:00:03] WARNING: C:/Users/Administrator/workspace/xgboost-win64_release_1.4.0/src/learner.cc:1095: Starting in XGBoost 1.3.0, the default evaluation metric used with the objective 'binary:logistic' was changed from 'error' to 'logloss'. Explicitly set eval_metric if you'd like to restore the old behavior.\n"
     ]
    },
    {
     "name": "stderr",
     "output_type": "stream",
     "text": [
      "C:\\Users\\Windows\\anaconda3\\lib\\site-packages\\xgboost\\sklearn.py:1146: UserWarning: The use of label encoder in XGBClassifier is deprecated and will be removed in a future release. To remove this warning, do the following: 1) Pass option use_label_encoder=False when constructing XGBClassifier object; and 2) Encode your labels (y) as integers starting with 0, i.e. 0, 1, 2, ..., [num_class - 1].\n",
      "  warnings.warn(label_encoder_deprecation_msg, UserWarning)\n"
     ]
    },
    {
     "name": "stdout",
     "output_type": "stream",
     "text": [
      "[09:00:03] WARNING: C:/Users/Administrator/workspace/xgboost-win64_release_1.4.0/src/learner.cc:1095: Starting in XGBoost 1.3.0, the default evaluation metric used with the objective 'binary:logistic' was changed from 'error' to 'logloss'. Explicitly set eval_metric if you'd like to restore the old behavior.\n"
     ]
    },
    {
     "name": "stderr",
     "output_type": "stream",
     "text": [
      "C:\\Users\\Windows\\anaconda3\\lib\\site-packages\\xgboost\\sklearn.py:1146: UserWarning: The use of label encoder in XGBClassifier is deprecated and will be removed in a future release. To remove this warning, do the following: 1) Pass option use_label_encoder=False when constructing XGBClassifier object; and 2) Encode your labels (y) as integers starting with 0, i.e. 0, 1, 2, ..., [num_class - 1].\n",
      "  warnings.warn(label_encoder_deprecation_msg, UserWarning)\n"
     ]
    },
    {
     "name": "stdout",
     "output_type": "stream",
     "text": [
      "[09:00:04] WARNING: C:/Users/Administrator/workspace/xgboost-win64_release_1.4.0/src/learner.cc:1095: Starting in XGBoost 1.3.0, the default evaluation metric used with the objective 'binary:logistic' was changed from 'error' to 'logloss'. Explicitly set eval_metric if you'd like to restore the old behavior.\n"
     ]
    }
   ],
   "source": [
    "scores_bln = cross_val_score(dummy_clf, X=X_train, y=y_train, cv=10, n_jobs=1)\n",
    "scores_knn = cross_val_score(dummy_KNN, X=X_train, y=y_train, cv=10, n_jobs=1)\n",
    "scores_log = cross_val_score(reg_log, X=X_train, y=y_train, cv=10, n_jobs=1)\n",
    "scores_rf = cross_val_score(rf, X=X_train, y=y_train, cv=10, n_jobs=1)\n",
    "scores_nb = cross_val_score(nb, X=X_train, y=y_train, cv=10, n_jobs=1)\n",
    "scores_xgb = cross_val_score(xgb_cl, X=X_train, y=y_train, cv=10, n_jobs=1)\n"
   ]
  },
  {
   "cell_type": "code",
   "execution_count": 240,
   "id": "b038c59c",
   "metadata": {
    "ExecuteTime": {
     "end_time": "2022-04-15T14:00:04.480407Z",
     "start_time": "2022-04-15T14:00:04.451406Z"
    }
   },
   "outputs": [],
   "source": [
    "res_baseline = pd.DataFrame( {'Model Name': 'Baseline', \n",
    "                'Accuracy':  '%.3f +/- %.3f' % (np.mean(scores_bln),np.std(scores_bln))},index=[0] ) \n",
    "res_KNN = pd.DataFrame( {'Model Name': 'KNN', \n",
    "                'Accuracy':  '%.3f +/- %.3f' % (np.mean(scores_knn),np.std(scores_knn))},index=[0] ) \n",
    "res_lr = pd.DataFrame( {'Model Name': 'Logistic Regression',\n",
    "                'Accuracy':  '%.3f +/- %.3f' % (np.mean(scores_log),np.std(scores_log))},index=[0] ) \n",
    "res_rf = pd.DataFrame( {'Model Name': 'Random Forest',\n",
    "                'Accuracy':  '%.3f +/- %.3f' % (np.mean(scores_rf),np.std(scores_rf))},index=[0] ) \n",
    "res_nb = pd.DataFrame( {'Model Name': 'Naive Bayes', \n",
    "                'Accuracy':  '%.3f +/- %.3f' % (np.mean(scores_nb),np.std(scores_nb))},index=[0] ) \n",
    "res_xgb = pd.DataFrame( {'Model Name': 'XGBoost', \n",
    "                'Accuracy':  '%.3f +/- %.3f' % (np.mean(scores_xgb),np.std(scores_xgb))},index=[0] )\n",
    "Accuracy = pd.concat([res_baseline,res_KNN,res_lr,res_rf,res_nb,res_xgb])"
   ]
  },
  {
   "cell_type": "code",
   "execution_count": 241,
   "id": "2c0ba7e8",
   "metadata": {
    "ExecuteTime": {
     "end_time": "2022-04-15T14:00:04.512421Z",
     "start_time": "2022-04-15T14:00:04.483416Z"
    }
   },
   "outputs": [
    {
     "data": {
      "text/html": [
       "<div>\n",
       "<style scoped>\n",
       "    .dataframe tbody tr th:only-of-type {\n",
       "        vertical-align: middle;\n",
       "    }\n",
       "\n",
       "    .dataframe tbody tr th {\n",
       "        vertical-align: top;\n",
       "    }\n",
       "\n",
       "    .dataframe thead th {\n",
       "        text-align: right;\n",
       "    }\n",
       "</style>\n",
       "<table border=\"1\" class=\"dataframe\">\n",
       "  <thead>\n",
       "    <tr style=\"text-align: right;\">\n",
       "      <th></th>\n",
       "      <th>Model Name</th>\n",
       "      <th>Accuracy</th>\n",
       "    </tr>\n",
       "  </thead>\n",
       "  <tbody>\n",
       "    <tr>\n",
       "      <th>0</th>\n",
       "      <td>XGBoost</td>\n",
       "      <td>0.848 +/- 0.030</td>\n",
       "    </tr>\n",
       "    <tr>\n",
       "      <th>0</th>\n",
       "      <td>Random Forest</td>\n",
       "      <td>0.713 +/- 0.025</td>\n",
       "    </tr>\n",
       "    <tr>\n",
       "      <th>0</th>\n",
       "      <td>KNN</td>\n",
       "      <td>0.678 +/- 0.024</td>\n",
       "    </tr>\n",
       "    <tr>\n",
       "      <th>0</th>\n",
       "      <td>Naive Bayes</td>\n",
       "      <td>0.514 +/- 0.035</td>\n",
       "    </tr>\n",
       "    <tr>\n",
       "      <th>0</th>\n",
       "      <td>Baseline</td>\n",
       "      <td>0.508 +/- 0.002</td>\n",
       "    </tr>\n",
       "    <tr>\n",
       "      <th>0</th>\n",
       "      <td>Logistic Regression</td>\n",
       "      <td>0.508 +/- 0.002</td>\n",
       "    </tr>\n",
       "  </tbody>\n",
       "</table>\n",
       "</div>"
      ],
      "text/plain": [
       "            Model Name         Accuracy\n",
       "0              XGBoost  0.848 +/- 0.030\n",
       "0        Random Forest  0.713 +/- 0.025\n",
       "0                  KNN  0.678 +/- 0.024\n",
       "0          Naive Bayes  0.514 +/- 0.035\n",
       "0             Baseline  0.508 +/- 0.002\n",
       "0  Logistic Regression  0.508 +/- 0.002"
      ]
     },
     "execution_count": 241,
     "metadata": {},
     "output_type": "execute_result"
    }
   ],
   "source": [
    "Accuracy.sort_values('Accuracy', ascending = False)"
   ]
  },
  {
   "cell_type": "markdown",
   "id": "84afdef8",
   "metadata": {},
   "source": [
    "Thus, the model XGboost is going to be selected for forecasting. But first, let see if a better version if achivable by means of an hyperparameter tuning process"
   ]
  },
  {
   "cell_type": "markdown",
   "id": "b54fd330",
   "metadata": {
    "ExecuteTime": {
     "end_time": "2022-04-04T02:00:44.194912Z",
     "start_time": "2022-04-04T02:00:44.189914Z"
    }
   },
   "source": [
    "## Model Hyperparameter Tuning"
   ]
  },
  {
   "cell_type": "code",
   "execution_count": 242,
   "id": "511149e5",
   "metadata": {
    "ExecuteTime": {
     "end_time": "2022-04-15T14:00:04.544407Z",
     "start_time": "2022-04-15T14:00:04.515408Z"
    }
   },
   "outputs": [],
   "source": [
    "dtrain = xgb.DMatrix(X_test, label=y_test)\n",
    "\n",
    "def bo_tune_xgb(max_depth, gamma, n_estimators ,learning_rate):\n",
    "    params = {'max_depth': int(max_depth),\n",
    "                'gamma': gamma,\n",
    "              'n_estimators': int(n_estimators),\n",
    "              'learning_rate':learning_rate,\n",
    "              'subsample': 0.8,\n",
    "              'eta': 0.1,\n",
    "              'eval_metric': 'rmse'}\n",
    "    #Cross validating with the specified parameters in 5 folds and 70 iterations\n",
    "    cv_result = xgb.cv(params, dtrain, num_boost_round=70, nfold=5)\n",
    "    #Return the negative RMSE\n",
    "    return -1.0 * cv_result['test-rmse-mean'].iloc[-1]\n"
   ]
  },
  {
   "cell_type": "code",
   "execution_count": 243,
   "id": "5dbd8fa0",
   "metadata": {
    "ExecuteTime": {
     "end_time": "2022-04-15T14:00:04.560408Z",
     "start_time": "2022-04-15T14:00:04.547407Z"
    }
   },
   "outputs": [],
   "source": [
    "#Invoking the Bayesian Optimizer with the specified parameters to tune\n",
    "xgb_bo = BayesianOptimization(bo_tune_xgb, {'max_depth': (3, 10),\n",
    "                                            'gamma': (0, 1),\n",
    "                                            'learning_rate':(0,1),\n",
    "                                             'n_estimators':(100,120)})"
   ]
  },
  {
   "cell_type": "code",
   "execution_count": 244,
   "id": "ea868519",
   "metadata": {
    "ExecuteTime": {
     "end_time": "2022-04-15T14:00:14.543286Z",
     "start_time": "2022-04-15T14:00:04.563417Z"
    },
    "scrolled": true
   },
   "outputs": [
    {
     "name": "stdout",
     "output_type": "stream",
     "text": [
      "|   iter    |  target   |   gamma   | learni... | max_depth | n_esti... |\n",
      "-------------------------------------------------------------------------\n",
      "[09:00:04] WARNING: C:/Users/Administrator/workspace/xgboost-win64_release_1.4.0/src/learner.cc:573: \n",
      "Parameters: { \"n_estimators\" } might not be used.\n",
      "\n",
      "  This may not be accurate due to some parameters are only used in language bindings but\n",
      "  passed down to XGBoost core.  Or some parameters are not used but slip through this\n",
      "  verification. Please open an issue if you find above cases.\n",
      "\n",
      "\n",
      "[09:00:04] WARNING: C:/Users/Administrator/workspace/xgboost-win64_release_1.4.0/src/learner.cc:573: \n",
      "Parameters: { \"n_estimators\" } might not be used.\n",
      "\n",
      "  This may not be accurate due to some parameters are only used in language bindings but\n",
      "  passed down to XGBoost core.  Or some parameters are not used but slip through this\n",
      "  verification. Please open an issue if you find above cases.\n",
      "\n",
      "\n",
      "[09:00:04] WARNING: C:/Users/Administrator/workspace/xgboost-win64_release_1.4.0/src/learner.cc:573: \n",
      "Parameters: { \"n_estimators\" } might not be used.\n",
      "\n",
      "  This may not be accurate due to some parameters are only used in language bindings but\n",
      "  passed down to XGBoost core.  Or some parameters are not used but slip through this\n",
      "  verification. Please open an issue if you find above cases.\n",
      "\n",
      "\n",
      "[09:00:04] WARNING: C:/Users/Administrator/workspace/xgboost-win64_release_1.4.0/src/learner.cc:573: \n",
      "Parameters: { \"n_estimators\" } might not be used.\n",
      "\n",
      "  This may not be accurate due to some parameters are only used in language bindings but\n",
      "  passed down to XGBoost core.  Or some parameters are not used but slip through this\n",
      "  verification. Please open an issue if you find above cases.\n",
      "\n",
      "\n",
      "[09:00:04] WARNING: C:/Users/Administrator/workspace/xgboost-win64_release_1.4.0/src/learner.cc:573: \n",
      "Parameters: { \"n_estimators\" } might not be used.\n",
      "\n",
      "  This may not be accurate due to some parameters are only used in language bindings but\n",
      "  passed down to XGBoost core.  Or some parameters are not used but slip through this\n",
      "  verification. Please open an issue if you find above cases.\n",
      "\n",
      "\n",
      "| \u001b[0m 1       \u001b[0m | \u001b[0m-0.4256  \u001b[0m | \u001b[0m 0.03312 \u001b[0m | \u001b[0m 0.7963  \u001b[0m | \u001b[0m 5.658   \u001b[0m | \u001b[0m 101.3   \u001b[0m |\n",
      "[09:00:05] WARNING: C:/Users/Administrator/workspace/xgboost-win64_release_1.4.0/src/learner.cc:573: \n",
      "Parameters: { \"n_estimators\" } might not be used.\n",
      "\n",
      "  This may not be accurate due to some parameters are only used in language bindings but\n",
      "  passed down to XGBoost core.  Or some parameters are not used but slip through this\n",
      "  verification. Please open an issue if you find above cases.\n",
      "\n",
      "\n",
      "[09:00:05] WARNING: C:/Users/Administrator/workspace/xgboost-win64_release_1.4.0/src/learner.cc:573: \n",
      "Parameters: { \"n_estimators\" } might not be used.\n",
      "\n",
      "  This may not be accurate due to some parameters are only used in language bindings but\n",
      "  passed down to XGBoost core.  Or some parameters are not used but slip through this\n",
      "  verification. Please open an issue if you find above cases.\n",
      "\n",
      "\n",
      "[09:00:05] WARNING: C:/Users/Administrator/workspace/xgboost-win64_release_1.4.0/src/learner.cc:573: \n",
      "Parameters: { \"n_estimators\" } might not be used.\n",
      "\n",
      "  This may not be accurate due to some parameters are only used in language bindings but\n",
      "  passed down to XGBoost core.  Or some parameters are not used but slip through this\n",
      "  verification. Please open an issue if you find above cases.\n",
      "\n",
      "\n",
      "[09:00:05] WARNING: C:/Users/Administrator/workspace/xgboost-win64_release_1.4.0/src/learner.cc:573: \n",
      "Parameters: { \"n_estimators\" } might not be used.\n",
      "\n",
      "  This may not be accurate due to some parameters are only used in language bindings but\n",
      "  passed down to XGBoost core.  Or some parameters are not used but slip through this\n",
      "  verification. Please open an issue if you find above cases.\n",
      "\n",
      "\n",
      "[09:00:05] WARNING: C:/Users/Administrator/workspace/xgboost-win64_release_1.4.0/src/learner.cc:573: \n",
      "Parameters: { \"n_estimators\" } might not be used.\n",
      "\n",
      "  This may not be accurate due to some parameters are only used in language bindings but\n",
      "  passed down to XGBoost core.  Or some parameters are not used but slip through this\n",
      "  verification. Please open an issue if you find above cases.\n",
      "\n",
      "\n",
      "| \u001b[95m 2       \u001b[0m | \u001b[95m-0.3434  \u001b[0m | \u001b[95m 0.294   \u001b[0m | \u001b[95m 0.1676  \u001b[0m | \u001b[95m 9.808   \u001b[0m | \u001b[95m 119.8   \u001b[0m |\n",
      "[09:00:06] WARNING: C:/Users/Administrator/workspace/xgboost-win64_release_1.4.0/src/learner.cc:573: \n",
      "Parameters: { \"n_estimators\" } might not be used.\n",
      "\n",
      "  This may not be accurate due to some parameters are only used in language bindings but\n",
      "  passed down to XGBoost core.  Or some parameters are not used but slip through this\n",
      "  verification. Please open an issue if you find above cases.\n",
      "\n",
      "\n",
      "[09:00:06] WARNING: C:/Users/Administrator/workspace/xgboost-win64_release_1.4.0/src/learner.cc:573: \n",
      "Parameters: { \"n_estimators\" } might not be used.\n",
      "\n",
      "  This may not be accurate due to some parameters are only used in language bindings but\n",
      "  passed down to XGBoost core.  Or some parameters are not used but slip through this\n",
      "  verification. Please open an issue if you find above cases.\n",
      "\n",
      "\n",
      "[09:00:06] WARNING: C:/Users/Administrator/workspace/xgboost-win64_release_1.4.0/src/learner.cc:573: \n",
      "Parameters: { \"n_estimators\" } might not be used.\n",
      "\n",
      "  This may not be accurate due to some parameters are only used in language bindings but\n",
      "  passed down to XGBoost core.  Or some parameters are not used but slip through this\n",
      "  verification. Please open an issue if you find above cases.\n",
      "\n",
      "\n",
      "[09:00:06] WARNING: C:/Users/Administrator/workspace/xgboost-win64_release_1.4.0/src/learner.cc:573: \n",
      "Parameters: { \"n_estimators\" } might not be used.\n",
      "\n",
      "  This may not be accurate due to some parameters are only used in language bindings but\n",
      "  passed down to XGBoost core.  Or some parameters are not used but slip through this\n",
      "  verification. Please open an issue if you find above cases.\n",
      "\n",
      "\n",
      "[09:00:06] WARNING: C:/Users/Administrator/workspace/xgboost-win64_release_1.4.0/src/learner.cc:573: \n",
      "Parameters: { \"n_estimators\" } might not be used.\n",
      "\n",
      "  This may not be accurate due to some parameters are only used in language bindings but\n",
      "  passed down to XGBoost core.  Or some parameters are not used but slip through this\n",
      "  verification. Please open an issue if you find above cases.\n",
      "\n",
      "\n",
      "| \u001b[0m 3       \u001b[0m | \u001b[0m-0.3458  \u001b[0m | \u001b[0m 0.4985  \u001b[0m | \u001b[0m 0.0538  \u001b[0m | \u001b[0m 6.085   \u001b[0m | \u001b[0m 103.4   \u001b[0m |\n",
      "[09:00:06] WARNING: C:/Users/Administrator/workspace/xgboost-win64_release_1.4.0/src/learner.cc:573: \n",
      "Parameters: { \"n_estimators\" } might not be used.\n",
      "\n",
      "  This may not be accurate due to some parameters are only used in language bindings but\n",
      "  passed down to XGBoost core.  Or some parameters are not used but slip through this\n",
      "  verification. Please open an issue if you find above cases.\n",
      "\n",
      "\n",
      "[09:00:06] WARNING: C:/Users/Administrator/workspace/xgboost-win64_release_1.4.0/src/learner.cc:573: \n",
      "Parameters: { \"n_estimators\" } might not be used.\n",
      "\n",
      "  This may not be accurate due to some parameters are only used in language bindings but\n",
      "  passed down to XGBoost core.  Or some parameters are not used but slip through this\n",
      "  verification. Please open an issue if you find above cases.\n",
      "\n",
      "\n",
      "[09:00:06] WARNING: C:/Users/Administrator/workspace/xgboost-win64_release_1.4.0/src/learner.cc:573: \n",
      "Parameters: { \"n_estimators\" } might not be used.\n",
      "\n",
      "  This may not be accurate due to some parameters are only used in language bindings but\n",
      "  passed down to XGBoost core.  Or some parameters are not used but slip through this\n",
      "  verification. Please open an issue if you find above cases.\n",
      "\n",
      "\n",
      "[09:00:06] WARNING: C:/Users/Administrator/workspace/xgboost-win64_release_1.4.0/src/learner.cc:573: \n",
      "Parameters: { \"n_estimators\" } might not be used.\n",
      "\n",
      "  This may not be accurate due to some parameters are only used in language bindings but\n",
      "  passed down to XGBoost core.  Or some parameters are not used but slip through this\n",
      "  verification. Please open an issue if you find above cases.\n",
      "\n",
      "\n",
      "[09:00:06] WARNING: C:/Users/Administrator/workspace/xgboost-win64_release_1.4.0/src/learner.cc:573: \n",
      "Parameters: { \"n_estimators\" } might not be used.\n",
      "\n",
      "  This may not be accurate due to some parameters are only used in language bindings but\n",
      "  passed down to XGBoost core.  Or some parameters are not used but slip through this\n",
      "  verification. Please open an issue if you find above cases.\n",
      "\n",
      "\n"
     ]
    },
    {
     "name": "stdout",
     "output_type": "stream",
     "text": [
      "| \u001b[0m 4       \u001b[0m | \u001b[0m-0.4115  \u001b[0m | \u001b[0m 0.03804 \u001b[0m | \u001b[0m 0.616   \u001b[0m | \u001b[0m 4.018   \u001b[0m | \u001b[0m 105.8   \u001b[0m |\n",
      "[09:00:07] WARNING: C:/Users/Administrator/workspace/xgboost-win64_release_1.4.0/src/learner.cc:573: \n",
      "Parameters: { \"n_estimators\" } might not be used.\n",
      "\n",
      "  This may not be accurate due to some parameters are only used in language bindings but\n",
      "  passed down to XGBoost core.  Or some parameters are not used but slip through this\n",
      "  verification. Please open an issue if you find above cases.\n",
      "\n",
      "\n",
      "[09:00:07] WARNING: C:/Users/Administrator/workspace/xgboost-win64_release_1.4.0/src/learner.cc:573: \n",
      "Parameters: { \"n_estimators\" } might not be used.\n",
      "\n",
      "  This may not be accurate due to some parameters are only used in language bindings but\n",
      "  passed down to XGBoost core.  Or some parameters are not used but slip through this\n",
      "  verification. Please open an issue if you find above cases.\n",
      "\n",
      "\n",
      "[09:00:07] WARNING: C:/Users/Administrator/workspace/xgboost-win64_release_1.4.0/src/learner.cc:573: \n",
      "Parameters: { \"n_estimators\" } might not be used.\n",
      "\n",
      "  This may not be accurate due to some parameters are only used in language bindings but\n",
      "  passed down to XGBoost core.  Or some parameters are not used but slip through this\n",
      "  verification. Please open an issue if you find above cases.\n",
      "\n",
      "\n",
      "[09:00:07] WARNING: C:/Users/Administrator/workspace/xgboost-win64_release_1.4.0/src/learner.cc:573: \n",
      "Parameters: { \"n_estimators\" } might not be used.\n",
      "\n",
      "  This may not be accurate due to some parameters are only used in language bindings but\n",
      "  passed down to XGBoost core.  Or some parameters are not used but slip through this\n",
      "  verification. Please open an issue if you find above cases.\n",
      "\n",
      "\n",
      "[09:00:07] WARNING: C:/Users/Administrator/workspace/xgboost-win64_release_1.4.0/src/learner.cc:573: \n",
      "Parameters: { \"n_estimators\" } might not be used.\n",
      "\n",
      "  This may not be accurate due to some parameters are only used in language bindings but\n",
      "  passed down to XGBoost core.  Or some parameters are not used but slip through this\n",
      "  verification. Please open an issue if you find above cases.\n",
      "\n",
      "\n",
      "| \u001b[0m 5       \u001b[0m | \u001b[0m-0.3599  \u001b[0m | \u001b[0m 0.1867  \u001b[0m | \u001b[0m 0.3863  \u001b[0m | \u001b[0m 5.687   \u001b[0m | \u001b[0m 103.1   \u001b[0m |\n",
      "[09:00:07] WARNING: C:/Users/Administrator/workspace/xgboost-win64_release_1.4.0/src/learner.cc:573: \n",
      "Parameters: { \"n_estimators\" } might not be used.\n",
      "\n",
      "  This may not be accurate due to some parameters are only used in language bindings but\n",
      "  passed down to XGBoost core.  Or some parameters are not used but slip through this\n",
      "  verification. Please open an issue if you find above cases.\n",
      "\n",
      "\n",
      "[09:00:07] WARNING: C:/Users/Administrator/workspace/xgboost-win64_release_1.4.0/src/learner.cc:573: \n",
      "Parameters: { \"n_estimators\" } might not be used.\n",
      "\n",
      "  This may not be accurate due to some parameters are only used in language bindings but\n",
      "  passed down to XGBoost core.  Or some parameters are not used but slip through this\n",
      "  verification. Please open an issue if you find above cases.\n",
      "\n",
      "\n",
      "[09:00:07] WARNING: C:/Users/Administrator/workspace/xgboost-win64_release_1.4.0/src/learner.cc:573: \n",
      "Parameters: { \"n_estimators\" } might not be used.\n",
      "\n",
      "  This may not be accurate due to some parameters are only used in language bindings but\n",
      "  passed down to XGBoost core.  Or some parameters are not used but slip through this\n",
      "  verification. Please open an issue if you find above cases.\n",
      "\n",
      "\n",
      "[09:00:07] WARNING: C:/Users/Administrator/workspace/xgboost-win64_release_1.4.0/src/learner.cc:573: \n",
      "Parameters: { \"n_estimators\" } might not be used.\n",
      "\n",
      "  This may not be accurate due to some parameters are only used in language bindings but\n",
      "  passed down to XGBoost core.  Or some parameters are not used but slip through this\n",
      "  verification. Please open an issue if you find above cases.\n",
      "\n",
      "\n",
      "[09:00:07] WARNING: C:/Users/Administrator/workspace/xgboost-win64_release_1.4.0/src/learner.cc:573: \n",
      "Parameters: { \"n_estimators\" } might not be used.\n",
      "\n",
      "  This may not be accurate due to some parameters are only used in language bindings but\n",
      "  passed down to XGBoost core.  Or some parameters are not used but slip through this\n",
      "  verification. Please open an issue if you find above cases.\n",
      "\n",
      "\n",
      "| \u001b[0m 6       \u001b[0m | \u001b[0m-0.3931  \u001b[0m | \u001b[0m 0.9407  \u001b[0m | \u001b[0m 0.9638  \u001b[0m | \u001b[0m 4.706   \u001b[0m | \u001b[0m 100.9   \u001b[0m |\n",
      "[09:00:08] WARNING: C:/Users/Administrator/workspace/xgboost-win64_release_1.4.0/src/learner.cc:573: \n",
      "Parameters: { \"n_estimators\" } might not be used.\n",
      "\n",
      "  This may not be accurate due to some parameters are only used in language bindings but\n",
      "  passed down to XGBoost core.  Or some parameters are not used but slip through this\n",
      "  verification. Please open an issue if you find above cases.\n",
      "\n",
      "\n",
      "[09:00:08] WARNING: C:/Users/Administrator/workspace/xgboost-win64_release_1.4.0/src/learner.cc:573: \n",
      "Parameters: { \"n_estimators\" } might not be used.\n",
      "\n",
      "  This may not be accurate due to some parameters are only used in language bindings but\n",
      "  passed down to XGBoost core.  Or some parameters are not used but slip through this\n",
      "  verification. Please open an issue if you find above cases.\n",
      "\n",
      "\n",
      "[09:00:08] WARNING: C:/Users/Administrator/workspace/xgboost-win64_release_1.4.0/src/learner.cc:573: \n",
      "Parameters: { \"n_estimators\" } might not be used.\n",
      "\n",
      "  This may not be accurate due to some parameters are only used in language bindings but\n",
      "  passed down to XGBoost core.  Or some parameters are not used but slip through this\n",
      "  verification. Please open an issue if you find above cases.\n",
      "\n",
      "\n",
      "[09:00:08] WARNING: C:/Users/Administrator/workspace/xgboost-win64_release_1.4.0/src/learner.cc:573: \n",
      "Parameters: { \"n_estimators\" } might not be used.\n",
      "\n",
      "  This may not be accurate due to some parameters are only used in language bindings but\n",
      "  passed down to XGBoost core.  Or some parameters are not used but slip through this\n",
      "  verification. Please open an issue if you find above cases.\n",
      "\n",
      "\n",
      "[09:00:08] WARNING: C:/Users/Administrator/workspace/xgboost-win64_release_1.4.0/src/learner.cc:573: \n",
      "Parameters: { \"n_estimators\" } might not be used.\n",
      "\n",
      "  This may not be accurate due to some parameters are only used in language bindings but\n",
      "  passed down to XGBoost core.  Or some parameters are not used but slip through this\n",
      "  verification. Please open an issue if you find above cases.\n",
      "\n",
      "\n",
      "| \u001b[0m 7       \u001b[0m | \u001b[0m-0.3877  \u001b[0m | \u001b[0m 0.3093  \u001b[0m | \u001b[0m 0.7963  \u001b[0m | \u001b[0m 9.283   \u001b[0m | \u001b[0m 104.2   \u001b[0m |\n",
      "[09:00:08] WARNING: C:/Users/Administrator/workspace/xgboost-win64_release_1.4.0/src/learner.cc:573: \n",
      "Parameters: { \"n_estimators\" } might not be used.\n",
      "\n",
      "  This may not be accurate due to some parameters are only used in language bindings but\n",
      "  passed down to XGBoost core.  Or some parameters are not used but slip through this\n",
      "  verification. Please open an issue if you find above cases.\n",
      "\n",
      "\n",
      "[09:00:08] WARNING: C:/Users/Administrator/workspace/xgboost-win64_release_1.4.0/src/learner.cc:573: \n",
      "Parameters: { \"n_estimators\" } might not be used.\n",
      "\n",
      "  This may not be accurate due to some parameters are only used in language bindings but\n",
      "  passed down to XGBoost core.  Or some parameters are not used but slip through this\n",
      "  verification. Please open an issue if you find above cases.\n",
      "\n",
      "\n",
      "[09:00:08] WARNING: C:/Users/Administrator/workspace/xgboost-win64_release_1.4.0/src/learner.cc:573: \n",
      "Parameters: { \"n_estimators\" } might not be used.\n",
      "\n",
      "  This may not be accurate due to some parameters are only used in language bindings but\n",
      "  passed down to XGBoost core.  Or some parameters are not used but slip through this\n",
      "  verification. Please open an issue if you find above cases.\n",
      "\n",
      "\n",
      "[09:00:08] WARNING: C:/Users/Administrator/workspace/xgboost-win64_release_1.4.0/src/learner.cc:573: \n",
      "Parameters: { \"n_estimators\" } might not be used.\n",
      "\n",
      "  This may not be accurate due to some parameters are only used in language bindings but\n",
      "  passed down to XGBoost core.  Or some parameters are not used but slip through this\n",
      "  verification. Please open an issue if you find above cases.\n",
      "\n",
      "\n",
      "[09:00:08] WARNING: C:/Users/Administrator/workspace/xgboost-win64_release_1.4.0/src/learner.cc:573: \n",
      "Parameters: { \"n_estimators\" } might not be used.\n",
      "\n",
      "  This may not be accurate due to some parameters are only used in language bindings but\n",
      "  passed down to XGBoost core.  Or some parameters are not used but slip through this\n",
      "  verification. Please open an issue if you find above cases.\n",
      "\n",
      "\n"
     ]
    },
    {
     "name": "stdout",
     "output_type": "stream",
     "text": [
      "| \u001b[0m 8       \u001b[0m | \u001b[0m-0.3699  \u001b[0m | \u001b[0m 0.272   \u001b[0m | \u001b[0m 0.5102  \u001b[0m | \u001b[0m 4.283   \u001b[0m | \u001b[0m 114.8   \u001b[0m |\n",
      "[09:00:10] WARNING: C:/Users/Administrator/workspace/xgboost-win64_release_1.4.0/src/learner.cc:573: \n",
      "Parameters: { \"n_estimators\" } might not be used.\n",
      "\n",
      "  This may not be accurate due to some parameters are only used in language bindings but\n",
      "  passed down to XGBoost core.  Or some parameters are not used but slip through this\n",
      "  verification. Please open an issue if you find above cases.\n",
      "\n",
      "\n",
      "[09:00:10] WARNING: C:/Users/Administrator/workspace/xgboost-win64_release_1.4.0/src/learner.cc:573: \n",
      "Parameters: { \"n_estimators\" } might not be used.\n",
      "\n",
      "  This may not be accurate due to some parameters are only used in language bindings but\n",
      "  passed down to XGBoost core.  Or some parameters are not used but slip through this\n",
      "  verification. Please open an issue if you find above cases.\n",
      "\n",
      "\n",
      "[09:00:10] WARNING: C:/Users/Administrator/workspace/xgboost-win64_release_1.4.0/src/learner.cc:573: \n",
      "Parameters: { \"n_estimators\" } might not be used.\n",
      "\n",
      "  This may not be accurate due to some parameters are only used in language bindings but\n",
      "  passed down to XGBoost core.  Or some parameters are not used but slip through this\n",
      "  verification. Please open an issue if you find above cases.\n",
      "\n",
      "\n",
      "[09:00:10] WARNING: C:/Users/Administrator/workspace/xgboost-win64_release_1.4.0/src/learner.cc:573: \n",
      "Parameters: { \"n_estimators\" } might not be used.\n",
      "\n",
      "  This may not be accurate due to some parameters are only used in language bindings but\n",
      "  passed down to XGBoost core.  Or some parameters are not used but slip through this\n",
      "  verification. Please open an issue if you find above cases.\n",
      "\n",
      "\n",
      "[09:00:10] WARNING: C:/Users/Administrator/workspace/xgboost-win64_release_1.4.0/src/learner.cc:573: \n",
      "Parameters: { \"n_estimators\" } might not be used.\n",
      "\n",
      "  This may not be accurate due to some parameters are only used in language bindings but\n",
      "  passed down to XGBoost core.  Or some parameters are not used but slip through this\n",
      "  verification. Please open an issue if you find above cases.\n",
      "\n",
      "\n",
      "| \u001b[0m 9       \u001b[0m | \u001b[0m-0.354   \u001b[0m | \u001b[0m 0.6872  \u001b[0m | \u001b[0m 0.3181  \u001b[0m | \u001b[0m 9.359   \u001b[0m | \u001b[0m 119.7   \u001b[0m |\n",
      "[09:00:11] WARNING: C:/Users/Administrator/workspace/xgboost-win64_release_1.4.0/src/learner.cc:573: \n",
      "Parameters: { \"n_estimators\" } might not be used.\n",
      "\n",
      "  This may not be accurate due to some parameters are only used in language bindings but\n",
      "  passed down to XGBoost core.  Or some parameters are not used but slip through this\n",
      "  verification. Please open an issue if you find above cases.\n",
      "\n",
      "\n",
      "[09:00:11] WARNING: C:/Users/Administrator/workspace/xgboost-win64_release_1.4.0/src/learner.cc:573: \n",
      "Parameters: { \"n_estimators\" } might not be used.\n",
      "\n",
      "  This may not be accurate due to some parameters are only used in language bindings but\n",
      "  passed down to XGBoost core.  Or some parameters are not used but slip through this\n",
      "  verification. Please open an issue if you find above cases.\n",
      "\n",
      "\n",
      "[09:00:11] WARNING: C:/Users/Administrator/workspace/xgboost-win64_release_1.4.0/src/learner.cc:573: \n",
      "Parameters: { \"n_estimators\" } might not be used.\n",
      "\n",
      "  This may not be accurate due to some parameters are only used in language bindings but\n",
      "  passed down to XGBoost core.  Or some parameters are not used but slip through this\n",
      "  verification. Please open an issue if you find above cases.\n",
      "\n",
      "\n",
      "[09:00:11] WARNING: C:/Users/Administrator/workspace/xgboost-win64_release_1.4.0/src/learner.cc:573: \n",
      "Parameters: { \"n_estimators\" } might not be used.\n",
      "\n",
      "  This may not be accurate due to some parameters are only used in language bindings but\n",
      "  passed down to XGBoost core.  Or some parameters are not used but slip through this\n",
      "  verification. Please open an issue if you find above cases.\n",
      "\n",
      "\n",
      "[09:00:11] WARNING: C:/Users/Administrator/workspace/xgboost-win64_release_1.4.0/src/learner.cc:573: \n",
      "Parameters: { \"n_estimators\" } might not be used.\n",
      "\n",
      "  This may not be accurate due to some parameters are only used in language bindings but\n",
      "  passed down to XGBoost core.  Or some parameters are not used but slip through this\n",
      "  verification. Please open an issue if you find above cases.\n",
      "\n",
      "\n",
      "| \u001b[0m 10      \u001b[0m | \u001b[0m-0.3783  \u001b[0m | \u001b[0m 0.2543  \u001b[0m | \u001b[0m 0.4632  \u001b[0m | \u001b[0m 9.94    \u001b[0m | \u001b[0m 119.4   \u001b[0m |\n",
      "[09:00:12] WARNING: C:/Users/Administrator/workspace/xgboost-win64_release_1.4.0/src/learner.cc:573: \n",
      "Parameters: { \"n_estimators\" } might not be used.\n",
      "\n",
      "  This may not be accurate due to some parameters are only used in language bindings but\n",
      "  passed down to XGBoost core.  Or some parameters are not used but slip through this\n",
      "  verification. Please open an issue if you find above cases.\n",
      "\n",
      "\n",
      "[09:00:12] WARNING: C:/Users/Administrator/workspace/xgboost-win64_release_1.4.0/src/learner.cc:573: \n",
      "Parameters: { \"n_estimators\" } might not be used.\n",
      "\n",
      "  This may not be accurate due to some parameters are only used in language bindings but\n",
      "  passed down to XGBoost core.  Or some parameters are not used but slip through this\n",
      "  verification. Please open an issue if you find above cases.\n",
      "\n",
      "\n",
      "[09:00:12] WARNING: C:/Users/Administrator/workspace/xgboost-win64_release_1.4.0/src/learner.cc:573: \n",
      "Parameters: { \"n_estimators\" } might not be used.\n",
      "\n",
      "  This may not be accurate due to some parameters are only used in language bindings but\n",
      "  passed down to XGBoost core.  Or some parameters are not used but slip through this\n",
      "  verification. Please open an issue if you find above cases.\n",
      "\n",
      "\n",
      "[09:00:12] WARNING: C:/Users/Administrator/workspace/xgboost-win64_release_1.4.0/src/learner.cc:573: \n",
      "Parameters: { \"n_estimators\" } might not be used.\n",
      "\n",
      "  This may not be accurate due to some parameters are only used in language bindings but\n",
      "  passed down to XGBoost core.  Or some parameters are not used but slip through this\n",
      "  verification. Please open an issue if you find above cases.\n",
      "\n",
      "\n",
      "[09:00:12] WARNING: C:/Users/Administrator/workspace/xgboost-win64_release_1.4.0/src/learner.cc:573: \n",
      "Parameters: { \"n_estimators\" } might not be used.\n",
      "\n",
      "  This may not be accurate due to some parameters are only used in language bindings but\n",
      "  passed down to XGBoost core.  Or some parameters are not used but slip through this\n",
      "  verification. Please open an issue if you find above cases.\n",
      "\n",
      "\n",
      "| \u001b[0m 11      \u001b[0m | \u001b[0m-0.5     \u001b[0m | \u001b[0m 0.3589  \u001b[0m | \u001b[0m 0.0     \u001b[0m | \u001b[0m 9.622   \u001b[0m | \u001b[0m 120.0   \u001b[0m |\n",
      "[09:00:13] WARNING: C:/Users/Administrator/workspace/xgboost-win64_release_1.4.0/src/learner.cc:573: \n",
      "Parameters: { \"n_estimators\" } might not be used.\n",
      "\n",
      "  This may not be accurate due to some parameters are only used in language bindings but\n",
      "  passed down to XGBoost core.  Or some parameters are not used but slip through this\n",
      "  verification. Please open an issue if you find above cases.\n",
      "\n",
      "\n",
      "[09:00:13] WARNING: C:/Users/Administrator/workspace/xgboost-win64_release_1.4.0/src/learner.cc:573: \n",
      "Parameters: { \"n_estimators\" } might not be used.\n",
      "\n",
      "  This may not be accurate due to some parameters are only used in language bindings but\n",
      "  passed down to XGBoost core.  Or some parameters are not used but slip through this\n",
      "  verification. Please open an issue if you find above cases.\n",
      "\n",
      "\n",
      "[09:00:13] WARNING: C:/Users/Administrator/workspace/xgboost-win64_release_1.4.0/src/learner.cc:573: \n",
      "Parameters: { \"n_estimators\" } might not be used.\n",
      "\n",
      "  This may not be accurate due to some parameters are only used in language bindings but\n",
      "  passed down to XGBoost core.  Or some parameters are not used but slip through this\n",
      "  verification. Please open an issue if you find above cases.\n",
      "\n",
      "\n",
      "[09:00:13] WARNING: C:/Users/Administrator/workspace/xgboost-win64_release_1.4.0/src/learner.cc:573: \n",
      "Parameters: { \"n_estimators\" } might not be used.\n",
      "\n",
      "  This may not be accurate due to some parameters are only used in language bindings but\n",
      "  passed down to XGBoost core.  Or some parameters are not used but slip through this\n",
      "  verification. Please open an issue if you find above cases.\n",
      "\n",
      "\n",
      "[09:00:13] WARNING: C:/Users/Administrator/workspace/xgboost-win64_release_1.4.0/src/learner.cc:573: \n",
      "Parameters: { \"n_estimators\" } might not be used.\n",
      "\n",
      "  This may not be accurate due to some parameters are only used in language bindings but\n",
      "  passed down to XGBoost core.  Or some parameters are not used but slip through this\n",
      "  verification. Please open an issue if you find above cases.\n",
      "\n",
      "\n"
     ]
    },
    {
     "name": "stdout",
     "output_type": "stream",
     "text": [
      "| \u001b[0m 12      \u001b[0m | \u001b[0m-0.3592  \u001b[0m | \u001b[0m 0.9761  \u001b[0m | \u001b[0m 0.3299  \u001b[0m | \u001b[0m 4.381   \u001b[0m | \u001b[0m 101.2   \u001b[0m |\n",
      "[09:00:14] WARNING: C:/Users/Administrator/workspace/xgboost-win64_release_1.4.0/src/learner.cc:573: \n",
      "Parameters: { \"n_estimators\" } might not be used.\n",
      "\n",
      "  This may not be accurate due to some parameters are only used in language bindings but\n",
      "  passed down to XGBoost core.  Or some parameters are not used but slip through this\n",
      "  verification. Please open an issue if you find above cases.\n",
      "\n",
      "\n",
      "[09:00:14] WARNING: C:/Users/Administrator/workspace/xgboost-win64_release_1.4.0/src/learner.cc:573: \n",
      "Parameters: { \"n_estimators\" } might not be used.\n",
      "\n",
      "  This may not be accurate due to some parameters are only used in language bindings but\n",
      "  passed down to XGBoost core.  Or some parameters are not used but slip through this\n",
      "  verification. Please open an issue if you find above cases.\n",
      "\n",
      "\n",
      "[09:00:14] WARNING: C:/Users/Administrator/workspace/xgboost-win64_release_1.4.0/src/learner.cc:573: \n",
      "Parameters: { \"n_estimators\" } might not be used.\n",
      "\n",
      "  This may not be accurate due to some parameters are only used in language bindings but\n",
      "  passed down to XGBoost core.  Or some parameters are not used but slip through this\n",
      "  verification. Please open an issue if you find above cases.\n",
      "\n",
      "\n",
      "[09:00:14] WARNING: C:/Users/Administrator/workspace/xgboost-win64_release_1.4.0/src/learner.cc:573: \n",
      "Parameters: { \"n_estimators\" } might not be used.\n",
      "\n",
      "  This may not be accurate due to some parameters are only used in language bindings but\n",
      "  passed down to XGBoost core.  Or some parameters are not used but slip through this\n",
      "  verification. Please open an issue if you find above cases.\n",
      "\n",
      "\n",
      "[09:00:14] WARNING: C:/Users/Administrator/workspace/xgboost-win64_release_1.4.0/src/learner.cc:573: \n",
      "Parameters: { \"n_estimators\" } might not be used.\n",
      "\n",
      "  This may not be accurate due to some parameters are only used in language bindings but\n",
      "  passed down to XGBoost core.  Or some parameters are not used but slip through this\n",
      "  verification. Please open an issue if you find above cases.\n",
      "\n",
      "\n",
      "| \u001b[0m 13      \u001b[0m | \u001b[0m-0.3604  \u001b[0m | \u001b[0m 0.1562  \u001b[0m | \u001b[0m 0.09781 \u001b[0m | \u001b[0m 3.756   \u001b[0m | \u001b[0m 106.8   \u001b[0m |\n",
      "=========================================================================\n"
     ]
    }
   ],
   "source": [
    "xgb_bo.maximize(n_iter=5, init_points=8, acq='ei')"
   ]
  },
  {
   "cell_type": "code",
   "execution_count": 245,
   "id": "cd98affe",
   "metadata": {
    "ExecuteTime": {
     "end_time": "2022-04-15T14:00:14.559291Z",
     "start_time": "2022-04-15T14:00:14.546287Z"
    }
   },
   "outputs": [
    {
     "name": "stdout",
     "output_type": "stream",
     "text": [
      "{'gamma': 0.2940344944882958, 'learning_rate': 0.16764789888342757, 'max_depth': 9.80771676937412, 'n_estimators': 119.82045410739465}\n"
     ]
    }
   ],
   "source": [
    "#Extracting the best parameters\n",
    "params = xgb_bo.max['params']\n",
    "print(params)"
   ]
  },
  {
   "cell_type": "code",
   "execution_count": 246,
   "id": "a4f3ab15",
   "metadata": {
    "ExecuteTime": {
     "end_time": "2022-04-15T14:00:14.891664Z",
     "start_time": "2022-04-15T14:00:14.563287Z"
    }
   },
   "outputs": [
    {
     "name": "stdout",
     "output_type": "stream",
     "text": [
      "[09:00:14] WARNING: C:/Users/Administrator/workspace/xgboost-win64_release_1.4.0/src/learner.cc:1095: Starting in XGBoost 1.3.0, the default evaluation metric used with the objective 'binary:logistic' was changed from 'error' to 'logloss'. Explicitly set eval_metric if you'd like to restore the old behavior.\n"
     ]
    },
    {
     "name": "stderr",
     "output_type": "stream",
     "text": [
      "C:\\Users\\Windows\\anaconda3\\lib\\site-packages\\xgboost\\sklearn.py:1146: UserWarning: The use of label encoder in XGBClassifier is deprecated and will be removed in a future release. To remove this warning, do the following: 1) Pass option use_label_encoder=False when constructing XGBClassifier object; and 2) Encode your labels (y) as integers starting with 0, i.e. 0, 1, 2, ..., [num_class - 1].\n",
      "  warnings.warn(label_encoder_deprecation_msg, UserWarning)\n"
     ]
    }
   ],
   "source": [
    "#Converting the max_depth and n_estimator values from float to int\n",
    "params['max_depth']= int(params['max_depth'])\n",
    "params['n_estimators']= int(params['n_estimators'])\n",
    "\n",
    "#Initialize an XGBClassifier with the tuned parameters and fit the training data\n",
    "\n",
    "classifier2 = xgb.XGBClassifier(**params).fit(X_test, y_test)"
   ]
  },
  {
   "cell_type": "code",
   "execution_count": 247,
   "id": "0960e688",
   "metadata": {
    "ExecuteTime": {
     "end_time": "2022-04-15T14:00:14.937665Z",
     "start_time": "2022-04-15T14:00:14.894679Z"
    }
   },
   "outputs": [],
   "source": [
    "pickle.dump( classifier2, open( 'model/final_model.pkl', 'wb' ) )"
   ]
  },
  {
   "cell_type": "code",
   "execution_count": 248,
   "id": "268963bf",
   "metadata": {
    "ExecuteTime": {
     "end_time": "2022-04-15T14:00:14.968664Z",
     "start_time": "2022-04-15T14:00:14.940665Z"
    }
   },
   "outputs": [],
   "source": [
    "y_pred_xgb_param = classifier2.predict(X_test)"
   ]
  },
  {
   "cell_type": "code",
   "execution_count": 249,
   "id": "8c464e4a",
   "metadata": {
    "ExecuteTime": {
     "end_time": "2022-04-15T14:00:14.984665Z",
     "start_time": "2022-04-15T14:00:14.971671Z"
    }
   },
   "outputs": [
    {
     "name": "stdout",
     "output_type": "stream",
     "text": [
      "[[321   3]\n",
      " [  6 325]]\n"
     ]
    }
   ],
   "source": [
    "cf_matrix = confusion_matrix(y_test, y_pred_xgb_param)\n",
    "\n",
    "print(cf_matrix)"
   ]
  },
  {
   "cell_type": "code",
   "execution_count": 250,
   "id": "ae1c8b41",
   "metadata": {
    "ExecuteTime": {
     "end_time": "2022-04-15T14:00:15.239664Z",
     "start_time": "2022-04-15T14:00:14.988666Z"
    }
   },
   "outputs": [
    {
     "data": {
      "image/png": "[encoded data removed]",
      "text/plain": [
       "<Figure size 432x288 with 2 Axes>"
      ]
     },
     "metadata": {
      "needs_background": "light"
     },
     "output_type": "display_data"
    }
   ],
   "source": [
    "ax = sns.heatmap(cf_matrix/np.sum(cf_matrix), annot=True, \n",
    "            fmt='.2%', cmap='Blues')\n",
    "\n",
    "ax.set_title('Matriz de confusión XGboost\\n\\n');\n",
    "ax.set_xlabel('\\n Valores predichos ')\n",
    "ax.set_ylabel('Valores observados ');\n",
    "\n",
    "## Ticket labels - List must be in alphabetical order\n",
    "ax.xaxis.set_ticklabels(['False','True'])\n",
    "ax.yaxis.set_ticklabels(['False','True'])\n",
    "\n",
    "## Display the visualization of the Confusion Matrix.\n",
    "plt.show()"
   ]
  },
  {
   "cell_type": "code",
   "execution_count": 251,
   "id": "cce033a9",
   "metadata": {
    "ExecuteTime": {
     "end_time": "2022-04-15T14:00:15.473684Z",
     "start_time": "2022-04-15T14:00:15.243666Z"
    }
   },
   "outputs": [
    {
     "name": "stderr",
     "output_type": "stream",
     "text": [
      "C:\\Users\\Windows\\AppData\\Roaming\\Python\\Python39\\site-packages\\sklearn\\utils\\deprecation.py:87: FutureWarning: Function plot_roc_curve is deprecated; Function :func:`plot_roc_curve` is deprecated in 1.0 and will be removed in 1.2. Use one of the class methods: :meth:`sklearn.metric.RocCurveDisplay.from_predictions` or :meth:`sklearn.metric.RocCurveDisplay.from_estimator`.\n",
      "  warnings.warn(msg, category=FutureWarning)\n"
     ]
    },
    {
     "data": {
      "text/plain": [
       "<sklearn.metrics._plot.roc_curve.RocCurveDisplay at 0x18ffb07b9a0>"
      ]
     },
     "execution_count": 251,
     "metadata": {},
     "output_type": "execute_result"
    },
    {
     "data": {
      "image/png": "[encoded data removed]",
      "text/plain": [
       "<Figure size 432x288 with 1 Axes>"
      ]
     },
     "metadata": {
      "needs_background": "light"
     },
     "output_type": "display_data"
    }
   ],
   "source": [
    "metrics.plot_roc_curve(classifier2, X_test, y_test) "
   ]
  },
  {
   "cell_type": "code",
   "execution_count": 252,
   "id": "1f0126aa",
   "metadata": {
    "ExecuteTime": {
     "end_time": "2022-04-15T14:00:20.352829Z",
     "start_time": "2022-04-15T14:00:15.476664Z"
    },
    "scrolled": true
   },
   "outputs": [
    {
     "name": "stderr",
     "output_type": "stream",
     "text": [
      "C:\\Users\\Windows\\anaconda3\\lib\\site-packages\\xgboost\\sklearn.py:1146: UserWarning: The use of label encoder in XGBClassifier is deprecated and will be removed in a future release. To remove this warning, do the following: 1) Pass option use_label_encoder=False when constructing XGBClassifier object; and 2) Encode your labels (y) as integers starting with 0, i.e. 0, 1, 2, ..., [num_class - 1].\n",
      "  warnings.warn(label_encoder_deprecation_msg, UserWarning)\n"
     ]
    },
    {
     "name": "stdout",
     "output_type": "stream",
     "text": [
      "[09:00:15] WARNING: C:/Users/Administrator/workspace/xgboost-win64_release_1.4.0/src/learner.cc:1095: Starting in XGBoost 1.3.0, the default evaluation metric used with the objective 'binary:logistic' was changed from 'error' to 'logloss'. Explicitly set eval_metric if you'd like to restore the old behavior.\n"
     ]
    },
    {
     "name": "stderr",
     "output_type": "stream",
     "text": [
      "C:\\Users\\Windows\\anaconda3\\lib\\site-packages\\xgboost\\sklearn.py:1146: UserWarning: The use of label encoder in XGBClassifier is deprecated and will be removed in a future release. To remove this warning, do the following: 1) Pass option use_label_encoder=False when constructing XGBClassifier object; and 2) Encode your labels (y) as integers starting with 0, i.e. 0, 1, 2, ..., [num_class - 1].\n",
      "  warnings.warn(label_encoder_deprecation_msg, UserWarning)\n"
     ]
    },
    {
     "name": "stdout",
     "output_type": "stream",
     "text": [
      "[09:00:16] WARNING: C:/Users/Administrator/workspace/xgboost-win64_release_1.4.0/src/learner.cc:1095: Starting in XGBoost 1.3.0, the default evaluation metric used with the objective 'binary:logistic' was changed from 'error' to 'logloss'. Explicitly set eval_metric if you'd like to restore the old behavior.\n"
     ]
    },
    {
     "name": "stderr",
     "output_type": "stream",
     "text": [
      "C:\\Users\\Windows\\anaconda3\\lib\\site-packages\\xgboost\\sklearn.py:1146: UserWarning: The use of label encoder in XGBClassifier is deprecated and will be removed in a future release. To remove this warning, do the following: 1) Pass option use_label_encoder=False when constructing XGBClassifier object; and 2) Encode your labels (y) as integers starting with 0, i.e. 0, 1, 2, ..., [num_class - 1].\n",
      "  warnings.warn(label_encoder_deprecation_msg, UserWarning)\n"
     ]
    },
    {
     "name": "stdout",
     "output_type": "stream",
     "text": [
      "[09:00:16] WARNING: C:/Users/Administrator/workspace/xgboost-win64_release_1.4.0/src/learner.cc:1095: Starting in XGBoost 1.3.0, the default evaluation metric used with the objective 'binary:logistic' was changed from 'error' to 'logloss'. Explicitly set eval_metric if you'd like to restore the old behavior.\n"
     ]
    },
    {
     "name": "stderr",
     "output_type": "stream",
     "text": [
      "C:\\Users\\Windows\\anaconda3\\lib\\site-packages\\xgboost\\sklearn.py:1146: UserWarning: The use of label encoder in XGBClassifier is deprecated and will be removed in a future release. To remove this warning, do the following: 1) Pass option use_label_encoder=False when constructing XGBClassifier object; and 2) Encode your labels (y) as integers starting with 0, i.e. 0, 1, 2, ..., [num_class - 1].\n",
      "  warnings.warn(label_encoder_deprecation_msg, UserWarning)\n"
     ]
    },
    {
     "name": "stdout",
     "output_type": "stream",
     "text": [
      "[09:00:17] WARNING: C:/Users/Administrator/workspace/xgboost-win64_release_1.4.0/src/learner.cc:1095: Starting in XGBoost 1.3.0, the default evaluation metric used with the objective 'binary:logistic' was changed from 'error' to 'logloss'. Explicitly set eval_metric if you'd like to restore the old behavior.\n"
     ]
    },
    {
     "name": "stderr",
     "output_type": "stream",
     "text": [
      "C:\\Users\\Windows\\anaconda3\\lib\\site-packages\\xgboost\\sklearn.py:1146: UserWarning: The use of label encoder in XGBClassifier is deprecated and will be removed in a future release. To remove this warning, do the following: 1) Pass option use_label_encoder=False when constructing XGBClassifier object; and 2) Encode your labels (y) as integers starting with 0, i.e. 0, 1, 2, ..., [num_class - 1].\n",
      "  warnings.warn(label_encoder_deprecation_msg, UserWarning)\n"
     ]
    },
    {
     "name": "stdout",
     "output_type": "stream",
     "text": [
      "[09:00:17] WARNING: C:/Users/Administrator/workspace/xgboost-win64_release_1.4.0/src/learner.cc:1095: Starting in XGBoost 1.3.0, the default evaluation metric used with the objective 'binary:logistic' was changed from 'error' to 'logloss'. Explicitly set eval_metric if you'd like to restore the old behavior.\n"
     ]
    },
    {
     "name": "stderr",
     "output_type": "stream",
     "text": [
      "C:\\Users\\Windows\\anaconda3\\lib\\site-packages\\xgboost\\sklearn.py:1146: UserWarning: The use of label encoder in XGBClassifier is deprecated and will be removed in a future release. To remove this warning, do the following: 1) Pass option use_label_encoder=False when constructing XGBClassifier object; and 2) Encode your labels (y) as integers starting with 0, i.e. 0, 1, 2, ..., [num_class - 1].\n",
      "  warnings.warn(label_encoder_deprecation_msg, UserWarning)\n"
     ]
    },
    {
     "name": "stdout",
     "output_type": "stream",
     "text": [
      "[09:00:18] WARNING: C:/Users/Administrator/workspace/xgboost-win64_release_1.4.0/src/learner.cc:1095: Starting in XGBoost 1.3.0, the default evaluation metric used with the objective 'binary:logistic' was changed from 'error' to 'logloss'. Explicitly set eval_metric if you'd like to restore the old behavior.\n"
     ]
    },
    {
     "name": "stderr",
     "output_type": "stream",
     "text": [
      "C:\\Users\\Windows\\anaconda3\\lib\\site-packages\\xgboost\\sklearn.py:1146: UserWarning: The use of label encoder in XGBClassifier is deprecated and will be removed in a future release. To remove this warning, do the following: 1) Pass option use_label_encoder=False when constructing XGBClassifier object; and 2) Encode your labels (y) as integers starting with 0, i.e. 0, 1, 2, ..., [num_class - 1].\n",
      "  warnings.warn(label_encoder_deprecation_msg, UserWarning)\n"
     ]
    },
    {
     "name": "stdout",
     "output_type": "stream",
     "text": [
      "[09:00:18] WARNING: C:/Users/Administrator/workspace/xgboost-win64_release_1.4.0/src/learner.cc:1095: Starting in XGBoost 1.3.0, the default evaluation metric used with the objective 'binary:logistic' was changed from 'error' to 'logloss'. Explicitly set eval_metric if you'd like to restore the old behavior.\n"
     ]
    },
    {
     "name": "stderr",
     "output_type": "stream",
     "text": [
      "C:\\Users\\Windows\\anaconda3\\lib\\site-packages\\xgboost\\sklearn.py:1146: UserWarning: The use of label encoder in XGBClassifier is deprecated and will be removed in a future release. To remove this warning, do the following: 1) Pass option use_label_encoder=False when constructing XGBClassifier object; and 2) Encode your labels (y) as integers starting with 0, i.e. 0, 1, 2, ..., [num_class - 1].\n",
      "  warnings.warn(label_encoder_deprecation_msg, UserWarning)\n"
     ]
    },
    {
     "name": "stdout",
     "output_type": "stream",
     "text": [
      "[09:00:19] WARNING: C:/Users/Administrator/workspace/xgboost-win64_release_1.4.0/src/learner.cc:1095: Starting in XGBoost 1.3.0, the default evaluation metric used with the objective 'binary:logistic' was changed from 'error' to 'logloss'. Explicitly set eval_metric if you'd like to restore the old behavior.\n"
     ]
    },
    {
     "name": "stderr",
     "output_type": "stream",
     "text": [
      "C:\\Users\\Windows\\anaconda3\\lib\\site-packages\\xgboost\\sklearn.py:1146: UserWarning: The use of label encoder in XGBClassifier is deprecated and will be removed in a future release. To remove this warning, do the following: 1) Pass option use_label_encoder=False when constructing XGBClassifier object; and 2) Encode your labels (y) as integers starting with 0, i.e. 0, 1, 2, ..., [num_class - 1].\n",
      "  warnings.warn(label_encoder_deprecation_msg, UserWarning)\n"
     ]
    },
    {
     "name": "stdout",
     "output_type": "stream",
     "text": [
      "[09:00:19] WARNING: C:/Users/Administrator/workspace/xgboost-win64_release_1.4.0/src/learner.cc:1095: Starting in XGBoost 1.3.0, the default evaluation metric used with the objective 'binary:logistic' was changed from 'error' to 'logloss'. Explicitly set eval_metric if you'd like to restore the old behavior.\n"
     ]
    },
    {
     "name": "stderr",
     "output_type": "stream",
     "text": [
      "C:\\Users\\Windows\\anaconda3\\lib\\site-packages\\xgboost\\sklearn.py:1146: UserWarning: The use of label encoder in XGBClassifier is deprecated and will be removed in a future release. To remove this warning, do the following: 1) Pass option use_label_encoder=False when constructing XGBClassifier object; and 2) Encode your labels (y) as integers starting with 0, i.e. 0, 1, 2, ..., [num_class - 1].\n",
      "  warnings.warn(label_encoder_deprecation_msg, UserWarning)\n"
     ]
    },
    {
     "name": "stdout",
     "output_type": "stream",
     "text": [
      "[09:00:19] WARNING: C:/Users/Administrator/workspace/xgboost-win64_release_1.4.0/src/learner.cc:1095: Starting in XGBoost 1.3.0, the default evaluation metric used with the objective 'binary:logistic' was changed from 'error' to 'logloss'. Explicitly set eval_metric if you'd like to restore the old behavior.\n",
      "Puntajes obtenidos: [0.9035533  0.81725888 0.79187817 0.88324873 0.86734694 0.85714286\n",
      " 0.8622449  0.83163265 0.85714286 0.85714286]\n",
      "Precisión de validación cruzada: 0.853 +/- 0.030\n"
     ]
    }
   ],
   "source": [
    "scores = cross_val_score(classifier2, X=X_train, y=y_train, cv=10, n_jobs=1)\n",
    " \n",
    "print('Puntajes obtenidos: %s' % scores)\n",
    "print('Precisión de validación cruzada: %.3f +/- %.3f' % (np.mean(scores),np.std(scores)))"
   ]
  },
  {
   "cell_type": "markdown",
   "id": "61744dfd",
   "metadata": {},
   "source": [
    "## Using the model to predict new data"
   ]
  },
  {
   "cell_type": "code",
   "execution_count": 253,
   "id": "2a641b4e",
   "metadata": {
    "ExecuteTime": {
     "end_time": "2022-04-15T14:00:20.416027Z",
     "start_time": "2022-04-15T14:00:20.356031Z"
    }
   },
   "outputs": [],
   "source": [
    "nueva = pd.read_csv('Base_nueva_DC.csv',encoding = \"ISO-8859-1\", sep =';',parse_dates=['fecha_ult_desembolso'], \n",
    "                  dtype = {\n",
    "                      'Id_Cliente':str,\n",
    "                      'Ciudad':str,\n",
    "                      ' Patrimonio ':int,\n",
    "                      ' Ingresos_Mensuales ':int,\n",
    "                      'No_hijos':int,\n",
    "                      'oficina':str,\n",
    "                      'monto_credito':int,\n",
    "                      'tasa':float,\n",
    "                      'saldo_capital':int,\n",
    "                      'Antiguedad_en_meses':int,\n",
    "                      'Max_dias_mora':int,\n",
    "                      'plazo_dias':int,\n",
    "                      'Edad':int\n",
    "                  })\n"
   ]
  },
  {
   "cell_type": "code",
   "execution_count": 254,
   "id": "4743e33c",
   "metadata": {
    "ExecuteTime": {
     "end_time": "2022-04-15T14:00:20.448027Z",
     "start_time": "2022-04-15T14:00:20.419028Z"
    }
   },
   "outputs": [],
   "source": [
    "nueva['mes_ult_desembolso'] = nueva['fecha_ult_desembolso'].dt.month\n",
    "nueva = nueva.rename(columns = {' Ingresos_Mensuales ':'Ingresos_Mensuales',\n",
    "                              ' Patrimonio ':'Patrimonio'})"
   ]
  },
  {
   "cell_type": "code",
   "execution_count": 255,
   "id": "857748f7",
   "metadata": {
    "ExecuteTime": {
     "end_time": "2022-04-15T14:00:20.527027Z",
     "start_time": "2022-04-15T14:00:20.451026Z"
    }
   },
   "outputs": [
    {
     "data": {
      "text/html": [
       "<div>\n",
       "<style scoped>\n",
       "    .dataframe tbody tr th:only-of-type {\n",
       "        vertical-align: middle;\n",
       "    }\n",
       "\n",
       "    .dataframe tbody tr th {\n",
       "        vertical-align: top;\n",
       "    }\n",
       "\n",
       "    .dataframe thead th {\n",
       "        text-align: right;\n",
       "    }\n",
       "</style>\n",
       "<table border=\"1\" class=\"dataframe\">\n",
       "  <thead>\n",
       "    <tr style=\"text-align: right;\">\n",
       "      <th></th>\n",
       "      <th>Id_Cliente</th>\n",
       "      <th>Ciudad</th>\n",
       "      <th>Patrimonio</th>\n",
       "      <th>Ingresos_Mensuales</th>\n",
       "      <th>No_hijos</th>\n",
       "      <th>oficina</th>\n",
       "      <th>fecha_ult_desembolso</th>\n",
       "      <th>monto_credito</th>\n",
       "      <th>tasa</th>\n",
       "      <th>saldo_capital</th>\n",
       "      <th>saldo_Ahorro</th>\n",
       "      <th>Antiguedad_en_meses</th>\n",
       "      <th>Max_dias_mora</th>\n",
       "      <th>plazo_dias</th>\n",
       "      <th>Edad</th>\n",
       "      <th>mes_ult_desembolso</th>\n",
       "    </tr>\n",
       "  </thead>\n",
       "  <tbody>\n",
       "    <tr>\n",
       "      <th>0</th>\n",
       "      <td>427658</td>\n",
       "      <td>Cartagena</td>\n",
       "      <td>745968</td>\n",
       "      <td>1614094</td>\n",
       "      <td>0</td>\n",
       "      <td>4024</td>\n",
       "      <td>2017-12-30</td>\n",
       "      <td>1500000</td>\n",
       "      <td>33.93</td>\n",
       "      <td>1357387</td>\n",
       "      <td>33438</td>\n",
       "      <td>12</td>\n",
       "      <td>0</td>\n",
       "      <td>900</td>\n",
       "      <td>65</td>\n",
       "      <td>12</td>\n",
       "    </tr>\n",
       "    <tr>\n",
       "      <th>1</th>\n",
       "      <td>427659</td>\n",
       "      <td>Barranquilla</td>\n",
       "      <td>834415</td>\n",
       "      <td>920234</td>\n",
       "      <td>1</td>\n",
       "      <td>4011</td>\n",
       "      <td>2017-12-18</td>\n",
       "      <td>1500000</td>\n",
       "      <td>33.93</td>\n",
       "      <td>392262</td>\n",
       "      <td>0</td>\n",
       "      <td>12</td>\n",
       "      <td>0</td>\n",
       "      <td>540</td>\n",
       "      <td>40</td>\n",
       "      <td>12</td>\n",
       "    </tr>\n",
       "    <tr>\n",
       "      <th>2</th>\n",
       "      <td>427670</td>\n",
       "      <td>Barranquilla</td>\n",
       "      <td>1164858</td>\n",
       "      <td>1568317</td>\n",
       "      <td>1</td>\n",
       "      <td>7032</td>\n",
       "      <td>2018-02-17</td>\n",
       "      <td>1064170</td>\n",
       "      <td>0.30</td>\n",
       "      <td>211724</td>\n",
       "      <td>0</td>\n",
       "      <td>12</td>\n",
       "      <td>0</td>\n",
       "      <td>540</td>\n",
       "      <td>36</td>\n",
       "      <td>2</td>\n",
       "    </tr>\n",
       "    <tr>\n",
       "      <th>3</th>\n",
       "      <td>427671</td>\n",
       "      <td>Cali</td>\n",
       "      <td>1187587</td>\n",
       "      <td>796660</td>\n",
       "      <td>1</td>\n",
       "      <td>7032</td>\n",
       "      <td>2017-12-25</td>\n",
       "      <td>2338552</td>\n",
       "      <td>0.30</td>\n",
       "      <td>828993</td>\n",
       "      <td>0</td>\n",
       "      <td>12</td>\n",
       "      <td>0</td>\n",
       "      <td>720</td>\n",
       "      <td>47</td>\n",
       "      <td>12</td>\n",
       "    </tr>\n",
       "    <tr>\n",
       "      <th>4</th>\n",
       "      <td>427720</td>\n",
       "      <td>Cartagena</td>\n",
       "      <td>2840488</td>\n",
       "      <td>1474771</td>\n",
       "      <td>0</td>\n",
       "      <td>7025</td>\n",
       "      <td>2018-01-23</td>\n",
       "      <td>2385560</td>\n",
       "      <td>33.93</td>\n",
       "      <td>1997956</td>\n",
       "      <td>0</td>\n",
       "      <td>12</td>\n",
       "      <td>0</td>\n",
       "      <td>720</td>\n",
       "      <td>56</td>\n",
       "      <td>1</td>\n",
       "    </tr>\n",
       "    <tr>\n",
       "      <th>...</th>\n",
       "      <td>...</td>\n",
       "      <td>...</td>\n",
       "      <td>...</td>\n",
       "      <td>...</td>\n",
       "      <td>...</td>\n",
       "      <td>...</td>\n",
       "      <td>...</td>\n",
       "      <td>...</td>\n",
       "      <td>...</td>\n",
       "      <td>...</td>\n",
       "      <td>...</td>\n",
       "      <td>...</td>\n",
       "      <td>...</td>\n",
       "      <td>...</td>\n",
       "      <td>...</td>\n",
       "      <td>...</td>\n",
       "    </tr>\n",
       "    <tr>\n",
       "      <th>1495</th>\n",
       "      <td>428626</td>\n",
       "      <td>Cartagena</td>\n",
       "      <td>37964203</td>\n",
       "      <td>477534</td>\n",
       "      <td>1</td>\n",
       "      <td>4003</td>\n",
       "      <td>2017-11-29</td>\n",
       "      <td>9000000</td>\n",
       "      <td>33.93</td>\n",
       "      <td>7810084</td>\n",
       "      <td>18603</td>\n",
       "      <td>120</td>\n",
       "      <td>0</td>\n",
       "      <td>1080</td>\n",
       "      <td>30</td>\n",
       "      <td>11</td>\n",
       "    </tr>\n",
       "    <tr>\n",
       "      <th>1496</th>\n",
       "      <td>428844</td>\n",
       "      <td>Barranquilla</td>\n",
       "      <td>46168677</td>\n",
       "      <td>1516403</td>\n",
       "      <td>0</td>\n",
       "      <td>4003</td>\n",
       "      <td>2017-11-29</td>\n",
       "      <td>8900000</td>\n",
       "      <td>33.93</td>\n",
       "      <td>7810084</td>\n",
       "      <td>18603</td>\n",
       "      <td>120</td>\n",
       "      <td>0</td>\n",
       "      <td>1080</td>\n",
       "      <td>44</td>\n",
       "      <td>11</td>\n",
       "    </tr>\n",
       "    <tr>\n",
       "      <th>1497</th>\n",
       "      <td>428405</td>\n",
       "      <td>Bogotá</td>\n",
       "      <td>28739705</td>\n",
       "      <td>848160</td>\n",
       "      <td>1</td>\n",
       "      <td>4030</td>\n",
       "      <td>2017-12-15</td>\n",
       "      <td>9000000</td>\n",
       "      <td>33.93</td>\n",
       "      <td>9000000</td>\n",
       "      <td>19713</td>\n",
       "      <td>120</td>\n",
       "      <td>0</td>\n",
       "      <td>720</td>\n",
       "      <td>41</td>\n",
       "      <td>12</td>\n",
       "    </tr>\n",
       "    <tr>\n",
       "      <th>1498</th>\n",
       "      <td>428623</td>\n",
       "      <td>Cali</td>\n",
       "      <td>37858892</td>\n",
       "      <td>1041188</td>\n",
       "      <td>2</td>\n",
       "      <td>4030</td>\n",
       "      <td>2017-12-15</td>\n",
       "      <td>9000000</td>\n",
       "      <td>33.93</td>\n",
       "      <td>9000000</td>\n",
       "      <td>19713</td>\n",
       "      <td>120</td>\n",
       "      <td>0</td>\n",
       "      <td>720</td>\n",
       "      <td>48</td>\n",
       "      <td>12</td>\n",
       "    </tr>\n",
       "    <tr>\n",
       "      <th>1499</th>\n",
       "      <td>428841</td>\n",
       "      <td>Barranquilla</td>\n",
       "      <td>46090593</td>\n",
       "      <td>604703</td>\n",
       "      <td>0</td>\n",
       "      <td>4030</td>\n",
       "      <td>2017-12-15</td>\n",
       "      <td>8900000</td>\n",
       "      <td>33.93</td>\n",
       "      <td>7800000</td>\n",
       "      <td>19713</td>\n",
       "      <td>120</td>\n",
       "      <td>0</td>\n",
       "      <td>720</td>\n",
       "      <td>32</td>\n",
       "      <td>12</td>\n",
       "    </tr>\n",
       "  </tbody>\n",
       "</table>\n",
       "<p>1500 rows × 16 columns</p>\n",
       "</div>"
      ],
      "text/plain": [
       "     Id_Cliente        Ciudad  Patrimonio  Ingresos_Mensuales  No_hijos  \\\n",
       "0        427658     Cartagena      745968             1614094         0   \n",
       "1        427659  Barranquilla      834415              920234         1   \n",
       "2        427670  Barranquilla     1164858             1568317         1   \n",
       "3        427671          Cali     1187587              796660         1   \n",
       "4        427720     Cartagena     2840488             1474771         0   \n",
       "...         ...           ...         ...                 ...       ...   \n",
       "1495     428626     Cartagena    37964203              477534         1   \n",
       "1496     428844  Barranquilla    46168677             1516403         0   \n",
       "1497     428405        Bogotá    28739705              848160         1   \n",
       "1498     428623          Cali    37858892             1041188         2   \n",
       "1499     428841  Barranquilla    46090593              604703         0   \n",
       "\n",
       "     oficina fecha_ult_desembolso  monto_credito   tasa  saldo_capital  \\\n",
       "0       4024           2017-12-30        1500000  33.93        1357387   \n",
       "1       4011           2017-12-18        1500000  33.93         392262   \n",
       "2       7032           2018-02-17        1064170   0.30         211724   \n",
       "3       7032           2017-12-25        2338552   0.30         828993   \n",
       "4       7025           2018-01-23        2385560  33.93        1997956   \n",
       "...      ...                  ...            ...    ...            ...   \n",
       "1495    4003           2017-11-29        9000000  33.93        7810084   \n",
       "1496    4003           2017-11-29        8900000  33.93        7810084   \n",
       "1497    4030           2017-12-15        9000000  33.93        9000000   \n",
       "1498    4030           2017-12-15        9000000  33.93        9000000   \n",
       "1499    4030           2017-12-15        8900000  33.93        7800000   \n",
       "\n",
       "      saldo_Ahorro  Antiguedad_en_meses  Max_dias_mora  plazo_dias  Edad  \\\n",
       "0            33438                   12              0         900    65   \n",
       "1                0                   12              0         540    40   \n",
       "2                0                   12              0         540    36   \n",
       "3                0                   12              0         720    47   \n",
       "4                0                   12              0         720    56   \n",
       "...            ...                  ...            ...         ...   ...   \n",
       "1495         18603                  120              0        1080    30   \n",
       "1496         18603                  120              0        1080    44   \n",
       "1497         19713                  120              0         720    41   \n",
       "1498         19713                  120              0         720    48   \n",
       "1499         19713                  120              0         720    32   \n",
       "\n",
       "      mes_ult_desembolso  \n",
       "0                     12  \n",
       "1                     12  \n",
       "2                      2  \n",
       "3                     12  \n",
       "4                      1  \n",
       "...                  ...  \n",
       "1495                  11  \n",
       "1496                  11  \n",
       "1497                  12  \n",
       "1498                  12  \n",
       "1499                  12  \n",
       "\n",
       "[1500 rows x 16 columns]"
      ]
     },
     "execution_count": 255,
     "metadata": {},
     "output_type": "execute_result"
    }
   ],
   "source": [
    "nueva"
   ]
  },
  {
   "cell_type": "code",
   "execution_count": 256,
   "id": "ff87bda5",
   "metadata": {
    "ExecuteTime": {
     "end_time": "2022-04-15T14:00:20.543028Z",
     "start_time": "2022-04-15T14:00:20.530027Z"
    }
   },
   "outputs": [],
   "source": [
    "X = nueva[[ 'Patrimonio', 'Ingresos_Mensuales', 'No_hijos',\n",
    "       'monto_credito', 'tasa',\n",
    "       'saldo_capital', 'saldo_Ahorro', 'Antiguedad_en_meses', 'Max_dias_mora',\n",
    "       'plazo_dias', 'Edad', 'mes_ult_desembolso']]"
   ]
  },
  {
   "cell_type": "code",
   "execution_count": 257,
   "id": "6a7c59ed",
   "metadata": {
    "ExecuteTime": {
     "end_time": "2022-04-15T14:00:20.559028Z",
     "start_time": "2022-04-15T14:00:20.546029Z"
    }
   },
   "outputs": [],
   "source": [
    "ciudad = pd.get_dummies(nueva['Ciudad'], prefix='C')"
   ]
  },
  {
   "cell_type": "code",
   "execution_count": 258,
   "id": "f4c20080",
   "metadata": {
    "ExecuteTime": {
     "end_time": "2022-04-15T14:00:34.509453Z",
     "start_time": "2022-04-15T14:00:34.497454Z"
    }
   },
   "outputs": [],
   "source": [
    "X= X.join(ciudad)"
   ]
  },
  {
   "cell_type": "code",
   "execution_count": 259,
   "id": "dc0a56a8",
   "metadata": {
    "ExecuteTime": {
     "end_time": "2022-04-15T14:00:35.136797Z",
     "start_time": "2022-04-15T14:00:35.108783Z"
    },
    "scrolled": true
   },
   "outputs": [
    {
     "data": {
      "text/html": [
       "<div>\n",
       "<style scoped>\n",
       "    .dataframe tbody tr th:only-of-type {\n",
       "        vertical-align: middle;\n",
       "    }\n",
       "\n",
       "    .dataframe tbody tr th {\n",
       "        vertical-align: top;\n",
       "    }\n",
       "\n",
       "    .dataframe thead th {\n",
       "        text-align: right;\n",
       "    }\n",
       "</style>\n",
       "<table border=\"1\" class=\"dataframe\">\n",
       "  <thead>\n",
       "    <tr style=\"text-align: right;\">\n",
       "      <th></th>\n",
       "      <th>0</th>\n",
       "      <th>1</th>\n",
       "      <th>2</th>\n",
       "      <th>3</th>\n",
       "      <th>4</th>\n",
       "    </tr>\n",
       "  </thead>\n",
       "  <tbody>\n",
       "    <tr>\n",
       "      <th>Patrimonio</th>\n",
       "      <td>745968.00</td>\n",
       "      <td>834415.00</td>\n",
       "      <td>1164858.0</td>\n",
       "      <td>1187587.0</td>\n",
       "      <td>2840488.00</td>\n",
       "    </tr>\n",
       "    <tr>\n",
       "      <th>Ingresos_Mensuales</th>\n",
       "      <td>1614094.00</td>\n",
       "      <td>920234.00</td>\n",
       "      <td>1568317.0</td>\n",
       "      <td>796660.0</td>\n",
       "      <td>1474771.00</td>\n",
       "    </tr>\n",
       "    <tr>\n",
       "      <th>No_hijos</th>\n",
       "      <td>0.00</td>\n",
       "      <td>1.00</td>\n",
       "      <td>1.0</td>\n",
       "      <td>1.0</td>\n",
       "      <td>0.00</td>\n",
       "    </tr>\n",
       "    <tr>\n",
       "      <th>monto_credito</th>\n",
       "      <td>1500000.00</td>\n",
       "      <td>1500000.00</td>\n",
       "      <td>1064170.0</td>\n",
       "      <td>2338552.0</td>\n",
       "      <td>2385560.00</td>\n",
       "    </tr>\n",
       "    <tr>\n",
       "      <th>tasa</th>\n",
       "      <td>33.93</td>\n",
       "      <td>33.93</td>\n",
       "      <td>0.3</td>\n",
       "      <td>0.3</td>\n",
       "      <td>33.93</td>\n",
       "    </tr>\n",
       "    <tr>\n",
       "      <th>saldo_capital</th>\n",
       "      <td>1357387.00</td>\n",
       "      <td>392262.00</td>\n",
       "      <td>211724.0</td>\n",
       "      <td>828993.0</td>\n",
       "      <td>1997956.00</td>\n",
       "    </tr>\n",
       "    <tr>\n",
       "      <th>saldo_Ahorro</th>\n",
       "      <td>33438.00</td>\n",
       "      <td>0.00</td>\n",
       "      <td>0.0</td>\n",
       "      <td>0.0</td>\n",
       "      <td>0.00</td>\n",
       "    </tr>\n",
       "    <tr>\n",
       "      <th>Antiguedad_en_meses</th>\n",
       "      <td>12.00</td>\n",
       "      <td>12.00</td>\n",
       "      <td>12.0</td>\n",
       "      <td>12.0</td>\n",
       "      <td>12.00</td>\n",
       "    </tr>\n",
       "    <tr>\n",
       "      <th>Max_dias_mora</th>\n",
       "      <td>0.00</td>\n",
       "      <td>0.00</td>\n",
       "      <td>0.0</td>\n",
       "      <td>0.0</td>\n",
       "      <td>0.00</td>\n",
       "    </tr>\n",
       "    <tr>\n",
       "      <th>plazo_dias</th>\n",
       "      <td>900.00</td>\n",
       "      <td>540.00</td>\n",
       "      <td>540.0</td>\n",
       "      <td>720.0</td>\n",
       "      <td>720.00</td>\n",
       "    </tr>\n",
       "    <tr>\n",
       "      <th>Edad</th>\n",
       "      <td>65.00</td>\n",
       "      <td>40.00</td>\n",
       "      <td>36.0</td>\n",
       "      <td>47.0</td>\n",
       "      <td>56.00</td>\n",
       "    </tr>\n",
       "    <tr>\n",
       "      <th>mes_ult_desembolso</th>\n",
       "      <td>12.00</td>\n",
       "      <td>12.00</td>\n",
       "      <td>2.0</td>\n",
       "      <td>12.0</td>\n",
       "      <td>1.00</td>\n",
       "    </tr>\n",
       "    <tr>\n",
       "      <th>C_Barranquilla</th>\n",
       "      <td>0.00</td>\n",
       "      <td>1.00</td>\n",
       "      <td>1.0</td>\n",
       "      <td>0.0</td>\n",
       "      <td>0.00</td>\n",
       "    </tr>\n",
       "    <tr>\n",
       "      <th>C_Bogotá</th>\n",
       "      <td>0.00</td>\n",
       "      <td>0.00</td>\n",
       "      <td>0.0</td>\n",
       "      <td>0.0</td>\n",
       "      <td>0.00</td>\n",
       "    </tr>\n",
       "    <tr>\n",
       "      <th>C_Cali</th>\n",
       "      <td>0.00</td>\n",
       "      <td>0.00</td>\n",
       "      <td>0.0</td>\n",
       "      <td>1.0</td>\n",
       "      <td>0.00</td>\n",
       "    </tr>\n",
       "    <tr>\n",
       "      <th>C_Cartagena</th>\n",
       "      <td>1.00</td>\n",
       "      <td>0.00</td>\n",
       "      <td>0.0</td>\n",
       "      <td>0.0</td>\n",
       "      <td>1.00</td>\n",
       "    </tr>\n",
       "  </tbody>\n",
       "</table>\n",
       "</div>"
      ],
      "text/plain": [
       "                              0           1          2          3           4\n",
       "Patrimonio            745968.00   834415.00  1164858.0  1187587.0  2840488.00\n",
       "Ingresos_Mensuales   1614094.00   920234.00  1568317.0   796660.0  1474771.00\n",
       "No_hijos                   0.00        1.00        1.0        1.0        0.00\n",
       "monto_credito        1500000.00  1500000.00  1064170.0  2338552.0  2385560.00\n",
       "tasa                      33.93       33.93        0.3        0.3       33.93\n",
       "saldo_capital        1357387.00   392262.00   211724.0   828993.0  1997956.00\n",
       "saldo_Ahorro           33438.00        0.00        0.0        0.0        0.00\n",
       "Antiguedad_en_meses       12.00       12.00       12.0       12.0       12.00\n",
       "Max_dias_mora              0.00        0.00        0.0        0.0        0.00\n",
       "plazo_dias               900.00      540.00      540.0      720.0      720.00\n",
       "Edad                      65.00       40.00       36.0       47.0       56.00\n",
       "mes_ult_desembolso        12.00       12.00        2.0       12.0        1.00\n",
       "C_Barranquilla             0.00        1.00        1.0        0.0        0.00\n",
       "C_Bogotá                   0.00        0.00        0.0        0.0        0.00\n",
       "C_Cali                     0.00        0.00        0.0        1.0        0.00\n",
       "C_Cartagena                1.00        0.00        0.0        0.0        1.00"
      ]
     },
     "execution_count": 259,
     "metadata": {},
     "output_type": "execute_result"
    }
   ],
   "source": [
    "X.head().T"
   ]
  },
  {
   "cell_type": "code",
   "execution_count": 260,
   "id": "01fa9458",
   "metadata": {
    "ExecuteTime": {
     "end_time": "2022-04-15T14:00:35.152784Z",
     "start_time": "2022-04-15T14:00:35.139783Z"
    }
   },
   "outputs": [],
   "source": [
    "mms = joblib.load('parameter/Patrimonio.sav')\n",
    "X['Patrimonio'] = mms.transform( X[['Patrimonio']].values )"
   ]
  },
  {
   "cell_type": "code",
   "execution_count": 261,
   "id": "65a79724",
   "metadata": {
    "ExecuteTime": {
     "end_time": "2022-04-15T14:00:35.168779Z",
     "start_time": "2022-04-15T14:00:35.155780Z"
    }
   },
   "outputs": [],
   "source": [
    "mms = joblib.load('parameter/Ingresos_Mensuales.sav')\n",
    "X['Ingresos_Mensuales'] = mms.transform( X[['Ingresos_Mensuales']].values )"
   ]
  },
  {
   "cell_type": "code",
   "execution_count": 262,
   "id": "cf88cee6",
   "metadata": {
    "ExecuteTime": {
     "end_time": "2022-04-15T14:00:35.184781Z",
     "start_time": "2022-04-15T14:00:35.170781Z"
    }
   },
   "outputs": [],
   "source": [
    "mms = joblib.load('parameter/No_hijos.sav')\n",
    "X['No_hijos'] = mms.transform( X[['No_hijos']].values )"
   ]
  },
  {
   "cell_type": "code",
   "execution_count": 263,
   "id": "c3ec9429",
   "metadata": {
    "ExecuteTime": {
     "end_time": "2022-04-15T14:00:35.200778Z",
     "start_time": "2022-04-15T14:00:35.187803Z"
    }
   },
   "outputs": [],
   "source": [
    "mms = joblib.load('parameter/monto_credito.sav')\n",
    "X['monto_credito'] = mms.transform( X[['monto_credito']].values )"
   ]
  },
  {
   "cell_type": "code",
   "execution_count": 264,
   "id": "87a66f71",
   "metadata": {
    "ExecuteTime": {
     "end_time": "2022-04-15T14:00:35.216777Z",
     "start_time": "2022-04-15T14:00:35.202787Z"
    }
   },
   "outputs": [],
   "source": [
    "mms = joblib.load('parameter/tasa.sav')\n",
    "X['tasa'] = mms.transform( X[['tasa']].values )"
   ]
  },
  {
   "cell_type": "code",
   "execution_count": 265,
   "id": "8b8dfdc6",
   "metadata": {
    "ExecuteTime": {
     "end_time": "2022-04-15T14:00:35.232778Z",
     "start_time": "2022-04-15T14:00:35.219783Z"
    }
   },
   "outputs": [],
   "source": [
    "mms = joblib.load('parameter/saldo_capital.sav')\n",
    "X['saldo_capital'] = mms.transform( X[['saldo_capital']].values )"
   ]
  },
  {
   "cell_type": "code",
   "execution_count": 266,
   "id": "40f6e3eb",
   "metadata": {
    "ExecuteTime": {
     "end_time": "2022-04-15T14:00:35.248780Z",
     "start_time": "2022-04-15T14:00:35.235785Z"
    }
   },
   "outputs": [],
   "source": [
    "mms = joblib.load('parameter/saldo_Ahorro.sav')\n",
    "X['saldo_Ahorro'] = mms.transform( X[['saldo_Ahorro']].values )"
   ]
  },
  {
   "cell_type": "code",
   "execution_count": 267,
   "id": "8994ba2e",
   "metadata": {
    "ExecuteTime": {
     "end_time": "2022-04-15T14:00:35.264782Z",
     "start_time": "2022-04-15T14:00:35.252784Z"
    }
   },
   "outputs": [],
   "source": [
    "mms = joblib.load('parameter/Antiguedad_en_meses.sav')\n",
    "X['Antiguedad_en_meses'] = mms.transform( X[['Antiguedad_en_meses']].values )"
   ]
  },
  {
   "cell_type": "code",
   "execution_count": 268,
   "id": "2bf640fe",
   "metadata": {
    "ExecuteTime": {
     "end_time": "2022-04-15T14:00:35.280788Z",
     "start_time": "2022-04-15T14:00:35.267780Z"
    }
   },
   "outputs": [],
   "source": [
    "mms = joblib.load('parameter/Max_dias_mora.sav')\n",
    "X['Max_dias_mora'] = mms.transform( X[['Max_dias_mora']].values )"
   ]
  },
  {
   "cell_type": "code",
   "execution_count": 269,
   "id": "57ce6445",
   "metadata": {
    "ExecuteTime": {
     "end_time": "2022-04-15T14:00:35.296782Z",
     "start_time": "2022-04-15T14:00:35.282782Z"
    }
   },
   "outputs": [],
   "source": [
    "mms = joblib.load('parameter/Edad.sav')\n",
    "X['Edad'] = mms.transform( X[['Edad']].values )"
   ]
  },
  {
   "cell_type": "code",
   "execution_count": 270,
   "id": "96720063",
   "metadata": {
    "ExecuteTime": {
     "end_time": "2022-04-15T14:00:35.312780Z",
     "start_time": "2022-04-15T14:00:35.299783Z"
    }
   },
   "outputs": [],
   "source": [
    "mms = joblib.load('parameter/plazo_dias.sav')\n",
    "X['plazo_dias'] = mms.transform( X[['plazo_dias']].values )"
   ]
  },
  {
   "cell_type": "code",
   "execution_count": 271,
   "id": "9d3dc553",
   "metadata": {
    "ExecuteTime": {
     "end_time": "2022-04-15T14:00:35.328780Z",
     "start_time": "2022-04-15T14:00:35.314782Z"
    }
   },
   "outputs": [],
   "source": [
    "mms = joblib.load('parameter/mes_ult_desembolso.sav')\n",
    "X['mes_ult_desembolso'] = mms.transform( X[['mes_ult_desembolso']].values )\n",
    "\n",
    "# X['semana_ult_desembolso'] = mms.fit_transform( X[['semana_ult_desembolso']].values )"
   ]
  },
  {
   "cell_type": "code",
   "execution_count": 272,
   "id": "dcb680bc",
   "metadata": {
    "ExecuteTime": {
     "end_time": "2022-04-15T14:00:35.360786Z",
     "start_time": "2022-04-15T14:00:35.331781Z"
    }
   },
   "outputs": [],
   "source": [
    "y_xgb = classifier2.predict(X)\n",
    "y_xgb_proba = classifier2.predict_proba(X)\n",
    "nueva = nueva.join(pd.DataFrame(y_xgb_proba))\n",
    "# nueva = nueva.join(pd.DataFrame(y_xgb))"
   ]
  },
  {
   "cell_type": "code",
   "execution_count": 273,
   "id": "d5e914af",
   "metadata": {
    "ExecuteTime": {
     "end_time": "2022-04-15T14:00:35.391782Z",
     "start_time": "2022-04-15T14:00:35.364787Z"
    }
   },
   "outputs": [
    {
     "data": {
      "text/plain": [
       "Aceptará Campaña\n",
       "0    971\n",
       "1    529\n",
       "dtype: int64"
      ]
     },
     "execution_count": 273,
     "metadata": {},
     "output_type": "execute_result"
    }
   ],
   "source": [
    "pd.DataFrame(y_xgb).rename(columns = {0:'Aceptará Campaña'}).value_counts('Aceptará Campaña')"
   ]
  },
  {
   "cell_type": "code",
   "execution_count": 274,
   "id": "c62fc644",
   "metadata": {
    "ExecuteTime": {
     "end_time": "2022-04-15T14:00:35.406798Z",
     "start_time": "2022-04-15T14:00:35.394781Z"
    }
   },
   "outputs": [],
   "source": [
    "nueva = nueva.rename(columns={0:'Prob_no_aceptar',1:'Prob_aceptar'})"
   ]
  },
  {
   "cell_type": "code",
   "execution_count": 275,
   "id": "c94ab774",
   "metadata": {
    "ExecuteTime": {
     "end_time": "2022-04-15T14:00:35.470780Z",
     "start_time": "2022-04-15T14:00:35.411784Z"
    },
    "scrolled": true
   },
   "outputs": [
    {
     "data": {
      "text/html": [
       "<div>\n",
       "<style scoped>\n",
       "    .dataframe tbody tr th:only-of-type {\n",
       "        vertical-align: middle;\n",
       "    }\n",
       "\n",
       "    .dataframe tbody tr th {\n",
       "        vertical-align: top;\n",
       "    }\n",
       "\n",
       "    .dataframe thead th {\n",
       "        text-align: right;\n",
       "    }\n",
       "</style>\n",
       "<table border=\"1\" class=\"dataframe\">\n",
       "  <thead>\n",
       "    <tr style=\"text-align: right;\">\n",
       "      <th></th>\n",
       "      <th>Id_Cliente</th>\n",
       "      <th>Ciudad</th>\n",
       "      <th>Patrimonio</th>\n",
       "      <th>Ingresos_Mensuales</th>\n",
       "      <th>No_hijos</th>\n",
       "      <th>oficina</th>\n",
       "      <th>fecha_ult_desembolso</th>\n",
       "      <th>monto_credito</th>\n",
       "      <th>tasa</th>\n",
       "      <th>saldo_capital</th>\n",
       "      <th>saldo_Ahorro</th>\n",
       "      <th>Antiguedad_en_meses</th>\n",
       "      <th>Max_dias_mora</th>\n",
       "      <th>plazo_dias</th>\n",
       "      <th>Edad</th>\n",
       "      <th>mes_ult_desembolso</th>\n",
       "      <th>Prob_no_aceptar</th>\n",
       "      <th>Prob_aceptar</th>\n",
       "    </tr>\n",
       "  </thead>\n",
       "  <tbody>\n",
       "    <tr>\n",
       "      <th>1189</th>\n",
       "      <td>428598</td>\n",
       "      <td>Barranquilla</td>\n",
       "      <td>37110912</td>\n",
       "      <td>963261</td>\n",
       "      <td>0</td>\n",
       "      <td>4025</td>\n",
       "      <td>2017-12-26</td>\n",
       "      <td>3000000</td>\n",
       "      <td>33.93</td>\n",
       "      <td>2723065</td>\n",
       "      <td>33550</td>\n",
       "      <td>120</td>\n",
       "      <td>0</td>\n",
       "      <td>1080</td>\n",
       "      <td>59</td>\n",
       "      <td>12</td>\n",
       "      <td>0.003059</td>\n",
       "      <td>0.996941</td>\n",
       "    </tr>\n",
       "    <tr>\n",
       "      <th>1217</th>\n",
       "      <td>428294</td>\n",
       "      <td>Barranquilla</td>\n",
       "      <td>24800007</td>\n",
       "      <td>558645</td>\n",
       "      <td>0</td>\n",
       "      <td>4010</td>\n",
       "      <td>2017-02-12</td>\n",
       "      <td>3069840</td>\n",
       "      <td>33.93</td>\n",
       "      <td>3069840</td>\n",
       "      <td>40345</td>\n",
       "      <td>120</td>\n",
       "      <td>0</td>\n",
       "      <td>540</td>\n",
       "      <td>61</td>\n",
       "      <td>2</td>\n",
       "      <td>0.003559</td>\n",
       "      <td>0.996441</td>\n",
       "    </tr>\n",
       "    <tr>\n",
       "      <th>637</th>\n",
       "      <td>429041</td>\n",
       "      <td>Barranquilla</td>\n",
       "      <td>53539572</td>\n",
       "      <td>905681</td>\n",
       "      <td>0</td>\n",
       "      <td>7025</td>\n",
       "      <td>2018-09-01</td>\n",
       "      <td>2000000</td>\n",
       "      <td>33.93</td>\n",
       "      <td>1706385</td>\n",
       "      <td>33642</td>\n",
       "      <td>72</td>\n",
       "      <td>0</td>\n",
       "      <td>360</td>\n",
       "      <td>65</td>\n",
       "      <td>9</td>\n",
       "      <td>0.004739</td>\n",
       "      <td>0.995261</td>\n",
       "    </tr>\n",
       "    <tr>\n",
       "      <th>477</th>\n",
       "      <td>428988</td>\n",
       "      <td>Barranquilla</td>\n",
       "      <td>51636155</td>\n",
       "      <td>1047269</td>\n",
       "      <td>0</td>\n",
       "      <td>7039</td>\n",
       "      <td>2017-12-15</td>\n",
       "      <td>2200000</td>\n",
       "      <td>33.93</td>\n",
       "      <td>882169</td>\n",
       "      <td>13769</td>\n",
       "      <td>51</td>\n",
       "      <td>0</td>\n",
       "      <td>720</td>\n",
       "      <td>55</td>\n",
       "      <td>12</td>\n",
       "      <td>0.005079</td>\n",
       "      <td>0.994921</td>\n",
       "    </tr>\n",
       "    <tr>\n",
       "      <th>134</th>\n",
       "      <td>428820</td>\n",
       "      <td>Barranquilla</td>\n",
       "      <td>45332993</td>\n",
       "      <td>523887</td>\n",
       "      <td>0</td>\n",
       "      <td>7032</td>\n",
       "      <td>2018-06-02</td>\n",
       "      <td>5227592</td>\n",
       "      <td>0.30</td>\n",
       "      <td>4430053</td>\n",
       "      <td>21836</td>\n",
       "      <td>126</td>\n",
       "      <td>22</td>\n",
       "      <td>1080</td>\n",
       "      <td>61</td>\n",
       "      <td>6</td>\n",
       "      <td>0.005270</td>\n",
       "      <td>0.994730</td>\n",
       "    </tr>\n",
       "    <tr>\n",
       "      <th>...</th>\n",
       "      <td>...</td>\n",
       "      <td>...</td>\n",
       "      <td>...</td>\n",
       "      <td>...</td>\n",
       "      <td>...</td>\n",
       "      <td>...</td>\n",
       "      <td>...</td>\n",
       "      <td>...</td>\n",
       "      <td>...</td>\n",
       "      <td>...</td>\n",
       "      <td>...</td>\n",
       "      <td>...</td>\n",
       "      <td>...</td>\n",
       "      <td>...</td>\n",
       "      <td>...</td>\n",
       "      <td>...</td>\n",
       "      <td>...</td>\n",
       "      <td>...</td>\n",
       "    </tr>\n",
       "    <tr>\n",
       "      <th>131</th>\n",
       "      <td>427977</td>\n",
       "      <td>Cali</td>\n",
       "      <td>13007139</td>\n",
       "      <td>2193031</td>\n",
       "      <td>1</td>\n",
       "      <td>7025</td>\n",
       "      <td>2017-11-15</td>\n",
       "      <td>500000</td>\n",
       "      <td>33.93</td>\n",
       "      <td>374110</td>\n",
       "      <td>4610</td>\n",
       "      <td>116</td>\n",
       "      <td>0</td>\n",
       "      <td>510</td>\n",
       "      <td>47</td>\n",
       "      <td>11</td>\n",
       "      <td>0.991137</td>\n",
       "      <td>0.008863</td>\n",
       "    </tr>\n",
       "    <tr>\n",
       "      <th>1465</th>\n",
       "      <td>428203</td>\n",
       "      <td>Cali</td>\n",
       "      <td>21732350</td>\n",
       "      <td>2060181</td>\n",
       "      <td>1</td>\n",
       "      <td>4011</td>\n",
       "      <td>2017-12-26</td>\n",
       "      <td>5000000</td>\n",
       "      <td>33.93</td>\n",
       "      <td>3672502</td>\n",
       "      <td>159843</td>\n",
       "      <td>120</td>\n",
       "      <td>22</td>\n",
       "      <td>1080</td>\n",
       "      <td>40</td>\n",
       "      <td>12</td>\n",
       "      <td>0.991159</td>\n",
       "      <td>0.008841</td>\n",
       "    </tr>\n",
       "    <tr>\n",
       "      <th>866</th>\n",
       "      <td>428220</td>\n",
       "      <td>Cali</td>\n",
       "      <td>22266568</td>\n",
       "      <td>1502855</td>\n",
       "      <td>1</td>\n",
       "      <td>7032</td>\n",
       "      <td>2017-11-29</td>\n",
       "      <td>4000000</td>\n",
       "      <td>0.30</td>\n",
       "      <td>2535040</td>\n",
       "      <td>49979</td>\n",
       "      <td>92</td>\n",
       "      <td>0</td>\n",
       "      <td>1080</td>\n",
       "      <td>22</td>\n",
       "      <td>11</td>\n",
       "      <td>0.991775</td>\n",
       "      <td>0.008225</td>\n",
       "    </tr>\n",
       "    <tr>\n",
       "      <th>1066</th>\n",
       "      <td>428170</td>\n",
       "      <td>Cali</td>\n",
       "      <td>20265693</td>\n",
       "      <td>1533982</td>\n",
       "      <td>1</td>\n",
       "      <td>4030</td>\n",
       "      <td>2017-11-13</td>\n",
       "      <td>2500000</td>\n",
       "      <td>33.93</td>\n",
       "      <td>2500000</td>\n",
       "      <td>51337</td>\n",
       "      <td>113</td>\n",
       "      <td>0</td>\n",
       "      <td>360</td>\n",
       "      <td>21</td>\n",
       "      <td>11</td>\n",
       "      <td>0.991920</td>\n",
       "      <td>0.008080</td>\n",
       "    </tr>\n",
       "    <tr>\n",
       "      <th>809</th>\n",
       "      <td>428323</td>\n",
       "      <td>Cali</td>\n",
       "      <td>25731541</td>\n",
       "      <td>1536512</td>\n",
       "      <td>1</td>\n",
       "      <td>4025</td>\n",
       "      <td>2017-12-22</td>\n",
       "      <td>2000000</td>\n",
       "      <td>33.93</td>\n",
       "      <td>1807802</td>\n",
       "      <td>100974</td>\n",
       "      <td>87</td>\n",
       "      <td>0</td>\n",
       "      <td>720</td>\n",
       "      <td>49</td>\n",
       "      <td>12</td>\n",
       "      <td>0.991982</td>\n",
       "      <td>0.008018</td>\n",
       "    </tr>\n",
       "  </tbody>\n",
       "</table>\n",
       "<p>1500 rows × 18 columns</p>\n",
       "</div>"
      ],
      "text/plain": [
       "     Id_Cliente        Ciudad  Patrimonio  Ingresos_Mensuales  No_hijos  \\\n",
       "1189     428598  Barranquilla    37110912              963261         0   \n",
       "1217     428294  Barranquilla    24800007              558645         0   \n",
       "637      429041  Barranquilla    53539572              905681         0   \n",
       "477      428988  Barranquilla    51636155             1047269         0   \n",
       "134      428820  Barranquilla    45332993              523887         0   \n",
       "...         ...           ...         ...                 ...       ...   \n",
       "131      427977          Cali    13007139             2193031         1   \n",
       "1465     428203          Cali    21732350             2060181         1   \n",
       "866      428220          Cali    22266568             1502855         1   \n",
       "1066     428170          Cali    20265693             1533982         1   \n",
       "809      428323          Cali    25731541             1536512         1   \n",
       "\n",
       "     oficina fecha_ult_desembolso  monto_credito   tasa  saldo_capital  \\\n",
       "1189    4025           2017-12-26        3000000  33.93        2723065   \n",
       "1217    4010           2017-02-12        3069840  33.93        3069840   \n",
       "637     7025           2018-09-01        2000000  33.93        1706385   \n",
       "477     7039           2017-12-15        2200000  33.93         882169   \n",
       "134     7032           2018-06-02        5227592   0.30        4430053   \n",
       "...      ...                  ...            ...    ...            ...   \n",
       "131     7025           2017-11-15         500000  33.93         374110   \n",
       "1465    4011           2017-12-26        5000000  33.93        3672502   \n",
       "866     7032           2017-11-29        4000000   0.30        2535040   \n",
       "1066    4030           2017-11-13        2500000  33.93        2500000   \n",
       "809     4025           2017-12-22        2000000  33.93        1807802   \n",
       "\n",
       "      saldo_Ahorro  Antiguedad_en_meses  Max_dias_mora  plazo_dias  Edad  \\\n",
       "1189         33550                  120              0        1080    59   \n",
       "1217         40345                  120              0         540    61   \n",
       "637          33642                   72              0         360    65   \n",
       "477          13769                   51              0         720    55   \n",
       "134          21836                  126             22        1080    61   \n",
       "...            ...                  ...            ...         ...   ...   \n",
       "131           4610                  116              0         510    47   \n",
       "1465        159843                  120             22        1080    40   \n",
       "866          49979                   92              0        1080    22   \n",
       "1066         51337                  113              0         360    21   \n",
       "809         100974                   87              0         720    49   \n",
       "\n",
       "      mes_ult_desembolso  Prob_no_aceptar  Prob_aceptar  \n",
       "1189                  12         0.003059      0.996941  \n",
       "1217                   2         0.003559      0.996441  \n",
       "637                    9         0.004739      0.995261  \n",
       "477                   12         0.005079      0.994921  \n",
       "134                    6         0.005270      0.994730  \n",
       "...                  ...              ...           ...  \n",
       "131                   11         0.991137      0.008863  \n",
       "1465                  12         0.991159      0.008841  \n",
       "866                   11         0.991775      0.008225  \n",
       "1066                  11         0.991920      0.008080  \n",
       "809                   12         0.991982      0.008018  \n",
       "\n",
       "[1500 rows x 18 columns]"
      ]
     },
     "execution_count": 275,
     "metadata": {},
     "output_type": "execute_result"
    }
   ],
   "source": [
    "nueva.sort_values('Prob_aceptar', ascending = False)"
   ]
  }
 ],
 "metadata": {
  "kernelspec": {
   "display_name": "Python 3 (ipykernel)",
   "language": "python",
   "name": "python3"
  },
  "language_info": {
   "codemirror_mode": {
    "name": "ipython",
    "version": 3
   },
   "file_extension": ".py",
   "mimetype": "text/x-python",
   "name": "python",
   "nbconvert_exporter": "python",
   "pygments_lexer": "ipython3",
   "version": "3.9.7"
  },
  "toc": {
   "base_numbering": 1,
   "nav_menu": {},
   "number_sections": true,
   "sideBar": true,
   "skip_h1_title": false,
   "title_cell": "Table of Contents",
   "title_sidebar": "Contents",
   "toc_cell": false,
   "toc_position": {},
   "toc_section_display": true,
   "toc_window_display": false
  },
  "varInspector": {
   "cols": {
    "lenName": 16,
    "lenType": 16,
    "lenVar": 40
   },
   "kernels_config": {
    "python": {
     "delete_cmd_postfix": "",
     "delete_cmd_prefix": "del ",
     "library": "var_list.py",
     "varRefreshCmd": "print(var_dic_list())"
    },
    "r": {
     "delete_cmd_postfix": ") ",
     "delete_cmd_prefix": "rm(",
     "library": "var_list.r",
     "varRefreshCmd": "cat(var_dic_list()) "
    }
   },
   "types_to_exclude": [
    "module",
    "function",
    "builtin_function_or_method",
    "instance",
    "_Feature"
   ],
   "window_display": false
  }
 },
 "nbformat": 4,
 "nbformat_minor": 5
}
