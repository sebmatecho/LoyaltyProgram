{
 "cells": [
  {
   "cell_type": "markdown",
   "id": "1ec5d62a",
   "metadata": {
    "ExecuteTime": {
     "end_time": "2022-04-04T00:21:31.968993Z",
     "start_time": "2022-04-04T00:21:31.724958Z"
    }
   },
   "source": [
    "# Technical Assesment\n",
    "Author: [Sébastien Lozano Forero](https://www.linkedin.com/in/sebastienlozanoforero/)\n",
    "\n",
    "April, 2022. \n",
    "\n",
    "This project is based on an technical assessment used by a Colombian bank to fill the position of Data Scientist. Data was modified shared in a modified version not containing any identification information. Currency within this project is set to Colombian pesos. "
   ]
  },
  {
   "cell_type": "markdown",
   "id": "d850e848",
   "metadata": {
    "ExecuteTime": {
     "end_time": "2022-04-03T17:47:24.040953Z",
     "start_time": "2022-04-03T17:47:24.034944Z"
    }
   },
   "source": [
    "# Loading libraries"
   ]
  },
  {
   "cell_type": "code",
   "execution_count": 3,
   "id": "2c6b5509",
   "metadata": {
    "ExecuteTime": {
     "end_time": "2022-04-07T01:36:50.502733Z",
     "start_time": "2022-04-07T01:36:41.502892Z"
    }
   },
   "outputs": [],
   "source": [
    "import pandas as pd\n",
    "import matplotlib.pyplot as plt\n",
    "import numpy as np\n",
    "%matplotlib inline\n",
    "import seaborn as sns\n",
    "import xgboost as xgb\n",
    "import pickle\n",
    "\n",
    "from matplotlib import colors\n",
    "from matplotlib.ticker import PercentFormatter\n",
    "from pandas_profiling import ProfileReport\n",
    "\n",
    "\n",
    "from bayes_opt import BayesianOptimization\n",
    "from sklearn.metrics import mean_squared_error\n",
    "from sklearn.neighbors import KNeighborsClassifier\n",
    "from sklearn.dummy import DummyClassifier\n",
    "from sklearn.naive_bayes import GaussianNB\n",
    "from sklearn.linear_model import LogisticRegression\n",
    "from sklearn import datasets, metrics, model_selection, svm\n",
    "from sklearn.metrics import plot_roc_curve\n",
    "from sklearn.model_selection import cross_val_score\n",
    "from sklearn.ensemble import RandomForestClassifier\n",
    "from sklearn.metrics import confusion_matrix\n",
    "from sklearn.model_selection import train_test_split\n",
    "from sklearn.ensemble import RandomForestRegressor\n",
    "from sklearn.preprocessing import MinMaxScaler\n",
    "# from boruta import BorutaPy"
   ]
  },
  {
   "cell_type": "markdown",
   "id": "bfd4ecd8",
   "metadata": {
    "ExecuteTime": {
     "end_time": "2022-04-03T17:47:39.585379Z",
     "start_time": "2022-04-03T17:47:39.579368Z"
    }
   },
   "source": [
    "# Data Loading"
   ]
  },
  {
   "cell_type": "code",
   "execution_count": null,
   "id": "139958c6",
   "metadata": {
    "ExecuteTime": {
     "end_time": "2022-04-06T21:26:29.608697Z",
     "start_time": "2022-04-06T21:26:29.237709Z"
    },
    "scrolled": true
   },
   "outputs": [],
   "source": [
    "data = pd.read_csv('Base_campana_DC.csv',encoding = \"ISO-8859-1\", sep =';',parse_dates=['fecha_ult_desembolso'], \n",
    "                  dtype = {\n",
    "                      'Id_Cliente':str,\n",
    "                      'Ciudad':str,\n",
    "                      ' Patrimonio ':int,\n",
    "                      ' Ingresos_Mensuales ':int,\n",
    "                      'No_hijos':int,\n",
    "                      'oficina':str,\n",
    "                      'monto_credito':int,\n",
    "                      'tasa':float,\n",
    "                      'saldo_capital':int,\n",
    "                      'Antiguedad_en_meses':int,\n",
    "                      'Max_dias_mora':int,\n",
    "                      'plazo_dias':int,\n",
    "                      'Edad':int,\n",
    "                      'Acepta_Campaña':str,\n",
    "                  })\n"
   ]
  },
  {
   "cell_type": "markdown",
   "id": "29e7c7bf",
   "metadata": {
    "ExecuteTime": {
     "end_time": "2022-04-03T17:48:04.685498Z",
     "start_time": "2022-04-03T17:48:04.677486Z"
    }
   },
   "source": [
    "## Checking variables names"
   ]
  },
  {
   "cell_type": "code",
   "execution_count": null,
   "id": "cacd8889",
   "metadata": {
    "ExecuteTime": {
     "end_time": "2022-04-06T21:26:29.668696Z",
     "start_time": "2022-04-06T21:26:29.623698Z"
    }
   },
   "outputs": [],
   "source": [
    "data.columns"
   ]
  },
  {
   "cell_type": "code",
   "execution_count": null,
   "id": "e944929b",
   "metadata": {
    "ExecuteTime": {
     "end_time": "2022-04-06T21:26:29.698698Z",
     "start_time": "2022-04-06T21:26:29.675697Z"
    }
   },
   "outputs": [],
   "source": [
    "data = data.rename(columns = {' Ingresos_Mensuales ':'Ingresos_Mensuales',\n",
    "                              ' Patrimonio ':'Patrimonio'})"
   ]
  },
  {
   "cell_type": "markdown",
   "id": "f462a77e",
   "metadata": {},
   "source": [
    "## Chequing Data types"
   ]
  },
  {
   "cell_type": "code",
   "execution_count": null,
   "id": "74dbe8fb",
   "metadata": {
    "ExecuteTime": {
     "end_time": "2022-04-06T21:26:29.758696Z",
     "start_time": "2022-04-06T21:26:29.706698Z"
    }
   },
   "outputs": [],
   "source": [
    "data.dtypes"
   ]
  },
  {
   "cell_type": "markdown",
   "id": "0ae1e06b",
   "metadata": {},
   "source": [
    "# Exploratory and Descriptiva Analysis (EDA)"
   ]
  },
  {
   "cell_type": "code",
   "execution_count": null,
   "id": "3c0cf233",
   "metadata": {
    "ExecuteTime": {
     "end_time": "2022-04-06T21:26:29.773696Z",
     "start_time": "2022-04-06T21:26:29.761696Z"
    }
   },
   "outputs": [],
   "source": [
    "# prof = ProfileReport(data)\n",
    "# prof.to_file(output_file='output.html')"
   ]
  },
  {
   "cell_type": "code",
   "execution_count": null,
   "id": "4c8327fd",
   "metadata": {
    "ExecuteTime": {
     "end_time": "2022-04-06T21:26:29.864696Z",
     "start_time": "2022-04-06T21:26:29.777697Z"
    }
   },
   "outputs": [],
   "source": [
    "num_attributes = data.select_dtypes( include=['int32', 'float64'] )\n",
    "cat_attributes = data.select_dtypes( exclude=['int32', 'float64', 'datetime64[ns]'] )"
   ]
  },
  {
   "cell_type": "code",
   "execution_count": null,
   "id": "a8bed8e1",
   "metadata": {
    "ExecuteTime": {
     "end_time": "2022-04-06T21:26:29.879707Z",
     "start_time": "2022-04-06T21:26:29.868696Z"
    }
   },
   "outputs": [],
   "source": [
    "# sns.pairplot(num_attributes)"
   ]
  },
  {
   "cell_type": "code",
   "execution_count": null,
   "id": "00df3740",
   "metadata": {
    "ExecuteTime": {
     "end_time": "2022-04-06T21:26:30.002697Z",
     "start_time": "2022-04-06T21:26:29.888699Z"
    }
   },
   "outputs": [],
   "source": [
    "data['mes_ult_desembolso'] = data['fecha_ult_desembolso'].dt.month\n",
    "data['semana_ult_desembolso'] = data['fecha_ult_desembolso'].dt.weekofyear"
   ]
  },
  {
   "cell_type": "markdown",
   "id": "d62bab77",
   "metadata": {},
   "source": [
    "## Data Filtering"
   ]
  },
  {
   "cell_type": "code",
   "execution_count": null,
   "id": "e0b95c5b",
   "metadata": {
    "ExecuteTime": {
     "end_time": "2022-04-06T21:26:30.032697Z",
     "start_time": "2022-04-06T21:26:30.008700Z"
    },
    "scrolled": true
   },
   "outputs": [],
   "source": [
    "data['No_hijos'].value_counts()"
   ]
  },
  {
   "cell_type": "markdown",
   "id": "0de2f8bb",
   "metadata": {
    "ExecuteTime": {
     "end_time": "2022-04-03T18:36:41.546449Z",
     "start_time": "2022-04-03T18:36:41.537448Z"
    }
   },
   "source": [
    "Queremos filtrar valores muy altos en ingresos o números de hijos (hay un cliente con ingresos de 26 millones al mes y cuatro hijos)."
   ]
  },
  {
   "cell_type": "code",
   "execution_count": null,
   "id": "913839e5",
   "metadata": {
    "ExecuteTime": {
     "end_time": "2022-04-06T21:26:30.139697Z",
     "start_time": "2022-04-06T21:26:30.038696Z"
    }
   },
   "outputs": [],
   "source": [
    "data = data[(data['Ingresos_Mensuales'] != data['Ingresos_Mensuales'].max())&\n",
    "            (data['No_hijos'] <3)]"
   ]
  },
  {
   "cell_type": "markdown",
   "id": "92ee92d3",
   "metadata": {},
   "source": [
    "## Data preparation"
   ]
  },
  {
   "cell_type": "code",
   "execution_count": null,
   "id": "9428414d",
   "metadata": {
    "ExecuteTime": {
     "end_time": "2022-04-06T21:26:30.154698Z",
     "start_time": "2022-04-06T21:26:30.143697Z"
    }
   },
   "outputs": [],
   "source": [
    "data.columns"
   ]
  },
  {
   "cell_type": "code",
   "execution_count": null,
   "id": "e2580cb6",
   "metadata": {
    "ExecuteTime": {
     "end_time": "2022-04-06T21:26:30.184698Z",
     "start_time": "2022-04-06T21:26:30.161697Z"
    }
   },
   "outputs": [],
   "source": [
    "X = data[[ 'Patrimonio', 'Ingresos_Mensuales', 'No_hijos',\n",
    "       'monto_credito', 'tasa',\n",
    "       'saldo_capital', 'saldo_Ahorro', 'Antiguedad_en_meses', 'Max_dias_mora',\n",
    "       'plazo_dias', 'Edad', 'mes_ult_desembolso']]\n",
    "y  = data['Acepta_Campaña']"
   ]
  },
  {
   "cell_type": "code",
   "execution_count": null,
   "id": "be672d47",
   "metadata": {
    "ExecuteTime": {
     "end_time": "2022-04-06T21:26:30.244697Z",
     "start_time": "2022-04-06T21:26:30.189701Z"
    }
   },
   "outputs": [],
   "source": [
    "ciudad = pd.get_dummies(data['Ciudad'], prefix='C')"
   ]
  },
  {
   "cell_type": "code",
   "execution_count": null,
   "id": "622ebeaf",
   "metadata": {
    "ExecuteTime": {
     "end_time": "2022-04-06T21:26:30.289697Z",
     "start_time": "2022-04-06T21:26:30.248698Z"
    }
   },
   "outputs": [],
   "source": [
    "X= X.join(ciudad)"
   ]
  },
  {
   "cell_type": "code",
   "execution_count": null,
   "id": "17910940",
   "metadata": {
    "ExecuteTime": {
     "end_time": "2022-04-06T21:26:30.440696Z",
     "start_time": "2022-04-06T21:26:30.293710Z"
    }
   },
   "outputs": [],
   "source": [
    "mms = MinMaxScaler()\n",
    "\n",
    "X['Patrimonio'] = mms.fit_transform( X[['Patrimonio']].values )\n",
    "X['Ingresos_Mensuales'] = mms.fit_transform( X[['Ingresos_Mensuales']].values )\n",
    "X['No_hijos'] = mms.fit_transform( X[['No_hijos']].values )\n",
    "X['monto_credito'] = mms.fit_transform( X[['monto_credito']].values )\n",
    "X['tasa'] = mms.fit_transform( X[['tasa']].values )\n",
    "X['saldo_capital'] = mms.fit_transform( X[['saldo_capital']].values )\n",
    "X['saldo_Ahorro'] = mms.fit_transform( X[['saldo_Ahorro']].values )\n",
    "X['Antiguedad_en_meses'] = mms.fit_transform( X[['Antiguedad_en_meses']].values )\n",
    "X['Max_dias_mora'] = mms.fit_transform( X[['Max_dias_mora']].values )\n",
    "X['Edad'] = mms.fit_transform( X[['Edad']].values )\n",
    "X['plazo_dias'] = mms.fit_transform( X[['plazo_dias']].values )\n",
    "X['mes_ult_desembolso'] = mms.fit_transform( X[['mes_ult_desembolso']].values )\n",
    "# X['semana_ult_desembolso'] = mms.fit_transform( X[['semana_ult_desembolso']].values )"
   ]
  },
  {
   "cell_type": "markdown",
   "id": "f9e9de27",
   "metadata": {
    "ExecuteTime": {
     "end_time": "2022-04-03T19:03:58.775214Z",
     "start_time": "2022-04-03T19:03:58.760213Z"
    }
   },
   "source": [
    "# Machine Learning model "
   ]
  },
  {
   "cell_type": "markdown",
   "id": "95a6d86a",
   "metadata": {},
   "source": [
    "## Data Splitting"
   ]
  },
  {
   "cell_type": "code",
   "execution_count": null,
   "id": "7b43d385",
   "metadata": {
    "ExecuteTime": {
     "end_time": "2022-04-06T21:26:30.686698Z",
     "start_time": "2022-04-06T21:26:30.614702Z"
    }
   },
   "outputs": [],
   "source": [
    " X_train, X_test, y_train, y_test = train_test_split(X, y, test_size=0.25, random_state=42)"
   ]
  },
  {
   "cell_type": "markdown",
   "id": "9294fefe",
   "metadata": {},
   "source": [
    "## Baseline Clasiffier"
   ]
  },
  {
   "cell_type": "code",
   "execution_count": null,
   "id": "71c2050b",
   "metadata": {
    "ExecuteTime": {
     "end_time": "2022-04-06T21:26:31.066697Z",
     "start_time": "2022-04-06T21:26:31.013696Z"
    }
   },
   "outputs": [],
   "source": [
    "dummy_clf = DummyClassifier(random_state=42).fit(X_train, y_train)\n",
    "y_pred_clf = dummy_clf.predict(X_test)"
   ]
  },
  {
   "cell_type": "code",
   "execution_count": null,
   "id": "18329b70",
   "metadata": {
    "ExecuteTime": {
     "end_time": "2022-04-06T21:26:31.263696Z",
     "start_time": "2022-04-06T21:26:31.183697Z"
    }
   },
   "outputs": [],
   "source": [
    "cf_matrix = confusion_matrix(y_test, y_pred_clf)\n",
    "\n",
    "print(cf_matrix)"
   ]
  },
  {
   "cell_type": "code",
   "execution_count": null,
   "id": "8bd18f18",
   "metadata": {
    "ExecuteTime": {
     "end_time": "2022-04-06T21:26:33.099874Z",
     "start_time": "2022-04-06T21:26:31.525697Z"
    }
   },
   "outputs": [],
   "source": [
    "ax = sns.heatmap(cf_matrix/np.sum(cf_matrix), annot=True, \n",
    "            fmt='.2%', cmap='Blues')\n",
    "\n",
    "ax.set_title('Matriz de confusión Clasificador Aleatorio\\n\\n');\n",
    "ax.set_xlabel('\\n Valores predichos ')\n",
    "ax.set_ylabel('Valores observados ');\n",
    "\n",
    "## Ticket labels - List must be in alphabetical order\n",
    "ax.xaxis.set_ticklabels(['False','True'])\n",
    "ax.yaxis.set_ticklabels(['False','True'])\n",
    "\n",
    "## Display the visualization of the Confusion Matrix.\n",
    "plt.show()"
   ]
  },
  {
   "cell_type": "code",
   "execution_count": null,
   "id": "a8c329c8",
   "metadata": {
    "ExecuteTime": {
     "end_time": "2022-04-06T21:26:33.815863Z",
     "start_time": "2022-04-06T21:26:33.105863Z"
    }
   },
   "outputs": [],
   "source": [
    "metrics.plot_roc_curve(dummy_clf, X_test, y_test) "
   ]
  },
  {
   "cell_type": "code",
   "execution_count": null,
   "id": "81bcf05b",
   "metadata": {
    "ExecuteTime": {
     "end_time": "2022-04-06T21:26:33.982866Z",
     "start_time": "2022-04-06T21:26:33.821862Z"
    }
   },
   "outputs": [],
   "source": [
    "scores = cross_val_score(dummy_clf, X=X_train, y=y_train, cv=10, n_jobs=1)\n",
    " \n",
    "print('Puntajes obtenidos: %s' % scores)\n",
    "print('Precisión de validación cruzada: %.3f +/- %.3f' % (np.mean(scores),np.std(scores)))"
   ]
  },
  {
   "cell_type": "markdown",
   "id": "2261670b",
   "metadata": {},
   "source": [
    "## k-nearest neighbors \n"
   ]
  },
  {
   "cell_type": "code",
   "execution_count": null,
   "id": "061c04e7",
   "metadata": {
    "ExecuteTime": {
     "end_time": "2022-04-06T21:27:23.697079Z",
     "start_time": "2022-04-06T21:27:23.515995Z"
    }
   },
   "outputs": [],
   "source": [
    "dummy_KNN = KNeighborsClassifier(n_neighbors=3).fit(X_train, y_train)\n",
    "y_pred_knn = dummy_KNN.predict(X_test)"
   ]
  },
  {
   "cell_type": "code",
   "execution_count": null,
   "id": "f9487f45",
   "metadata": {
    "ExecuteTime": {
     "end_time": "2022-04-06T21:27:23.727067Z",
     "start_time": "2022-04-06T21:27:23.701060Z"
    }
   },
   "outputs": [],
   "source": [
    "cf_matrix = confusion_matrix(y_test, y_pred_knn)\n",
    "\n",
    "print(cf_matrix)"
   ]
  },
  {
   "cell_type": "code",
   "execution_count": null,
   "id": "15384aee",
   "metadata": {
    "ExecuteTime": {
     "end_time": "2022-04-06T21:27:24.151060Z",
     "start_time": "2022-04-06T21:27:23.731061Z"
    }
   },
   "outputs": [],
   "source": [
    "ax = sns.heatmap(cf_matrix/np.sum(cf_matrix), annot=True, \n",
    "            fmt='.2%', cmap='Blues')\n",
    "\n",
    "ax.set_title('Matriz de confusión Regresión Logística\\n\\n');\n",
    "ax.set_xlabel('\\n Valores predichos ')\n",
    "ax.set_ylabel('Valores observados ');\n",
    "\n",
    "## Ticket labels - List must be in alphabetical order\n",
    "ax.xaxis.set_ticklabels(['False','True'])\n",
    "ax.yaxis.set_ticklabels(['False','True'])\n",
    "\n",
    "## Display the visualization of the Confusion Matrix.\n",
    "plt.show()"
   ]
  },
  {
   "cell_type": "code",
   "execution_count": null,
   "id": "2044685f",
   "metadata": {
    "ExecuteTime": {
     "end_time": "2022-04-06T21:27:24.571061Z",
     "start_time": "2022-04-06T21:27:24.155073Z"
    }
   },
   "outputs": [],
   "source": [
    "metrics.plot_roc_curve(dummy_KNN, X_test, y_test) "
   ]
  },
  {
   "cell_type": "code",
   "execution_count": null,
   "id": "e43053f7",
   "metadata": {
    "ExecuteTime": {
     "end_time": "2022-04-06T21:27:24.976061Z",
     "start_time": "2022-04-06T21:27:24.578081Z"
    }
   },
   "outputs": [],
   "source": [
    "scores = cross_val_score(dummy_KNN, X=X_train, y=y_train, cv=10, n_jobs=1)\n",
    " \n",
    "print('Puntajes obtenidos: %s' % scores)\n",
    "print('Precisión de validación cruzada: %.3f +/- %.3f' % (np.mean(scores),np.std(scores)))"
   ]
  },
  {
   "cell_type": "markdown",
   "id": "41fcc201",
   "metadata": {},
   "source": [
    "## Logistic Regression"
   ]
  },
  {
   "cell_type": "code",
   "execution_count": null,
   "id": "7b2ea366",
   "metadata": {
    "ExecuteTime": {
     "end_time": "2022-04-06T21:27:25.132057Z",
     "start_time": "2022-04-06T21:27:24.980060Z"
    }
   },
   "outputs": [],
   "source": [
    "reg_log = LogisticRegression(random_state=0).fit(X_train, y_train)\n",
    "y_pred_reg_log = reg_log.predict(X_test)"
   ]
  },
  {
   "cell_type": "code",
   "execution_count": null,
   "id": "66a8e4cb",
   "metadata": {
    "ExecuteTime": {
     "end_time": "2022-04-06T21:27:25.147073Z",
     "start_time": "2022-04-06T21:27:25.136061Z"
    }
   },
   "outputs": [],
   "source": [
    "cf_matrix = confusion_matrix(y_test, y_pred_reg_log)\n",
    "\n",
    "print(cf_matrix)"
   ]
  },
  {
   "cell_type": "code",
   "execution_count": null,
   "id": "83a48663",
   "metadata": {
    "ExecuteTime": {
     "end_time": "2022-04-06T21:27:25.589058Z",
     "start_time": "2022-04-06T21:27:25.154061Z"
    },
    "scrolled": false
   },
   "outputs": [],
   "source": [
    "ax = sns.heatmap(cf_matrix/np.sum(cf_matrix), annot=True, \n",
    "            fmt='.2%', cmap='Blues')\n",
    "\n",
    "ax.set_title('Matriz de confusión Regresión Logística\\n\\n');\n",
    "ax.set_xlabel('\\n Valores predichos ')\n",
    "ax.set_ylabel('Valores observados ');\n",
    "\n",
    "## Ticket labels - List must be in alphabetical order\n",
    "ax.xaxis.set_ticklabels(['False','True'])\n",
    "ax.yaxis.set_ticklabels(['False','True'])\n",
    "\n",
    "## Display the visualization of the Confusion Matrix.\n",
    "plt.show()"
   ]
  },
  {
   "cell_type": "code",
   "execution_count": null,
   "id": "f269b7b5",
   "metadata": {
    "ExecuteTime": {
     "end_time": "2022-04-06T21:27:25.866402Z",
     "start_time": "2022-04-06T21:27:25.592061Z"
    }
   },
   "outputs": [],
   "source": [
    "metrics.plot_roc_curve(reg_log, X_test, y_test) "
   ]
  },
  {
   "cell_type": "code",
   "execution_count": null,
   "id": "b42d4ab3",
   "metadata": {
    "ExecuteTime": {
     "end_time": "2022-04-06T21:27:26.488623Z",
     "start_time": "2022-04-06T21:27:25.870404Z"
    }
   },
   "outputs": [],
   "source": [
    "scores = cross_val_score(reg_log, X=X_train, y=y_train, cv=10, n_jobs=1)\n",
    " \n",
    "print('Puntajes obtenidos: %s' % scores)\n",
    "print('Precisión de validación cruzada: %.3f +/- %.3f' % (np.mean(scores),np.std(scores)))"
   ]
  },
  {
   "cell_type": "markdown",
   "id": "bff76816",
   "metadata": {},
   "source": [
    "## Random Forest"
   ]
  },
  {
   "cell_type": "code",
   "execution_count": null,
   "id": "22358607",
   "metadata": {
    "ExecuteTime": {
     "end_time": "2022-04-06T21:27:26.923605Z",
     "start_time": "2022-04-06T21:27:26.492591Z"
    }
   },
   "outputs": [],
   "source": [
    "rf =RandomForestClassifier(max_depth=2, random_state=0).fit( X_train, y_train )\n",
    "\n",
    "# prediction\n",
    "y_pred_rf = rf.predict( X_test)"
   ]
  },
  {
   "cell_type": "code",
   "execution_count": null,
   "id": "0b93a068",
   "metadata": {
    "ExecuteTime": {
     "end_time": "2022-04-06T21:27:26.955589Z",
     "start_time": "2022-04-06T21:27:26.928591Z"
    }
   },
   "outputs": [],
   "source": [
    "cf_matrix = confusion_matrix(y_test, y_pred_rf)\n",
    "\n",
    "print(cf_matrix)"
   ]
  },
  {
   "cell_type": "code",
   "execution_count": null,
   "id": "fc2568c1",
   "metadata": {
    "ExecuteTime": {
     "end_time": "2022-04-06T21:27:27.377590Z",
     "start_time": "2022-04-06T21:27:26.959591Z"
    }
   },
   "outputs": [],
   "source": [
    "ax = sns.heatmap(cf_matrix/np.sum(cf_matrix), annot=True, \n",
    "            fmt='.2%', cmap='Blues')\n",
    "\n",
    "ax.set_title('Matriz de confusión Bosque Aleatorio\\n\\n');\n",
    "ax.set_xlabel('\\n Valores predichos ')\n",
    "ax.set_ylabel('Valores observados ');\n",
    "\n",
    "## Ticket labels - List must be in alphabetical order\n",
    "ax.xaxis.set_ticklabels(['False','True'])\n",
    "ax.yaxis.set_ticklabels(['False','True'])\n",
    "\n",
    "## Display the visualization of the Confusion Matrix.\n",
    "plt.show()"
   ]
  },
  {
   "cell_type": "code",
   "execution_count": null,
   "id": "9324b6e7",
   "metadata": {
    "ExecuteTime": {
     "end_time": "2022-04-06T21:27:27.732590Z",
     "start_time": "2022-04-06T21:27:27.381594Z"
    }
   },
   "outputs": [],
   "source": [
    "metrics.plot_roc_curve(rf, X_test, y_test) "
   ]
  },
  {
   "cell_type": "code",
   "execution_count": null,
   "id": "edca5572",
   "metadata": {
    "ExecuteTime": {
     "end_time": "2022-04-06T21:27:54.734583Z",
     "start_time": "2022-04-06T21:27:51.056110Z"
    }
   },
   "outputs": [],
   "source": [
    "scores = cross_val_score(rf, X=X_train, y=y_train, cv=10, n_jobs=1)\n",
    " \n",
    "print('Puntajes obtenidos: %s' % scores)\n",
    "print('Precisión de validación cruzada: %.3f +/- %.3f' % (np.mean(scores),np.std(scores)))"
   ]
  },
  {
   "cell_type": "markdown",
   "id": "2d7c65e5",
   "metadata": {
    "ExecuteTime": {
     "end_time": "2022-04-03T20:38:27.619348Z",
     "start_time": "2022-04-03T20:38:27.612639Z"
    }
   },
   "source": [
    "## Naive Bayes"
   ]
  },
  {
   "cell_type": "code",
   "execution_count": null,
   "id": "952055ee",
   "metadata": {
    "ExecuteTime": {
     "end_time": "2022-04-06T21:27:56.289133Z",
     "start_time": "2022-04-06T21:27:56.261336Z"
    }
   },
   "outputs": [],
   "source": [
    "nb =GaussianNB().fit( X_train, y_train )\n",
    "\n",
    "# prediction\n",
    "y_pred_NB = nb.predict( X_test)"
   ]
  },
  {
   "cell_type": "code",
   "execution_count": null,
   "id": "1d3a51a7",
   "metadata": {
    "ExecuteTime": {
     "end_time": "2022-04-06T21:27:56.319133Z",
     "start_time": "2022-04-06T21:27:56.293134Z"
    }
   },
   "outputs": [],
   "source": [
    "cf_matrix = confusion_matrix(y_test, y_pred_NB)\n",
    "\n",
    "print(cf_matrix)"
   ]
  },
  {
   "cell_type": "code",
   "execution_count": null,
   "id": "b494b63e",
   "metadata": {
    "ExecuteTime": {
     "end_time": "2022-04-06T21:27:56.699132Z",
     "start_time": "2022-04-06T21:27:56.324135Z"
    },
    "scrolled": true
   },
   "outputs": [],
   "source": [
    "ax = sns.heatmap(cf_matrix/np.sum(cf_matrix), annot=True, \n",
    "            fmt='.2%', cmap='Blues')\n",
    "\n",
    "ax.set_title('Matriz de confusión Naive Bayes\\n\\n');\n",
    "ax.set_xlabel('\\n Valores predichos ')\n",
    "ax.set_ylabel('Valores observados ');\n",
    "\n",
    "## Ticket labels - List must be in alphabetical order\n",
    "ax.xaxis.set_ticklabels(['False','True'])\n",
    "ax.yaxis.set_ticklabels(['False','True'])\n",
    "\n",
    "## Display the visualization of the Confusion Matrix.\n",
    "plt.show()"
   ]
  },
  {
   "cell_type": "code",
   "execution_count": null,
   "id": "2a04b74b",
   "metadata": {
    "ExecuteTime": {
     "end_time": "2022-04-06T21:28:01.695010Z",
     "start_time": "2022-04-06T21:28:01.413153Z"
    }
   },
   "outputs": [],
   "source": [
    "metrics.plot_roc_curve(nb, X_test, y_test) "
   ]
  },
  {
   "cell_type": "code",
   "execution_count": null,
   "id": "53c18af9",
   "metadata": {
    "ExecuteTime": {
     "end_time": "2022-04-06T21:28:03.672189Z",
     "start_time": "2022-04-06T21:28:03.524360Z"
    }
   },
   "outputs": [],
   "source": [
    "scores = cross_val_score(nb, X=X_train, y=y_train, cv=10, n_jobs=1)\n",
    " \n",
    "print('Puntajes obtenidos: %s' % scores)\n",
    "print('Precisión de validación cruzada: %.3f +/- %.3f' % (np.mean(scores),np.std(scores)))"
   ]
  },
  {
   "cell_type": "markdown",
   "id": "98be3f70",
   "metadata": {},
   "source": [
    "## XGBoost "
   ]
  },
  {
   "cell_type": "code",
   "execution_count": null,
   "id": "38f3bc4f",
   "metadata": {
    "ExecuteTime": {
     "end_time": "2022-04-06T21:28:07.457648Z",
     "start_time": "2022-04-06T21:28:05.743339Z"
    }
   },
   "outputs": [],
   "source": [
    "xgb_cl = xgb.XGBClassifier().fit( X_train, y_train )\n",
    "\n",
    "y_pred_xgb = xgb_cl.predict(X_test)"
   ]
  },
  {
   "cell_type": "code",
   "execution_count": null,
   "id": "c089ae1c",
   "metadata": {
    "ExecuteTime": {
     "end_time": "2022-04-06T21:28:09.593131Z",
     "start_time": "2022-04-06T21:28:09.568133Z"
    }
   },
   "outputs": [],
   "source": [
    "cf_matrix = confusion_matrix(y_test, y_pred_xgb)\n",
    "\n",
    "print(cf_matrix)"
   ]
  },
  {
   "cell_type": "code",
   "execution_count": null,
   "id": "52f5a557",
   "metadata": {
    "ExecuteTime": {
     "end_time": "2022-04-06T21:28:10.162522Z",
     "start_time": "2022-04-06T21:28:09.599132Z"
    },
    "scrolled": true
   },
   "outputs": [],
   "source": [
    "ax = sns.heatmap(cf_matrix/np.sum(cf_matrix), annot=True, \n",
    "            fmt='.2%', cmap='Blues')\n",
    "\n",
    "ax.set_title('Matriz de confusión XGboost\\n\\n');\n",
    "ax.set_xlabel('\\n Valores predichos ')\n",
    "ax.set_ylabel('Valores observados ');\n",
    "\n",
    "## Ticket labels - List must be in alphabetical order\n",
    "ax.xaxis.set_ticklabels(['False','True'])\n",
    "ax.yaxis.set_ticklabels(['False','True'])\n",
    "\n",
    "## Display the visualization of the Confusion Matrix.\n",
    "plt.show()"
   ]
  },
  {
   "cell_type": "code",
   "execution_count": null,
   "id": "cab452da",
   "metadata": {
    "ExecuteTime": {
     "end_time": "2022-04-06T21:28:14.621286Z",
     "start_time": "2022-04-06T21:28:14.262238Z"
    }
   },
   "outputs": [],
   "source": [
    "metrics.plot_roc_curve(xgb_cl, X_test, y_test) "
   ]
  },
  {
   "cell_type": "code",
   "execution_count": null,
   "id": "e8127862",
   "metadata": {
    "ExecuteTime": {
     "end_time": "2022-04-06T21:28:20.842561Z",
     "start_time": "2022-04-06T21:28:16.461986Z"
    },
    "scrolled": true
   },
   "outputs": [],
   "source": [
    "scores = cross_val_score(xgb_cl, X=X_train, y=y_train, cv=10, n_jobs=1)\n",
    " \n",
    "print('Puntajes obtenidos: %s' % scores)\n",
    "print('Precisión de validación cruzada: %.3f +/- %.3f' % (np.mean(scores),np.std(scores)))"
   ]
  },
  {
   "cell_type": "markdown",
   "id": "443d7528",
   "metadata": {},
   "source": [
    "## Summary of results"
   ]
  },
  {
   "cell_type": "code",
   "execution_count": null,
   "id": "cecb7482",
   "metadata": {
    "ExecuteTime": {
     "end_time": "2022-04-06T21:28:33.563564Z",
     "start_time": "2022-04-06T21:28:23.583603Z"
    }
   },
   "outputs": [],
   "source": [
    "scores_bln = cross_val_score(dummy_clf, X=X_train, y=y_train, cv=10, n_jobs=1)\n",
    "scores_knn = cross_val_score(dummy_KNN, X=X_train, y=y_train, cv=10, n_jobs=1)\n",
    "scores_log = cross_val_score(reg_log, X=X_train, y=y_train, cv=10, n_jobs=1)\n",
    "scores_rf = cross_val_score(rf, X=X_train, y=y_train, cv=10, n_jobs=1)\n",
    "scores_nb = cross_val_score(nb, X=X_train, y=y_train, cv=10, n_jobs=1)\n",
    "scores_xgb = cross_val_score(xgb_cl, X=X_train, y=y_train, cv=10, n_jobs=1)\n"
   ]
  },
  {
   "cell_type": "code",
   "execution_count": null,
   "id": "b038c59c",
   "metadata": {
    "ExecuteTime": {
     "end_time": "2022-04-06T21:28:34.937718Z",
     "start_time": "2022-04-06T21:28:34.910717Z"
    }
   },
   "outputs": [],
   "source": [
    "res_baseline = pd.DataFrame( {'Model Name': 'Baseline', \n",
    "                'Accuracy':  '%.3f +/- %.3f' % (np.mean(scores_bln),np.std(scores_bln))},index=[0] ) \n",
    "res_KNN = pd.DataFrame( {'Model Name': 'KNN', \n",
    "                'Accuracy':  '%.3f +/- %.3f' % (np.mean(scores_knn),np.std(scores_knn))},index=[0] ) \n",
    "res_lr = pd.DataFrame( {'Model Name': 'Logistic Regression',\n",
    "                'Accuracy':  '%.3f +/- %.3f' % (np.mean(scores_log),np.std(scores_log))},index=[0] ) \n",
    "res_rf = pd.DataFrame( {'Model Name': 'Random Forest',\n",
    "                'Accuracy':  '%.3f +/- %.3f' % (np.mean(scores_rf),np.std(scores_rf))},index=[0] ) \n",
    "res_nb = pd.DataFrame( {'Model Name': 'Naive Bayes', \n",
    "                'Accuracy':  '%.3f +/- %.3f' % (np.mean(scores_nb),np.std(scores_nb))},index=[0] ) \n",
    "res_xgb = pd.DataFrame( {'Model Name': 'XGBoost', \n",
    "                'Accuracy':  '%.3f +/- %.3f' % (np.mean(scores_xgb),np.std(scores_xgb))},index=[0] )\n",
    "Accuracy = pd.concat([res_baseline,res_KNN,res_lr,res_rf,res_nb,res_xgb])"
   ]
  },
  {
   "cell_type": "code",
   "execution_count": null,
   "id": "2c0ba7e8",
   "metadata": {
    "ExecuteTime": {
     "end_time": "2022-04-06T21:28:36.249497Z",
     "start_time": "2022-04-06T21:28:36.221342Z"
    }
   },
   "outputs": [],
   "source": [
    "Accuracy.sort_values('Accuracy', ascending = False)"
   ]
  },
  {
   "cell_type": "markdown",
   "id": "84afdef8",
   "metadata": {},
   "source": [
    "Thus, the model XGboost is going to be selected for forecasting. But first, let see if a better version if achivable by means of an hyperparameter tuning process"
   ]
  },
  {
   "cell_type": "markdown",
   "id": "b54fd330",
   "metadata": {
    "ExecuteTime": {
     "end_time": "2022-04-04T02:00:44.194912Z",
     "start_time": "2022-04-04T02:00:44.189914Z"
    }
   },
   "source": [
    "## Model Hyperparameter Tuning"
   ]
  },
  {
   "cell_type": "code",
   "execution_count": null,
   "id": "511149e5",
   "metadata": {
    "ExecuteTime": {
     "end_time": "2022-04-06T21:28:38.058507Z",
     "start_time": "2022-04-06T21:28:38.029457Z"
    }
   },
   "outputs": [],
   "source": [
    "dtrain = xgb.DMatrix(X_test, label=y_test)\n",
    "\n",
    "def bo_tune_xgb(max_depth, gamma, n_estimators ,learning_rate):\n",
    "    params = {'max_depth': int(max_depth),\n",
    "                'gamma': gamma,\n",
    "              'n_estimators': int(n_estimators),\n",
    "              'learning_rate':learning_rate,\n",
    "              'subsample': 0.8,\n",
    "              'eta': 0.1,\n",
    "              'eval_metric': 'rmse'}\n",
    "    #Cross validating with the specified parameters in 5 folds and 70 iterations\n",
    "    cv_result = xgb.cv(params, dtrain, num_boost_round=70, nfold=5)\n",
    "    #Return the negative RMSE\n",
    "    return -1.0 * cv_result['test-rmse-mean'].iloc[-1]\n"
   ]
  },
  {
   "cell_type": "code",
   "execution_count": null,
   "id": "5dbd8fa0",
   "metadata": {
    "ExecuteTime": {
     "end_time": "2022-04-06T21:28:39.498867Z",
     "start_time": "2022-04-06T21:28:39.484173Z"
    }
   },
   "outputs": [],
   "source": [
    "#Invoking the Bayesian Optimizer with the specified parameters to tune\n",
    "xgb_bo = BayesianOptimization(bo_tune_xgb, {'max_depth': (3, 10),\n",
    "                                            'gamma': (0, 1),\n",
    "                                            'learning_rate':(0,1),\n",
    "                                             'n_estimators':(100,120)})"
   ]
  },
  {
   "cell_type": "code",
   "execution_count": null,
   "id": "ea868519",
   "metadata": {
    "ExecuteTime": {
     "end_time": "2022-04-06T21:29:01.832853Z",
     "start_time": "2022-04-06T21:28:40.791265Z"
    },
    "scrolled": true
   },
   "outputs": [],
   "source": [
    "xgb_bo.maximize(n_iter=5, init_points=8, acq='ei')"
   ]
  },
  {
   "cell_type": "code",
   "execution_count": null,
   "id": "cd98affe",
   "metadata": {
    "ExecuteTime": {
     "end_time": "2022-04-06T21:29:04.466806Z",
     "start_time": "2022-04-06T21:29:04.455809Z"
    }
   },
   "outputs": [],
   "source": [
    "#Extracting the best parameters\n",
    "params = xgb_bo.max['params']\n",
    "print(params)"
   ]
  },
  {
   "cell_type": "code",
   "execution_count": null,
   "id": "a4f3ab15",
   "metadata": {
    "ExecuteTime": {
     "end_time": "2022-04-06T21:29:06.235408Z",
     "start_time": "2022-04-06T21:29:05.905293Z"
    }
   },
   "outputs": [],
   "source": [
    "#Converting the max_depth and n_estimator values from float to int\n",
    "params['max_depth']= int(params['max_depth'])\n",
    "params['n_estimators']= int(params['n_estimators'])\n",
    "\n",
    "#Initialize an XGBClassifier with the tuned parameters and fit the training data\n",
    "\n",
    "classifier2 = xgb.XGBClassifier(**params).fit(X_test, y_test)"
   ]
  },
  {
   "cell_type": "code",
   "execution_count": null,
   "id": "0960e688",
   "metadata": {
    "ExecuteTime": {
     "end_time": "2022-04-06T21:29:07.485666Z",
     "start_time": "2022-04-06T21:29:07.425342Z"
    }
   },
   "outputs": [],
   "source": [
    "pickle.dump( classifier2, open( 'model/final_model.pkl', 'wb' ) )"
   ]
  },
  {
   "cell_type": "code",
   "execution_count": null,
   "id": "268963bf",
   "metadata": {
    "ExecuteTime": {
     "end_time": "2022-04-06T21:29:10.057401Z",
     "start_time": "2022-04-06T21:29:10.014418Z"
    }
   },
   "outputs": [],
   "source": [
    "y_pred_xgb_param = classifier2.predict(X_test)"
   ]
  },
  {
   "cell_type": "code",
   "execution_count": null,
   "id": "8c464e4a",
   "metadata": {
    "ExecuteTime": {
     "end_time": "2022-04-06T21:29:12.004020Z",
     "start_time": "2022-04-06T21:29:11.993997Z"
    }
   },
   "outputs": [],
   "source": [
    "cf_matrix = confusion_matrix(y_test, y_pred_xgb_param)\n",
    "\n",
    "print(cf_matrix)"
   ]
  },
  {
   "cell_type": "code",
   "execution_count": null,
   "id": "ae1c8b41",
   "metadata": {
    "ExecuteTime": {
     "end_time": "2022-04-06T21:29:14.062223Z",
     "start_time": "2022-04-06T21:29:13.728223Z"
    }
   },
   "outputs": [],
   "source": [
    "ax = sns.heatmap(cf_matrix/np.sum(cf_matrix), annot=True, \n",
    "            fmt='.2%', cmap='Blues')\n",
    "\n",
    "ax.set_title('Matriz de confusión XGboost\\n\\n');\n",
    "ax.set_xlabel('\\n Valores predichos ')\n",
    "ax.set_ylabel('Valores observados ');\n",
    "\n",
    "## Ticket labels - List must be in alphabetical order\n",
    "ax.xaxis.set_ticklabels(['False','True'])\n",
    "ax.yaxis.set_ticklabels(['False','True'])\n",
    "\n",
    "## Display the visualization of the Confusion Matrix.\n",
    "plt.show()"
   ]
  },
  {
   "cell_type": "code",
   "execution_count": null,
   "id": "cce033a9",
   "metadata": {
    "ExecuteTime": {
     "end_time": "2022-04-06T21:29:16.095231Z",
     "start_time": "2022-04-06T21:29:15.800225Z"
    }
   },
   "outputs": [],
   "source": [
    "metrics.plot_roc_curve(classifier2, X_test, y_test) "
   ]
  },
  {
   "cell_type": "code",
   "execution_count": null,
   "id": "1f0126aa",
   "metadata": {
    "ExecuteTime": {
     "end_time": "2022-04-06T21:29:32.192062Z",
     "start_time": "2022-04-06T21:29:18.073937Z"
    },
    "scrolled": true
   },
   "outputs": [],
   "source": [
    "scores = cross_val_score(classifier2, X=X_train, y=y_train, cv=10, n_jobs=1)\n",
    " \n",
    "print('Puntajes obtenidos: %s' % scores)\n",
    "print('Precisión de validación cruzada: %.3f +/- %.3f' % (np.mean(scores),np.std(scores)))"
   ]
  },
  {
   "cell_type": "markdown",
   "id": "61744dfd",
   "metadata": {},
   "source": [
    "## Using the model to predict new data"
   ]
  },
  {
   "cell_type": "code",
   "execution_count": 4,
   "id": "2a641b4e",
   "metadata": {
    "ExecuteTime": {
     "end_time": "2022-04-07T01:36:50.674725Z",
     "start_time": "2022-04-07T01:36:50.647730Z"
    }
   },
   "outputs": [],
   "source": [
    "nueva = pd.read_csv('Base_nueva_DC.csv',encoding = \"ISO-8859-1\", sep =';',parse_dates=['fecha_ult_desembolso'], \n",
    "                  dtype = {\n",
    "                      'Id_Cliente':str,\n",
    "                      'Ciudad':str,\n",
    "                      ' Patrimonio ':int,\n",
    "                      ' Ingresos_Mensuales ':int,\n",
    "                      'No_hijos':int,\n",
    "                      'oficina':str,\n",
    "                      'monto_credito':int,\n",
    "                      'tasa':float,\n",
    "                      'saldo_capital':int,\n",
    "                      'Antiguedad_en_meses':int,\n",
    "                      'Max_dias_mora':int,\n",
    "                      'plazo_dias':int,\n",
    "                      'Edad':int\n",
    "                  })\n"
   ]
  },
  {
   "cell_type": "code",
   "execution_count": 5,
   "id": "4743e33c",
   "metadata": {
    "ExecuteTime": {
     "end_time": "2022-04-07T01:36:50.985751Z",
     "start_time": "2022-04-07T01:36:50.973730Z"
    }
   },
   "outputs": [],
   "source": [
    "nueva['mes_ult_desembolso'] = nueva['fecha_ult_desembolso'].dt.month\n",
    "nueva = nueva.rename(columns = {' Ingresos_Mensuales ':'Ingresos_Mensuales',\n",
    "                              ' Patrimonio ':'Patrimonio'})"
   ]
  },
  {
   "cell_type": "code",
   "execution_count": 6,
   "id": "857748f7",
   "metadata": {
    "ExecuteTime": {
     "end_time": "2022-04-07T01:36:52.032833Z",
     "start_time": "2022-04-07T01:36:51.973835Z"
    }
   },
   "outputs": [
    {
     "data": {
      "text/html": [
       "<div>\n",
       "<style scoped>\n",
       "    .dataframe tbody tr th:only-of-type {\n",
       "        vertical-align: middle;\n",
       "    }\n",
       "\n",
       "    .dataframe tbody tr th {\n",
       "        vertical-align: top;\n",
       "    }\n",
       "\n",
       "    .dataframe thead th {\n",
       "        text-align: right;\n",
       "    }\n",
       "</style>\n",
       "<table border=\"1\" class=\"dataframe\">\n",
       "  <thead>\n",
       "    <tr style=\"text-align: right;\">\n",
       "      <th></th>\n",
       "      <th>Id_Cliente</th>\n",
       "      <th>Ciudad</th>\n",
       "      <th>Patrimonio</th>\n",
       "      <th>Ingresos_Mensuales</th>\n",
       "      <th>No_hijos</th>\n",
       "      <th>oficina</th>\n",
       "      <th>fecha_ult_desembolso</th>\n",
       "      <th>monto_credito</th>\n",
       "      <th>tasa</th>\n",
       "      <th>saldo_capital</th>\n",
       "      <th>saldo_Ahorro</th>\n",
       "      <th>Antiguedad_en_meses</th>\n",
       "      <th>Max_dias_mora</th>\n",
       "      <th>plazo_dias</th>\n",
       "      <th>Edad</th>\n",
       "      <th>mes_ult_desembolso</th>\n",
       "    </tr>\n",
       "  </thead>\n",
       "  <tbody>\n",
       "    <tr>\n",
       "      <th>0</th>\n",
       "      <td>427658</td>\n",
       "      <td>Cartagena</td>\n",
       "      <td>745968</td>\n",
       "      <td>1614094</td>\n",
       "      <td>0</td>\n",
       "      <td>4024</td>\n",
       "      <td>2017-12-30</td>\n",
       "      <td>1500000</td>\n",
       "      <td>33.93</td>\n",
       "      <td>1357387</td>\n",
       "      <td>33438</td>\n",
       "      <td>12</td>\n",
       "      <td>0</td>\n",
       "      <td>900</td>\n",
       "      <td>65</td>\n",
       "      <td>12</td>\n",
       "    </tr>\n",
       "    <tr>\n",
       "      <th>1</th>\n",
       "      <td>427659</td>\n",
       "      <td>Barranquilla</td>\n",
       "      <td>834415</td>\n",
       "      <td>920234</td>\n",
       "      <td>1</td>\n",
       "      <td>4011</td>\n",
       "      <td>2017-12-18</td>\n",
       "      <td>1500000</td>\n",
       "      <td>33.93</td>\n",
       "      <td>392262</td>\n",
       "      <td>0</td>\n",
       "      <td>12</td>\n",
       "      <td>0</td>\n",
       "      <td>540</td>\n",
       "      <td>40</td>\n",
       "      <td>12</td>\n",
       "    </tr>\n",
       "    <tr>\n",
       "      <th>2</th>\n",
       "      <td>427670</td>\n",
       "      <td>Barranquilla</td>\n",
       "      <td>1164858</td>\n",
       "      <td>1568317</td>\n",
       "      <td>1</td>\n",
       "      <td>7032</td>\n",
       "      <td>2018-02-17</td>\n",
       "      <td>1064170</td>\n",
       "      <td>0.30</td>\n",
       "      <td>211724</td>\n",
       "      <td>0</td>\n",
       "      <td>12</td>\n",
       "      <td>0</td>\n",
       "      <td>540</td>\n",
       "      <td>36</td>\n",
       "      <td>2</td>\n",
       "    </tr>\n",
       "    <tr>\n",
       "      <th>3</th>\n",
       "      <td>427671</td>\n",
       "      <td>Cali</td>\n",
       "      <td>1187587</td>\n",
       "      <td>796660</td>\n",
       "      <td>1</td>\n",
       "      <td>7032</td>\n",
       "      <td>2017-12-25</td>\n",
       "      <td>2338552</td>\n",
       "      <td>0.30</td>\n",
       "      <td>828993</td>\n",
       "      <td>0</td>\n",
       "      <td>12</td>\n",
       "      <td>0</td>\n",
       "      <td>720</td>\n",
       "      <td>47</td>\n",
       "      <td>12</td>\n",
       "    </tr>\n",
       "    <tr>\n",
       "      <th>4</th>\n",
       "      <td>427720</td>\n",
       "      <td>Cartagena</td>\n",
       "      <td>2840488</td>\n",
       "      <td>1474771</td>\n",
       "      <td>0</td>\n",
       "      <td>7025</td>\n",
       "      <td>2018-01-23</td>\n",
       "      <td>2385560</td>\n",
       "      <td>33.93</td>\n",
       "      <td>1997956</td>\n",
       "      <td>0</td>\n",
       "      <td>12</td>\n",
       "      <td>0</td>\n",
       "      <td>720</td>\n",
       "      <td>56</td>\n",
       "      <td>1</td>\n",
       "    </tr>\n",
       "    <tr>\n",
       "      <th>...</th>\n",
       "      <td>...</td>\n",
       "      <td>...</td>\n",
       "      <td>...</td>\n",
       "      <td>...</td>\n",
       "      <td>...</td>\n",
       "      <td>...</td>\n",
       "      <td>...</td>\n",
       "      <td>...</td>\n",
       "      <td>...</td>\n",
       "      <td>...</td>\n",
       "      <td>...</td>\n",
       "      <td>...</td>\n",
       "      <td>...</td>\n",
       "      <td>...</td>\n",
       "      <td>...</td>\n",
       "      <td>...</td>\n",
       "    </tr>\n",
       "    <tr>\n",
       "      <th>1495</th>\n",
       "      <td>428626</td>\n",
       "      <td>Cartagena</td>\n",
       "      <td>37964203</td>\n",
       "      <td>477534</td>\n",
       "      <td>1</td>\n",
       "      <td>4003</td>\n",
       "      <td>2017-11-29</td>\n",
       "      <td>9000000</td>\n",
       "      <td>33.93</td>\n",
       "      <td>7810084</td>\n",
       "      <td>18603</td>\n",
       "      <td>120</td>\n",
       "      <td>0</td>\n",
       "      <td>1080</td>\n",
       "      <td>30</td>\n",
       "      <td>11</td>\n",
       "    </tr>\n",
       "    <tr>\n",
       "      <th>1496</th>\n",
       "      <td>428844</td>\n",
       "      <td>Barranquilla</td>\n",
       "      <td>46168677</td>\n",
       "      <td>1516403</td>\n",
       "      <td>0</td>\n",
       "      <td>4003</td>\n",
       "      <td>2017-11-29</td>\n",
       "      <td>8900000</td>\n",
       "      <td>33.93</td>\n",
       "      <td>7810084</td>\n",
       "      <td>18603</td>\n",
       "      <td>120</td>\n",
       "      <td>0</td>\n",
       "      <td>1080</td>\n",
       "      <td>44</td>\n",
       "      <td>11</td>\n",
       "    </tr>\n",
       "    <tr>\n",
       "      <th>1497</th>\n",
       "      <td>428405</td>\n",
       "      <td>Bogotá</td>\n",
       "      <td>28739705</td>\n",
       "      <td>848160</td>\n",
       "      <td>1</td>\n",
       "      <td>4030</td>\n",
       "      <td>2017-12-15</td>\n",
       "      <td>9000000</td>\n",
       "      <td>33.93</td>\n",
       "      <td>9000000</td>\n",
       "      <td>19713</td>\n",
       "      <td>120</td>\n",
       "      <td>0</td>\n",
       "      <td>720</td>\n",
       "      <td>41</td>\n",
       "      <td>12</td>\n",
       "    </tr>\n",
       "    <tr>\n",
       "      <th>1498</th>\n",
       "      <td>428623</td>\n",
       "      <td>Cali</td>\n",
       "      <td>37858892</td>\n",
       "      <td>1041188</td>\n",
       "      <td>2</td>\n",
       "      <td>4030</td>\n",
       "      <td>2017-12-15</td>\n",
       "      <td>9000000</td>\n",
       "      <td>33.93</td>\n",
       "      <td>9000000</td>\n",
       "      <td>19713</td>\n",
       "      <td>120</td>\n",
       "      <td>0</td>\n",
       "      <td>720</td>\n",
       "      <td>48</td>\n",
       "      <td>12</td>\n",
       "    </tr>\n",
       "    <tr>\n",
       "      <th>1499</th>\n",
       "      <td>428841</td>\n",
       "      <td>Barranquilla</td>\n",
       "      <td>46090593</td>\n",
       "      <td>604703</td>\n",
       "      <td>0</td>\n",
       "      <td>4030</td>\n",
       "      <td>2017-12-15</td>\n",
       "      <td>8900000</td>\n",
       "      <td>33.93</td>\n",
       "      <td>7800000</td>\n",
       "      <td>19713</td>\n",
       "      <td>120</td>\n",
       "      <td>0</td>\n",
       "      <td>720</td>\n",
       "      <td>32</td>\n",
       "      <td>12</td>\n",
       "    </tr>\n",
       "  </tbody>\n",
       "</table>\n",
       "<p>1500 rows × 16 columns</p>\n",
       "</div>"
      ],
      "text/plain": [
       "     Id_Cliente        Ciudad  Patrimonio  Ingresos_Mensuales  No_hijos  \\\n",
       "0        427658     Cartagena      745968             1614094         0   \n",
       "1        427659  Barranquilla      834415              920234         1   \n",
       "2        427670  Barranquilla     1164858             1568317         1   \n",
       "3        427671          Cali     1187587              796660         1   \n",
       "4        427720     Cartagena     2840488             1474771         0   \n",
       "...         ...           ...         ...                 ...       ...   \n",
       "1495     428626     Cartagena    37964203              477534         1   \n",
       "1496     428844  Barranquilla    46168677             1516403         0   \n",
       "1497     428405        Bogotá    28739705              848160         1   \n",
       "1498     428623          Cali    37858892             1041188         2   \n",
       "1499     428841  Barranquilla    46090593              604703         0   \n",
       "\n",
       "     oficina fecha_ult_desembolso  monto_credito   tasa  saldo_capital  \\\n",
       "0       4024           2017-12-30        1500000  33.93        1357387   \n",
       "1       4011           2017-12-18        1500000  33.93         392262   \n",
       "2       7032           2018-02-17        1064170   0.30         211724   \n",
       "3       7032           2017-12-25        2338552   0.30         828993   \n",
       "4       7025           2018-01-23        2385560  33.93        1997956   \n",
       "...      ...                  ...            ...    ...            ...   \n",
       "1495    4003           2017-11-29        9000000  33.93        7810084   \n",
       "1496    4003           2017-11-29        8900000  33.93        7810084   \n",
       "1497    4030           2017-12-15        9000000  33.93        9000000   \n",
       "1498    4030           2017-12-15        9000000  33.93        9000000   \n",
       "1499    4030           2017-12-15        8900000  33.93        7800000   \n",
       "\n",
       "      saldo_Ahorro  Antiguedad_en_meses  Max_dias_mora  plazo_dias  Edad  \\\n",
       "0            33438                   12              0         900    65   \n",
       "1                0                   12              0         540    40   \n",
       "2                0                   12              0         540    36   \n",
       "3                0                   12              0         720    47   \n",
       "4                0                   12              0         720    56   \n",
       "...            ...                  ...            ...         ...   ...   \n",
       "1495         18603                  120              0        1080    30   \n",
       "1496         18603                  120              0        1080    44   \n",
       "1497         19713                  120              0         720    41   \n",
       "1498         19713                  120              0         720    48   \n",
       "1499         19713                  120              0         720    32   \n",
       "\n",
       "      mes_ult_desembolso  \n",
       "0                     12  \n",
       "1                     12  \n",
       "2                      2  \n",
       "3                     12  \n",
       "4                      1  \n",
       "...                  ...  \n",
       "1495                  11  \n",
       "1496                  11  \n",
       "1497                  12  \n",
       "1498                  12  \n",
       "1499                  12  \n",
       "\n",
       "[1500 rows x 16 columns]"
      ]
     },
     "execution_count": 6,
     "metadata": {},
     "output_type": "execute_result"
    }
   ],
   "source": [
    "nueva"
   ]
  },
  {
   "cell_type": "code",
   "execution_count": 7,
   "id": "ff87bda5",
   "metadata": {
    "ExecuteTime": {
     "end_time": "2022-04-07T01:36:52.861532Z",
     "start_time": "2022-04-07T01:36:52.842534Z"
    }
   },
   "outputs": [],
   "source": [
    "X = nueva[[ 'Patrimonio', 'Ingresos_Mensuales', 'No_hijos',\n",
    "       'monto_credito', 'tasa',\n",
    "       'saldo_capital', 'saldo_Ahorro', 'Antiguedad_en_meses', 'Max_dias_mora',\n",
    "       'plazo_dias', 'Edad', 'mes_ult_desembolso']]"
   ]
  },
  {
   "cell_type": "code",
   "execution_count": 8,
   "id": "6a7c59ed",
   "metadata": {
    "ExecuteTime": {
     "end_time": "2022-04-07T01:36:53.749134Z",
     "start_time": "2022-04-07T01:36:53.726127Z"
    }
   },
   "outputs": [],
   "source": [
    "ciudad = pd.get_dummies(nueva['Ciudad'], prefix='C')"
   ]
  },
  {
   "cell_type": "code",
   "execution_count": 9,
   "id": "f4c20080",
   "metadata": {
    "ExecuteTime": {
     "end_time": "2022-04-07T01:36:54.977772Z",
     "start_time": "2022-04-07T01:36:54.962773Z"
    }
   },
   "outputs": [],
   "source": [
    "X= X.join(ciudad)"
   ]
  },
  {
   "cell_type": "code",
   "execution_count": 10,
   "id": "dc0a56a8",
   "metadata": {
    "ExecuteTime": {
     "end_time": "2022-04-07T01:36:55.529293Z",
     "start_time": "2022-04-07T01:36:55.500292Z"
    },
    "scrolled": true
   },
   "outputs": [
    {
     "data": {
      "text/html": [
       "<div>\n",
       "<style scoped>\n",
       "    .dataframe tbody tr th:only-of-type {\n",
       "        vertical-align: middle;\n",
       "    }\n",
       "\n",
       "    .dataframe tbody tr th {\n",
       "        vertical-align: top;\n",
       "    }\n",
       "\n",
       "    .dataframe thead th {\n",
       "        text-align: right;\n",
       "    }\n",
       "</style>\n",
       "<table border=\"1\" class=\"dataframe\">\n",
       "  <thead>\n",
       "    <tr style=\"text-align: right;\">\n",
       "      <th></th>\n",
       "      <th>0</th>\n",
       "      <th>1</th>\n",
       "      <th>2</th>\n",
       "      <th>3</th>\n",
       "      <th>4</th>\n",
       "    </tr>\n",
       "  </thead>\n",
       "  <tbody>\n",
       "    <tr>\n",
       "      <th>Patrimonio</th>\n",
       "      <td>745968.00</td>\n",
       "      <td>834415.00</td>\n",
       "      <td>1164858.0</td>\n",
       "      <td>1187587.0</td>\n",
       "      <td>2840488.00</td>\n",
       "    </tr>\n",
       "    <tr>\n",
       "      <th>Ingresos_Mensuales</th>\n",
       "      <td>1614094.00</td>\n",
       "      <td>920234.00</td>\n",
       "      <td>1568317.0</td>\n",
       "      <td>796660.0</td>\n",
       "      <td>1474771.00</td>\n",
       "    </tr>\n",
       "    <tr>\n",
       "      <th>No_hijos</th>\n",
       "      <td>0.00</td>\n",
       "      <td>1.00</td>\n",
       "      <td>1.0</td>\n",
       "      <td>1.0</td>\n",
       "      <td>0.00</td>\n",
       "    </tr>\n",
       "    <tr>\n",
       "      <th>monto_credito</th>\n",
       "      <td>1500000.00</td>\n",
       "      <td>1500000.00</td>\n",
       "      <td>1064170.0</td>\n",
       "      <td>2338552.0</td>\n",
       "      <td>2385560.00</td>\n",
       "    </tr>\n",
       "    <tr>\n",
       "      <th>tasa</th>\n",
       "      <td>33.93</td>\n",
       "      <td>33.93</td>\n",
       "      <td>0.3</td>\n",
       "      <td>0.3</td>\n",
       "      <td>33.93</td>\n",
       "    </tr>\n",
       "    <tr>\n",
       "      <th>saldo_capital</th>\n",
       "      <td>1357387.00</td>\n",
       "      <td>392262.00</td>\n",
       "      <td>211724.0</td>\n",
       "      <td>828993.0</td>\n",
       "      <td>1997956.00</td>\n",
       "    </tr>\n",
       "    <tr>\n",
       "      <th>saldo_Ahorro</th>\n",
       "      <td>33438.00</td>\n",
       "      <td>0.00</td>\n",
       "      <td>0.0</td>\n",
       "      <td>0.0</td>\n",
       "      <td>0.00</td>\n",
       "    </tr>\n",
       "    <tr>\n",
       "      <th>Antiguedad_en_meses</th>\n",
       "      <td>12.00</td>\n",
       "      <td>12.00</td>\n",
       "      <td>12.0</td>\n",
       "      <td>12.0</td>\n",
       "      <td>12.00</td>\n",
       "    </tr>\n",
       "    <tr>\n",
       "      <th>Max_dias_mora</th>\n",
       "      <td>0.00</td>\n",
       "      <td>0.00</td>\n",
       "      <td>0.0</td>\n",
       "      <td>0.0</td>\n",
       "      <td>0.00</td>\n",
       "    </tr>\n",
       "    <tr>\n",
       "      <th>plazo_dias</th>\n",
       "      <td>900.00</td>\n",
       "      <td>540.00</td>\n",
       "      <td>540.0</td>\n",
       "      <td>720.0</td>\n",
       "      <td>720.00</td>\n",
       "    </tr>\n",
       "    <tr>\n",
       "      <th>Edad</th>\n",
       "      <td>65.00</td>\n",
       "      <td>40.00</td>\n",
       "      <td>36.0</td>\n",
       "      <td>47.0</td>\n",
       "      <td>56.00</td>\n",
       "    </tr>\n",
       "    <tr>\n",
       "      <th>mes_ult_desembolso</th>\n",
       "      <td>12.00</td>\n",
       "      <td>12.00</td>\n",
       "      <td>2.0</td>\n",
       "      <td>12.0</td>\n",
       "      <td>1.00</td>\n",
       "    </tr>\n",
       "    <tr>\n",
       "      <th>C_Barranquilla</th>\n",
       "      <td>0.00</td>\n",
       "      <td>1.00</td>\n",
       "      <td>1.0</td>\n",
       "      <td>0.0</td>\n",
       "      <td>0.00</td>\n",
       "    </tr>\n",
       "    <tr>\n",
       "      <th>C_Bogotá</th>\n",
       "      <td>0.00</td>\n",
       "      <td>0.00</td>\n",
       "      <td>0.0</td>\n",
       "      <td>0.0</td>\n",
       "      <td>0.00</td>\n",
       "    </tr>\n",
       "    <tr>\n",
       "      <th>C_Cali</th>\n",
       "      <td>0.00</td>\n",
       "      <td>0.00</td>\n",
       "      <td>0.0</td>\n",
       "      <td>1.0</td>\n",
       "      <td>0.00</td>\n",
       "    </tr>\n",
       "    <tr>\n",
       "      <th>C_Cartagena</th>\n",
       "      <td>1.00</td>\n",
       "      <td>0.00</td>\n",
       "      <td>0.0</td>\n",
       "      <td>0.0</td>\n",
       "      <td>1.00</td>\n",
       "    </tr>\n",
       "  </tbody>\n",
       "</table>\n",
       "</div>"
      ],
      "text/plain": [
       "                              0           1          2          3           4\n",
       "Patrimonio            745968.00   834415.00  1164858.0  1187587.0  2840488.00\n",
       "Ingresos_Mensuales   1614094.00   920234.00  1568317.0   796660.0  1474771.00\n",
       "No_hijos                   0.00        1.00        1.0        1.0        0.00\n",
       "monto_credito        1500000.00  1500000.00  1064170.0  2338552.0  2385560.00\n",
       "tasa                      33.93       33.93        0.3        0.3       33.93\n",
       "saldo_capital        1357387.00   392262.00   211724.0   828993.0  1997956.00\n",
       "saldo_Ahorro           33438.00        0.00        0.0        0.0        0.00\n",
       "Antiguedad_en_meses       12.00       12.00       12.0       12.0       12.00\n",
       "Max_dias_mora              0.00        0.00        0.0        0.0        0.00\n",
       "plazo_dias               900.00      540.00      540.0      720.0      720.00\n",
       "Edad                      65.00       40.00       36.0       47.0       56.00\n",
       "mes_ult_desembolso        12.00       12.00        2.0       12.0        1.00\n",
       "C_Barranquilla             0.00        1.00        1.0        0.0        0.00\n",
       "C_Bogotá                   0.00        0.00        0.0        0.0        0.00\n",
       "C_Cali                     0.00        0.00        0.0        1.0        0.00\n",
       "C_Cartagena                1.00        0.00        0.0        0.0        1.00"
      ]
     },
     "execution_count": 10,
     "metadata": {},
     "output_type": "execute_result"
    }
   ],
   "source": [
    "X.head().T"
   ]
  },
  {
   "cell_type": "code",
   "execution_count": 14,
   "id": "52fa913d",
   "metadata": {
    "ExecuteTime": {
     "end_time": "2022-04-07T01:38:39.835138Z",
     "start_time": "2022-04-07T01:38:39.811146Z"
    }
   },
   "outputs": [],
   "source": [
    "import joblib\n",
    "mms = MinMaxScaler()\n",
    "mms.fit_transform( X[['Patrimonio']].values )\n",
    "joblib.dump(mms, 'parameter/scaler.gz')\n",
    "\n",
    "# pickle.dump( mms, open( 'parameter/Patrimonio.pkl', 'wb') )\n",
    "mms_test = joblib.load('parameter/scaler.gz')\n"
   ]
  },
  {
   "cell_type": "code",
   "execution_count": 18,
   "id": "f1780d13",
   "metadata": {
    "ExecuteTime": {
     "end_time": "2022-04-07T01:50:51.526976Z",
     "start_time": "2022-04-07T01:50:51.516937Z"
    }
   },
   "outputs": [
    {
     "name": "stdout",
     "output_type": "stream",
     "text": [
      "MinMaxScaler()\n"
     ]
    }
   ],
   "source": []
  },
  {
   "cell_type": "code",
   "execution_count": 16,
   "id": "e55e082d",
   "metadata": {
    "ExecuteTime": {
     "end_time": "2022-04-07T01:40:15.365154Z",
     "start_time": "2022-04-07T01:40:15.353149Z"
    }
   },
   "outputs": [
    {
     "data": {
      "text/plain": [
       "array([[0.00527939],\n",
       "       [0.00683639],\n",
       "       [0.01265344],\n",
       "       ...,\n",
       "       [0.49807511],\n",
       "       [0.65860731],\n",
       "       [0.8035164 ]])"
      ]
     },
     "execution_count": 16,
     "metadata": {},
     "output_type": "execute_result"
    }
   ],
   "source": [
    "mms_test.transform(X[['Patrimonio']].values)"
   ]
  },
  {
   "cell_type": "code",
   "execution_count": null,
   "id": "01fa9458",
   "metadata": {
    "ExecuteTime": {
     "end_time": "2022-04-07T00:09:04.724792Z",
     "start_time": "2022-04-07T00:09:04.676802Z"
    }
   },
   "outputs": [],
   "source": [
    "mms1 = MinMaxScaler()\n",
    "X['Patrimonio'] = mms1.fit_transform( X[['Patrimonio']].values )\n",
    "joblib.dump(mms1, 'parameter/Patrimonio.gz')"
   ]
  },
  {
   "cell_type": "code",
   "execution_count": null,
   "id": "65a79724",
   "metadata": {
    "ExecuteTime": {
     "end_time": "2022-04-07T00:06:55.082952Z",
     "start_time": "2022-04-07T00:06:55.006699Z"
    }
   },
   "outputs": [],
   "source": [
    "mms = MinMaxScaler()\n",
    "\n",
    "X['Ingresos_Mensuales'] = mms.fit_transform( X[['Ingresos_Mensuales']].values )\n",
    "joblib.dump(mms, 'parameter/Ingresos_Mensuales.gz')\n",
    "X['No_hijos'] = mms.fit_transform( X[['No_hijos']].values )\n",
    "joblib.dump(mms, 'parameter/No_hijos.gz')\n",
    "X['monto_credito'] = mms.fit_transform( X[['monto_credito']].values )\n",
    "joblib.dump(mms, 'parameter/monto_credito.gz')\n",
    "X['tasa'] = mms.fit_transform( X[['tasa']].values )\n",
    "joblib.dump(mms, 'parameter/tasa.gz')\n",
    "X['saldo_capital'] = mms.fit_transform( X[['saldo_capital']].values )\n",
    "joblib.dump(mms, 'parameter/saldo_capital.gz')\n",
    "X['saldo_Ahorro'] = mms.fit_transform( X[['saldo_Ahorro']].values )\n",
    "joblib.dump(mms, 'parameter/saldo_Ahorro.gz')\n",
    "X['Antiguedad_en_meses'] = mms.fit_transform( X[['Antiguedad_en_meses']].values )\n",
    "joblib.dump(mms, 'parameter/Antiguedad_en_meses.gz')\n",
    "X['Max_dias_mora'] = mms.fit_transform( X[['Max_dias_mora']].values )\n",
    "joblib.dump(mms, 'parameter/Max_dias_mora.gz')\n",
    "X['Edad'] = mms.fit_transform( X[['Edad']].values )\n",
    "joblib.dump(mms, 'parameter/Edad.gz')\n",
    "X['plazo_dias'] = mms.fit_transform( X[['plazo_dias']].values )\n",
    "joblib.dump(mms, 'parameter/plazo_dias.gz')\n",
    "X['mes_ult_desembolso'] = mms.fit_transform( X[['mes_ult_desembolso']].values )\n",
    "joblib.dump(mms, 'parameter/mes_ult_desembolso.gz')\n",
    "# X['semana_ult_desembolso'] = mms.fit_transform( X[['semana_ult_desembolso']].values )"
   ]
  },
  {
   "cell_type": "code",
   "execution_count": null,
   "id": "3173a927",
   "metadata": {
    "ExecuteTime": {
     "end_time": "2022-04-07T00:11:28.333296Z",
     "start_time": "2022-04-07T00:11:28.296254Z"
    }
   },
   "outputs": [],
   "source": [
    "joblib.load('parameter/Patrimonio.gz').fit_transform(X[['Patrimonio']].values)"
   ]
  },
  {
   "cell_type": "code",
   "execution_count": null,
   "id": "dd48c9a3",
   "metadata": {
    "ExecuteTime": {
     "end_time": "2022-04-07T01:25:48.383246Z",
     "start_time": "2022-04-07T01:25:48.362210Z"
    }
   },
   "outputs": [],
   "source": [
    "test = open('parameter/Patrimonio.gz', 'rb')\n",
    "joblib.load(test)#.fit_transform( X[['Patrimonio']].values )"
   ]
  },
  {
   "cell_type": "code",
   "execution_count": null,
   "id": "5069b854",
   "metadata": {
    "ExecuteTime": {
     "end_time": "2022-04-06T22:19:52.301963Z",
     "start_time": "2022-04-06T22:19:52.277005Z"
    }
   },
   "outputs": [],
   "source": [
    "X.head().T"
   ]
  },
  {
   "cell_type": "code",
   "execution_count": null,
   "id": "dcb680bc",
   "metadata": {
    "ExecuteTime": {
     "end_time": "2022-04-06T21:29:49.453285Z",
     "start_time": "2022-04-06T21:29:49.414459Z"
    }
   },
   "outputs": [],
   "source": [
    "y_xgb = classifier2.predict(X)\n",
    "y_xgb_proba = classifier2.predict_proba(X)\n",
    "nueva = nueva.join(pd.DataFrame(y_xgb_proba))\n",
    "# nueva = nueva.join(pd.DataFrame(y_xgb))"
   ]
  },
  {
   "cell_type": "code",
   "execution_count": null,
   "id": "68360632",
   "metadata": {},
   "outputs": [],
   "source": []
  },
  {
   "cell_type": "code",
   "execution_count": null,
   "id": "d5e914af",
   "metadata": {
    "ExecuteTime": {
     "end_time": "2022-04-06T21:29:50.814711Z",
     "start_time": "2022-04-06T21:29:50.799084Z"
    }
   },
   "outputs": [],
   "source": [
    "pd.DataFrame(y_xgb).rename(columns = {0:'Aceptará Campaña'}).value_counts('Aceptará Campaña')"
   ]
  },
  {
   "cell_type": "code",
   "execution_count": null,
   "id": "c62fc644",
   "metadata": {
    "ExecuteTime": {
     "end_time": "2022-04-06T21:29:54.085580Z",
     "start_time": "2022-04-06T21:29:54.074579Z"
    }
   },
   "outputs": [],
   "source": [
    "nueva = nueva.rename(columns={0:'Prob_no_aceptar',1:'Prob_aceptar'})"
   ]
  },
  {
   "cell_type": "code",
   "execution_count": null,
   "id": "c94ab774",
   "metadata": {
    "ExecuteTime": {
     "end_time": "2022-04-06T21:29:55.420506Z",
     "start_time": "2022-04-06T21:29:55.367101Z"
    },
    "scrolled": true
   },
   "outputs": [],
   "source": [
    "nueva.sort_values('Prob_aceptar', ascending = False)"
   ]
  },
  {
   "cell_type": "code",
   "execution_count": null,
   "id": "647ad0a4",
   "metadata": {},
   "outputs": [],
   "source": []
  }
 ],
 "metadata": {
  "kernelspec": {
   "display_name": "Python 3 (ipykernel)",
   "language": "python",
   "name": "python3"
  },
  "language_info": {
   "codemirror_mode": {
    "name": "ipython",
    "version": 3
   },
   "file_extension": ".py",
   "mimetype": "text/x-python",
   "name": "python",
   "nbconvert_exporter": "python",
   "pygments_lexer": "ipython3",
   "version": "3.9.7"
  },
  "toc": {
   "base_numbering": 1,
   "nav_menu": {},
   "number_sections": true,
   "sideBar": true,
   "skip_h1_title": false,
   "title_cell": "Table of Contents",
   "title_sidebar": "Contents",
   "toc_cell": false,
   "toc_position": {},
   "toc_section_display": true,
   "toc_window_display": false
  },
  "varInspector": {
   "cols": {
    "lenName": 16,
    "lenType": 16,
    "lenVar": 40
   },
   "kernels_config": {
    "python": {
     "delete_cmd_postfix": "",
     "delete_cmd_prefix": "del ",
     "library": "var_list.py",
     "varRefreshCmd": "print(var_dic_list())"
    },
    "r": {
     "delete_cmd_postfix": ") ",
     "delete_cmd_prefix": "rm(",
     "library": "var_list.r",
     "varRefreshCmd": "cat(var_dic_list()) "
    }
   },
   "types_to_exclude": [
    "module",
    "function",
    "builtin_function_or_method",
    "instance",
    "_Feature"
   ],
   "window_display": false
  }
 },
 "nbformat": 4,
 "nbformat_minor": 5
}
