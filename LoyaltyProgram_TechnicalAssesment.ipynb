{
 "cells": [
  {
   "cell_type": "markdown",
   "id": "7507d264",
   "metadata": {
    "ExecuteTime": {
     "end_time": "2022-04-04T00:21:31.968993Z",
     "start_time": "2022-04-04T00:21:31.724958Z"
    }
   },
   "source": [
    "# Technical Assesment\n",
    "Author: [Sébastien Lozano Forero](https://www.linkedin.com/in/sebastienlozanoforero/)\n",
    "\n",
    "April, 2022. \n",
    "\n",
    "This project is based on an technical assessment used by a Colombian bank to fill the position of Data Scientist. Data was modified shared in a modified version not containing any identification information. Currency within this project is set to Colombian pesos. "
   ]
  },
  {
   "cell_type": "markdown",
   "id": "d850e848",
   "metadata": {
    "ExecuteTime": {
     "end_time": "2022-04-03T17:47:24.040953Z",
     "start_time": "2022-04-03T17:47:24.034944Z"
    }
   },
   "source": [
    "# Loading libraries"
   ]
  },
  {
   "cell_type": "code",
   "execution_count": 2,
   "id": "2c6b5509",
   "metadata": {
    "ExecuteTime": {
     "end_time": "2022-04-04T21:00:45.336664Z",
     "start_time": "2022-04-04T21:00:45.308658Z"
    }
   },
   "outputs": [],
   "source": [
    "import pandas as pd\n",
    "import matplotlib.pyplot as plt\n",
    "import numpy as np\n",
    "%matplotlib inline\n",
    "import seaborn as sns\n",
    "import xgboost as xgb\n",
    "\n",
    "from matplotlib import colors\n",
    "from matplotlib.ticker import PercentFormatter\n",
    "from pandas_profiling import ProfileReport\n",
    "\n",
    "\n",
    "from bayes_opt import BayesianOptimization\n",
    "from sklearn.metrics import mean_squared_error\n",
    "from sklearn.neighbors import KNeighborsClassifier\n",
    "from sklearn.dummy import DummyClassifier\n",
    "from sklearn.naive_bayes import GaussianNB\n",
    "from sklearn.linear_model import LogisticRegression\n",
    "from sklearn import datasets, metrics, model_selection, svm\n",
    "from sklearn.metrics import plot_roc_curve\n",
    "from sklearn.model_selection import cross_val_score\n",
    "from sklearn.ensemble import RandomForestClassifier\n",
    "from sklearn.metrics import confusion_matrix\n",
    "from sklearn.model_selection import train_test_split\n",
    "from sklearn.ensemble import RandomForestRegressor\n",
    "from sklearn.preprocessing import MinMaxScaler\n",
    "# from boruta import BorutaPy"
   ]
  },
  {
   "cell_type": "markdown",
   "id": "bfd4ecd8",
   "metadata": {
    "ExecuteTime": {
     "end_time": "2022-04-03T17:47:39.585379Z",
     "start_time": "2022-04-03T17:47:39.579368Z"
    }
   },
   "source": [
    "# Data Loading"
   ]
  },
  {
   "cell_type": "code",
   "execution_count": 3,
   "id": "139958c6",
   "metadata": {
    "ExecuteTime": {
     "end_time": "2022-04-04T21:00:47.407179Z",
     "start_time": "2022-04-04T21:00:47.358219Z"
    },
    "scrolled": true
   },
   "outputs": [],
   "source": [
    "data = pd.read_csv('Base_campana_DC.csv',encoding = \"ISO-8859-1\", sep =';',parse_dates=['fecha_ult_desembolso'], \n",
    "                  dtype = {\n",
    "                      'Id_Cliente':str,\n",
    "                      'Ciudad':str,\n",
    "                      ' Patrimonio ':int,\n",
    "                      ' Ingresos_Mensuales ':int,\n",
    "                      'No_hijos':int,\n",
    "                      'oficina':str,\n",
    "                      'monto_credito':int,\n",
    "                      'tasa':float,\n",
    "                      'saldo_capital':int,\n",
    "                      'Antiguedad_en_meses':int,\n",
    "                      'Max_dias_mora':int,\n",
    "                      'plazo_dias':int,\n",
    "                      'Edad':int,\n",
    "                      'Acepta_Campaña':str,\n",
    "                  })\n"
   ]
  },
  {
   "cell_type": "markdown",
   "id": "29e7c7bf",
   "metadata": {
    "ExecuteTime": {
     "end_time": "2022-04-03T17:48:04.685498Z",
     "start_time": "2022-04-03T17:48:04.677486Z"
    }
   },
   "source": [
    "## Checking variables names"
   ]
  },
  {
   "cell_type": "code",
   "execution_count": 4,
   "id": "cacd8889",
   "metadata": {
    "ExecuteTime": {
     "end_time": "2022-04-04T21:00:49.942755Z",
     "start_time": "2022-04-04T21:00:49.915794Z"
    }
   },
   "outputs": [
    {
     "data": {
      "text/plain": [
       "Index(['Id_Cliente', 'Ciudad', ' Patrimonio ', ' Ingresos_Mensuales ',\n",
       "       'No_hijos', 'oficina', 'fecha_ult_desembolso', 'monto_credito', 'tasa',\n",
       "       'saldo_capital', 'saldo_Ahorro', 'Antiguedad_en_meses', 'Max_dias_mora',\n",
       "       'plazo_dias', 'Edad', 'Acepta_Campaña'],\n",
       "      dtype='object')"
      ]
     },
     "execution_count": 4,
     "metadata": {},
     "output_type": "execute_result"
    }
   ],
   "source": [
    "data.columns"
   ]
  },
  {
   "cell_type": "code",
   "execution_count": 5,
   "id": "e944929b",
   "metadata": {
    "ExecuteTime": {
     "end_time": "2022-04-04T21:00:50.621865Z",
     "start_time": "2022-04-04T21:00:50.610908Z"
    }
   },
   "outputs": [],
   "source": [
    "data = data.rename(columns = {' Ingresos_Mensuales ':'Ingresos_Mensuales',\n",
    "                              ' Patrimonio ':'Patrimonio'})"
   ]
  },
  {
   "cell_type": "markdown",
   "id": "f462a77e",
   "metadata": {},
   "source": [
    "## Chequing Data types"
   ]
  },
  {
   "cell_type": "code",
   "execution_count": 6,
   "id": "74dbe8fb",
   "metadata": {
    "ExecuteTime": {
     "end_time": "2022-04-04T21:00:51.234040Z",
     "start_time": "2022-04-04T21:00:51.217043Z"
    }
   },
   "outputs": [
    {
     "data": {
      "text/plain": [
       "Id_Cliente                      object\n",
       "Ciudad                          object\n",
       "Patrimonio                       int32\n",
       "Ingresos_Mensuales               int32\n",
       "No_hijos                         int32\n",
       "oficina                         object\n",
       "fecha_ult_desembolso    datetime64[ns]\n",
       "monto_credito                    int32\n",
       "tasa                           float64\n",
       "saldo_capital                    int32\n",
       "saldo_Ahorro                     int64\n",
       "Antiguedad_en_meses              int32\n",
       "Max_dias_mora                    int32\n",
       "plazo_dias                       int32\n",
       "Edad                             int32\n",
       "Acepta_Campaña                  object\n",
       "dtype: object"
      ]
     },
     "execution_count": 6,
     "metadata": {},
     "output_type": "execute_result"
    }
   ],
   "source": [
    "data.dtypes"
   ]
  },
  {
   "cell_type": "markdown",
   "id": "0ae1e06b",
   "metadata": {},
   "source": [
    "# Exploratory and Descriptiva Analysis (EDA)"
   ]
  },
  {
   "cell_type": "code",
   "execution_count": 7,
   "id": "3c0cf233",
   "metadata": {
    "ExecuteTime": {
     "end_time": "2022-04-04T21:00:52.050072Z",
     "start_time": "2022-04-04T21:00:52.044035Z"
    }
   },
   "outputs": [],
   "source": [
    "# prof = ProfileReport(data)\n",
    "# prof.to_file(output_file='output.html')"
   ]
  },
  {
   "cell_type": "code",
   "execution_count": 8,
   "id": "f64a461e",
   "metadata": {
    "ExecuteTime": {
     "end_time": "2022-04-04T21:00:52.743085Z",
     "start_time": "2022-04-04T21:00:52.733125Z"
    }
   },
   "outputs": [],
   "source": [
    "num_attributes = data.select_dtypes( include=['int32', 'float64'] )\n",
    "cat_attributes = data.select_dtypes( exclude=['int32', 'float64', 'datetime64[ns]'] )"
   ]
  },
  {
   "cell_type": "code",
   "execution_count": 9,
   "id": "0c6eb9a3",
   "metadata": {
    "ExecuteTime": {
     "end_time": "2022-04-04T21:00:53.213582Z",
     "start_time": "2022-04-04T21:00:53.205545Z"
    }
   },
   "outputs": [],
   "source": [
    "# sns.pairplot(num_attributes)"
   ]
  },
  {
   "cell_type": "code",
   "execution_count": 10,
   "id": "44c3f0a5",
   "metadata": {
    "ExecuteTime": {
     "end_time": "2022-04-04T21:00:53.624544Z",
     "start_time": "2022-04-04T21:00:53.595546Z"
    }
   },
   "outputs": [
    {
     "name": "stderr",
     "output_type": "stream",
     "text": [
      "C:\\Users\\Windows\\AppData\\Local\\Temp/ipykernel_9512/1843789318.py:2: FutureWarning: Series.dt.weekofyear and Series.dt.week have been deprecated.  Please use Series.dt.isocalendar().week instead.\n",
      "  data['semana_ult_desembolso'] = data['fecha_ult_desembolso'].dt.weekofyear\n"
     ]
    }
   ],
   "source": [
    "data['mes_ult_desembolso'] = data['fecha_ult_desembolso'].dt.month\n",
    "data['semana_ult_desembolso'] = data['fecha_ult_desembolso'].dt.weekofyear"
   ]
  },
  {
   "cell_type": "markdown",
   "id": "d62bab77",
   "metadata": {},
   "source": [
    "## Data Filtering"
   ]
  },
  {
   "cell_type": "code",
   "execution_count": 11,
   "id": "e0b95c5b",
   "metadata": {
    "ExecuteTime": {
     "end_time": "2022-04-04T21:00:54.316242Z",
     "start_time": "2022-04-04T21:00:54.278248Z"
    },
    "scrolled": true
   },
   "outputs": [
    {
     "data": {
      "text/plain": [
       "0    932\n",
       "2    872\n",
       "1    816\n",
       "3      7\n",
       "4      1\n",
       "Name: No_hijos, dtype: int64"
      ]
     },
     "execution_count": 11,
     "metadata": {},
     "output_type": "execute_result"
    }
   ],
   "source": [
    "data['No_hijos'].value_counts()"
   ]
  },
  {
   "cell_type": "markdown",
   "id": "e06ca198",
   "metadata": {
    "ExecuteTime": {
     "end_time": "2022-04-03T18:36:41.546449Z",
     "start_time": "2022-04-03T18:36:41.537448Z"
    }
   },
   "source": [
    "Queremos filtrar valores muy altos en ingresos o números de hijos (hay un cliente con ingresos de 26 millones al mes y cuatro hijos)."
   ]
  },
  {
   "cell_type": "code",
   "execution_count": 12,
   "id": "c5556215",
   "metadata": {
    "ExecuteTime": {
     "end_time": "2022-04-04T21:00:56.109990Z",
     "start_time": "2022-04-04T21:00:56.097988Z"
    }
   },
   "outputs": [],
   "source": [
    "data = data[(data['Ingresos_Mensuales'] != data['Ingresos_Mensuales'].max())&\n",
    "            (data['No_hijos'] <3)]"
   ]
  },
  {
   "cell_type": "markdown",
   "id": "657b12a6",
   "metadata": {},
   "source": [
    "## Data preparation"
   ]
  },
  {
   "cell_type": "code",
   "execution_count": 13,
   "id": "20b1fb10",
   "metadata": {
    "ExecuteTime": {
     "end_time": "2022-04-04T21:00:57.042988Z",
     "start_time": "2022-04-04T21:00:57.026988Z"
    }
   },
   "outputs": [
    {
     "data": {
      "text/plain": [
       "Index(['Id_Cliente', 'Ciudad', 'Patrimonio', 'Ingresos_Mensuales', 'No_hijos',\n",
       "       'oficina', 'fecha_ult_desembolso', 'monto_credito', 'tasa',\n",
       "       'saldo_capital', 'saldo_Ahorro', 'Antiguedad_en_meses', 'Max_dias_mora',\n",
       "       'plazo_dias', 'Edad', 'Acepta_Campaña', 'mes_ult_desembolso',\n",
       "       'semana_ult_desembolso'],\n",
       "      dtype='object')"
      ]
     },
     "execution_count": 13,
     "metadata": {},
     "output_type": "execute_result"
    }
   ],
   "source": [
    "data.columns"
   ]
  },
  {
   "cell_type": "code",
   "execution_count": 14,
   "id": "51d363b0",
   "metadata": {
    "ExecuteTime": {
     "end_time": "2022-04-04T21:00:57.434987Z",
     "start_time": "2022-04-04T21:00:57.422988Z"
    }
   },
   "outputs": [],
   "source": [
    "X = data[[ 'Patrimonio', 'Ingresos_Mensuales', 'No_hijos',\n",
    "       'fecha_ult_desembolso', 'monto_credito', 'tasa',\n",
    "       'saldo_capital', 'saldo_Ahorro', 'Antiguedad_en_meses', 'Max_dias_mora',\n",
    "       'plazo_dias', 'Edad', 'mes_ult_desembolso']]\n",
    "y  = data['Acepta_Campaña']"
   ]
  },
  {
   "cell_type": "code",
   "execution_count": 15,
   "id": "463eae86",
   "metadata": {
    "ExecuteTime": {
     "end_time": "2022-04-04T21:00:57.889989Z",
     "start_time": "2022-04-04T21:00:57.845988Z"
    }
   },
   "outputs": [],
   "source": [
    "ciudad = pd.get_dummies(data['Ciudad'], prefix='C')"
   ]
  },
  {
   "cell_type": "code",
   "execution_count": 16,
   "id": "43bae6aa",
   "metadata": {
    "ExecuteTime": {
     "end_time": "2022-04-04T21:00:58.232017Z",
     "start_time": "2022-04-04T21:00:58.219988Z"
    }
   },
   "outputs": [],
   "source": [
    "X= X.join(ciudad)"
   ]
  },
  {
   "cell_type": "code",
   "execution_count": 17,
   "id": "27791a93",
   "metadata": {
    "ExecuteTime": {
     "end_time": "2022-04-04T21:00:58.657988Z",
     "start_time": "2022-04-04T21:00:58.582989Z"
    }
   },
   "outputs": [],
   "source": [
    "mms = MinMaxScaler()\n",
    "\n",
    "X['Patrimonio'] = mms.fit_transform( X[['Patrimonio']].values )\n",
    "X['Ingresos_Mensuales'] = mms.fit_transform( X[['Ingresos_Mensuales']].values )\n",
    "X['No_hijos'] = mms.fit_transform( X[['No_hijos']].values )\n",
    "X['fecha_ult_desembolso'] = mms.fit_transform( X[['fecha_ult_desembolso']].values )\n",
    "X['monto_credito'] = mms.fit_transform( X[['monto_credito']].values )\n",
    "X['tasa'] = mms.fit_transform( X[['tasa']].values )\n",
    "X['saldo_capital'] = mms.fit_transform( X[['saldo_capital']].values )\n",
    "X['saldo_Ahorro'] = mms.fit_transform( X[['saldo_Ahorro']].values )\n",
    "X['Antiguedad_en_meses'] = mms.fit_transform( X[['Antiguedad_en_meses']].values )\n",
    "X['Max_dias_mora'] = mms.fit_transform( X[['Max_dias_mora']].values )\n",
    "X['Edad'] = mms.fit_transform( X[['Edad']].values )\n",
    "X['plazo_dias'] = mms.fit_transform( X[['plazo_dias']].values )\n",
    "X['mes_ult_desembolso'] = mms.fit_transform( X[['mes_ult_desembolso']].values )\n",
    "# X['semana_ult_desembolso'] = mms.fit_transform( X[['semana_ult_desembolso']].values )"
   ]
  },
  {
   "cell_type": "markdown",
   "id": "046aa0dc",
   "metadata": {
    "ExecuteTime": {
     "end_time": "2022-04-03T19:03:58.775214Z",
     "start_time": "2022-04-03T19:03:58.760213Z"
    }
   },
   "source": [
    "# Machine Learning model "
   ]
  },
  {
   "cell_type": "markdown",
   "id": "3e429e7a",
   "metadata": {},
   "source": [
    "## Data Splitting"
   ]
  },
  {
   "cell_type": "code",
   "execution_count": 18,
   "id": "2dae84bc",
   "metadata": {
    "ExecuteTime": {
     "end_time": "2022-04-04T21:00:59.024016Z",
     "start_time": "2022-04-04T21:00:59.011988Z"
    }
   },
   "outputs": [],
   "source": [
    " X_train, X_test, y_train, y_test = train_test_split(X, y, test_size=0.25, random_state=42)"
   ]
  },
  {
   "cell_type": "markdown",
   "id": "80a77eb2",
   "metadata": {},
   "source": [
    "## Baseline Clasiffier"
   ]
  },
  {
   "cell_type": "code",
   "execution_count": 19,
   "id": "7c6df54f",
   "metadata": {
    "ExecuteTime": {
     "end_time": "2022-04-04T21:00:59.656630Z",
     "start_time": "2022-04-04T21:00:59.643627Z"
    }
   },
   "outputs": [],
   "source": [
    "dummy_clf = DummyClassifier(random_state=42).fit(X_train, y_train)\n",
    "y_pred_clf = dummy_clf.predict(X_test)"
   ]
  },
  {
   "cell_type": "code",
   "execution_count": 20,
   "id": "86a544f5",
   "metadata": {
    "ExecuteTime": {
     "end_time": "2022-04-04T21:01:00.284624Z",
     "start_time": "2022-04-04T21:01:00.274620Z"
    }
   },
   "outputs": [
    {
     "name": "stdout",
     "output_type": "stream",
     "text": [
      "[[324   0]\n",
      " [331   0]]\n"
     ]
    }
   ],
   "source": [
    "cf_matrix = confusion_matrix(y_test, y_pred_clf)\n",
    "\n",
    "print(cf_matrix)"
   ]
  },
  {
   "cell_type": "code",
   "execution_count": 21,
   "id": "18ace0b1",
   "metadata": {
    "ExecuteTime": {
     "end_time": "2022-04-04T21:01:01.068617Z",
     "start_time": "2022-04-04T21:01:00.794619Z"
    }
   },
   "outputs": [
    {
     "data": {
      "image/png": "[encoded data removed]",
      "text/plain": [
       "<Figure size 432x288 with 2 Axes>"
      ]
     },
     "metadata": {
      "needs_background": "light"
     },
     "output_type": "display_data"
    }
   ],
   "source": [
    "ax = sns.heatmap(cf_matrix/np.sum(cf_matrix), annot=True, \n",
    "            fmt='.2%', cmap='Blues')\n",
    "\n",
    "ax.set_title('Matriz de confusión Clasificador Aleatorio\\n\\n');\n",
    "ax.set_xlabel('\\n Valores predichos ')\n",
    "ax.set_ylabel('Valores observados ');\n",
    "\n",
    "## Ticket labels - List must be in alphabetical order\n",
    "ax.xaxis.set_ticklabels(['False','True'])\n",
    "ax.yaxis.set_ticklabels(['False','True'])\n",
    "\n",
    "## Display the visualization of the Confusion Matrix.\n",
    "plt.show()"
   ]
  },
  {
   "cell_type": "code",
   "execution_count": 22,
   "id": "1c8dd55e",
   "metadata": {
    "ExecuteTime": {
     "end_time": "2022-04-04T21:01:01.699656Z",
     "start_time": "2022-04-04T21:01:01.528620Z"
    }
   },
   "outputs": [
    {
     "data": {
      "text/plain": [
       "<sklearn.metrics._plot.roc_curve.RocCurveDisplay at 0x254c43e3970>"
      ]
     },
     "execution_count": 22,
     "metadata": {},
     "output_type": "execute_result"
    },
    {
     "data": {
      "image/png": "[encoded data removed]",
      "text/plain": [
       "<Figure size 432x288 with 1 Axes>"
      ]
     },
     "metadata": {
      "needs_background": "light"
     },
     "output_type": "display_data"
    }
   ],
   "source": [
    "metrics.plot_roc_curve(dummy_clf, X_test, y_test) "
   ]
  },
  {
   "cell_type": "code",
   "execution_count": 23,
   "id": "ca67c507",
   "metadata": {
    "ExecuteTime": {
     "end_time": "2022-04-04T21:01:02.222619Z",
     "start_time": "2022-04-04T21:01:02.161618Z"
    }
   },
   "outputs": [
    {
     "name": "stdout",
     "output_type": "stream",
     "text": [
      "Puntajes obtenidos: [0.50761421 0.50761421 0.50761421 0.50761421 0.51020408 0.51020408\n",
      " 0.51020408 0.51020408 0.50510204 0.50510204]\n",
      "Precisión de validación cruzada: 0.508 +/- 0.002\n"
     ]
    }
   ],
   "source": [
    "scores = cross_val_score(dummy_clf, X=X_train, y=y_train, cv=10, n_jobs=1)\n",
    " \n",
    "print('Puntajes obtenidos: %s' % scores)\n",
    "print('Precisión de validación cruzada: %.3f +/- %.3f' % (np.mean(scores),np.std(scores)))"
   ]
  },
  {
   "cell_type": "markdown",
   "id": "3cfa0fb5",
   "metadata": {},
   "source": [
    "## k-nearest neighbors \n"
   ]
  },
  {
   "cell_type": "code",
   "execution_count": 24,
   "id": "738bd44d",
   "metadata": {
    "ExecuteTime": {
     "end_time": "2022-04-04T21:01:02.771629Z",
     "start_time": "2022-04-04T21:01:02.696619Z"
    }
   },
   "outputs": [],
   "source": [
    "dummy_KNN = KNeighborsClassifier(n_neighbors=3).fit(X_train, y_train)\n",
    "y_pred_knn = dummy_KNN.predict(X_test)"
   ]
  },
  {
   "cell_type": "code",
   "execution_count": 25,
   "id": "12fc3709",
   "metadata": {
    "ExecuteTime": {
     "end_time": "2022-04-04T21:01:03.262621Z",
     "start_time": "2022-04-04T21:01:03.248619Z"
    }
   },
   "outputs": [
    {
     "name": "stdout",
     "output_type": "stream",
     "text": [
      "[[258  66]\n",
      " [ 70 261]]\n"
     ]
    }
   ],
   "source": [
    "cf_matrix = confusion_matrix(y_test, y_pred_knn)\n",
    "\n",
    "print(cf_matrix)"
   ]
  },
  {
   "cell_type": "code",
   "execution_count": 26,
   "id": "ede7fa79",
   "metadata": {
    "ExecuteTime": {
     "end_time": "2022-04-04T21:01:03.995626Z",
     "start_time": "2022-04-04T21:01:03.765636Z"
    }
   },
   "outputs": [
    {
     "data": {
      "image/png": "[encoded data removed]",
      "text/plain": [
       "<Figure size 432x288 with 2 Axes>"
      ]
     },
     "metadata": {
      "needs_background": "light"
     },
     "output_type": "display_data"
    }
   ],
   "source": [
    "ax = sns.heatmap(cf_matrix/np.sum(cf_matrix), annot=True, \n",
    "            fmt='.2%', cmap='Blues')\n",
    "\n",
    "ax.set_title('Matriz de confusión Regresión Logística\\n\\n');\n",
    "ax.set_xlabel('\\n Valores predichos ')\n",
    "ax.set_ylabel('Valores observados ');\n",
    "\n",
    "## Ticket labels - List must be in alphabetical order\n",
    "ax.xaxis.set_ticklabels(['False','True'])\n",
    "ax.yaxis.set_ticklabels(['False','True'])\n",
    "\n",
    "## Display the visualization of the Confusion Matrix.\n",
    "plt.show()"
   ]
  },
  {
   "cell_type": "code",
   "execution_count": 27,
   "id": "4a3df3c2",
   "metadata": {
    "ExecuteTime": {
     "end_time": "2022-04-04T21:01:04.817617Z",
     "start_time": "2022-04-04T21:01:04.467621Z"
    }
   },
   "outputs": [
    {
     "data": {
      "text/plain": [
       "<sklearn.metrics._plot.roc_curve.RocCurveDisplay at 0x254c64db1f0>"
      ]
     },
     "execution_count": 27,
     "metadata": {},
     "output_type": "execute_result"
    },
    {
     "data": {
      "image/png": "[encoded data removed]",
      "text/plain": [
       "<Figure size 432x288 with 1 Axes>"
      ]
     },
     "metadata": {
      "needs_background": "light"
     },
     "output_type": "display_data"
    }
   ],
   "source": [
    "metrics.plot_roc_curve(dummy_KNN, X_test, y_test) "
   ]
  },
  {
   "cell_type": "code",
   "execution_count": 28,
   "id": "89e3e1bb",
   "metadata": {
    "ExecuteTime": {
     "end_time": "2022-04-04T21:01:05.573625Z",
     "start_time": "2022-04-04T21:01:05.295619Z"
    }
   },
   "outputs": [
    {
     "name": "stdout",
     "output_type": "stream",
     "text": [
      "Puntajes obtenidos: [0.79695431 0.76649746 0.79187817 0.79187817 0.75510204 0.75510204\n",
      " 0.80612245 0.74489796 0.76020408 0.76530612]\n",
      "Precisión de validación cruzada: 0.773 +/- 0.020\n"
     ]
    }
   ],
   "source": [
    "scores = cross_val_score(dummy_KNN, X=X_train, y=y_train, cv=10, n_jobs=1)\n",
    " \n",
    "print('Puntajes obtenidos: %s' % scores)\n",
    "print('Precisión de validación cruzada: %.3f +/- %.3f' % (np.mean(scores),np.std(scores)))"
   ]
  },
  {
   "cell_type": "markdown",
   "id": "dd5cd628",
   "metadata": {},
   "source": [
    "## Logistic Regression"
   ]
  },
  {
   "cell_type": "code",
   "execution_count": 29,
   "id": "2e78603e",
   "metadata": {
    "ExecuteTime": {
     "end_time": "2022-04-04T21:01:06.265616Z",
     "start_time": "2022-04-04T21:01:06.127620Z"
    }
   },
   "outputs": [],
   "source": [
    "reg_log = LogisticRegression(random_state=0).fit(X_train, y_train)\n",
    "y_pred_reg_log = reg_log.predict(X_test)"
   ]
  },
  {
   "cell_type": "code",
   "execution_count": 30,
   "id": "1df7de32",
   "metadata": {
    "ExecuteTime": {
     "end_time": "2022-04-04T21:01:06.801618Z",
     "start_time": "2022-04-04T21:01:06.789620Z"
    }
   },
   "outputs": [
    {
     "name": "stdout",
     "output_type": "stream",
     "text": [
      "[[208 116]\n",
      " [130 201]]\n"
     ]
    }
   ],
   "source": [
    "cf_matrix = confusion_matrix(y_test, y_pred_reg_log)\n",
    "\n",
    "print(cf_matrix)"
   ]
  },
  {
   "cell_type": "code",
   "execution_count": 31,
   "id": "86216725",
   "metadata": {
    "ExecuteTime": {
     "end_time": "2022-04-04T21:01:07.540656Z",
     "start_time": "2022-04-04T21:01:07.292620Z"
    },
    "scrolled": false
   },
   "outputs": [
    {
     "data": {
      "image/png": "[encoded data removed]",
      "text/plain": [
       "<Figure size 432x288 with 2 Axes>"
      ]
     },
     "metadata": {
      "needs_background": "light"
     },
     "output_type": "display_data"
    }
   ],
   "source": [
    "ax = sns.heatmap(cf_matrix/np.sum(cf_matrix), annot=True, \n",
    "            fmt='.2%', cmap='Blues')\n",
    "\n",
    "ax.set_title('Matriz de confusión Regresión Logística\\n\\n');\n",
    "ax.set_xlabel('\\n Valores predichos ')\n",
    "ax.set_ylabel('Valores observados ');\n",
    "\n",
    "## Ticket labels - List must be in alphabetical order\n",
    "ax.xaxis.set_ticklabels(['False','True'])\n",
    "ax.yaxis.set_ticklabels(['False','True'])\n",
    "\n",
    "## Display the visualization of the Confusion Matrix.\n",
    "plt.show()"
   ]
  },
  {
   "cell_type": "code",
   "execution_count": 32,
   "id": "d1f85c96",
   "metadata": {
    "ExecuteTime": {
     "end_time": "2022-04-04T21:01:08.232656Z",
     "start_time": "2022-04-04T21:01:08.062620Z"
    }
   },
   "outputs": [
    {
     "data": {
      "text/plain": [
       "<sklearn.metrics._plot.roc_curve.RocCurveDisplay at 0x254c670db20>"
      ]
     },
     "execution_count": 32,
     "metadata": {},
     "output_type": "execute_result"
    },
    {
     "data": {
      "image/png": "[encoded data removed]",
      "text/plain": [
       "<Figure size 432x288 with 1 Axes>"
      ]
     },
     "metadata": {
      "needs_background": "light"
     },
     "output_type": "display_data"
    }
   ],
   "source": [
    "metrics.plot_roc_curve(reg_log, X_test, y_test) "
   ]
  },
  {
   "cell_type": "code",
   "execution_count": 33,
   "id": "c6bc0450",
   "metadata": {
    "ExecuteTime": {
     "end_time": "2022-04-04T21:01:09.317175Z",
     "start_time": "2022-04-04T21:01:08.832620Z"
    }
   },
   "outputs": [
    {
     "name": "stdout",
     "output_type": "stream",
     "text": [
      "Puntajes obtenidos: [0.69543147 0.65482234 0.63451777 0.65989848 0.62755102 0.69387755\n",
      " 0.69387755 0.64285714 0.64285714 0.6122449 ]\n",
      "Precisión de validación cruzada: 0.656 +/- 0.028\n"
     ]
    }
   ],
   "source": [
    "scores = cross_val_score(reg_log, X=X_train, y=y_train, cv=10, n_jobs=1)\n",
    " \n",
    "print('Puntajes obtenidos: %s' % scores)\n",
    "print('Precisión de validación cruzada: %.3f +/- %.3f' % (np.mean(scores),np.std(scores)))"
   ]
  },
  {
   "cell_type": "markdown",
   "id": "7c2bc5fd",
   "metadata": {},
   "source": [
    "## Random Forest"
   ]
  },
  {
   "cell_type": "code",
   "execution_count": 34,
   "id": "d33cbcbb",
   "metadata": {
    "ExecuteTime": {
     "end_time": "2022-04-04T21:01:10.083723Z",
     "start_time": "2022-04-04T21:01:09.774180Z"
    }
   },
   "outputs": [],
   "source": [
    "rf =RandomForestClassifier(max_depth=2, random_state=0).fit( X_train, y_train )\n",
    "\n",
    "# prediction\n",
    "y_pred_rf = rf.predict( X_test)"
   ]
  },
  {
   "cell_type": "code",
   "execution_count": 35,
   "id": "7aa2b75a",
   "metadata": {
    "ExecuteTime": {
     "end_time": "2022-04-04T21:01:10.585208Z",
     "start_time": "2022-04-04T21:01:10.571106Z"
    }
   },
   "outputs": [
    {
     "name": "stdout",
     "output_type": "stream",
     "text": [
      "[[219 105]\n",
      " [ 84 247]]\n"
     ]
    }
   ],
   "source": [
    "cf_matrix = confusion_matrix(y_test, y_pred_rf)\n",
    "\n",
    "print(cf_matrix)"
   ]
  },
  {
   "cell_type": "code",
   "execution_count": 36,
   "id": "7ed01da3",
   "metadata": {
    "ExecuteTime": {
     "end_time": "2022-04-04T21:01:11.228110Z",
     "start_time": "2022-04-04T21:01:11.043108Z"
    }
   },
   "outputs": [
    {
     "data": {
      "image/png": "[encoded data removed]",
      "text/plain": [
       "<Figure size 432x288 with 2 Axes>"
      ]
     },
     "metadata": {
      "needs_background": "light"
     },
     "output_type": "display_data"
    }
   ],
   "source": [
    "ax = sns.heatmap(cf_matrix/np.sum(cf_matrix), annot=True, \n",
    "            fmt='.2%', cmap='Blues')\n",
    "\n",
    "ax.set_title('Matriz de confusión Bosque Aleatorio\\n\\n');\n",
    "ax.set_xlabel('\\n Valores predichos ')\n",
    "ax.set_ylabel('Valores observados ');\n",
    "\n",
    "## Ticket labels - List must be in alphabetical order\n",
    "ax.xaxis.set_ticklabels(['False','True'])\n",
    "ax.yaxis.set_ticklabels(['False','True'])\n",
    "\n",
    "## Display the visualization of the Confusion Matrix.\n",
    "plt.show()"
   ]
  },
  {
   "cell_type": "code",
   "execution_count": 37,
   "id": "7d8556f3",
   "metadata": {
    "ExecuteTime": {
     "end_time": "2022-04-04T21:01:11.923106Z",
     "start_time": "2022-04-04T21:01:11.703111Z"
    }
   },
   "outputs": [
    {
     "data": {
      "text/plain": [
       "<sklearn.metrics._plot.roc_curve.RocCurveDisplay at 0x254c6920c10>"
      ]
     },
     "execution_count": 37,
     "metadata": {},
     "output_type": "execute_result"
    },
    {
     "data": {
      "image/png": "[encoded data removed]",
      "text/plain": [
       "<Figure size 432x288 with 1 Axes>"
      ]
     },
     "metadata": {
      "needs_background": "light"
     },
     "output_type": "display_data"
    }
   ],
   "source": [
    "metrics.plot_roc_curve(rf, X_test, y_test) "
   ]
  },
  {
   "cell_type": "code",
   "execution_count": 38,
   "id": "30a5d592",
   "metadata": {
    "ExecuteTime": {
     "end_time": "2022-04-04T21:01:15.561103Z",
     "start_time": "2022-04-04T21:01:12.447108Z"
    }
   },
   "outputs": [
    {
     "name": "stdout",
     "output_type": "stream",
     "text": [
      "Puntajes obtenidos: [0.73604061 0.70050761 0.73096447 0.69543147 0.73979592 0.71428571\n",
      " 0.73979592 0.66836735 0.72959184 0.70408163]\n",
      "Precisión de validación cruzada: 0.716 +/- 0.022\n"
     ]
    }
   ],
   "source": [
    "scores = cross_val_score(rf, X=X_train, y=y_train, cv=10, n_jobs=1)\n",
    " \n",
    "print('Puntajes obtenidos: %s' % scores)\n",
    "print('Precisión de validación cruzada: %.3f +/- %.3f' % (np.mean(scores),np.std(scores)))"
   ]
  },
  {
   "cell_type": "markdown",
   "id": "83c9785e",
   "metadata": {
    "ExecuteTime": {
     "end_time": "2022-04-03T20:38:27.619348Z",
     "start_time": "2022-04-03T20:38:27.612639Z"
    }
   },
   "source": [
    "## Naive Bayes"
   ]
  },
  {
   "cell_type": "code",
   "execution_count": 39,
   "id": "e95d45df",
   "metadata": {
    "ExecuteTime": {
     "end_time": "2022-04-04T21:01:16.418104Z",
     "start_time": "2022-04-04T21:01:16.388106Z"
    }
   },
   "outputs": [],
   "source": [
    "nb =GaussianNB().fit( X_train, y_train )\n",
    "\n",
    "# prediction\n",
    "y_pred_NB = nb.predict( X_test)"
   ]
  },
  {
   "cell_type": "code",
   "execution_count": 40,
   "id": "955b60eb",
   "metadata": {
    "ExecuteTime": {
     "end_time": "2022-04-04T21:01:16.986116Z",
     "start_time": "2022-04-04T21:01:16.975106Z"
    }
   },
   "outputs": [
    {
     "name": "stdout",
     "output_type": "stream",
     "text": [
      "[[196 128]\n",
      " [120 211]]\n"
     ]
    }
   ],
   "source": [
    "cf_matrix = confusion_matrix(y_test, y_pred_NB)\n",
    "\n",
    "print(cf_matrix)"
   ]
  },
  {
   "cell_type": "code",
   "execution_count": 41,
   "id": "cee28257",
   "metadata": {
    "ExecuteTime": {
     "end_time": "2022-04-04T21:01:17.725105Z",
     "start_time": "2022-04-04T21:01:17.524107Z"
    },
    "scrolled": true
   },
   "outputs": [
    {
     "data": {
      "image/png": "[encoded data removed]",
      "text/plain": [
       "<Figure size 432x288 with 2 Axes>"
      ]
     },
     "metadata": {
      "needs_background": "light"
     },
     "output_type": "display_data"
    }
   ],
   "source": [
    "ax = sns.heatmap(cf_matrix/np.sum(cf_matrix), annot=True, \n",
    "            fmt='.2%', cmap='Blues')\n",
    "\n",
    "ax.set_title('Matriz de confusión Naive Bayes\\n\\n');\n",
    "ax.set_xlabel('\\n Valores predichos ')\n",
    "ax.set_ylabel('Valores observados ');\n",
    "\n",
    "## Ticket labels - List must be in alphabetical order\n",
    "ax.xaxis.set_ticklabels(['False','True'])\n",
    "ax.yaxis.set_ticklabels(['False','True'])\n",
    "\n",
    "## Display the visualization of the Confusion Matrix.\n",
    "plt.show()"
   ]
  },
  {
   "cell_type": "code",
   "execution_count": 42,
   "id": "dfd348ba",
   "metadata": {
    "ExecuteTime": {
     "end_time": "2022-04-04T21:01:18.457149Z",
     "start_time": "2022-04-04T21:01:18.271110Z"
    }
   },
   "outputs": [
    {
     "data": {
      "text/plain": [
       "<sklearn.metrics._plot.roc_curve.RocCurveDisplay at 0x254c699faf0>"
      ]
     },
     "execution_count": 42,
     "metadata": {},
     "output_type": "execute_result"
    },
    {
     "data": {
      "image/png": "[encoded data removed]",
      "text/plain": [
       "<Figure size 432x288 with 1 Axes>"
      ]
     },
     "metadata": {
      "needs_background": "light"
     },
     "output_type": "display_data"
    }
   ],
   "source": [
    "metrics.plot_roc_curve(nb, X_test, y_test) "
   ]
  },
  {
   "cell_type": "code",
   "execution_count": 43,
   "id": "79cf3b41",
   "metadata": {
    "ExecuteTime": {
     "end_time": "2022-04-04T21:01:19.182106Z",
     "start_time": "2022-04-04T21:01:18.995108Z"
    }
   },
   "outputs": [
    {
     "name": "stdout",
     "output_type": "stream",
     "text": [
      "Puntajes obtenidos: [0.66497462 0.59390863 0.62436548 0.65482234 0.60204082 0.66836735\n",
      " 0.66326531 0.61734694 0.68367347 0.62755102]\n",
      "Precisión de validación cruzada: 0.640 +/- 0.029\n"
     ]
    }
   ],
   "source": [
    "scores = cross_val_score(nb, X=X_train, y=y_train, cv=10, n_jobs=1)\n",
    " \n",
    "print('Puntajes obtenidos: %s' % scores)\n",
    "print('Precisión de validación cruzada: %.3f +/- %.3f' % (np.mean(scores),np.std(scores)))"
   ]
  },
  {
   "cell_type": "markdown",
   "id": "2229e675",
   "metadata": {},
   "source": [
    "## XGBoost "
   ]
  },
  {
   "cell_type": "code",
   "execution_count": 44,
   "id": "b0123bb2",
   "metadata": {
    "ExecuteTime": {
     "end_time": "2022-04-04T21:01:20.332105Z",
     "start_time": "2022-04-04T21:01:19.787114Z"
    }
   },
   "outputs": [
    {
     "name": "stdout",
     "output_type": "stream",
     "text": [
      "[16:01:19] WARNING: C:/Users/Administrator/workspace/xgboost-win64_release_1.4.0/src/learner.cc:1095: Starting in XGBoost 1.3.0, the default evaluation metric used with the objective 'binary:logistic' was changed from 'error' to 'logloss'. Explicitly set eval_metric if you'd like to restore the old behavior.\n"
     ]
    },
    {
     "name": "stderr",
     "output_type": "stream",
     "text": [
      "C:\\Users\\Windows\\anaconda3\\lib\\site-packages\\xgboost\\sklearn.py:1146: UserWarning: The use of label encoder in XGBClassifier is deprecated and will be removed in a future release. To remove this warning, do the following: 1) Pass option use_label_encoder=False when constructing XGBClassifier object; and 2) Encode your labels (y) as integers starting with 0, i.e. 0, 1, 2, ..., [num_class - 1].\n",
      "  warnings.warn(label_encoder_deprecation_msg, UserWarning)\n"
     ]
    }
   ],
   "source": [
    "xgb_cl = xgb.XGBClassifier().fit( X_train, y_train )\n",
    "\n",
    "y_pred_xgb = xgb_cl.predict(X_test)"
   ]
  },
  {
   "cell_type": "code",
   "execution_count": 45,
   "id": "f709dc71",
   "metadata": {
    "ExecuteTime": {
     "end_time": "2022-04-04T21:01:21.303107Z",
     "start_time": "2022-04-04T21:01:21.279118Z"
    }
   },
   "outputs": [
    {
     "name": "stdout",
     "output_type": "stream",
     "text": [
      "[[284  40]\n",
      " [ 34 297]]\n"
     ]
    }
   ],
   "source": [
    "cf_matrix = confusion_matrix(y_test, y_pred_xgb)\n",
    "\n",
    "print(cf_matrix)"
   ]
  },
  {
   "cell_type": "code",
   "execution_count": 46,
   "id": "64aa2f2b",
   "metadata": {
    "ExecuteTime": {
     "end_time": "2022-04-04T21:01:22.263110Z",
     "start_time": "2022-04-04T21:01:22.029106Z"
    },
    "scrolled": true
   },
   "outputs": [
    {
     "data": {
      "image/png": "[encoded data removed]",
      "text/plain": [
       "<Figure size 432x288 with 2 Axes>"
      ]
     },
     "metadata": {
      "needs_background": "light"
     },
     "output_type": "display_data"
    }
   ],
   "source": [
    "ax = sns.heatmap(cf_matrix/np.sum(cf_matrix), annot=True, \n",
    "            fmt='.2%', cmap='Blues')\n",
    "\n",
    "ax.set_title('Matriz de confusión XGboost\\n\\n');\n",
    "ax.set_xlabel('\\n Valores predichos ')\n",
    "ax.set_ylabel('Valores observados ');\n",
    "\n",
    "## Ticket labels - List must be in alphabetical order\n",
    "ax.xaxis.set_ticklabels(['False','True'])\n",
    "ax.yaxis.set_ticklabels(['False','True'])\n",
    "\n",
    "## Display the visualization of the Confusion Matrix.\n",
    "plt.show()"
   ]
  },
  {
   "cell_type": "code",
   "execution_count": 47,
   "id": "4b0841ec",
   "metadata": {
    "ExecuteTime": {
     "end_time": "2022-04-04T21:01:23.018104Z",
     "start_time": "2022-04-04T21:01:22.813106Z"
    }
   },
   "outputs": [
    {
     "data": {
      "text/plain": [
       "<sklearn.metrics._plot.roc_curve.RocCurveDisplay at 0x254c692de50>"
      ]
     },
     "execution_count": 47,
     "metadata": {},
     "output_type": "execute_result"
    },
    {
     "data": {
      "image/png": "[encoded data removed]",
      "text/plain": [
       "<Figure size 432x288 with 1 Axes>"
      ]
     },
     "metadata": {
      "needs_background": "light"
     },
     "output_type": "display_data"
    }
   ],
   "source": [
    "metrics.plot_roc_curve(xgb_cl, X_test, y_test) "
   ]
  },
  {
   "cell_type": "code",
   "execution_count": 48,
   "id": "0e807052",
   "metadata": {
    "ExecuteTime": {
     "end_time": "2022-04-04T21:01:26.453106Z",
     "start_time": "2022-04-04T21:01:23.544111Z"
    },
    "scrolled": true
   },
   "outputs": [
    {
     "name": "stdout",
     "output_type": "stream",
     "text": [
      "[16:01:23] WARNING: C:/Users/Administrator/workspace/xgboost-win64_release_1.4.0/src/learner.cc:1095: Starting in XGBoost 1.3.0, the default evaluation metric used with the objective 'binary:logistic' was changed from 'error' to 'logloss'. Explicitly set eval_metric if you'd like to restore the old behavior.\n"
     ]
    },
    {
     "name": "stderr",
     "output_type": "stream",
     "text": [
      "C:\\Users\\Windows\\anaconda3\\lib\\site-packages\\xgboost\\sklearn.py:1146: UserWarning: The use of label encoder in XGBClassifier is deprecated and will be removed in a future release. To remove this warning, do the following: 1) Pass option use_label_encoder=False when constructing XGBClassifier object; and 2) Encode your labels (y) as integers starting with 0, i.e. 0, 1, 2, ..., [num_class - 1].\n",
      "  warnings.warn(label_encoder_deprecation_msg, UserWarning)\n",
      "C:\\Users\\Windows\\anaconda3\\lib\\site-packages\\xgboost\\sklearn.py:1146: UserWarning: The use of label encoder in XGBClassifier is deprecated and will be removed in a future release. To remove this warning, do the following: 1) Pass option use_label_encoder=False when constructing XGBClassifier object; and 2) Encode your labels (y) as integers starting with 0, i.e. 0, 1, 2, ..., [num_class - 1].\n",
      "  warnings.warn(label_encoder_deprecation_msg, UserWarning)\n"
     ]
    },
    {
     "name": "stdout",
     "output_type": "stream",
     "text": [
      "[16:01:23] WARNING: C:/Users/Administrator/workspace/xgboost-win64_release_1.4.0/src/learner.cc:1095: Starting in XGBoost 1.3.0, the default evaluation metric used with the objective 'binary:logistic' was changed from 'error' to 'logloss'. Explicitly set eval_metric if you'd like to restore the old behavior.\n"
     ]
    },
    {
     "name": "stderr",
     "output_type": "stream",
     "text": [
      "C:\\Users\\Windows\\anaconda3\\lib\\site-packages\\xgboost\\sklearn.py:1146: UserWarning: The use of label encoder in XGBClassifier is deprecated and will be removed in a future release. To remove this warning, do the following: 1) Pass option use_label_encoder=False when constructing XGBClassifier object; and 2) Encode your labels (y) as integers starting with 0, i.e. 0, 1, 2, ..., [num_class - 1].\n",
      "  warnings.warn(label_encoder_deprecation_msg, UserWarning)\n"
     ]
    },
    {
     "name": "stdout",
     "output_type": "stream",
     "text": [
      "[16:01:24] WARNING: C:/Users/Administrator/workspace/xgboost-win64_release_1.4.0/src/learner.cc:1095: Starting in XGBoost 1.3.0, the default evaluation metric used with the objective 'binary:logistic' was changed from 'error' to 'logloss'. Explicitly set eval_metric if you'd like to restore the old behavior.\n"
     ]
    },
    {
     "name": "stderr",
     "output_type": "stream",
     "text": [
      "C:\\Users\\Windows\\anaconda3\\lib\\site-packages\\xgboost\\sklearn.py:1146: UserWarning: The use of label encoder in XGBClassifier is deprecated and will be removed in a future release. To remove this warning, do the following: 1) Pass option use_label_encoder=False when constructing XGBClassifier object; and 2) Encode your labels (y) as integers starting with 0, i.e. 0, 1, 2, ..., [num_class - 1].\n",
      "  warnings.warn(label_encoder_deprecation_msg, UserWarning)\n"
     ]
    },
    {
     "name": "stdout",
     "output_type": "stream",
     "text": [
      "[16:01:24] WARNING: C:/Users/Administrator/workspace/xgboost-win64_release_1.4.0/src/learner.cc:1095: Starting in XGBoost 1.3.0, the default evaluation metric used with the objective 'binary:logistic' was changed from 'error' to 'logloss'. Explicitly set eval_metric if you'd like to restore the old behavior.\n"
     ]
    },
    {
     "name": "stderr",
     "output_type": "stream",
     "text": [
      "C:\\Users\\Windows\\anaconda3\\lib\\site-packages\\xgboost\\sklearn.py:1146: UserWarning: The use of label encoder in XGBClassifier is deprecated and will be removed in a future release. To remove this warning, do the following: 1) Pass option use_label_encoder=False when constructing XGBClassifier object; and 2) Encode your labels (y) as integers starting with 0, i.e. 0, 1, 2, ..., [num_class - 1].\n",
      "  warnings.warn(label_encoder_deprecation_msg, UserWarning)\n"
     ]
    },
    {
     "name": "stdout",
     "output_type": "stream",
     "text": [
      "[16:01:24] WARNING: C:/Users/Administrator/workspace/xgboost-win64_release_1.4.0/src/learner.cc:1095: Starting in XGBoost 1.3.0, the default evaluation metric used with the objective 'binary:logistic' was changed from 'error' to 'logloss'. Explicitly set eval_metric if you'd like to restore the old behavior.\n"
     ]
    },
    {
     "name": "stderr",
     "output_type": "stream",
     "text": [
      "C:\\Users\\Windows\\anaconda3\\lib\\site-packages\\xgboost\\sklearn.py:1146: UserWarning: The use of label encoder in XGBClassifier is deprecated and will be removed in a future release. To remove this warning, do the following: 1) Pass option use_label_encoder=False when constructing XGBClassifier object; and 2) Encode your labels (y) as integers starting with 0, i.e. 0, 1, 2, ..., [num_class - 1].\n",
      "  warnings.warn(label_encoder_deprecation_msg, UserWarning)\n"
     ]
    },
    {
     "name": "stdout",
     "output_type": "stream",
     "text": [
      "[16:01:25] WARNING: C:/Users/Administrator/workspace/xgboost-win64_release_1.4.0/src/learner.cc:1095: Starting in XGBoost 1.3.0, the default evaluation metric used with the objective 'binary:logistic' was changed from 'error' to 'logloss'. Explicitly set eval_metric if you'd like to restore the old behavior.\n"
     ]
    },
    {
     "name": "stderr",
     "output_type": "stream",
     "text": [
      "C:\\Users\\Windows\\anaconda3\\lib\\site-packages\\xgboost\\sklearn.py:1146: UserWarning: The use of label encoder in XGBClassifier is deprecated and will be removed in a future release. To remove this warning, do the following: 1) Pass option use_label_encoder=False when constructing XGBClassifier object; and 2) Encode your labels (y) as integers starting with 0, i.e. 0, 1, 2, ..., [num_class - 1].\n",
      "  warnings.warn(label_encoder_deprecation_msg, UserWarning)\n"
     ]
    },
    {
     "name": "stdout",
     "output_type": "stream",
     "text": [
      "[16:01:25] WARNING: C:/Users/Administrator/workspace/xgboost-win64_release_1.4.0/src/learner.cc:1095: Starting in XGBoost 1.3.0, the default evaluation metric used with the objective 'binary:logistic' was changed from 'error' to 'logloss'. Explicitly set eval_metric if you'd like to restore the old behavior.\n"
     ]
    },
    {
     "name": "stderr",
     "output_type": "stream",
     "text": [
      "C:\\Users\\Windows\\anaconda3\\lib\\site-packages\\xgboost\\sklearn.py:1146: UserWarning: The use of label encoder in XGBClassifier is deprecated and will be removed in a future release. To remove this warning, do the following: 1) Pass option use_label_encoder=False when constructing XGBClassifier object; and 2) Encode your labels (y) as integers starting with 0, i.e. 0, 1, 2, ..., [num_class - 1].\n",
      "  warnings.warn(label_encoder_deprecation_msg, UserWarning)\n"
     ]
    },
    {
     "name": "stdout",
     "output_type": "stream",
     "text": [
      "[16:01:25] WARNING: C:/Users/Administrator/workspace/xgboost-win64_release_1.4.0/src/learner.cc:1095: Starting in XGBoost 1.3.0, the default evaluation metric used with the objective 'binary:logistic' was changed from 'error' to 'logloss'. Explicitly set eval_metric if you'd like to restore the old behavior.\n"
     ]
    },
    {
     "name": "stderr",
     "output_type": "stream",
     "text": [
      "C:\\Users\\Windows\\anaconda3\\lib\\site-packages\\xgboost\\sklearn.py:1146: UserWarning: The use of label encoder in XGBClassifier is deprecated and will be removed in a future release. To remove this warning, do the following: 1) Pass option use_label_encoder=False when constructing XGBClassifier object; and 2) Encode your labels (y) as integers starting with 0, i.e. 0, 1, 2, ..., [num_class - 1].\n",
      "  warnings.warn(label_encoder_deprecation_msg, UserWarning)\n"
     ]
    },
    {
     "name": "stdout",
     "output_type": "stream",
     "text": [
      "[16:01:25] WARNING: C:/Users/Administrator/workspace/xgboost-win64_release_1.4.0/src/learner.cc:1095: Starting in XGBoost 1.3.0, the default evaluation metric used with the objective 'binary:logistic' was changed from 'error' to 'logloss'. Explicitly set eval_metric if you'd like to restore the old behavior.\n"
     ]
    },
    {
     "name": "stderr",
     "output_type": "stream",
     "text": [
      "C:\\Users\\Windows\\anaconda3\\lib\\site-packages\\xgboost\\sklearn.py:1146: UserWarning: The use of label encoder in XGBClassifier is deprecated and will be removed in a future release. To remove this warning, do the following: 1) Pass option use_label_encoder=False when constructing XGBClassifier object; and 2) Encode your labels (y) as integers starting with 0, i.e. 0, 1, 2, ..., [num_class - 1].\n",
      "  warnings.warn(label_encoder_deprecation_msg, UserWarning)\n"
     ]
    },
    {
     "name": "stdout",
     "output_type": "stream",
     "text": [
      "[16:01:26] WARNING: C:/Users/Administrator/workspace/xgboost-win64_release_1.4.0/src/learner.cc:1095: Starting in XGBoost 1.3.0, the default evaluation metric used with the objective 'binary:logistic' was changed from 'error' to 'logloss'. Explicitly set eval_metric if you'd like to restore the old behavior.\n",
      "Puntajes obtenidos: [0.88324873 0.79695431 0.83248731 0.88832487 0.87755102 0.86734694\n",
      " 0.85714286 0.81122449 0.84183673 0.85204082]\n",
      "Precisión de validación cruzada: 0.851 +/- 0.029\n"
     ]
    }
   ],
   "source": [
    "scores = cross_val_score(xgb_cl, X=X_train, y=y_train, cv=10, n_jobs=1)\n",
    " \n",
    "print('Puntajes obtenidos: %s' % scores)\n",
    "print('Precisión de validación cruzada: %.3f +/- %.3f' % (np.mean(scores),np.std(scores)))"
   ]
  },
  {
   "cell_type": "markdown",
   "id": "5ba25e71",
   "metadata": {},
   "source": [
    "## Summary of results"
   ]
  },
  {
   "cell_type": "code",
   "execution_count": 49,
   "id": "bd41063f",
   "metadata": {
    "ExecuteTime": {
     "end_time": "2022-04-04T21:01:35.594104Z",
     "start_time": "2022-04-04T21:01:27.169106Z"
    }
   },
   "outputs": [
    {
     "name": "stderr",
     "output_type": "stream",
     "text": [
      "C:\\Users\\Windows\\anaconda3\\lib\\site-packages\\xgboost\\sklearn.py:1146: UserWarning: The use of label encoder in XGBClassifier is deprecated and will be removed in a future release. To remove this warning, do the following: 1) Pass option use_label_encoder=False when constructing XGBClassifier object; and 2) Encode your labels (y) as integers starting with 0, i.e. 0, 1, 2, ..., [num_class - 1].\n",
      "  warnings.warn(label_encoder_deprecation_msg, UserWarning)\n"
     ]
    },
    {
     "name": "stdout",
     "output_type": "stream",
     "text": [
      "[16:01:32] WARNING: C:/Users/Administrator/workspace/xgboost-win64_release_1.4.0/src/learner.cc:1095: Starting in XGBoost 1.3.0, the default evaluation metric used with the objective 'binary:logistic' was changed from 'error' to 'logloss'. Explicitly set eval_metric if you'd like to restore the old behavior.\n"
     ]
    },
    {
     "name": "stderr",
     "output_type": "stream",
     "text": [
      "C:\\Users\\Windows\\anaconda3\\lib\\site-packages\\xgboost\\sklearn.py:1146: UserWarning: The use of label encoder in XGBClassifier is deprecated and will be removed in a future release. To remove this warning, do the following: 1) Pass option use_label_encoder=False when constructing XGBClassifier object; and 2) Encode your labels (y) as integers starting with 0, i.e. 0, 1, 2, ..., [num_class - 1].\n",
      "  warnings.warn(label_encoder_deprecation_msg, UserWarning)\n"
     ]
    },
    {
     "name": "stdout",
     "output_type": "stream",
     "text": [
      "[16:01:32] WARNING: C:/Users/Administrator/workspace/xgboost-win64_release_1.4.0/src/learner.cc:1095: Starting in XGBoost 1.3.0, the default evaluation metric used with the objective 'binary:logistic' was changed from 'error' to 'logloss'. Explicitly set eval_metric if you'd like to restore the old behavior.\n"
     ]
    },
    {
     "name": "stderr",
     "output_type": "stream",
     "text": [
      "C:\\Users\\Windows\\anaconda3\\lib\\site-packages\\xgboost\\sklearn.py:1146: UserWarning: The use of label encoder in XGBClassifier is deprecated and will be removed in a future release. To remove this warning, do the following: 1) Pass option use_label_encoder=False when constructing XGBClassifier object; and 2) Encode your labels (y) as integers starting with 0, i.e. 0, 1, 2, ..., [num_class - 1].\n",
      "  warnings.warn(label_encoder_deprecation_msg, UserWarning)\n"
     ]
    },
    {
     "name": "stdout",
     "output_type": "stream",
     "text": [
      "[16:01:33] WARNING: C:/Users/Administrator/workspace/xgboost-win64_release_1.4.0/src/learner.cc:1095: Starting in XGBoost 1.3.0, the default evaluation metric used with the objective 'binary:logistic' was changed from 'error' to 'logloss'. Explicitly set eval_metric if you'd like to restore the old behavior.\n"
     ]
    },
    {
     "name": "stderr",
     "output_type": "stream",
     "text": [
      "C:\\Users\\Windows\\anaconda3\\lib\\site-packages\\xgboost\\sklearn.py:1146: UserWarning: The use of label encoder in XGBClassifier is deprecated and will be removed in a future release. To remove this warning, do the following: 1) Pass option use_label_encoder=False when constructing XGBClassifier object; and 2) Encode your labels (y) as integers starting with 0, i.e. 0, 1, 2, ..., [num_class - 1].\n",
      "  warnings.warn(label_encoder_deprecation_msg, UserWarning)\n"
     ]
    },
    {
     "name": "stdout",
     "output_type": "stream",
     "text": [
      "[16:01:33] WARNING: C:/Users/Administrator/workspace/xgboost-win64_release_1.4.0/src/learner.cc:1095: Starting in XGBoost 1.3.0, the default evaluation metric used with the objective 'binary:logistic' was changed from 'error' to 'logloss'. Explicitly set eval_metric if you'd like to restore the old behavior.\n"
     ]
    },
    {
     "name": "stderr",
     "output_type": "stream",
     "text": [
      "C:\\Users\\Windows\\anaconda3\\lib\\site-packages\\xgboost\\sklearn.py:1146: UserWarning: The use of label encoder in XGBClassifier is deprecated and will be removed in a future release. To remove this warning, do the following: 1) Pass option use_label_encoder=False when constructing XGBClassifier object; and 2) Encode your labels (y) as integers starting with 0, i.e. 0, 1, 2, ..., [num_class - 1].\n",
      "  warnings.warn(label_encoder_deprecation_msg, UserWarning)\n"
     ]
    },
    {
     "name": "stdout",
     "output_type": "stream",
     "text": [
      "[16:01:33] WARNING: C:/Users/Administrator/workspace/xgboost-win64_release_1.4.0/src/learner.cc:1095: Starting in XGBoost 1.3.0, the default evaluation metric used with the objective 'binary:logistic' was changed from 'error' to 'logloss'. Explicitly set eval_metric if you'd like to restore the old behavior.\n"
     ]
    },
    {
     "name": "stderr",
     "output_type": "stream",
     "text": [
      "C:\\Users\\Windows\\anaconda3\\lib\\site-packages\\xgboost\\sklearn.py:1146: UserWarning: The use of label encoder in XGBClassifier is deprecated and will be removed in a future release. To remove this warning, do the following: 1) Pass option use_label_encoder=False when constructing XGBClassifier object; and 2) Encode your labels (y) as integers starting with 0, i.e. 0, 1, 2, ..., [num_class - 1].\n",
      "  warnings.warn(label_encoder_deprecation_msg, UserWarning)\n"
     ]
    },
    {
     "name": "stdout",
     "output_type": "stream",
     "text": [
      "[16:01:34] WARNING: C:/Users/Administrator/workspace/xgboost-win64_release_1.4.0/src/learner.cc:1095: Starting in XGBoost 1.3.0, the default evaluation metric used with the objective 'binary:logistic' was changed from 'error' to 'logloss'. Explicitly set eval_metric if you'd like to restore the old behavior.\n"
     ]
    },
    {
     "name": "stderr",
     "output_type": "stream",
     "text": [
      "C:\\Users\\Windows\\anaconda3\\lib\\site-packages\\xgboost\\sklearn.py:1146: UserWarning: The use of label encoder in XGBClassifier is deprecated and will be removed in a future release. To remove this warning, do the following: 1) Pass option use_label_encoder=False when constructing XGBClassifier object; and 2) Encode your labels (y) as integers starting with 0, i.e. 0, 1, 2, ..., [num_class - 1].\n",
      "  warnings.warn(label_encoder_deprecation_msg, UserWarning)\n"
     ]
    },
    {
     "name": "stdout",
     "output_type": "stream",
     "text": [
      "[16:01:34] WARNING: C:/Users/Administrator/workspace/xgboost-win64_release_1.4.0/src/learner.cc:1095: Starting in XGBoost 1.3.0, the default evaluation metric used with the objective 'binary:logistic' was changed from 'error' to 'logloss'. Explicitly set eval_metric if you'd like to restore the old behavior.\n"
     ]
    },
    {
     "name": "stderr",
     "output_type": "stream",
     "text": [
      "C:\\Users\\Windows\\anaconda3\\lib\\site-packages\\xgboost\\sklearn.py:1146: UserWarning: The use of label encoder in XGBClassifier is deprecated and will be removed in a future release. To remove this warning, do the following: 1) Pass option use_label_encoder=False when constructing XGBClassifier object; and 2) Encode your labels (y) as integers starting with 0, i.e. 0, 1, 2, ..., [num_class - 1].\n",
      "  warnings.warn(label_encoder_deprecation_msg, UserWarning)\n"
     ]
    },
    {
     "name": "stdout",
     "output_type": "stream",
     "text": [
      "[16:01:34] WARNING: C:/Users/Administrator/workspace/xgboost-win64_release_1.4.0/src/learner.cc:1095: Starting in XGBoost 1.3.0, the default evaluation metric used with the objective 'binary:logistic' was changed from 'error' to 'logloss'. Explicitly set eval_metric if you'd like to restore the old behavior.\n"
     ]
    },
    {
     "name": "stderr",
     "output_type": "stream",
     "text": [
      "C:\\Users\\Windows\\anaconda3\\lib\\site-packages\\xgboost\\sklearn.py:1146: UserWarning: The use of label encoder in XGBClassifier is deprecated and will be removed in a future release. To remove this warning, do the following: 1) Pass option use_label_encoder=False when constructing XGBClassifier object; and 2) Encode your labels (y) as integers starting with 0, i.e. 0, 1, 2, ..., [num_class - 1].\n",
      "  warnings.warn(label_encoder_deprecation_msg, UserWarning)\n"
     ]
    },
    {
     "name": "stdout",
     "output_type": "stream",
     "text": [
      "[16:01:34] WARNING: C:/Users/Administrator/workspace/xgboost-win64_release_1.4.0/src/learner.cc:1095: Starting in XGBoost 1.3.0, the default evaluation metric used with the objective 'binary:logistic' was changed from 'error' to 'logloss'. Explicitly set eval_metric if you'd like to restore the old behavior.\n"
     ]
    },
    {
     "name": "stderr",
     "output_type": "stream",
     "text": [
      "C:\\Users\\Windows\\anaconda3\\lib\\site-packages\\xgboost\\sklearn.py:1146: UserWarning: The use of label encoder in XGBClassifier is deprecated and will be removed in a future release. To remove this warning, do the following: 1) Pass option use_label_encoder=False when constructing XGBClassifier object; and 2) Encode your labels (y) as integers starting with 0, i.e. 0, 1, 2, ..., [num_class - 1].\n",
      "  warnings.warn(label_encoder_deprecation_msg, UserWarning)\n"
     ]
    },
    {
     "name": "stdout",
     "output_type": "stream",
     "text": [
      "[16:01:35] WARNING: C:/Users/Administrator/workspace/xgboost-win64_release_1.4.0/src/learner.cc:1095: Starting in XGBoost 1.3.0, the default evaluation metric used with the objective 'binary:logistic' was changed from 'error' to 'logloss'. Explicitly set eval_metric if you'd like to restore the old behavior.\n"
     ]
    }
   ],
   "source": [
    "scores_bln = cross_val_score(dummy_clf, X=X_train, y=y_train, cv=10, n_jobs=1)\n",
    "scores_knn = cross_val_score(dummy_KNN, X=X_train, y=y_train, cv=10, n_jobs=1)\n",
    "scores_log = cross_val_score(reg_log, X=X_train, y=y_train, cv=10, n_jobs=1)\n",
    "scores_rf = cross_val_score(rf, X=X_train, y=y_train, cv=10, n_jobs=1)\n",
    "scores_nb = cross_val_score(nb, X=X_train, y=y_train, cv=10, n_jobs=1)\n",
    "scores_xgb = cross_val_score(xgb_cl, X=X_train, y=y_train, cv=10, n_jobs=1)\n"
   ]
  },
  {
   "cell_type": "code",
   "execution_count": 50,
   "id": "0d5f16b6",
   "metadata": {
    "ExecuteTime": {
     "end_time": "2022-04-04T21:01:36.114205Z",
     "start_time": "2022-04-04T21:01:36.086109Z"
    }
   },
   "outputs": [],
   "source": [
    "res_baseline = pd.DataFrame( {'Model Name': 'Baseline', \n",
    "                'Accuracy':  '%.3f +/- %.3f' % (np.mean(scores_bln),np.std(scores_bln))},index=[0] ) \n",
    "res_KNN = pd.DataFrame( {'Model Name': 'KNN', \n",
    "                'Accuracy':  '%.3f +/- %.3f' % (np.mean(scores_knn),np.std(scores_knn))},index=[0] ) \n",
    "res_lr = pd.DataFrame( {'Model Name': 'Logistic Regression',\n",
    "                'Accuracy':  '%.3f +/- %.3f' % (np.mean(scores_log),np.std(scores_log))},index=[0] ) \n",
    "res_rf = pd.DataFrame( {'Model Name': 'Random Forest',\n",
    "                'Accuracy':  '%.3f +/- %.3f' % (np.mean(scores_rf),np.std(scores_rf))},index=[0] ) \n",
    "res_nb = pd.DataFrame( {'Model Name': 'Naive Bayes', \n",
    "                'Accuracy':  '%.3f +/- %.3f' % (np.mean(scores_nb),np.std(scores_nb))},index=[0] ) \n",
    "res_xgb = pd.DataFrame( {'Model Name': 'XGBoost', \n",
    "                'Accuracy':  '%.3f +/- %.3f' % (np.mean(scores_xgb),np.std(scores_xgb))},index=[0] )\n",
    "Accuracy = pd.concat([res_baseline,res_KNN,res_lr,res_rf,res_nb,res_xgb])"
   ]
  },
  {
   "cell_type": "code",
   "execution_count": 51,
   "id": "9f51b983",
   "metadata": {
    "ExecuteTime": {
     "end_time": "2022-04-04T21:01:36.665971Z",
     "start_time": "2022-04-04T21:01:36.618281Z"
    }
   },
   "outputs": [
    {
     "data": {
      "text/html": [
       "<div>\n",
       "<style scoped>\n",
       "    .dataframe tbody tr th:only-of-type {\n",
       "        vertical-align: middle;\n",
       "    }\n",
       "\n",
       "    .dataframe tbody tr th {\n",
       "        vertical-align: top;\n",
       "    }\n",
       "\n",
       "    .dataframe thead th {\n",
       "        text-align: right;\n",
       "    }\n",
       "</style>\n",
       "<table border=\"1\" class=\"dataframe\">\n",
       "  <thead>\n",
       "    <tr style=\"text-align: right;\">\n",
       "      <th></th>\n",
       "      <th>Model Name</th>\n",
       "      <th>Accuracy</th>\n",
       "    </tr>\n",
       "  </thead>\n",
       "  <tbody>\n",
       "    <tr>\n",
       "      <th>0</th>\n",
       "      <td>XGBoost</td>\n",
       "      <td>0.851 +/- 0.029</td>\n",
       "    </tr>\n",
       "    <tr>\n",
       "      <th>0</th>\n",
       "      <td>KNN</td>\n",
       "      <td>0.773 +/- 0.020</td>\n",
       "    </tr>\n",
       "    <tr>\n",
       "      <th>0</th>\n",
       "      <td>Random Forest</td>\n",
       "      <td>0.716 +/- 0.022</td>\n",
       "    </tr>\n",
       "    <tr>\n",
       "      <th>0</th>\n",
       "      <td>Logistic Regression</td>\n",
       "      <td>0.656 +/- 0.028</td>\n",
       "    </tr>\n",
       "    <tr>\n",
       "      <th>0</th>\n",
       "      <td>Naive Bayes</td>\n",
       "      <td>0.640 +/- 0.029</td>\n",
       "    </tr>\n",
       "    <tr>\n",
       "      <th>0</th>\n",
       "      <td>Baseline</td>\n",
       "      <td>0.508 +/- 0.002</td>\n",
       "    </tr>\n",
       "  </tbody>\n",
       "</table>\n",
       "</div>"
      ],
      "text/plain": [
       "            Model Name         Accuracy\n",
       "0              XGBoost  0.851 +/- 0.029\n",
       "0                  KNN  0.773 +/- 0.020\n",
       "0        Random Forest  0.716 +/- 0.022\n",
       "0  Logistic Regression  0.656 +/- 0.028\n",
       "0          Naive Bayes  0.640 +/- 0.029\n",
       "0             Baseline  0.508 +/- 0.002"
      ]
     },
     "execution_count": 51,
     "metadata": {},
     "output_type": "execute_result"
    }
   ],
   "source": [
    "Accuracy.sort_values('Accuracy', ascending = False)"
   ]
  },
  {
   "cell_type": "markdown",
   "id": "bea65466",
   "metadata": {},
   "source": [
    "Thus, the model XGboost is going to be selected for forecasting. But first, let see if a better version if achivable by means of an hyperparameter tuning process"
   ]
  },
  {
   "cell_type": "markdown",
   "id": "361f2bc9",
   "metadata": {
    "ExecuteTime": {
     "end_time": "2022-04-04T02:00:44.194912Z",
     "start_time": "2022-04-04T02:00:44.189914Z"
    }
   },
   "source": [
    "## Model Hyperparameter Tuning"
   ]
  },
  {
   "cell_type": "code",
   "execution_count": null,
   "id": "dff7777e",
   "metadata": {
    "ExecuteTime": {
     "end_time": "2022-04-04T01:55:19.840259Z",
     "start_time": "2022-04-04T01:55:19.828307Z"
    }
   },
   "outputs": [],
   "source": [
    "dtrain = xgb.DMatrix(X_test, label=y_test)\n",
    "\n",
    "def bo_tune_xgb(max_depth, gamma, n_estimators ,learning_rate):\n",
    "    params = {'max_depth': int(max_depth),\n",
    "                'gamma': gamma,\n",
    "              'n_estimators': int(n_estimators),\n",
    "              'learning_rate':learning_rate,\n",
    "              'subsample': 0.8,\n",
    "              'eta': 0.1,\n",
    "              'eval_metric': 'rmse'}\n",
    "    #Cross validating with the specified parameters in 5 folds and 70 iterations\n",
    "    cv_result = xgb.cv(params, dtrain, num_boost_round=70, nfold=5)\n",
    "    #Return the negative RMSE\n",
    "    return -1.0 * cv_result['test-rmse-mean'].iloc[-1]\n"
   ]
  },
  {
   "cell_type": "code",
   "execution_count": null,
   "id": "03bcb99d",
   "metadata": {
    "ExecuteTime": {
     "end_time": "2022-04-04T01:55:20.391266Z",
     "start_time": "2022-04-04T01:55:20.378262Z"
    }
   },
   "outputs": [],
   "source": [
    "#Invoking the Bayesian Optimizer with the specified parameters to tune\n",
    "xgb_bo = BayesianOptimization(bo_tune_xgb, {'max_depth': (3, 10),\n",
    "                                            'gamma': (0, 1),\n",
    "                                            'learning_rate':(0,1),\n",
    "                                             'n_estimators':(100,120)})"
   ]
  },
  {
   "cell_type": "code",
   "execution_count": null,
   "id": "c2cc1260",
   "metadata": {
    "ExecuteTime": {
     "end_time": "2022-04-04T01:55:29.792257Z",
     "start_time": "2022-04-04T01:55:20.929271Z"
    },
    "scrolled": true
   },
   "outputs": [],
   "source": [
    "xgb_bo.maximize(n_iter=5, init_points=8, acq='ei')"
   ]
  },
  {
   "cell_type": "code",
   "execution_count": null,
   "id": "8fb2ffed",
   "metadata": {
    "ExecuteTime": {
     "end_time": "2022-04-04T01:55:34.474648Z",
     "start_time": "2022-04-04T01:55:34.460651Z"
    }
   },
   "outputs": [],
   "source": [
    "#Extracting the best parameters\n",
    "params = xgb_bo.max['params']\n",
    "print(params)"
   ]
  },
  {
   "cell_type": "code",
   "execution_count": null,
   "id": "69f9ac9b",
   "metadata": {
    "ExecuteTime": {
     "end_time": "2022-04-04T01:55:38.385466Z",
     "start_time": "2022-04-04T01:55:38.142510Z"
    }
   },
   "outputs": [],
   "source": [
    "#Converting the max_depth and n_estimator values from float to int\n",
    "params['max_depth']= int(params['max_depth'])\n",
    "params['n_estimators']= int(params['n_estimators'])\n",
    "\n",
    "#Initialize an XGBClassifier with the tuned parameters and fit the training data\n",
    "\n",
    "classifier2 = XGBClassifier(**params).fit(X_test, y_test)"
   ]
  },
  {
   "cell_type": "code",
   "execution_count": null,
   "id": "d334cf66",
   "metadata": {
    "ExecuteTime": {
     "end_time": "2022-04-04T01:55:40.216393Z",
     "start_time": "2022-04-04T01:55:40.205399Z"
    }
   },
   "outputs": [],
   "source": [
    "y_pred_xgb_param = classifier2.predict(X_test)"
   ]
  },
  {
   "cell_type": "code",
   "execution_count": null,
   "id": "1165b715",
   "metadata": {
    "ExecuteTime": {
     "end_time": "2022-04-04T01:55:41.766280Z",
     "start_time": "2022-04-04T01:55:41.746268Z"
    }
   },
   "outputs": [],
   "source": [
    "cf_matrix = confusion_matrix(y_test, y_pred_xgb_param)\n",
    "\n",
    "print(cf_matrix)"
   ]
  },
  {
   "cell_type": "code",
   "execution_count": null,
   "id": "55136a0d",
   "metadata": {
    "ExecuteTime": {
     "end_time": "2022-04-04T01:55:45.339503Z",
     "start_time": "2022-04-04T01:55:45.094516Z"
    }
   },
   "outputs": [],
   "source": [
    "ax = sns.heatmap(cf_matrix/np.sum(cf_matrix), annot=True, \n",
    "            fmt='.2%', cmap='Blues')\n",
    "\n",
    "ax.set_title('Matriz de confusión XGboost\\n\\n');\n",
    "ax.set_xlabel('\\n Valores predichos ')\n",
    "ax.set_ylabel('Valores observados ');\n",
    "\n",
    "## Ticket labels - List must be in alphabetical order\n",
    "ax.xaxis.set_ticklabels(['False','True'])\n",
    "ax.yaxis.set_ticklabels(['False','True'])\n",
    "\n",
    "## Display the visualization of the Confusion Matrix.\n",
    "plt.show()"
   ]
  },
  {
   "cell_type": "code",
   "execution_count": null,
   "id": "65b66953",
   "metadata": {
    "ExecuteTime": {
     "end_time": "2022-04-04T01:55:49.343388Z",
     "start_time": "2022-04-04T01:55:49.067368Z"
    }
   },
   "outputs": [],
   "source": [
    "metrics.plot_roc_curve(classifier2, X_test, y_test) "
   ]
  },
  {
   "cell_type": "code",
   "execution_count": null,
   "id": "75c45996",
   "metadata": {
    "ExecuteTime": {
     "end_time": "2022-04-04T02:01:59.676441Z",
     "start_time": "2022-04-04T02:01:56.305481Z"
    }
   },
   "outputs": [],
   "source": [
    "scores = cross_val_score(classifier2, X=X_train, y=y_train, cv=10, n_jobs=1)\n",
    " \n",
    "print('Puntajes obtenidos: %s' % scores)\n",
    "print('Precisión de validación cruzada: %.3f +/- %.3f' % (np.mean(scores),np.std(scores)))"
   ]
  },
  {
   "cell_type": "markdown",
   "id": "9429fd9a",
   "metadata": {},
   "source": [
    "## Using the model to predict new data"
   ]
  },
  {
   "cell_type": "code",
   "execution_count": null,
   "id": "9e17a6f2",
   "metadata": {
    "ExecuteTime": {
     "end_time": "2022-04-04T02:02:00.116439Z",
     "start_time": "2022-04-04T02:02:00.058442Z"
    }
   },
   "outputs": [],
   "source": [
    "nueva = pd.read_csv('Base_nueva_DC.csv',encoding = \"ISO-8859-1\", sep =';',parse_dates=['fecha_ult_desembolso'], \n",
    "                  dtype = {\n",
    "                      'Id_Cliente':str,\n",
    "                      'Ciudad':str,\n",
    "                      ' Patrimonio ':int,\n",
    "                      ' Ingresos_Mensuales ':int,\n",
    "                      'No_hijos':int,\n",
    "                      'oficina':str,\n",
    "                      'monto_credito':int,\n",
    "                      'tasa':float,\n",
    "                      'saldo_capital':int,\n",
    "                      'Antiguedad_en_meses':int,\n",
    "                      'Max_dias_mora':int,\n",
    "                      'plazo_dias':int,\n",
    "                      'Edad':int\n",
    "                  })\n"
   ]
  },
  {
   "cell_type": "code",
   "execution_count": null,
   "id": "5624dc73",
   "metadata": {
    "ExecuteTime": {
     "end_time": "2022-04-04T02:02:00.571438Z",
     "start_time": "2022-04-04T02:02:00.528444Z"
    }
   },
   "outputs": [],
   "source": [
    "nueva['mes_ult_desembolso'] = nueva['fecha_ult_desembolso'].dt.month\n",
    "nueva = nueva.rename(columns = {' Ingresos_Mensuales ':'Ingresos_Mensuales',\n",
    "                              ' Patrimonio ':'Patrimonio'})"
   ]
  },
  {
   "cell_type": "code",
   "execution_count": null,
   "id": "952cf49b",
   "metadata": {
    "ExecuteTime": {
     "end_time": "2022-04-04T02:02:01.009442Z",
     "start_time": "2022-04-04T02:02:00.967443Z"
    }
   },
   "outputs": [],
   "source": [
    "X = nueva[[ 'Patrimonio', 'Ingresos_Mensuales', 'No_hijos',\n",
    "       'fecha_ult_desembolso', 'monto_credito', 'tasa',\n",
    "       'saldo_capital', 'saldo_Ahorro', 'Antiguedad_en_meses', 'Max_dias_mora',\n",
    "       'plazo_dias', 'Edad', 'mes_ult_desembolso']]"
   ]
  },
  {
   "cell_type": "code",
   "execution_count": null,
   "id": "a4523650",
   "metadata": {
    "ExecuteTime": {
     "end_time": "2022-04-04T02:02:01.433440Z",
     "start_time": "2022-04-04T02:02:01.421455Z"
    }
   },
   "outputs": [],
   "source": [
    "ciudad = pd.get_dummies(nueva['Ciudad'], prefix='C')"
   ]
  },
  {
   "cell_type": "code",
   "execution_count": null,
   "id": "4913cd6f",
   "metadata": {
    "ExecuteTime": {
     "end_time": "2022-04-04T02:02:01.763438Z",
     "start_time": "2022-04-04T02:02:01.750441Z"
    }
   },
   "outputs": [],
   "source": [
    "X= X.join(ciudad)"
   ]
  },
  {
   "cell_type": "code",
   "execution_count": null,
   "id": "13068a40",
   "metadata": {
    "ExecuteTime": {
     "end_time": "2022-04-04T02:02:02.244455Z",
     "start_time": "2022-04-04T02:02:02.186438Z"
    }
   },
   "outputs": [],
   "source": [
    "mms = MinMaxScaler()\n",
    "\n",
    "X['Patrimonio'] = mms.fit_transform( X[['Patrimonio']].values )\n",
    "X['Ingresos_Mensuales'] = mms.fit_transform( X[['Ingresos_Mensuales']].values )\n",
    "X['No_hijos'] = mms.fit_transform( X[['No_hijos']].values )\n",
    "X['fecha_ult_desembolso'] = mms.fit_transform( X[['fecha_ult_desembolso']].values )\n",
    "X['monto_credito'] = mms.fit_transform( X[['monto_credito']].values )\n",
    "X['tasa'] = mms.fit_transform( X[['tasa']].values )\n",
    "X['saldo_capital'] = mms.fit_transform( X[['saldo_capital']].values )\n",
    "X['saldo_Ahorro'] = mms.fit_transform( X[['saldo_Ahorro']].values )\n",
    "X['Antiguedad_en_meses'] = mms.fit_transform( X[['Antiguedad_en_meses']].values )\n",
    "X['Max_dias_mora'] = mms.fit_transform( X[['Max_dias_mora']].values )\n",
    "X['Edad'] = mms.fit_transform( X[['Edad']].values )\n",
    "X['plazo_dias'] = mms.fit_transform( X[['plazo_dias']].values )\n",
    "X['mes_ult_desembolso'] = mms.fit_transform( X[['mes_ult_desembolso']].values )\n",
    "# X['semana_ult_desembolso'] = mms.fit_transform( X[['semana_ult_desembolso']].values )"
   ]
  },
  {
   "cell_type": "code",
   "execution_count": null,
   "id": "4cdd8da0",
   "metadata": {
    "ExecuteTime": {
     "end_time": "2022-04-04T02:02:02.573440Z",
     "start_time": "2022-04-04T02:02:02.546439Z"
    }
   },
   "outputs": [],
   "source": [
    "X.head().T"
   ]
  },
  {
   "cell_type": "code",
   "execution_count": null,
   "id": "2601a629",
   "metadata": {
    "ExecuteTime": {
     "end_time": "2022-04-04T02:02:02.952439Z",
     "start_time": "2022-04-04T02:02:02.925458Z"
    }
   },
   "outputs": [],
   "source": [
    "y_xgb = classifier2.predict(X)\n",
    "y_xgb_proba = xgb_cl.predict_proba(X)\n",
    "nueva = nueva.join(pd.DataFrame(y_xgb_proba))\n",
    "# nueva = nueva.join(pd.DataFrame(y_xgb))"
   ]
  },
  {
   "cell_type": "code",
   "execution_count": null,
   "id": "fdfe25c2",
   "metadata": {
    "ExecuteTime": {
     "end_time": "2022-04-04T02:02:04.274079Z",
     "start_time": "2022-04-04T02:02:04.238123Z"
    }
   },
   "outputs": [],
   "source": [
    "pd.DataFrame(y_xgb).rename(columns = {0:'Aceptará Campaña'}).value_counts('Aceptará Campaña')"
   ]
  },
  {
   "cell_type": "code",
   "execution_count": null,
   "id": "b36a64e4",
   "metadata": {
    "ExecuteTime": {
     "end_time": "2022-04-04T02:02:05.464009Z",
     "start_time": "2022-04-04T02:02:05.442014Z"
    }
   },
   "outputs": [],
   "source": [
    "nueva = nueva.rename(columns={0:'Prob_no_aceptar',1:'Prob_aceptar'})"
   ]
  },
  {
   "cell_type": "code",
   "execution_count": null,
   "id": "662a172e",
   "metadata": {
    "ExecuteTime": {
     "end_time": "2022-04-04T02:02:07.255019Z",
     "start_time": "2022-04-04T02:02:07.196064Z"
    },
    "scrolled": true
   },
   "outputs": [],
   "source": [
    "nueva.sort_values('Prob_aceptar', ascending = False)"
   ]
  },
  {
   "cell_type": "code",
   "execution_count": null,
   "id": "b7a082c3",
   "metadata": {},
   "outputs": [],
   "source": []
  }
 ],
 "metadata": {
  "kernelspec": {
   "display_name": "Python 3 (ipykernel)",
   "language": "python",
   "name": "python3"
  },
  "language_info": {
   "codemirror_mode": {
    "name": "ipython",
    "version": 3
   },
   "file_extension": ".py",
   "mimetype": "text/x-python",
   "name": "python",
   "nbconvert_exporter": "python",
   "pygments_lexer": "ipython3",
   "version": "3.9.7"
  },
  "toc": {
   "base_numbering": 1,
   "nav_menu": {},
   "number_sections": true,
   "sideBar": true,
   "skip_h1_title": false,
   "title_cell": "Table of Contents",
   "title_sidebar": "Contents",
   "toc_cell": false,
   "toc_position": {},
   "toc_section_display": true,
   "toc_window_display": false
  },
  "varInspector": {
   "cols": {
    "lenName": 16,
    "lenType": 16,
    "lenVar": 40
   },
   "kernels_config": {
    "python": {
     "delete_cmd_postfix": "",
     "delete_cmd_prefix": "del ",
     "library": "var_list.py",
     "varRefreshCmd": "print(var_dic_list())"
    },
    "r": {
     "delete_cmd_postfix": ") ",
     "delete_cmd_prefix": "rm(",
     "library": "var_list.r",
     "varRefreshCmd": "cat(var_dic_list()) "
    }
   },
   "types_to_exclude": [
    "module",
    "function",
    "builtin_function_or_method",
    "instance",
    "_Feature"
   ],
   "window_display": false
  }
 },
 "nbformat": 4,
 "nbformat_minor": 5
}
